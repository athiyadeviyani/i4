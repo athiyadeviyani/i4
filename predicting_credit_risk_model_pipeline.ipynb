{
 "cells": [
  {
   "cell_type": "markdown",
   "metadata": {
    "id": "lYBQL6SUEzkl"
   },
   "source": [
    "<h3>- Note that I will use the Dataset with the Risk column </h3>"
   ]
  },
  {
   "cell_type": "markdown",
   "metadata": {
    "id": "40Caaf_rEzkw"
   },
   "source": [
    "<h1>Welcome to my Kernel ! </h1>\n",
    "\n",
    "<h2>I will do some Explorations through the German Credit Risk to understand their distribuitions and patterns. </h2>"
   ]
  },
  {
   "cell_type": "markdown",
   "metadata": {
    "id": "Ol6Exmt8Ezkw"
   },
   "source": [
    "Look for another interesting Kernels on https://www.kaggle.com/kabure/kernels<br>\n",
    "Give me your feedback and if yo like this kernel, <b>votes up</b>"
   ]
  },
  {
   "cell_type": "markdown",
   "metadata": {
    "id": "TLhSe2_nEzkx"
   },
   "source": [
    "# Tables of Content:\n",
    "\n",
    "**1. [Introduction](#Introduction)** <br>\n",
    "    - Info's about datasets\n",
    "**2. [Librarys](#Librarys)** <br>\n",
    "    - Importing Librarys\n",
    "    - Importing Dataset\n",
    "**3. [Knowning the data](#Known)** <br>\n",
    "    - 3.1 Looking the Type of Data\n",
    "    - 3.2 Shape of data\n",
    "    - 3.3 Null Numbers\n",
    "    - 3.4 Unique values\n",
    "    - 3.5 The first rows of our dataset\n",
    "**4. [Exploring some Variables](#Explorations)** <br>\n",
    "    - 4.1 Ploting some graphical and descriptive informations\n",
    "**5. [Correlation of data](#Correlation)** <br>\n",
    "\t- 5.1 Correlation Data\n",
    "**6. [Preprocess](#Preprocessing)** <br>\n",
    "\t- 6.1 Importing Librarys\n",
    "\t- 6.2 Setting X and Y\n",
    "    - 6.3 Spliting the X and Y in train and test \n",
    "**7. 1 [Model 1](#Modelling 1)** <br>\n",
    "    - 7.1.1 Random Forest \n",
    "    - 7.1.2 Score values\n",
    "    - 7.1.3 Cross Validation \n",
    "**7. 2 [Model 2](#Modelling 2)** <br>\n",
    "    - 7.2.1 Logistic Regression \n",
    "    - 7.2.2 Score values\n",
    "    - 7.2.3 Cross Validation \n",
    "    - 7.2.4 ROC Curve"
   ]
  },
  {
   "cell_type": "markdown",
   "metadata": {
    "id": "R2cKf96oEzky"
   },
   "source": [
    "<a id=\"Introduction\"></a> <br>\n"
   ]
  },
  {
   "cell_type": "markdown",
   "metadata": {
    "id": "2x8lpQW2Ezkz"
   },
   "source": [
    "# **1. Introduction:** \n",
    "<h2>Context</h2>\n",
    "The original dataset contains 1000 entries with 20 categorial/symbolic attributes prepared by Prof. Hofmann. In this dataset, each entry represents a person who takes a credit by a bank. Each person is classified as good or bad credit risks according to the set of attributes. The link to the original dataset can be found below.\n",
    "\n",
    "<h2>Content</h2>\n",
    "It is almost impossible to understand the original dataset due to its complicated system of categories and symbols. Thus, I wrote a small Python script to convert it into a readable CSV file. Several columns are simply ignored, because in my opinion either they are not important or their descriptions are obscure. The selected attributes are:\n",
    "\n",
    "<b>Age </b>(numeric)<br>\n",
    "<b>Sex </b>(text: male, female)<br>\n",
    "<b>Job </b>(numeric: 0 - unskilled and non-resident, 1 - unskilled and resident, 2 - skilled, 3 - highly skilled)<br>\n",
    "<b>Housing</b> (text: own, rent, or free)<br>\n",
    "<b>Saving accounts</b> (text - little, moderate, quite rich, rich)<br>\n",
    "<b>Checking account </b>(numeric, in DM - Deutsch Mark)<br>\n",
    "<b>Credit amount</b> (numeric, in DM)<br>\n",
    "<b>Duration</b> (numeric, in month)<br>\n",
    "<b>Purpose</b>(text: car, furniture/equipment, radio/TV, domestic appliances, repairs, education, business, vacation/others<br>\n",
    "<b>Risk </b> (Value target - Good or Bad Risk)<br>"
   ]
  },
  {
   "cell_type": "markdown",
   "metadata": {
    "id": "nkTOJWl3Ezk0"
   },
   "source": [
    "<i>English is not my first language, so, sorry about any error</i>"
   ]
  },
  {
   "cell_type": "markdown",
   "metadata": {
    "id": "PuVue8y9Ezk0"
   },
   "source": [
    "<a id=\"Librarys\"></a> <br>\n",
    "# **2. Librarys:** \n",
    "- Importing Librarys\n",
    "- Importing Dataset"
   ]
  },
  {
   "cell_type": "code",
   "execution_count": 48,
   "metadata": {},
   "outputs": [],
   "source": [
    "import warnings\n",
    "warnings.filterwarnings('ignore')"
   ]
  },
  {
   "cell_type": "code",
   "execution_count": 1,
   "metadata": {
    "id": "9y-AgtA3Ezk1"
   },
   "outputs": [],
   "source": [
    "#Load the librarys\n",
    "import pandas as pd #To work with dataset\n",
    "import numpy as np #Math library\n",
    "import seaborn as sns #Graph library that use matplot in background\n",
    "import matplotlib.pyplot as plt #to plot some parameters in seaborn\n",
    "\n",
    "#Importing the data\n",
    "df_credit = pd.read_csv(\"german_credit_data.csv\",index_col=0)"
   ]
  },
  {
   "cell_type": "markdown",
   "metadata": {
    "id": "xpiOR8q3Ezk2"
   },
   "source": [
    "<a id=\"Known\"></a> <br>\n",
    "# **3. First Look at the data:** \n",
    "- Looking the Type of Data\n",
    "- Null Numbers\n",
    "- Unique values\n",
    "- The first rows of our dataset"
   ]
  },
  {
   "cell_type": "code",
   "execution_count": 2,
   "metadata": {
    "colab": {
     "base_uri": "https://localhost:8080/"
    },
    "id": "HaNGROmrEzk3",
    "outputId": "924e2e20-2426-4939-cc2c-a13939ee61d8"
   },
   "outputs": [
    {
     "name": "stdout",
     "output_type": "stream",
     "text": [
      "<class 'pandas.core.frame.DataFrame'>\n",
      "Int64Index: 1000 entries, 0 to 999\n",
      "Data columns (total 10 columns):\n",
      " #   Column            Non-Null Count  Dtype \n",
      "---  ------            --------------  ----- \n",
      " 0   Age               1000 non-null   int64 \n",
      " 1   Sex               1000 non-null   object\n",
      " 2   Job               1000 non-null   int64 \n",
      " 3   Housing           1000 non-null   object\n",
      " 4   Saving accounts   817 non-null    object\n",
      " 5   Checking account  606 non-null    object\n",
      " 6   Credit amount     1000 non-null   int64 \n",
      " 7   Duration          1000 non-null   int64 \n",
      " 8   Purpose           1000 non-null   object\n",
      " 9   Risk              1000 non-null   object\n",
      "dtypes: int64(4), object(6)\n",
      "memory usage: 85.9+ KB\n",
      "None\n"
     ]
    }
   ],
   "source": [
    "#Searching for Missings,type of data and also known the shape of data\n",
    "print(df_credit.info())"
   ]
  },
  {
   "cell_type": "code",
   "execution_count": 3,
   "metadata": {
    "colab": {
     "base_uri": "https://localhost:8080/"
    },
    "id": "HEqUfSVPEzk3",
    "outputId": "3425a740-cf68-47db-bec4-1b286cebda17"
   },
   "outputs": [
    {
     "name": "stdout",
     "output_type": "stream",
     "text": [
      "Age                  53\n",
      "Sex                   2\n",
      "Job                   4\n",
      "Housing               3\n",
      "Saving accounts       4\n",
      "Checking account      3\n",
      "Credit amount       921\n",
      "Duration             33\n",
      "Purpose               8\n",
      "Risk                  2\n",
      "dtype: int64\n",
      "   Age     Sex  Job Housing Saving accounts Checking account  Credit amount  \\\n",
      "0   67    male    2     own             NaN           little           1169   \n",
      "1   22  female    2     own          little         moderate           5951   \n",
      "2   49    male    1     own          little              NaN           2096   \n",
      "3   45    male    2    free          little           little           7882   \n",
      "4   53    male    2    free          little           little           4870   \n",
      "\n",
      "   Duration              Purpose  Risk  \n",
      "0         6             radio/TV  good  \n",
      "1        48             radio/TV   bad  \n",
      "2        12            education  good  \n",
      "3        42  furniture/equipment  good  \n",
      "4        24                  car   bad  \n"
     ]
    }
   ],
   "source": [
    "#Looking unique values\n",
    "print(df_credit.nunique())\n",
    "#Looking the data\n",
    "print(df_credit.head())"
   ]
  },
  {
   "cell_type": "markdown",
   "metadata": {
    "id": "qWufns83Ezk3"
   },
   "source": [
    "# **4. Some explorations:** <a id=\"Explorations\"></a> <br>\n",
    "\n",
    "- Starting by distribuition of column Age.\n",
    "- Some Seaborn graphical\n",
    "- Columns crossing\n",
    "\n"
   ]
  },
  {
   "cell_type": "markdown",
   "metadata": {
    "id": "opRJNuU_Ezk4"
   },
   "source": [
    "<h2>Let's start looking through target variable and their distribuition</h2>"
   ]
  },
  {
   "cell_type": "code",
   "execution_count": null,
   "metadata": {
    "colab": {
     "base_uri": "https://localhost:8080/",
     "height": 542
    },
    "id": "j1Cf-CQ4Ezk4",
    "outputId": "1d81a3ca-7cd4-45f1-9892-aefeb04e1953"
   },
   "outputs": [],
   "source": [
    "# it's a library that we work with plotly\n",
    "import plotly.offline as py \n",
    "py.init_notebook_mode(connected=True) # this code, allow us to work with offline plotly version\n",
    "import plotly.graph_objs as go # it's like \"plt\" of matplot\n",
    "import plotly.tools as tls # It's useful to we get some tools of plotly\n",
    "import warnings # This library will be used to ignore some warnings\n",
    "from collections import Counter # To do counter of some features\n",
    "\n",
    "trace0 = go.Bar(\n",
    "            x = df_credit[df_credit[\"Risk\"]== 'good'][\"Risk\"].value_counts().index.values,\n",
    "            y = df_credit[df_credit[\"Risk\"]== 'good'][\"Risk\"].value_counts().values,\n",
    "            name='Good credit'\n",
    "    )\n",
    "\n",
    "trace1 = go.Bar(\n",
    "            x = df_credit[df_credit[\"Risk\"]== 'bad'][\"Risk\"].value_counts().index.values,\n",
    "            y = df_credit[df_credit[\"Risk\"]== 'bad'][\"Risk\"].value_counts().values,\n",
    "            name='Bad credit'\n",
    "    )\n",
    "\n",
    "data = [trace0, trace1]\n",
    "\n",
    "layout = go.Layout(\n",
    "    \n",
    ")\n",
    "\n",
    "layout = go.Layout(\n",
    "    yaxis=dict(\n",
    "        title='Count'\n",
    "    ),\n",
    "    xaxis=dict(\n",
    "        title='Risk Variable'\n",
    "    ),\n",
    "    title='Target variable distribution'\n",
    ")\n",
    "\n",
    "fig = go.Figure(data=data, layout=layout)\n",
    "\n",
    "py.iplot(fig, filename='grouped-bar')"
   ]
  },
  {
   "cell_type": "markdown",
   "metadata": {
    "id": "w3HGbz7REzk5"
   },
   "source": [
    "I will try implement some interactive visuals in my Kernels, this will be the first, inspired in Alexader's Kernel and I will also continue implementing plotly and bokeh in my Kerne"
   ]
  },
  {
   "cell_type": "code",
   "execution_count": null,
   "metadata": {
    "id": "X-AniZCeEzk5"
   },
   "outputs": [],
   "source": [
    "df_good = df_credit.loc[df_credit[\"Risk\"] == 'good']['Age'].values.tolist()\n",
    "df_bad = df_credit.loc[df_credit[\"Risk\"] == 'bad']['Age'].values.tolist()\n",
    "df_age = df_credit['Age'].values.tolist()\n",
    "\n",
    "#First plot\n",
    "trace0 = go.Histogram(\n",
    "    x=df_good,\n",
    "    histnorm='probability',\n",
    "    name=\"Good Credit\"\n",
    ")\n",
    "#Second plot\n",
    "trace1 = go.Histogram(\n",
    "    x=df_bad,\n",
    "    histnorm='probability',\n",
    "    name=\"Bad Credit\"\n",
    ")\n",
    "#Third plot\n",
    "trace2 = go.Histogram(\n",
    "    x=df_age,\n",
    "    histnorm='probability',\n",
    "    name=\"Overall Age\"\n",
    ")\n",
    "\n",
    "#Creating the grid\n",
    "fig = tls.make_subplots(rows=2, cols=2, specs=[[{}, {}], [{'colspan': 2}, None]],\n",
    "                          subplot_titles=('Good','Bad', 'General Distribuition'))\n",
    "\n",
    "#setting the figs\n",
    "fig.append_trace(trace0, 1, 1)\n",
    "fig.append_trace(trace1, 1, 2)\n",
    "fig.append_trace(trace2, 2, 1)\n",
    "\n",
    "fig['layout'].update(showlegend=True, title='Age Distribuition', bargap=0.05)\n",
    "py.iplot(fig, filename='custom-sized-subplot-with-subplot-titles')"
   ]
  },
  {
   "cell_type": "code",
   "execution_count": null,
   "metadata": {
    "id": "8ps4JTnjEzk5"
   },
   "outputs": [],
   "source": [
    "df_good = df_credit[df_credit[\"Risk\"] == 'good']\n",
    "df_bad = df_credit[df_credit[\"Risk\"] == 'bad']\n",
    "\n",
    "fig, ax = plt.subplots(nrows=2, figsize=(12,8))\n",
    "plt.subplots_adjust(hspace = 0.4, top = 0.8)\n",
    "\n",
    "g1 = sns.distplot(df_good[\"Age\"], ax=ax[0], \n",
    "             color=\"g\")\n",
    "g1 = sns.distplot(df_bad[\"Age\"], ax=ax[0], \n",
    "             color='r')\n",
    "g1.set_title(\"Age Distribuition\", fontsize=15)\n",
    "g1.set_xlabel(\"Age\")\n",
    "g1.set_xlabel(\"Frequency\")\n",
    "\n",
    "g2 = sns.countplot(x=\"Age\",data=df_credit, \n",
    "              palette=\"hls\", ax=ax[1], \n",
    "              hue = \"Risk\")\n",
    "g2.set_title(\"Age Counting by Risk\", fontsize=15)\n",
    "g2.set_xlabel(\"Age\")\n",
    "g2.set_xlabel(\"Count\")\n",
    "plt.show()"
   ]
  },
  {
   "cell_type": "markdown",
   "metadata": {
    "id": "fbHK88TiEzk6"
   },
   "source": [
    "## 4.1 Creating an categorical variable to handle with the Age variable"
   ]
  },
  {
   "cell_type": "code",
   "execution_count": 4,
   "metadata": {
    "id": "I-1IXqYSEzk6"
   },
   "outputs": [],
   "source": [
    "#Let's look the Credit Amount column\n",
    "interval = (18, 25, 35, 60, 120)\n",
    "\n",
    "cats = ['Student', 'Young', 'Adult', 'Senior']\n",
    "df_credit[\"Age_cat\"] = pd.cut(df_credit.Age, interval, labels=cats)\n",
    "\n",
    "\n",
    "df_good = df_credit[df_credit[\"Risk\"] == 'good']\n",
    "df_bad = df_credit[df_credit[\"Risk\"] == 'bad']"
   ]
  },
  {
   "cell_type": "code",
   "execution_count": null,
   "metadata": {
    "id": "JBgSqrAvEzk6"
   },
   "outputs": [],
   "source": [
    "trace0 = go.Box(\n",
    "    y=df_good[\"Credit amount\"],\n",
    "    x=df_good[\"Age_cat\"],\n",
    "    name='Good credit',\n",
    "    marker=dict(\n",
    "        color='#3D9970'\n",
    "    )\n",
    ")\n",
    "\n",
    "trace1 = go.Box(\n",
    "    y=df_bad['Credit amount'],\n",
    "    x=df_bad['Age_cat'],\n",
    "    name='Bad credit',\n",
    "    marker=dict(\n",
    "        color='#FF4136'\n",
    "    )\n",
    ")\n",
    "    \n",
    "data = [trace0, trace1]\n",
    "\n",
    "layout = go.Layout(\n",
    "    yaxis=dict(\n",
    "        title='Credit Amount (US Dollar)',\n",
    "        zeroline=False\n",
    "    ),\n",
    "    xaxis=dict(\n",
    "        title='Age Categorical'\n",
    "    ),\n",
    "    boxmode='group'\n",
    ")\n",
    "fig = go.Figure(data=data, layout=layout)\n",
    "\n",
    "py.iplot(fig, filename='box-age-cat')"
   ]
  },
  {
   "cell_type": "markdown",
   "metadata": {
    "id": "LR7tPO6-Ezk7"
   },
   "source": [
    "Interesting distribuition"
   ]
  },
  {
   "cell_type": "markdown",
   "metadata": {
    "id": "-ankGBCEEzk7"
   },
   "source": [
    "<h2>I will now Look the distribuition of Housing own and rent by Risk</h2>\n"
   ]
  },
  {
   "cell_type": "code",
   "execution_count": null,
   "metadata": {
    "id": "dByCQlPHEzk7"
   },
   "outputs": [],
   "source": [
    "#First plot\n",
    "trace0 = go.Bar(\n",
    "    x = df_credit[df_credit[\"Risk\"]== 'good'][\"Housing\"].value_counts().index.values,\n",
    "    y = df_credit[df_credit[\"Risk\"]== 'good'][\"Housing\"].value_counts().values,\n",
    "    name='Good credit'\n",
    ")\n",
    "\n",
    "#Second plot\n",
    "trace1 = go.Bar(\n",
    "    x = df_credit[df_credit[\"Risk\"]== 'bad'][\"Housing\"].value_counts().index.values,\n",
    "    y = df_credit[df_credit[\"Risk\"]== 'bad'][\"Housing\"].value_counts().values,\n",
    "    name=\"Bad Credit\"\n",
    ")\n",
    "\n",
    "data = [trace0, trace1]\n",
    "\n",
    "layout = go.Layout(\n",
    "    title='Housing Distribuition'\n",
    ")\n",
    "\n",
    "\n",
    "fig = go.Figure(data=data, layout=layout)\n",
    "\n",
    "py.iplot(fig, filename='Housing-Grouped')"
   ]
  },
  {
   "cell_type": "markdown",
   "metadata": {
    "id": "tzmYgmSCEzk8"
   },
   "source": [
    "we can see that the own and good risk have a high correlation"
   ]
  },
  {
   "cell_type": "markdown",
   "metadata": {
    "id": "ixJxl1enEzk8"
   },
   "source": [
    "<h3>Distribuition of Credit Amount by Housing</h3>"
   ]
  },
  {
   "cell_type": "code",
   "execution_count": null,
   "metadata": {
    "id": "j2G2B0XKEzk8"
   },
   "outputs": [],
   "source": [
    "fig = {\n",
    "    \"data\": [\n",
    "        {\n",
    "            \"type\": 'violin',\n",
    "            \"x\": df_good['Housing'],\n",
    "            \"y\": df_good['Credit amount'],\n",
    "            \"legendgroup\": 'Good Credit',\n",
    "            \"scalegroup\": 'No',\n",
    "            \"name\": 'Good Credit',\n",
    "            \"side\": 'negative',\n",
    "            \"box\": {\n",
    "                \"visible\": True\n",
    "            },\n",
    "            \"meanline\": {\n",
    "                \"visible\": True\n",
    "            },\n",
    "            \"line\": {\n",
    "                \"color\": 'blue'\n",
    "            }\n",
    "        },\n",
    "        {\n",
    "            \"type\": 'violin',\n",
    "            \"x\": df_bad['Housing'],\n",
    "            \"y\": df_bad['Credit amount'],\n",
    "            \"legendgroup\": 'Bad Credit',\n",
    "            \"scalegroup\": 'No',\n",
    "            \"name\": 'Bad Credit',\n",
    "            \"side\": 'positive',\n",
    "            \"box\": {\n",
    "                \"visible\": True\n",
    "            },\n",
    "            \"meanline\": {\n",
    "                \"visible\": True\n",
    "            },\n",
    "            \"line\": {\n",
    "                \"color\": 'green'\n",
    "            }\n",
    "        }\n",
    "    ],\n",
    "    \"layout\" : {\n",
    "        \"yaxis\": {\n",
    "            \"zeroline\": False,\n",
    "        },\n",
    "        \"violingap\": 0,\n",
    "        \"violinmode\": \"overlay\"\n",
    "    }\n",
    "}\n",
    "\n",
    "\n",
    "py.iplot(fig, filename = 'violin/split', validate = False)"
   ]
  },
  {
   "cell_type": "markdown",
   "metadata": {
    "id": "sfe9W8dhEzk8"
   },
   "source": [
    "Interesting moviments! Highest values come from category \"free\" and we have a different distribuition by Risk"
   ]
  },
  {
   "cell_type": "markdown",
   "metadata": {
    "id": "i4t5hW92Ezk8"
   },
   "source": [
    "<h2>Looking the diference by Sex</h2>"
   ]
  },
  {
   "cell_type": "code",
   "execution_count": null,
   "metadata": {
    "id": "G_lc6uwlEzk9"
   },
   "outputs": [],
   "source": [
    "#First plot\n",
    "trace0 = go.Bar(\n",
    "    x = df_credit[df_credit[\"Risk\"]== 'good'][\"Sex\"].value_counts().index.values,\n",
    "    y = df_credit[df_credit[\"Risk\"]== 'good'][\"Sex\"].value_counts().values,\n",
    "    name='Good credit'\n",
    ")\n",
    "\n",
    "#First plot 2\n",
    "trace1 = go.Bar(\n",
    "    x = df_credit[df_credit[\"Risk\"]== 'bad'][\"Sex\"].value_counts().index.values,\n",
    "    y = df_credit[df_credit[\"Risk\"]== 'bad'][\"Sex\"].value_counts().values,\n",
    "    name=\"Bad Credit\"\n",
    ")\n",
    "\n",
    "#Second plot\n",
    "trace2 = go.Box(\n",
    "    x = df_credit[df_credit[\"Risk\"]== 'good'][\"Sex\"],\n",
    "    y = df_credit[df_credit[\"Risk\"]== 'good'][\"Credit amount\"],\n",
    "    name=trace0.name\n",
    ")\n",
    "\n",
    "#Second plot 2\n",
    "trace3 = go.Box(\n",
    "    x = df_credit[df_credit[\"Risk\"]== 'bad'][\"Sex\"],\n",
    "    y = df_credit[df_credit[\"Risk\"]== 'bad'][\"Credit amount\"],\n",
    "    name=trace1.name\n",
    ")\n",
    "\n",
    "data = [trace0, trace1, trace2,trace3]\n",
    "\n",
    "\n",
    "fig = tls.make_subplots(rows=1, cols=2, \n",
    "                        subplot_titles=('Sex Count', 'Credit Amount by Sex'))\n",
    "\n",
    "fig.append_trace(trace0, 1, 1)\n",
    "fig.append_trace(trace1, 1, 1)\n",
    "fig.append_trace(trace2, 1, 2)\n",
    "fig.append_trace(trace3, 1, 2)\n",
    "\n",
    "fig['layout'].update(height=400, width=800, title='Sex Distribuition', boxmode='group')\n",
    "py.iplot(fig, filename='sex-subplot')"
   ]
  },
  {
   "cell_type": "markdown",
   "metadata": {
    "id": "-iKqmIcJEzk9"
   },
   "source": [
    "<b> How can I set the boxplots in different places? how can I use the same legend to both graphs?</b>"
   ]
  },
  {
   "cell_type": "markdown",
   "metadata": {
    "id": "veJ959BCEzk9"
   },
   "source": [
    "I will create categories of Age and look the distribuition of Credit Amount by Risk...\n"
   ]
  },
  {
   "cell_type": "markdown",
   "metadata": {
    "id": "UMKZaA1CEzk-"
   },
   "source": [
    "I will do some explorations through the Job\n",
    "- Distribuition\n",
    "- Crossed by Credit amount\n",
    "- Crossed by Age"
   ]
  },
  {
   "cell_type": "code",
   "execution_count": null,
   "metadata": {
    "id": "8Tr64F5eEzk-"
   },
   "outputs": [],
   "source": [
    "#First plot\n",
    "trace0 = go.Bar(\n",
    "    x = df_credit[df_credit[\"Risk\"]== 'good'][\"Job\"].value_counts().index.values,\n",
    "    y = df_credit[df_credit[\"Risk\"]== 'good'][\"Job\"].value_counts().values,\n",
    "    name='Good credit Distribuition'\n",
    ")\n",
    "\n",
    "#Second plot\n",
    "trace1 = go.Bar(\n",
    "    x = df_credit[df_credit[\"Risk\"]== 'bad'][\"Job\"].value_counts().index.values,\n",
    "    y = df_credit[df_credit[\"Risk\"]== 'bad'][\"Job\"].value_counts().values,\n",
    "    name=\"Bad Credit Distribuition\"\n",
    ")\n",
    "\n",
    "data = [trace0, trace1]\n",
    "\n",
    "layout = go.Layout(\n",
    "    title='Job Distribuition'\n",
    ")\n",
    "\n",
    "fig = go.Figure(data=data, layout=layout)\n",
    "\n",
    "py.iplot(fig, filename='grouped-bar')"
   ]
  },
  {
   "cell_type": "code",
   "execution_count": null,
   "metadata": {
    "id": "pVj2H46jEzk-"
   },
   "outputs": [],
   "source": [
    "trace0 = go.Box(\n",
    "    x=df_good[\"Job\"],\n",
    "    y=df_good[\"Credit amount\"],\n",
    "    name='Good credit'\n",
    ")\n",
    "\n",
    "trace1 = go.Box(\n",
    "    x=df_bad['Job'],\n",
    "    y=df_bad['Credit amount'],\n",
    "    name='Bad credit'\n",
    ")\n",
    "    \n",
    "data = [trace0, trace1]\n",
    "\n",
    "layout = go.Layout(\n",
    "    yaxis=dict(\n",
    "        title='Credit Amount distribuition by Job'\n",
    "    ),\n",
    "    boxmode='group'\n",
    ")\n",
    "fig = go.Figure(data=data, layout=layout)\n",
    "\n",
    "py.iplot(fig, filename='box-age-cat')"
   ]
  },
  {
   "cell_type": "code",
   "execution_count": null,
   "metadata": {
    "id": "4GTfmlIQEzk-"
   },
   "outputs": [],
   "source": [
    "\n",
    "fig = {\n",
    "    \"data\": [\n",
    "        {\n",
    "            \"type\": 'violin',\n",
    "            \"x\": df_good['Job'],\n",
    "            \"y\": df_good['Age'],\n",
    "            \"legendgroup\": 'Good Credit',\n",
    "            \"scalegroup\": 'No',\n",
    "            \"name\": 'Good Credit',\n",
    "            \"side\": 'negative',\n",
    "            \"box\": {\n",
    "                \"visible\": True\n",
    "            },\n",
    "            \"meanline\": {\n",
    "                \"visible\": True\n",
    "            },\n",
    "            \"line\": {\n",
    "                \"color\": 'blue'\n",
    "            }\n",
    "        },\n",
    "        {\n",
    "            \"type\": 'violin',\n",
    "            \"x\": df_bad['Job'],\n",
    "            \"y\": df_bad['Age'],\n",
    "            \"legendgroup\": 'Bad Credit',\n",
    "            \"scalegroup\": 'No',\n",
    "            \"name\": 'Bad Credit',\n",
    "            \"side\": 'positive',\n",
    "            \"box\": {\n",
    "                \"visible\": True\n",
    "            },\n",
    "            \"meanline\": {\n",
    "                \"visible\": True\n",
    "            },\n",
    "            \"line\": {\n",
    "                \"color\": 'green'\n",
    "            }\n",
    "        }\n",
    "    ],\n",
    "    \"layout\" : {\n",
    "        \"yaxis\": {\n",
    "            \"zeroline\": False,\n",
    "        },\n",
    "        \"violingap\": 0,\n",
    "        \"violinmode\": \"overlay\"\n",
    "    }\n",
    "}\n",
    "\n",
    "\n",
    "py.iplot(fig, filename = 'Age-Housing', validate = False)"
   ]
  },
  {
   "cell_type": "code",
   "execution_count": null,
   "metadata": {
    "id": "889xVY47Ezk_"
   },
   "outputs": [],
   "source": [
    "fig, ax = plt.subplots(figsize=(12,12), nrows=2)\n",
    "\n",
    "g1 = sns.boxplot(x=\"Job\", y=\"Credit amount\", data=df_credit, \n",
    "            palette=\"hls\", ax=ax[0], hue=\"Risk\")\n",
    "g1.set_title(\"Credit Amount by Job\", fontsize=15)\n",
    "g1.set_xlabel(\"Job Reference\", fontsize=12)\n",
    "g1.set_ylabel(\"Credit Amount\", fontsize=12)\n",
    "\n",
    "g2 = sns.violinplot(x=\"Job\", y=\"Age\", data=df_credit, ax=ax[1],  \n",
    "               hue=\"Risk\", split=True, palette=\"hls\")\n",
    "g2.set_title(\"Job Type reference x Age\", fontsize=15)\n",
    "g2.set_xlabel(\"Job Reference\", fontsize=12)\n",
    "g2.set_ylabel(\"Age\", fontsize=12)\n",
    "\n",
    "plt.subplots_adjust(hspace = 0.4,top = 0.9)\n",
    "\n",
    "plt.show()\n"
   ]
  },
  {
   "cell_type": "markdown",
   "metadata": {
    "id": "Cm5uQ3H-Ezk_"
   },
   "source": [
    "Looking the distribuition of Credit Amont"
   ]
  },
  {
   "cell_type": "code",
   "execution_count": null,
   "metadata": {
    "id": "lozzyd8dEzk_"
   },
   "outputs": [],
   "source": [
    "import plotly.figure_factory as ff\n",
    "\n",
    "import numpy as np\n",
    "\n",
    "# Add histogram data\n",
    "x1 = np.log(df_good['Credit amount']) \n",
    "x2 = np.log(df_bad[\"Credit amount\"])\n",
    "\n",
    "# Group data together\n",
    "hist_data = [x1, x2]\n",
    "\n",
    "group_labels = ['Good Credit', 'Bad Credit']\n",
    "\n",
    "# Create distplot with custom bin_size\n",
    "fig = ff.create_distplot(hist_data, group_labels, bin_size=.2)\n",
    "\n",
    "# Plot!\n",
    "py.iplot(fig, filename='Distplot with Multiple Datasets')"
   ]
  },
  {
   "cell_type": "code",
   "execution_count": null,
   "metadata": {
    "colab": {
     "base_uri": "https://localhost:8080/",
     "height": 491
    },
    "id": "aAmYRqIVEzlA",
    "outputId": "d2e81d01-d203-4b7a-93b3-9027e0e946ab"
   },
   "outputs": [],
   "source": [
    "#Ploting the good and bad dataframes in distplot\n",
    "plt.figure(figsize = (8,5))\n",
    "\n",
    "g= sns.distplot(df_good['Credit amount'], color='r')\n",
    "g = sns.distplot(df_bad[\"Credit amount\"], color='g')\n",
    "g.set_title(\"Credit Amount Frequency distribuition\", fontsize=15)\n",
    "plt.show()"
   ]
  },
  {
   "cell_type": "markdown",
   "metadata": {
    "id": "aacghbVlEzlA"
   },
   "source": [
    "Distruibution of Saving accounts by Risk"
   ]
  },
  {
   "cell_type": "code",
   "execution_count": null,
   "metadata": {
    "id": "GMUgcaCREzlA"
   },
   "outputs": [],
   "source": [
    "from plotly import tools\n",
    "import numpy as np\n",
    "import plotly.graph_objs as go\n",
    "\n",
    "count_good = go.Bar(\n",
    "    x = df_good[\"Saving accounts\"].value_counts().index.values,\n",
    "    y = df_good[\"Saving accounts\"].value_counts().values,\n",
    "    name='Good credit'\n",
    ")\n",
    "count_bad = go.Bar(\n",
    "    x = df_bad[\"Saving accounts\"].value_counts().index.values,\n",
    "    y = df_bad[\"Saving accounts\"].value_counts().values,\n",
    "    name='Bad credit'\n",
    ")\n",
    "\n",
    "\n",
    "box_1 = go.Box(\n",
    "    x=df_good[\"Saving accounts\"],\n",
    "    y=df_good[\"Credit amount\"],\n",
    "    name='Good credit'\n",
    ")\n",
    "box_2 = go.Box(\n",
    "    x=df_bad[\"Saving accounts\"],\n",
    "    y=df_bad[\"Credit amount\"],\n",
    "    name='Bad credit'\n",
    ")\n",
    "\n",
    "scat_1 = go.Box(\n",
    "    x=df_good[\"Saving accounts\"],\n",
    "    y=df_good[\"Age\"],\n",
    "    name='Good credit'\n",
    ")\n",
    "scat_2 = go.Box(\n",
    "    x=df_bad[\"Saving accounts\"],\n",
    "    y=df_bad[\"Age\"],\n",
    "    name='Bad credit'\n",
    ")\n",
    "\n",
    "data = [scat_1, scat_2, box_1, box_2, count_good, count_bad]\n",
    "\n",
    "fig = tools.make_subplots(rows=2, cols=2, specs=[[{}, {}], [{'colspan': 2}, None]],\n",
    "                          subplot_titles=('Count Saving Accounts','Credit Amount by Savings Acc', \n",
    "                                          'Age by Saving accounts'))\n",
    "\n",
    "fig.append_trace(count_good, 1, 1)\n",
    "fig.append_trace(count_bad, 1, 1)\n",
    "\n",
    "fig.append_trace(box_2, 1, 2)\n",
    "fig.append_trace(box_1, 1, 2)\n",
    "\n",
    "fig.append_trace(scat_1, 2, 1)\n",
    "fig.append_trace(scat_2, 2, 1)\n",
    "\n",
    "\n",
    "\n",
    "fig['layout'].update(height=700, width=800, title='Saving Accounts Exploration', boxmode='group')\n",
    "\n",
    "py.iplot(fig, filename='combined-savings')\n"
   ]
  },
  {
   "cell_type": "markdown",
   "metadata": {
    "id": "f75dZL-WEzlB"
   },
   "source": [
    "How can I better configure the legends?  I am trying to substitute the graph below, so how can I use the violinplot on subplots of plotly?"
   ]
  },
  {
   "cell_type": "code",
   "execution_count": null,
   "metadata": {
    "id": "u3T8dyyAEzlB"
   },
   "outputs": [],
   "source": [
    "print(\"Description of Distribuition Saving accounts by Risk:  \")\n",
    "print(pd.crosstab(df_credit[\"Saving accounts\"],df_credit.Risk))\n",
    "\n",
    "fig, ax = plt.subplots(3,1, figsize=(12,12))\n",
    "g = sns.countplot(x=\"Saving accounts\", data=df_credit, palette=\"hls\", \n",
    "              ax=ax[0],hue=\"Risk\")\n",
    "g.set_title(\"Saving Accounts Count\", fontsize=15)\n",
    "g.set_xlabel(\"Saving Accounts type\", fontsize=12)\n",
    "g.set_ylabel(\"Count\", fontsize=12)\n",
    "\n",
    "g1 = sns.violinplot(x=\"Saving accounts\", y=\"Job\", data=df_credit, palette=\"hls\", \n",
    "               hue = \"Risk\", ax=ax[1],split=True)\n",
    "g1.set_title(\"Saving Accounts by Job\", fontsize=15)\n",
    "g1.set_xlabel(\"Savings Accounts type\", fontsize=12)\n",
    "g1.set_ylabel(\"Job\", fontsize=12)\n",
    "\n",
    "g = sns.boxplot(x=\"Saving accounts\", y=\"Credit amount\", data=df_credit, ax=ax[2],\n",
    "            hue = \"Risk\",palette=\"hls\")\n",
    "g2.set_title(\"Saving Accounts by Credit Amount\", fontsize=15)\n",
    "g2.set_xlabel(\"Savings Accounts type\", fontsize=12)\n",
    "g2.set_ylabel(\"Credit Amount(US)\", fontsize=12)\n",
    "\n",
    "plt.subplots_adjust(hspace = 0.4,top = 0.9)\n",
    "\n",
    "plt.show()\n"
   ]
  },
  {
   "cell_type": "markdown",
   "metadata": {
    "id": "inXF9-_yEzlB"
   },
   "source": [
    "Pretty and interesting distribution..."
   ]
  },
  {
   "cell_type": "code",
   "execution_count": null,
   "metadata": {
    "id": "FueKVvgOEzlB"
   },
   "outputs": [],
   "source": [
    "print(\"Values describe: \")\n",
    "print(pd.crosstab(df_credit.Purpose, df_credit.Risk))\n",
    "\n",
    "plt.figure(figsize = (14,12))\n",
    "\n",
    "plt.subplot(221)\n",
    "g = sns.countplot(x=\"Purpose\", data=df_credit, \n",
    "              palette=\"hls\", hue = \"Risk\")\n",
    "g.set_xticklabels(g.get_xticklabels(),rotation=45)\n",
    "g.set_xlabel(\"\", fontsize=12)\n",
    "g.set_ylabel(\"Count\", fontsize=12)\n",
    "g.set_title(\"Purposes Count\", fontsize=20)\n",
    "\n",
    "plt.subplot(222)\n",
    "g1 = sns.violinplot(x=\"Purpose\", y=\"Age\", data=df_credit, \n",
    "                    palette=\"hls\", hue = \"Risk\",split=True)\n",
    "g1.set_xticklabels(g1.get_xticklabels(),rotation=45)\n",
    "g1.set_xlabel(\"\", fontsize=12)\n",
    "g1.set_ylabel(\"Count\", fontsize=12)\n",
    "g1.set_title(\"Purposes by Age\", fontsize=20)\n",
    "\n",
    "plt.subplot(212)\n",
    "g2 = sns.boxplot(x=\"Purpose\", y=\"Credit amount\", data=df_credit, \n",
    "               palette=\"hls\", hue = \"Risk\")\n",
    "g2.set_xlabel(\"Purposes\", fontsize=12)\n",
    "g2.set_ylabel(\"Credit Amount\", fontsize=12)\n",
    "g2.set_title(\"Credit Amount distribuition by Purposes\", fontsize=20)\n",
    "\n",
    "plt.subplots_adjust(hspace = 0.6, top = 0.8)\n",
    "\n",
    "plt.show()"
   ]
  },
  {
   "cell_type": "markdown",
   "metadata": {
    "id": "pP5ngnVUEzlB"
   },
   "source": [
    "Duration of the loans distribuition and density"
   ]
  },
  {
   "cell_type": "code",
   "execution_count": null,
   "metadata": {
    "colab": {
     "base_uri": "https://localhost:8080/",
     "height": 1000
    },
    "id": "2t_GxUIrEzlB",
    "outputId": "b9029830-d323-460a-987b-1538c70bc60f"
   },
   "outputs": [],
   "source": [
    "plt.figure(figsize = (12,14))\n",
    "\n",
    "g= plt.subplot(311)\n",
    "g = sns.countplot(x=\"Duration\", data=df_credit, \n",
    "              palette=\"hls\",  hue = \"Risk\")\n",
    "g.set_xlabel(\"Duration Distribuition\", fontsize=12)\n",
    "g.set_ylabel(\"Count\", fontsize=12)\n",
    "g.set_title(\"Duration Count\", fontsize=20)\n",
    "\n",
    "g1 = plt.subplot(312)\n",
    "g1 = sns.pointplot(x=\"Duration\", y =\"Credit amount\",data=df_credit,\n",
    "                   hue=\"Risk\", palette=\"hls\")\n",
    "g1.set_xlabel(\"Duration\", fontsize=12)\n",
    "g1.set_ylabel(\"Credit Amount(US)\", fontsize=12)\n",
    "g1.set_title(\"Credit Amount distribuition by Duration\", fontsize=20)\n",
    "\n",
    "g2 = plt.subplot(313)\n",
    "g2 = sns.distplot(df_good[\"Duration\"], color='g')\n",
    "g2 = sns.distplot(df_bad[\"Duration\"], color='r')\n",
    "g2.set_xlabel(\"Duration\", fontsize=12)\n",
    "g2.set_ylabel(\"Frequency\", fontsize=12)\n",
    "g2.set_title(\"Duration Frequency x good and bad Credit\", fontsize=20)\n",
    "\n",
    "plt.subplots_adjust(wspace = 0.4, hspace = 0.4,top = 0.9)\n",
    "\n",
    "plt.show()"
   ]
  },
  {
   "cell_type": "markdown",
   "metadata": {
    "id": "OmHEhU2EEzlC"
   },
   "source": [
    "\n",
    "Interesting, we can see that the highest duration have the high amounts. <br>\n",
    "The highest density is between [12 ~ 18 ~ 24] months<br>\n",
    "It all make sense.\n"
   ]
  },
  {
   "cell_type": "markdown",
   "metadata": {
    "id": "iXZm1k-3EzlC"
   },
   "source": [
    "<h2> Checking Account variable </h2>"
   ]
  },
  {
   "cell_type": "markdown",
   "metadata": {
    "id": "D1b-yArfEzlC"
   },
   "source": [
    "First, let's look the distribuition "
   ]
  },
  {
   "cell_type": "code",
   "execution_count": null,
   "metadata": {
    "id": "tiqAdL31EzlC"
   },
   "outputs": [],
   "source": [
    "#First plot\n",
    "trace0 = go.Bar(\n",
    "    x = df_credit[df_credit[\"Risk\"]== 'good'][\"Checking account\"].value_counts().index.values,\n",
    "    y = df_credit[df_credit[\"Risk\"]== 'good'][\"Checking account\"].value_counts().values,\n",
    "    name='Good credit Distribuition' \n",
    "    \n",
    ")\n",
    "\n",
    "#Second plot\n",
    "trace1 = go.Bar(\n",
    "    x = df_credit[df_credit[\"Risk\"]== 'bad'][\"Checking account\"].value_counts().index.values,\n",
    "    y = df_credit[df_credit[\"Risk\"]== 'bad'][\"Checking account\"].value_counts().values,\n",
    "    name=\"Bad Credit Distribuition\"\n",
    ")\n",
    "\n",
    "data = [trace0, trace1]\n",
    "\n",
    "layout = go.Layout(\n",
    "    title='Checking accounts Distribuition',\n",
    "    xaxis=dict(title='Checking accounts name'),\n",
    "    yaxis=dict(title='Count'),\n",
    "    barmode='group'\n",
    ")\n",
    "\n",
    "\n",
    "fig = go.Figure(data=data, layout=layout)\n",
    "\n",
    "py.iplot(fig, filename = 'Age-ba', validate = False)"
   ]
  },
  {
   "cell_type": "markdown",
   "metadata": {
    "id": "v1tvIXp_EzlD"
   },
   "source": [
    "Now, we will verify the values through Checking Accounts"
   ]
  },
  {
   "cell_type": "code",
   "execution_count": null,
   "metadata": {
    "id": "ujW1AptqEzlD"
   },
   "outputs": [],
   "source": [
    "df_good = df_credit[df_credit[\"Risk\"] == 'good']\n",
    "df_bad = df_credit[df_credit[\"Risk\"] == 'bad']\n",
    "\n",
    "trace0 = go.Box(\n",
    "    y=df_good[\"Credit amount\"],\n",
    "    x=df_good[\"Checking account\"],\n",
    "    name='Good credit',\n",
    "    marker=dict(\n",
    "        color='#3D9970'\n",
    "    )\n",
    ")\n",
    "\n",
    "trace1 = go.Box(\n",
    "    y=df_bad['Credit amount'],\n",
    "    x=df_bad['Checking account'],\n",
    "    name='Bad credit',\n",
    "    marker=dict(\n",
    "        color='#FF4136'\n",
    "    )\n",
    ")\n",
    "    \n",
    "data = [trace0, trace1]\n",
    "\n",
    "layout = go.Layout(\n",
    "    yaxis=dict(\n",
    "        title='Cheking distribuition'\n",
    "    ),\n",
    "    boxmode='group'\n",
    ")\n",
    "fig = go.Figure(data=data, layout=layout)\n",
    "\n",
    "py.iplot(fig, filename='box-age-cat')"
   ]
  },
  {
   "cell_type": "markdown",
   "metadata": {
    "id": "4ot38UE9EzlD"
   },
   "source": [
    "The old plot that I am trying to substitute with interactive plots"
   ]
  },
  {
   "cell_type": "code",
   "execution_count": null,
   "metadata": {
    "id": "uiFkqVxiEzlD"
   },
   "outputs": [],
   "source": [
    "print(\"Total values of the most missing variable: \")\n",
    "print(df_credit.groupby(\"Checking account\")[\"Checking account\"].count())\n",
    "\n",
    "plt.figure(figsize = (12,10))\n",
    "\n",
    "g = plt.subplot(221)\n",
    "g = sns.countplot(x=\"Checking account\", data=df_credit, \n",
    "              palette=\"hls\", hue=\"Risk\")\n",
    "g.set_xlabel(\"Checking Account\", fontsize=12)\n",
    "g.set_ylabel(\"Count\", fontsize=12)\n",
    "g.set_title(\"Checking Account Counting by Risk\", fontsize=20)\n",
    "\n",
    "g1 = plt.subplot(222)\n",
    "g1 = sns.violinplot(x=\"Checking account\", y=\"Age\", data=df_credit, palette=\"hls\", hue = \"Risk\",split=True)\n",
    "g1.set_xlabel(\"Checking Account\", fontsize=12)\n",
    "g1.set_ylabel(\"Age\", fontsize=12)\n",
    "g1.set_title(\"Age by Checking Account\", fontsize=20)\n",
    "\n",
    "g2 = plt.subplot(212)\n",
    "g2 = sns.boxplot(x=\"Checking account\",y=\"Credit amount\", data=df_credit,hue='Risk',palette=\"hls\")\n",
    "g2.set_xlabel(\"Checking Account\", fontsize=12)\n",
    "g2.set_ylabel(\"Credit Amount(US)\", fontsize=12)\n",
    "g2.set_title(\"Credit Amount by Cheking Account\", fontsize=20)\n",
    "\n",
    "plt.subplots_adjust(wspace = 0.2, hspace = 0.3, top = 0.9)\n",
    "\n",
    "plt.show()\n",
    "plt.show()"
   ]
  },
  {
   "cell_type": "markdown",
   "metadata": {
    "id": "zOEbXoZkEzlE"
   },
   "source": [
    "Crosstab session and anothers to explore our data by another metrics a little deep"
   ]
  },
  {
   "cell_type": "code",
   "execution_count": null,
   "metadata": {
    "colab": {
     "base_uri": "https://localhost:8080/"
    },
    "id": "VLaaPJooEzlE",
    "outputId": "57d8738b-7dc9-4983-8bee-d63e2e40c363"
   },
   "outputs": [],
   "source": [
    "print(pd.crosstab(df_credit.Sex, df_credit.Job))"
   ]
  },
  {
   "cell_type": "code",
   "execution_count": null,
   "metadata": {
    "id": "0eXQbSO7EzlE"
   },
   "outputs": [],
   "source": [
    "plt.figure(figsize = (10,6))\n",
    "\n",
    "g = sns.violinplot(x=\"Housing\",y=\"Job\",data=df_credit,\n",
    "                   hue=\"Risk\", palette=\"hls\",split=True)\n",
    "g.set_xlabel(\"Housing\", fontsize=12)\n",
    "g.set_ylabel(\"Job\", fontsize=12)\n",
    "g.set_title(\"Housing x Job - Dist\", fontsize=20)\n",
    "\n",
    "plt.show()"
   ]
  },
  {
   "cell_type": "code",
   "execution_count": null,
   "metadata": {
    "colab": {
     "base_uri": "https://localhost:8080/"
    },
    "id": "HDPCzDblEzlE",
    "outputId": "71c7d016-7087-4722-87f2-ebab92f11755"
   },
   "outputs": [],
   "source": [
    "print(pd.crosstab(df_credit[\"Checking account\"],df_credit.Sex))"
   ]
  },
  {
   "cell_type": "code",
   "execution_count": null,
   "metadata": {
    "id": "qaROhIXyEzlE"
   },
   "outputs": [],
   "source": [
    "date_int = [\"Purpose\", 'Sex']\n",
    "cm = sns.light_palette(\"green\", as_cmap=True)\n",
    "pd.crosstab(df_credit[date_int[0]], df_credit[date_int[1]]).style.background_gradient(cmap = cm)"
   ]
  },
  {
   "cell_type": "code",
   "execution_count": null,
   "metadata": {
    "colab": {
     "base_uri": "https://localhost:8080/",
     "height": 332
    },
    "id": "NaTIAeVhEzlE",
    "outputId": "58884263-4bfe-43eb-bd4b-6149d38bd2f6"
   },
   "outputs": [],
   "source": [
    "date_int = [\"Purpose\", 'Sex']\n",
    "cm = sns.light_palette(\"green\", as_cmap=True)\n",
    "pd.crosstab(df_credit[date_int[0]], df_credit[date_int[1]]).style.background_gradient(cmap = cm)"
   ]
  },
  {
   "cell_type": "markdown",
   "metadata": {
    "id": "1yJoZnJlEzlG"
   },
   "source": []
  },
  {
   "cell_type": "markdown",
   "metadata": {
    "id": "ucbwUk00EzlF"
   },
   "source": [
    "## Looking the total of values in each categorical feature"
   ]
  },
  {
   "cell_type": "code",
   "execution_count": 5,
   "metadata": {
    "colab": {
     "base_uri": "https://localhost:8080/"
    },
    "id": "zhZGCTjPEzlF",
    "outputId": "c92ab00c-6552-4fb9-b224-c8a0ab45b07a"
   },
   "outputs": [
    {
     "name": "stdout",
     "output_type": "stream",
     "text": [
      "Purpose :  ['radio/TV' 'education' 'furniture/equipment' 'car' 'business'\n",
      " 'domestic appliances' 'repairs' 'vacation/others']\n",
      "Sex :  ['male' 'female']\n",
      "Housing :  ['own' 'free' 'rent']\n",
      "Saving accounts :  [nan 'little' 'quite rich' 'rich' 'moderate']\n",
      "Risk :  ['good' 'bad']\n",
      "Checking account :  ['little' 'moderate' nan 'rich']\n",
      "Aget_cat :  ['Senior', 'Student', 'Adult', 'Young']\n",
      "Categories (4, object): ['Student' < 'Young' < 'Adult' < 'Senior']\n"
     ]
    }
   ],
   "source": [
    "print(\"Purpose : \",df_credit.Purpose.unique())\n",
    "print(\"Sex : \",df_credit.Sex.unique())\n",
    "print(\"Housing : \",df_credit.Housing.unique())\n",
    "print(\"Saving accounts : \",df_credit['Saving accounts'].unique())\n",
    "print(\"Risk : \",df_credit['Risk'].unique())\n",
    "print(\"Checking account : \",df_credit['Checking account'].unique())\n",
    "print(\"Aget_cat : \",df_credit['Age_cat'].unique())"
   ]
  },
  {
   "cell_type": "markdown",
   "metadata": {
    "id": "fHzBMUeVEzlF"
   },
   "source": [
    "## Let's do some feature engineering on this values and create variable Dummies of the values"
   ]
  },
  {
   "cell_type": "code",
   "execution_count": 6,
   "metadata": {
    "id": "hwqfjQaCEzlF"
   },
   "outputs": [],
   "source": [
    "def one_hot_encoder(df, nan_as_category = False):\n",
    "    original_columns = list(df.columns)\n",
    "    categorical_columns = [col for col in df.columns if df[col].dtype == 'object']\n",
    "    df = pd.get_dummies(df, columns= categorical_columns, dummy_na= nan_as_category, drop_first=True)\n",
    "    new_columns = [c for c in df.columns if c not in original_columns]\n",
    "    return df, new_columns"
   ]
  },
  {
   "cell_type": "markdown",
   "metadata": {
    "id": "5aGqpxfdEzlF"
   },
   "source": [
    "## Transforming the data into Dummy variables"
   ]
  },
  {
   "cell_type": "code",
   "execution_count": 7,
   "metadata": {
    "id": "7FDqnWtSEzlG"
   },
   "outputs": [],
   "source": [
    "df_credit['Saving accounts'] = df_credit['Saving accounts'].fillna('no_inf')\n",
    "df_credit['Checking account'] = df_credit['Checking account'].fillna('no_inf')\n",
    "\n",
    "#Purpose to Dummies Variable\n",
    "df_credit = df_credit.merge(pd.get_dummies(df_credit.Purpose, drop_first=True, prefix='Purpose'), left_index=True, right_index=True)\n",
    "#Sex feature in dummies\n",
    "df_credit = df_credit.merge(pd.get_dummies(df_credit.Sex, drop_first=True, prefix='Sex'), left_index=True, right_index=True)\n",
    "# Housing get dummies\n",
    "df_credit = df_credit.merge(pd.get_dummies(df_credit.Housing, drop_first=True, prefix='Housing'), left_index=True, right_index=True)\n",
    "# Housing get Saving Accounts\n",
    "df_credit = df_credit.merge(pd.get_dummies(df_credit[\"Saving accounts\"], drop_first=True, prefix='Savings'), left_index=True, right_index=True)\n",
    "# Housing get Risk\n",
    "df_credit = df_credit.merge(pd.get_dummies(df_credit.Risk, prefix='Risk'), left_index=True, right_index=True)\n",
    "# Housing get Checking Account\n",
    "df_credit = df_credit.merge(pd.get_dummies(df_credit[\"Checking account\"], drop_first=True, prefix='Check'), left_index=True, right_index=True)\n",
    "# Housing get Age categorical\n",
    "df_credit = df_credit.merge(pd.get_dummies(df_credit[\"Age_cat\"], drop_first=True, prefix='Age_cat'), left_index=True, right_index=True)"
   ]
  },
  {
   "cell_type": "code",
   "execution_count": 8,
   "metadata": {
    "colab": {
     "base_uri": "https://localhost:8080/",
     "height": 424
    },
    "id": "3lLm2EPhME3Y",
    "outputId": "dceb7a61-3803-42a7-88be-430420c519ae"
   },
   "outputs": [
    {
     "data": {
      "text/html": [
       "<div>\n",
       "<style scoped>\n",
       "    .dataframe tbody tr th:only-of-type {\n",
       "        vertical-align: middle;\n",
       "    }\n",
       "\n",
       "    .dataframe tbody tr th {\n",
       "        vertical-align: top;\n",
       "    }\n",
       "\n",
       "    .dataframe thead th {\n",
       "        text-align: right;\n",
       "    }\n",
       "</style>\n",
       "<table border=\"1\" class=\"dataframe\">\n",
       "  <thead>\n",
       "    <tr style=\"text-align: right;\">\n",
       "      <th></th>\n",
       "      <th>Age_cat_Senior</th>\n",
       "      <th>Age_cat</th>\n",
       "      <th>Age_cat_Young</th>\n",
       "      <th>Age_cat_Adult</th>\n",
       "    </tr>\n",
       "  </thead>\n",
       "  <tbody>\n",
       "    <tr>\n",
       "      <th>0</th>\n",
       "      <td>1</td>\n",
       "      <td>Senior</td>\n",
       "      <td>0</td>\n",
       "      <td>0</td>\n",
       "    </tr>\n",
       "    <tr>\n",
       "      <th>1</th>\n",
       "      <td>0</td>\n",
       "      <td>Student</td>\n",
       "      <td>0</td>\n",
       "      <td>0</td>\n",
       "    </tr>\n",
       "    <tr>\n",
       "      <th>2</th>\n",
       "      <td>0</td>\n",
       "      <td>Adult</td>\n",
       "      <td>0</td>\n",
       "      <td>1</td>\n",
       "    </tr>\n",
       "    <tr>\n",
       "      <th>3</th>\n",
       "      <td>0</td>\n",
       "      <td>Adult</td>\n",
       "      <td>0</td>\n",
       "      <td>1</td>\n",
       "    </tr>\n",
       "    <tr>\n",
       "      <th>4</th>\n",
       "      <td>0</td>\n",
       "      <td>Adult</td>\n",
       "      <td>0</td>\n",
       "      <td>1</td>\n",
       "    </tr>\n",
       "    <tr>\n",
       "      <th>...</th>\n",
       "      <td>...</td>\n",
       "      <td>...</td>\n",
       "      <td>...</td>\n",
       "      <td>...</td>\n",
       "    </tr>\n",
       "    <tr>\n",
       "      <th>995</th>\n",
       "      <td>0</td>\n",
       "      <td>Young</td>\n",
       "      <td>1</td>\n",
       "      <td>0</td>\n",
       "    </tr>\n",
       "    <tr>\n",
       "      <th>996</th>\n",
       "      <td>0</td>\n",
       "      <td>Adult</td>\n",
       "      <td>0</td>\n",
       "      <td>1</td>\n",
       "    </tr>\n",
       "    <tr>\n",
       "      <th>997</th>\n",
       "      <td>0</td>\n",
       "      <td>Adult</td>\n",
       "      <td>0</td>\n",
       "      <td>1</td>\n",
       "    </tr>\n",
       "    <tr>\n",
       "      <th>998</th>\n",
       "      <td>0</td>\n",
       "      <td>Student</td>\n",
       "      <td>0</td>\n",
       "      <td>0</td>\n",
       "    </tr>\n",
       "    <tr>\n",
       "      <th>999</th>\n",
       "      <td>0</td>\n",
       "      <td>Young</td>\n",
       "      <td>1</td>\n",
       "      <td>0</td>\n",
       "    </tr>\n",
       "  </tbody>\n",
       "</table>\n",
       "<p>1000 rows × 4 columns</p>\n",
       "</div>"
      ],
      "text/plain": [
       "     Age_cat_Senior  Age_cat  Age_cat_Young  Age_cat_Adult\n",
       "0                 1   Senior              0              0\n",
       "1                 0  Student              0              0\n",
       "2                 0    Adult              0              1\n",
       "3                 0    Adult              0              1\n",
       "4                 0    Adult              0              1\n",
       "..              ...      ...            ...            ...\n",
       "995               0    Young              1              0\n",
       "996               0    Adult              0              1\n",
       "997               0    Adult              0              1\n",
       "998               0  Student              0              0\n",
       "999               0    Young              1              0\n",
       "\n",
       "[1000 rows x 4 columns]"
      ]
     },
     "execution_count": 8,
     "metadata": {},
     "output_type": "execute_result"
    }
   ],
   "source": [
    "# df_credit.columns\n",
    "df_credit[['Age_cat_Senior','Age_cat','Age_cat_Young','Age_cat_Adult']]"
   ]
  },
  {
   "cell_type": "markdown",
   "metadata": {
    "id": "9IhAReh6EzlG"
   },
   "source": [
    "## Deleting the old features"
   ]
  },
  {
   "cell_type": "code",
   "execution_count": 9,
   "metadata": {
    "id": "3-cfkDrIEzlG"
   },
   "outputs": [],
   "source": [
    "#Excluding the missing columns\n",
    "del df_credit[\"Saving accounts\"]\n",
    "del df_credit[\"Checking account\"]\n",
    "del df_credit[\"Purpose\"]\n",
    "del df_credit[\"Sex\"]\n",
    "del df_credit[\"Housing\"]\n",
    "del df_credit[\"Age_cat\"]\n",
    "del df_credit[\"Risk\"]\n",
    "del df_credit['Risk_good']"
   ]
  },
  {
   "cell_type": "markdown",
   "metadata": {
    "id": "oNdETrsREzlG"
   },
   "source": [
    "# **5. Correlation:** <a id=\"Correlation\"></a> <br>\n",
    "- Looking the data correlation\n",
    "<h1>Looking the correlation of the data"
   ]
  },
  {
   "cell_type": "code",
   "execution_count": 10,
   "metadata": {
    "colab": {
     "base_uri": "https://localhost:8080/",
     "height": 828
    },
    "id": "5SDqI7o9EzlG",
    "outputId": "9bf431db-0c8c-4e98-e956-59aec3a2b83e"
   },
   "outputs": [
    {
     "data": {
      "image/png": "[encoded data removed]",
      "text/plain": [
       "<Figure size 1008x864 with 2 Axes>"
      ]
     },
     "metadata": {
      "needs_background": "light"
     },
     "output_type": "display_data"
    }
   ],
   "source": [
    "plt.figure(figsize=(14,12))\n",
    "sns.heatmap(df_credit.astype(float).corr(),linewidths=0.1,vmax=1.0, \n",
    "            square=True,  linecolor='white', annot=True)\n",
    "plt.show()"
   ]
  },
  {
   "cell_type": "code",
   "execution_count": 11,
   "metadata": {
    "id": "pQhOnTCOEzlH"
   },
   "outputs": [
    {
     "name": "stderr",
     "output_type": "stream",
     "text": [
      "/Library/Frameworks/Python.framework/Versions/3.8/lib/python3.8/site-packages/xgboost/compat.py:36: FutureWarning: pandas.Int64Index is deprecated and will be removed from pandas in a future version. Use pandas.Index with the appropriate dtype instead.\n",
      "  from pandas import MultiIndex, Int64Index\n"
     ]
    }
   ],
   "source": [
    "from sklearn.model_selection import train_test_split, KFold, cross_val_score # to split the data\n",
    "from sklearn.metrics import accuracy_score, confusion_matrix, classification_report, fbeta_score, roc_auc_score #To evaluate our model\n",
    "\n",
    "from sklearn.model_selection import GridSearchCV\n",
    "\n",
    "# Algorithmns models to be compared\n",
    "from sklearn.ensemble import RandomForestClassifier\n",
    "from sklearn.linear_model import LogisticRegression\n",
    "from sklearn.tree import DecisionTreeClassifier\n",
    "from sklearn.neighbors import KNeighborsClassifier\n",
    "from sklearn.ensemble import RandomForestClassifier\n",
    "from sklearn.discriminant_analysis import LinearDiscriminantAnalysis\n",
    "from sklearn.naive_bayes import GaussianNB\n",
    "from sklearn.svm import SVC\n",
    "from xgboost import XGBClassifier\n"
   ]
  },
  {
   "cell_type": "code",
   "execution_count": 12,
   "metadata": {
    "colab": {
     "base_uri": "https://localhost:8080/"
    },
    "id": "-BsIYjZ1KqZi",
    "outputId": "6c6d3519-6513-476b-af98-a67770e477a9"
   },
   "outputs": [
    {
     "data": {
      "text/plain": [
       "0      0\n",
       "1      1\n",
       "2      0\n",
       "3      0\n",
       "4      1\n",
       "      ..\n",
       "995    0\n",
       "996    0\n",
       "997    0\n",
       "998    1\n",
       "999    0\n",
       "Name: Risk_bad, Length: 1000, dtype: uint8"
      ]
     },
     "execution_count": 12,
     "metadata": {},
     "output_type": "execute_result"
    }
   ],
   "source": [
    "df_credit['Risk_bad']"
   ]
  },
  {
   "cell_type": "code",
   "execution_count": 13,
   "metadata": {
    "id": "5AVxbscLEzlH"
   },
   "outputs": [],
   "source": [
    "df_credit['Credit amount'] = np.log(df_credit['Credit amount'])"
   ]
  },
  {
   "cell_type": "code",
   "execution_count": 14,
   "metadata": {
    "colab": {
     "base_uri": "https://localhost:8080/"
    },
    "id": "KTE-o5LIEzlH",
    "outputId": "26b605ae-f420-47d0-b6f9-b62def7e5fb6"
   },
   "outputs": [
    {
     "name": "stderr",
     "output_type": "stream",
     "text": [
      "<ipython-input-14-9633a861b1bc>:2: FutureWarning: In a future version of pandas all arguments of DataFrame.drop except for the argument 'labels' will be keyword-only.\n",
      "  X = df_credit.drop('Risk_bad', 1).values\n"
     ]
    }
   ],
   "source": [
    "#Creating the X and y variables\n",
    "X = df_credit.drop('Risk_bad', 1).values\n",
    "y = df_credit[\"Risk_bad\"].values\n",
    "\n",
    "# Spliting X and y into train and test version\n",
    "X_train, X_test, y_train, y_test = train_test_split(X, y, test_size = 0.25, random_state=42)"
   ]
  },
  {
   "cell_type": "code",
   "execution_count": 15,
   "metadata": {
    "colab": {
     "base_uri": "https://localhost:8080/"
    },
    "id": "PnmH6_qiJiuP",
    "outputId": "dbc50a21-99a8-4288-f6b1-91dd0ee8c9f2"
   },
   "outputs": [
    {
     "data": {
      "text/plain": [
       "Index(['Age', 'Job', 'Credit amount', 'Duration', 'Purpose_car',\n",
       "       'Purpose_domestic appliances', 'Purpose_education',\n",
       "       'Purpose_furniture/equipment', 'Purpose_radio/TV', 'Purpose_repairs',\n",
       "       'Purpose_vacation/others', 'Sex_male', 'Housing_own', 'Housing_rent',\n",
       "       'Savings_moderate', 'Savings_no_inf', 'Savings_quite rich',\n",
       "       'Savings_rich', 'Risk_bad', 'Check_moderate', 'Check_no_inf',\n",
       "       'Check_rich', 'Age_cat_Young', 'Age_cat_Adult', 'Age_cat_Senior'],\n",
       "      dtype='object')"
      ]
     },
     "execution_count": 15,
     "metadata": {},
     "output_type": "execute_result"
    }
   ],
   "source": [
    "df_credit.columns"
   ]
  },
  {
   "cell_type": "code",
   "execution_count": 16,
   "metadata": {
    "colab": {
     "base_uri": "https://localhost:8080/",
     "height": 1000
    },
    "id": "CpiJwF7IEzlH",
    "outputId": "5c35ea8f-d0c2-4716-de2b-3c70c0fad37b"
   },
   "outputs": [
    {
     "name": "stderr",
     "output_type": "stream",
     "text": [
      "/Library/Frameworks/Python.framework/Versions/3.8/lib/python3.8/site-packages/sklearn/model_selection/_validation.py:548: FitFailedWarning: Estimator fit failed. The score on this train-test partition for these parameters will be set to nan. Details: \n",
      "Traceback (most recent call last):\n",
      "  File \"/Library/Frameworks/Python.framework/Versions/3.8/lib/python3.8/site-packages/sklearn/model_selection/_validation.py\", line 531, in _fit_and_score\n",
      "    estimator.fit(X_train, y_train, **fit_params)\n",
      "  File \"/Library/Frameworks/Python.framework/Versions/3.8/lib/python3.8/site-packages/sklearn/linear_model/_logistic.py\", line 1405, in fit\n",
      "    fold_coefs_ = Parallel(n_jobs=self.n_jobs, verbose=self.verbose,\n",
      "  File \"/Library/Frameworks/Python.framework/Versions/3.8/lib/python3.8/site-packages/joblib/parallel.py\", line 1041, in __call__\n",
      "    if self.dispatch_one_batch(iterator):\n",
      "  File \"/Library/Frameworks/Python.framework/Versions/3.8/lib/python3.8/site-packages/joblib/parallel.py\", line 859, in dispatch_one_batch\n",
      "    self._dispatch(tasks)\n",
      "  File \"/Library/Frameworks/Python.framework/Versions/3.8/lib/python3.8/site-packages/joblib/parallel.py\", line 777, in _dispatch\n",
      "    job = self._backend.apply_async(batch, callback=cb)\n",
      "  File \"/Library/Frameworks/Python.framework/Versions/3.8/lib/python3.8/site-packages/joblib/_parallel_backends.py\", line 208, in apply_async\n",
      "    result = ImmediateResult(func)\n",
      "  File \"/Library/Frameworks/Python.framework/Versions/3.8/lib/python3.8/site-packages/joblib/_parallel_backends.py\", line 572, in __init__\n",
      "    self.results = batch()\n",
      "  File \"/Library/Frameworks/Python.framework/Versions/3.8/lib/python3.8/site-packages/joblib/parallel.py\", line 262, in __call__\n",
      "    return [func(*args, **kwargs)\n",
      "  File \"/Library/Frameworks/Python.framework/Versions/3.8/lib/python3.8/site-packages/joblib/parallel.py\", line 262, in <listcomp>\n",
      "    return [func(*args, **kwargs)\n",
      "  File \"/Library/Frameworks/Python.framework/Versions/3.8/lib/python3.8/site-packages/sklearn/linear_model/_logistic.py\", line 760, in _logistic_regression_path\n",
      "    n_iter_i = _check_optimize_result(\n",
      "  File \"/Library/Frameworks/Python.framework/Versions/3.8/lib/python3.8/site-packages/sklearn/utils/optimize.py\", line 243, in _check_optimize_result\n",
      "    ).format(solver, result.status, result.message.decode(\"latin1\"))\n",
      "AttributeError: 'str' object has no attribute 'decode'\n",
      "\n",
      "  warnings.warn(\"Estimator fit failed. The score on this train-test\"\n",
      "/Library/Frameworks/Python.framework/Versions/3.8/lib/python3.8/site-packages/sklearn/model_selection/_validation.py:548: FitFailedWarning: Estimator fit failed. The score on this train-test partition for these parameters will be set to nan. Details: \n",
      "Traceback (most recent call last):\n",
      "  File \"/Library/Frameworks/Python.framework/Versions/3.8/lib/python3.8/site-packages/sklearn/model_selection/_validation.py\", line 531, in _fit_and_score\n",
      "    estimator.fit(X_train, y_train, **fit_params)\n",
      "  File \"/Library/Frameworks/Python.framework/Versions/3.8/lib/python3.8/site-packages/sklearn/linear_model/_logistic.py\", line 1405, in fit\n",
      "    fold_coefs_ = Parallel(n_jobs=self.n_jobs, verbose=self.verbose,\n",
      "  File \"/Library/Frameworks/Python.framework/Versions/3.8/lib/python3.8/site-packages/joblib/parallel.py\", line 1041, in __call__\n",
      "    if self.dispatch_one_batch(iterator):\n",
      "  File \"/Library/Frameworks/Python.framework/Versions/3.8/lib/python3.8/site-packages/joblib/parallel.py\", line 859, in dispatch_one_batch\n",
      "    self._dispatch(tasks)\n",
      "  File \"/Library/Frameworks/Python.framework/Versions/3.8/lib/python3.8/site-packages/joblib/parallel.py\", line 777, in _dispatch\n",
      "    job = self._backend.apply_async(batch, callback=cb)\n",
      "  File \"/Library/Frameworks/Python.framework/Versions/3.8/lib/python3.8/site-packages/joblib/_parallel_backends.py\", line 208, in apply_async\n",
      "    result = ImmediateResult(func)\n",
      "  File \"/Library/Frameworks/Python.framework/Versions/3.8/lib/python3.8/site-packages/joblib/_parallel_backends.py\", line 572, in __init__\n",
      "    self.results = batch()\n",
      "  File \"/Library/Frameworks/Python.framework/Versions/3.8/lib/python3.8/site-packages/joblib/parallel.py\", line 262, in __call__\n",
      "    return [func(*args, **kwargs)\n",
      "  File \"/Library/Frameworks/Python.framework/Versions/3.8/lib/python3.8/site-packages/joblib/parallel.py\", line 262, in <listcomp>\n",
      "    return [func(*args, **kwargs)\n",
      "  File \"/Library/Frameworks/Python.framework/Versions/3.8/lib/python3.8/site-packages/sklearn/linear_model/_logistic.py\", line 760, in _logistic_regression_path\n",
      "    n_iter_i = _check_optimize_result(\n",
      "  File \"/Library/Frameworks/Python.framework/Versions/3.8/lib/python3.8/site-packages/sklearn/utils/optimize.py\", line 243, in _check_optimize_result\n",
      "    ).format(solver, result.status, result.message.decode(\"latin1\"))\n",
      "AttributeError: 'str' object has no attribute 'decode'\n",
      "\n",
      "  warnings.warn(\"Estimator fit failed. The score on this train-test\"\n",
      "/Library/Frameworks/Python.framework/Versions/3.8/lib/python3.8/site-packages/sklearn/model_selection/_validation.py:548: FitFailedWarning: Estimator fit failed. The score on this train-test partition for these parameters will be set to nan. Details: \n",
      "Traceback (most recent call last):\n",
      "  File \"/Library/Frameworks/Python.framework/Versions/3.8/lib/python3.8/site-packages/sklearn/model_selection/_validation.py\", line 531, in _fit_and_score\n",
      "    estimator.fit(X_train, y_train, **fit_params)\n",
      "  File \"/Library/Frameworks/Python.framework/Versions/3.8/lib/python3.8/site-packages/sklearn/linear_model/_logistic.py\", line 1405, in fit\n",
      "    fold_coefs_ = Parallel(n_jobs=self.n_jobs, verbose=self.verbose,\n",
      "  File \"/Library/Frameworks/Python.framework/Versions/3.8/lib/python3.8/site-packages/joblib/parallel.py\", line 1041, in __call__\n",
      "    if self.dispatch_one_batch(iterator):\n",
      "  File \"/Library/Frameworks/Python.framework/Versions/3.8/lib/python3.8/site-packages/joblib/parallel.py\", line 859, in dispatch_one_batch\n",
      "    self._dispatch(tasks)\n",
      "  File \"/Library/Frameworks/Python.framework/Versions/3.8/lib/python3.8/site-packages/joblib/parallel.py\", line 777, in _dispatch\n",
      "    job = self._backend.apply_async(batch, callback=cb)\n",
      "  File \"/Library/Frameworks/Python.framework/Versions/3.8/lib/python3.8/site-packages/joblib/_parallel_backends.py\", line 208, in apply_async\n",
      "    result = ImmediateResult(func)\n",
      "  File \"/Library/Frameworks/Python.framework/Versions/3.8/lib/python3.8/site-packages/joblib/_parallel_backends.py\", line 572, in __init__\n",
      "    self.results = batch()\n",
      "  File \"/Library/Frameworks/Python.framework/Versions/3.8/lib/python3.8/site-packages/joblib/parallel.py\", line 262, in __call__\n",
      "    return [func(*args, **kwargs)\n",
      "  File \"/Library/Frameworks/Python.framework/Versions/3.8/lib/python3.8/site-packages/joblib/parallel.py\", line 262, in <listcomp>\n",
      "    return [func(*args, **kwargs)\n",
      "  File \"/Library/Frameworks/Python.framework/Versions/3.8/lib/python3.8/site-packages/sklearn/linear_model/_logistic.py\", line 760, in _logistic_regression_path\n",
      "    n_iter_i = _check_optimize_result(\n",
      "  File \"/Library/Frameworks/Python.framework/Versions/3.8/lib/python3.8/site-packages/sklearn/utils/optimize.py\", line 243, in _check_optimize_result\n",
      "    ).format(solver, result.status, result.message.decode(\"latin1\"))\n",
      "AttributeError: 'str' object has no attribute 'decode'\n",
      "\n",
      "  warnings.warn(\"Estimator fit failed. The score on this train-test\"\n",
      "/Library/Frameworks/Python.framework/Versions/3.8/lib/python3.8/site-packages/sklearn/model_selection/_validation.py:548: FitFailedWarning: Estimator fit failed. The score on this train-test partition for these parameters will be set to nan. Details: \n",
      "Traceback (most recent call last):\n",
      "  File \"/Library/Frameworks/Python.framework/Versions/3.8/lib/python3.8/site-packages/sklearn/model_selection/_validation.py\", line 531, in _fit_and_score\n",
      "    estimator.fit(X_train, y_train, **fit_params)\n",
      "  File \"/Library/Frameworks/Python.framework/Versions/3.8/lib/python3.8/site-packages/sklearn/linear_model/_logistic.py\", line 1405, in fit\n",
      "    fold_coefs_ = Parallel(n_jobs=self.n_jobs, verbose=self.verbose,\n",
      "  File \"/Library/Frameworks/Python.framework/Versions/3.8/lib/python3.8/site-packages/joblib/parallel.py\", line 1041, in __call__\n",
      "    if self.dispatch_one_batch(iterator):\n",
      "  File \"/Library/Frameworks/Python.framework/Versions/3.8/lib/python3.8/site-packages/joblib/parallel.py\", line 859, in dispatch_one_batch\n",
      "    self._dispatch(tasks)\n",
      "  File \"/Library/Frameworks/Python.framework/Versions/3.8/lib/python3.8/site-packages/joblib/parallel.py\", line 777, in _dispatch\n",
      "    job = self._backend.apply_async(batch, callback=cb)\n",
      "  File \"/Library/Frameworks/Python.framework/Versions/3.8/lib/python3.8/site-packages/joblib/_parallel_backends.py\", line 208, in apply_async\n",
      "    result = ImmediateResult(func)\n",
      "  File \"/Library/Frameworks/Python.framework/Versions/3.8/lib/python3.8/site-packages/joblib/_parallel_backends.py\", line 572, in __init__\n",
      "    self.results = batch()\n",
      "  File \"/Library/Frameworks/Python.framework/Versions/3.8/lib/python3.8/site-packages/joblib/parallel.py\", line 262, in __call__\n",
      "    return [func(*args, **kwargs)\n",
      "  File \"/Library/Frameworks/Python.framework/Versions/3.8/lib/python3.8/site-packages/joblib/parallel.py\", line 262, in <listcomp>\n",
      "    return [func(*args, **kwargs)\n",
      "  File \"/Library/Frameworks/Python.framework/Versions/3.8/lib/python3.8/site-packages/sklearn/linear_model/_logistic.py\", line 760, in _logistic_regression_path\n",
      "    n_iter_i = _check_optimize_result(\n",
      "  File \"/Library/Frameworks/Python.framework/Versions/3.8/lib/python3.8/site-packages/sklearn/utils/optimize.py\", line 243, in _check_optimize_result\n",
      "    ).format(solver, result.status, result.message.decode(\"latin1\"))\n",
      "AttributeError: 'str' object has no attribute 'decode'\n",
      "\n",
      "  warnings.warn(\"Estimator fit failed. The score on this train-test\"\n",
      "/Library/Frameworks/Python.framework/Versions/3.8/lib/python3.8/site-packages/sklearn/model_selection/_validation.py:548: FitFailedWarning: Estimator fit failed. The score on this train-test partition for these parameters will be set to nan. Details: \n",
      "Traceback (most recent call last):\n",
      "  File \"/Library/Frameworks/Python.framework/Versions/3.8/lib/python3.8/site-packages/sklearn/model_selection/_validation.py\", line 531, in _fit_and_score\n",
      "    estimator.fit(X_train, y_train, **fit_params)\n",
      "  File \"/Library/Frameworks/Python.framework/Versions/3.8/lib/python3.8/site-packages/sklearn/linear_model/_logistic.py\", line 1405, in fit\n",
      "    fold_coefs_ = Parallel(n_jobs=self.n_jobs, verbose=self.verbose,\n",
      "  File \"/Library/Frameworks/Python.framework/Versions/3.8/lib/python3.8/site-packages/joblib/parallel.py\", line 1041, in __call__\n",
      "    if self.dispatch_one_batch(iterator):\n",
      "  File \"/Library/Frameworks/Python.framework/Versions/3.8/lib/python3.8/site-packages/joblib/parallel.py\", line 859, in dispatch_one_batch\n",
      "    self._dispatch(tasks)\n",
      "  File \"/Library/Frameworks/Python.framework/Versions/3.8/lib/python3.8/site-packages/joblib/parallel.py\", line 777, in _dispatch\n",
      "    job = self._backend.apply_async(batch, callback=cb)\n",
      "  File \"/Library/Frameworks/Python.framework/Versions/3.8/lib/python3.8/site-packages/joblib/_parallel_backends.py\", line 208, in apply_async\n",
      "    result = ImmediateResult(func)\n",
      "  File \"/Library/Frameworks/Python.framework/Versions/3.8/lib/python3.8/site-packages/joblib/_parallel_backends.py\", line 572, in __init__\n",
      "    self.results = batch()\n",
      "  File \"/Library/Frameworks/Python.framework/Versions/3.8/lib/python3.8/site-packages/joblib/parallel.py\", line 262, in __call__\n",
      "    return [func(*args, **kwargs)\n",
      "  File \"/Library/Frameworks/Python.framework/Versions/3.8/lib/python3.8/site-packages/joblib/parallel.py\", line 262, in <listcomp>\n",
      "    return [func(*args, **kwargs)\n",
      "  File \"/Library/Frameworks/Python.framework/Versions/3.8/lib/python3.8/site-packages/sklearn/linear_model/_logistic.py\", line 760, in _logistic_regression_path\n",
      "    n_iter_i = _check_optimize_result(\n",
      "  File \"/Library/Frameworks/Python.framework/Versions/3.8/lib/python3.8/site-packages/sklearn/utils/optimize.py\", line 243, in _check_optimize_result\n",
      "    ).format(solver, result.status, result.message.decode(\"latin1\"))\n",
      "AttributeError: 'str' object has no attribute 'decode'\n",
      "\n",
      "  warnings.warn(\"Estimator fit failed. The score on this train-test\"\n",
      "/Library/Frameworks/Python.framework/Versions/3.8/lib/python3.8/site-packages/sklearn/model_selection/_validation.py:548: FitFailedWarning: Estimator fit failed. The score on this train-test partition for these parameters will be set to nan. Details: \n",
      "Traceback (most recent call last):\n",
      "  File \"/Library/Frameworks/Python.framework/Versions/3.8/lib/python3.8/site-packages/sklearn/model_selection/_validation.py\", line 531, in _fit_and_score\n",
      "    estimator.fit(X_train, y_train, **fit_params)\n",
      "  File \"/Library/Frameworks/Python.framework/Versions/3.8/lib/python3.8/site-packages/sklearn/linear_model/_logistic.py\", line 1405, in fit\n",
      "    fold_coefs_ = Parallel(n_jobs=self.n_jobs, verbose=self.verbose,\n",
      "  File \"/Library/Frameworks/Python.framework/Versions/3.8/lib/python3.8/site-packages/joblib/parallel.py\", line 1041, in __call__\n",
      "    if self.dispatch_one_batch(iterator):\n",
      "  File \"/Library/Frameworks/Python.framework/Versions/3.8/lib/python3.8/site-packages/joblib/parallel.py\", line 859, in dispatch_one_batch\n",
      "    self._dispatch(tasks)\n",
      "  File \"/Library/Frameworks/Python.framework/Versions/3.8/lib/python3.8/site-packages/joblib/parallel.py\", line 777, in _dispatch\n",
      "    job = self._backend.apply_async(batch, callback=cb)\n",
      "  File \"/Library/Frameworks/Python.framework/Versions/3.8/lib/python3.8/site-packages/joblib/_parallel_backends.py\", line 208, in apply_async\n",
      "    result = ImmediateResult(func)\n",
      "  File \"/Library/Frameworks/Python.framework/Versions/3.8/lib/python3.8/site-packages/joblib/_parallel_backends.py\", line 572, in __init__\n",
      "    self.results = batch()\n",
      "  File \"/Library/Frameworks/Python.framework/Versions/3.8/lib/python3.8/site-packages/joblib/parallel.py\", line 262, in __call__\n",
      "    return [func(*args, **kwargs)\n",
      "  File \"/Library/Frameworks/Python.framework/Versions/3.8/lib/python3.8/site-packages/joblib/parallel.py\", line 262, in <listcomp>\n",
      "    return [func(*args, **kwargs)\n",
      "  File \"/Library/Frameworks/Python.framework/Versions/3.8/lib/python3.8/site-packages/sklearn/linear_model/_logistic.py\", line 760, in _logistic_regression_path\n",
      "    n_iter_i = _check_optimize_result(\n",
      "  File \"/Library/Frameworks/Python.framework/Versions/3.8/lib/python3.8/site-packages/sklearn/utils/optimize.py\", line 243, in _check_optimize_result\n",
      "    ).format(solver, result.status, result.message.decode(\"latin1\"))\n",
      "AttributeError: 'str' object has no attribute 'decode'\n",
      "\n",
      "  warnings.warn(\"Estimator fit failed. The score on this train-test\"\n",
      "/Library/Frameworks/Python.framework/Versions/3.8/lib/python3.8/site-packages/sklearn/model_selection/_validation.py:548: FitFailedWarning: Estimator fit failed. The score on this train-test partition for these parameters will be set to nan. Details: \n",
      "Traceback (most recent call last):\n",
      "  File \"/Library/Frameworks/Python.framework/Versions/3.8/lib/python3.8/site-packages/sklearn/model_selection/_validation.py\", line 531, in _fit_and_score\n",
      "    estimator.fit(X_train, y_train, **fit_params)\n",
      "  File \"/Library/Frameworks/Python.framework/Versions/3.8/lib/python3.8/site-packages/sklearn/linear_model/_logistic.py\", line 1405, in fit\n",
      "    fold_coefs_ = Parallel(n_jobs=self.n_jobs, verbose=self.verbose,\n",
      "  File \"/Library/Frameworks/Python.framework/Versions/3.8/lib/python3.8/site-packages/joblib/parallel.py\", line 1041, in __call__\n",
      "    if self.dispatch_one_batch(iterator):\n",
      "  File \"/Library/Frameworks/Python.framework/Versions/3.8/lib/python3.8/site-packages/joblib/parallel.py\", line 859, in dispatch_one_batch\n",
      "    self._dispatch(tasks)\n",
      "  File \"/Library/Frameworks/Python.framework/Versions/3.8/lib/python3.8/site-packages/joblib/parallel.py\", line 777, in _dispatch\n",
      "    job = self._backend.apply_async(batch, callback=cb)\n",
      "  File \"/Library/Frameworks/Python.framework/Versions/3.8/lib/python3.8/site-packages/joblib/_parallel_backends.py\", line 208, in apply_async\n",
      "    result = ImmediateResult(func)\n",
      "  File \"/Library/Frameworks/Python.framework/Versions/3.8/lib/python3.8/site-packages/joblib/_parallel_backends.py\", line 572, in __init__\n",
      "    self.results = batch()\n",
      "  File \"/Library/Frameworks/Python.framework/Versions/3.8/lib/python3.8/site-packages/joblib/parallel.py\", line 262, in __call__\n",
      "    return [func(*args, **kwargs)\n",
      "  File \"/Library/Frameworks/Python.framework/Versions/3.8/lib/python3.8/site-packages/joblib/parallel.py\", line 262, in <listcomp>\n",
      "    return [func(*args, **kwargs)\n",
      "  File \"/Library/Frameworks/Python.framework/Versions/3.8/lib/python3.8/site-packages/sklearn/linear_model/_logistic.py\", line 760, in _logistic_regression_path\n",
      "    n_iter_i = _check_optimize_result(\n",
      "  File \"/Library/Frameworks/Python.framework/Versions/3.8/lib/python3.8/site-packages/sklearn/utils/optimize.py\", line 243, in _check_optimize_result\n",
      "    ).format(solver, result.status, result.message.decode(\"latin1\"))\n",
      "AttributeError: 'str' object has no attribute 'decode'\n",
      "\n",
      "  warnings.warn(\"Estimator fit failed. The score on this train-test\"\n",
      "/Library/Frameworks/Python.framework/Versions/3.8/lib/python3.8/site-packages/sklearn/model_selection/_validation.py:548: FitFailedWarning: Estimator fit failed. The score on this train-test partition for these parameters will be set to nan. Details: \n",
      "Traceback (most recent call last):\n",
      "  File \"/Library/Frameworks/Python.framework/Versions/3.8/lib/python3.8/site-packages/sklearn/model_selection/_validation.py\", line 531, in _fit_and_score\n",
      "    estimator.fit(X_train, y_train, **fit_params)\n",
      "  File \"/Library/Frameworks/Python.framework/Versions/3.8/lib/python3.8/site-packages/sklearn/linear_model/_logistic.py\", line 1405, in fit\n",
      "    fold_coefs_ = Parallel(n_jobs=self.n_jobs, verbose=self.verbose,\n",
      "  File \"/Library/Frameworks/Python.framework/Versions/3.8/lib/python3.8/site-packages/joblib/parallel.py\", line 1041, in __call__\n",
      "    if self.dispatch_one_batch(iterator):\n",
      "  File \"/Library/Frameworks/Python.framework/Versions/3.8/lib/python3.8/site-packages/joblib/parallel.py\", line 859, in dispatch_one_batch\n",
      "    self._dispatch(tasks)\n",
      "  File \"/Library/Frameworks/Python.framework/Versions/3.8/lib/python3.8/site-packages/joblib/parallel.py\", line 777, in _dispatch\n",
      "    job = self._backend.apply_async(batch, callback=cb)\n",
      "  File \"/Library/Frameworks/Python.framework/Versions/3.8/lib/python3.8/site-packages/joblib/_parallel_backends.py\", line 208, in apply_async\n",
      "    result = ImmediateResult(func)\n",
      "  File \"/Library/Frameworks/Python.framework/Versions/3.8/lib/python3.8/site-packages/joblib/_parallel_backends.py\", line 572, in __init__\n",
      "    self.results = batch()\n",
      "  File \"/Library/Frameworks/Python.framework/Versions/3.8/lib/python3.8/site-packages/joblib/parallel.py\", line 262, in __call__\n",
      "    return [func(*args, **kwargs)\n",
      "  File \"/Library/Frameworks/Python.framework/Versions/3.8/lib/python3.8/site-packages/joblib/parallel.py\", line 262, in <listcomp>\n",
      "    return [func(*args, **kwargs)\n",
      "  File \"/Library/Frameworks/Python.framework/Versions/3.8/lib/python3.8/site-packages/sklearn/linear_model/_logistic.py\", line 760, in _logistic_regression_path\n",
      "    n_iter_i = _check_optimize_result(\n",
      "  File \"/Library/Frameworks/Python.framework/Versions/3.8/lib/python3.8/site-packages/sklearn/utils/optimize.py\", line 243, in _check_optimize_result\n",
      "    ).format(solver, result.status, result.message.decode(\"latin1\"))\n",
      "AttributeError: 'str' object has no attribute 'decode'\n",
      "\n",
      "  warnings.warn(\"Estimator fit failed. The score on this train-test\"\n",
      "/Library/Frameworks/Python.framework/Versions/3.8/lib/python3.8/site-packages/sklearn/model_selection/_validation.py:548: FitFailedWarning: Estimator fit failed. The score on this train-test partition for these parameters will be set to nan. Details: \n",
      "Traceback (most recent call last):\n",
      "  File \"/Library/Frameworks/Python.framework/Versions/3.8/lib/python3.8/site-packages/sklearn/model_selection/_validation.py\", line 531, in _fit_and_score\n",
      "    estimator.fit(X_train, y_train, **fit_params)\n",
      "  File \"/Library/Frameworks/Python.framework/Versions/3.8/lib/python3.8/site-packages/sklearn/linear_model/_logistic.py\", line 1405, in fit\n",
      "    fold_coefs_ = Parallel(n_jobs=self.n_jobs, verbose=self.verbose,\n",
      "  File \"/Library/Frameworks/Python.framework/Versions/3.8/lib/python3.8/site-packages/joblib/parallel.py\", line 1041, in __call__\n",
      "    if self.dispatch_one_batch(iterator):\n",
      "  File \"/Library/Frameworks/Python.framework/Versions/3.8/lib/python3.8/site-packages/joblib/parallel.py\", line 859, in dispatch_one_batch\n",
      "    self._dispatch(tasks)\n",
      "  File \"/Library/Frameworks/Python.framework/Versions/3.8/lib/python3.8/site-packages/joblib/parallel.py\", line 777, in _dispatch\n",
      "    job = self._backend.apply_async(batch, callback=cb)\n",
      "  File \"/Library/Frameworks/Python.framework/Versions/3.8/lib/python3.8/site-packages/joblib/_parallel_backends.py\", line 208, in apply_async\n",
      "    result = ImmediateResult(func)\n",
      "  File \"/Library/Frameworks/Python.framework/Versions/3.8/lib/python3.8/site-packages/joblib/_parallel_backends.py\", line 572, in __init__\n",
      "    self.results = batch()\n",
      "  File \"/Library/Frameworks/Python.framework/Versions/3.8/lib/python3.8/site-packages/joblib/parallel.py\", line 262, in __call__\n",
      "    return [func(*args, **kwargs)\n",
      "  File \"/Library/Frameworks/Python.framework/Versions/3.8/lib/python3.8/site-packages/joblib/parallel.py\", line 262, in <listcomp>\n",
      "    return [func(*args, **kwargs)\n",
      "  File \"/Library/Frameworks/Python.framework/Versions/3.8/lib/python3.8/site-packages/sklearn/linear_model/_logistic.py\", line 760, in _logistic_regression_path\n",
      "    n_iter_i = _check_optimize_result(\n",
      "  File \"/Library/Frameworks/Python.framework/Versions/3.8/lib/python3.8/site-packages/sklearn/utils/optimize.py\", line 243, in _check_optimize_result\n",
      "    ).format(solver, result.status, result.message.decode(\"latin1\"))\n",
      "AttributeError: 'str' object has no attribute 'decode'\n",
      "\n",
      "  warnings.warn(\"Estimator fit failed. The score on this train-test\"\n",
      "/Library/Frameworks/Python.framework/Versions/3.8/lib/python3.8/site-packages/sklearn/model_selection/_validation.py:548: FitFailedWarning: Estimator fit failed. The score on this train-test partition for these parameters will be set to nan. Details: \n",
      "Traceback (most recent call last):\n",
      "  File \"/Library/Frameworks/Python.framework/Versions/3.8/lib/python3.8/site-packages/sklearn/model_selection/_validation.py\", line 531, in _fit_and_score\n",
      "    estimator.fit(X_train, y_train, **fit_params)\n",
      "  File \"/Library/Frameworks/Python.framework/Versions/3.8/lib/python3.8/site-packages/sklearn/linear_model/_logistic.py\", line 1405, in fit\n",
      "    fold_coefs_ = Parallel(n_jobs=self.n_jobs, verbose=self.verbose,\n",
      "  File \"/Library/Frameworks/Python.framework/Versions/3.8/lib/python3.8/site-packages/joblib/parallel.py\", line 1041, in __call__\n",
      "    if self.dispatch_one_batch(iterator):\n",
      "  File \"/Library/Frameworks/Python.framework/Versions/3.8/lib/python3.8/site-packages/joblib/parallel.py\", line 859, in dispatch_one_batch\n",
      "    self._dispatch(tasks)\n",
      "  File \"/Library/Frameworks/Python.framework/Versions/3.8/lib/python3.8/site-packages/joblib/parallel.py\", line 777, in _dispatch\n",
      "    job = self._backend.apply_async(batch, callback=cb)\n",
      "  File \"/Library/Frameworks/Python.framework/Versions/3.8/lib/python3.8/site-packages/joblib/_parallel_backends.py\", line 208, in apply_async\n",
      "    result = ImmediateResult(func)\n",
      "  File \"/Library/Frameworks/Python.framework/Versions/3.8/lib/python3.8/site-packages/joblib/_parallel_backends.py\", line 572, in __init__\n",
      "    self.results = batch()\n",
      "  File \"/Library/Frameworks/Python.framework/Versions/3.8/lib/python3.8/site-packages/joblib/parallel.py\", line 262, in __call__\n",
      "    return [func(*args, **kwargs)\n",
      "  File \"/Library/Frameworks/Python.framework/Versions/3.8/lib/python3.8/site-packages/joblib/parallel.py\", line 262, in <listcomp>\n",
      "    return [func(*args, **kwargs)\n",
      "  File \"/Library/Frameworks/Python.framework/Versions/3.8/lib/python3.8/site-packages/sklearn/linear_model/_logistic.py\", line 760, in _logistic_regression_path\n",
      "    n_iter_i = _check_optimize_result(\n",
      "  File \"/Library/Frameworks/Python.framework/Versions/3.8/lib/python3.8/site-packages/sklearn/utils/optimize.py\", line 243, in _check_optimize_result\n",
      "    ).format(solver, result.status, result.message.decode(\"latin1\"))\n",
      "AttributeError: 'str' object has no attribute 'decode'\n",
      "\n",
      "  warnings.warn(\"Estimator fit failed. The score on this train-test\"\n"
     ]
    },
    {
     "name": "stdout",
     "output_type": "stream",
     "text": [
      "LR: nan (nan)\n",
      "LDA: 0.428815 (0.093162)\n",
      "KNN: 0.263130 (0.035560)\n",
      "CART: 0.526656 (0.114118)\n",
      "NB: 0.596300 (0.081365)\n",
      "RF: 0.363471 (0.067974)\n",
      "SVM: 0.182230 (0.088462)\n",
      "[00:30:29] WARNING: /Users/runner/work/xgboost/xgboost/src/learner.cc:1115: Starting in XGBoost 1.3.0, the default evaluation metric used with the objective 'binary:logistic' was changed from 'error' to 'logloss'. Explicitly set eval_metric if you'd like to restore the old behavior.\n"
     ]
    },
    {
     "name": "stderr",
     "output_type": "stream",
     "text": [
      "/Library/Frameworks/Python.framework/Versions/3.8/lib/python3.8/site-packages/xgboost/sklearn.py:1224: UserWarning: The use of label encoder in XGBClassifier is deprecated and will be removed in a future release. To remove this warning, do the following: 1) Pass option use_label_encoder=False when constructing XGBClassifier object; and 2) Encode your labels (y) as integers starting with 0, i.e. 0, 1, 2, ..., [num_class - 1].\n",
      "  warnings.warn(label_encoder_deprecation_msg, UserWarning)\n"
     ]
    },
    {
     "name": "stdout",
     "output_type": "stream",
     "text": [
      "[00:30:29] WARNING: /Users/runner/work/xgboost/xgboost/src/learner.cc:1115: Starting in XGBoost 1.3.0, the default evaluation metric used with the objective 'binary:logistic' was changed from 'error' to 'logloss'. Explicitly set eval_metric if you'd like to restore the old behavior.\n",
      "[00:30:29] WARNING: /Users/runner/work/xgboost/xgboost/src/learner.cc:1115: Starting in XGBoost 1.3.0, the default evaluation metric used with the objective 'binary:logistic' was changed from 'error' to 'logloss'. Explicitly set eval_metric if you'd like to restore the old behavior.\n",
      "[00:30:29] WARNING: /Users/runner/work/xgboost/xgboost/src/learner.cc:1115: Starting in XGBoost 1.3.0, the default evaluation metric used with the objective 'binary:logistic' was changed from 'error' to 'logloss'. Explicitly set eval_metric if you'd like to restore the old behavior.\n",
      "[00:30:29] WARNING: /Users/runner/work/xgboost/xgboost/src/learner.cc:1115: Starting in XGBoost 1.3.0, the default evaluation metric used with the objective 'binary:logistic' was changed from 'error' to 'logloss'. Explicitly set eval_metric if you'd like to restore the old behavior.\n",
      "[00:30:30] WARNING: /Users/runner/work/xgboost/xgboost/src/learner.cc:1115: Starting in XGBoost 1.3.0, the default evaluation metric used with the objective 'binary:logistic' was changed from 'error' to 'logloss'. Explicitly set eval_metric if you'd like to restore the old behavior.\n",
      "[00:30:30] WARNING: /Users/runner/work/xgboost/xgboost/src/learner.cc:1115: Starting in XGBoost 1.3.0, the default evaluation metric used with the objective 'binary:logistic' was changed from 'error' to 'logloss'. Explicitly set eval_metric if you'd like to restore the old behavior.\n",
      "[00:30:30] WARNING: /Users/runner/work/xgboost/xgboost/src/learner.cc:1115: Starting in XGBoost 1.3.0, the default evaluation metric used with the objective 'binary:logistic' was changed from 'error' to 'logloss'. Explicitly set eval_metric if you'd like to restore the old behavior.\n",
      "[00:30:30] WARNING: /Users/runner/work/xgboost/xgboost/src/learner.cc:1115: Starting in XGBoost 1.3.0, the default evaluation metric used with the objective 'binary:logistic' was changed from 'error' to 'logloss'. Explicitly set eval_metric if you'd like to restore the old behavior.\n",
      "[00:30:30] WARNING: /Users/runner/work/xgboost/xgboost/src/learner.cc:1115: Starting in XGBoost 1.3.0, the default evaluation metric used with the objective 'binary:logistic' was changed from 'error' to 'logloss'. Explicitly set eval_metric if you'd like to restore the old behavior.\n",
      "XGB: 0.471753 (0.132675)\n"
     ]
    },
    {
     "data": {
      "image/png": "[encoded data removed]",
      "text/plain": [
       "<Figure size 792x432 with 1 Axes>"
      ]
     },
     "metadata": {
      "needs_background": "light"
     },
     "output_type": "display_data"
    }
   ],
   "source": [
    "# to feed the random state\n",
    "seed = 7\n",
    "\n",
    "# prepare models\n",
    "models = []\n",
    "models.append(('LR', LogisticRegression()))\n",
    "models.append(('LDA', LinearDiscriminantAnalysis()))\n",
    "models.append(('KNN', KNeighborsClassifier()))\n",
    "models.append(('CART', DecisionTreeClassifier()))\n",
    "models.append(('NB', GaussianNB()))\n",
    "models.append(('RF', RandomForestClassifier()))\n",
    "models.append(('SVM', SVC(gamma='auto')))\n",
    "models.append(('XGB', XGBClassifier()))\n",
    "\n",
    "# evaluate each model in turn\n",
    "results = []\n",
    "names = []\n",
    "scoring = 'recall'\n",
    "\n",
    "for name, model in models:\n",
    "        kfold = KFold(n_splits=10)\n",
    "        cv_results = cross_val_score(model, X_train, y_train, cv=kfold, scoring=scoring)\n",
    "        results.append(cv_results)\n",
    "        names.append(name)\n",
    "        msg = \"%s: %f (%f)\" % (name, cv_results.mean(), cv_results.std())\n",
    "        print(msg)\n",
    "        \n",
    "# boxplot algorithm comparison\n",
    "fig = plt.figure(figsize=(11,6))\n",
    "fig.suptitle('Algorithm Comparison')\n",
    "ax = fig.add_subplot(111)\n",
    "plt.boxplot(results)\n",
    "ax.set_xticklabels(names)\n",
    "plt.show()"
   ]
  },
  {
   "cell_type": "markdown",
   "metadata": {
    "id": "5dEAgwd0EzlH"
   },
   "source": [
    "Very interesting. Almost all models shows a low value to recall. \n",
    "\n",
    "We can observe that our best results was with CART, NB and XGBoost. <br>\n",
    "I will implement some models and try to do a simple Tunning on them"
   ]
  },
  {
   "cell_type": "markdown",
   "metadata": {
    "id": "UkbFTw-lEzlH"
   },
   "source": [
    "# **6. Preprocessing:** <a id=\"Preprocessing\"></a> <br>\n",
    "- Importing ML librarys\n",
    "- Setting X and y variables to the prediction\n",
    "- Splitting Data\n"
   ]
  },
  {
   "cell_type": "markdown",
   "metadata": {
    "id": "Md2J0ej_EzlI"
   },
   "source": [
    "# **7.1 Model 1 :** <a id=\"Modelling 1\"></a> <br>\n",
    "- Using Random Forest to predictict the credit score \n",
    "- Some of Validation Parameters"
   ]
  },
  {
   "cell_type": "code",
   "execution_count": 68,
   "metadata": {
    "colab": {
     "base_uri": "https://localhost:8080/"
    },
    "id": "g-vi7z2nEzlI",
    "outputId": "31d31166-7d0d-45c6-f3aa-da088eda4692"
   },
   "outputs": [
    {
     "name": "stdout",
     "output_type": "stream",
     "text": [
      "Fitting 5 folds for each of 150 candidates, totalling 750 fits\n",
      "[CV] max_depth=3, max_features=4, n_estimators=3 .....................\n",
      "[CV]  max_depth=3, max_features=4, n_estimators=3, score=0.022, total=   0.0s\n",
      "[CV] max_depth=3, max_features=4, n_estimators=3 .....................\n",
      "[CV]  max_depth=3, max_features=4, n_estimators=3, score=0.111, total=   0.0s\n",
      "[CV] max_depth=3, max_features=4, n_estimators=3 .....................\n",
      "[CV]  max_depth=3, max_features=4, n_estimators=3, score=0.065, total=   0.0s\n",
      "[CV] max_depth=3, max_features=4, n_estimators=3 .....................\n",
      "[CV]  max_depth=3, max_features=4, n_estimators=3, score=0.196, total=   0.0s\n",
      "[CV] max_depth=3, max_features=4, n_estimators=3 .....................\n",
      "[CV]  max_depth=3, max_features=4, n_estimators=3, score=0.087, total=   0.0s\n",
      "[CV] max_depth=3, max_features=4, n_estimators=5 .....................\n",
      "[CV]  max_depth=3, max_features=4, n_estimators=5, score=0.044, total=   0.0s\n",
      "[CV] max_depth=3, max_features=4, n_estimators=5 .....................\n",
      "[CV]  max_depth=3, max_features=4, n_estimators=5, score=0.178, total=   0.0s\n",
      "[CV] max_depth=3, max_features=4, n_estimators=5 .....................\n",
      "[CV]  max_depth=3, max_features=4, n_estimators=5, score=0.152, total=   0.0s\n",
      "[CV] max_depth=3, max_features=4, n_estimators=5 .....................\n",
      "[CV]  max_depth=3, max_features=4, n_estimators=5, score=0.174, total=   0.0s\n",
      "[CV] max_depth=3, max_features=4, n_estimators=5 .....................\n",
      "[CV]  max_depth=3, max_features=4, n_estimators=5, score=0.087, total=   0.0s\n",
      "[CV] max_depth=3, max_features=4, n_estimators=10 ....................\n",
      "[CV]  max_depth=3, max_features=4, n_estimators=10, score=0.044, total=   0.0s\n",
      "[CV] max_depth=3, max_features=4, n_estimators=10 ....................\n",
      "[CV]  max_depth=3, max_features=4, n_estimators=10, score=0.111, total=   0.0s\n",
      "[CV] max_depth=3, max_features=4, n_estimators=10 ....................\n",
      "[CV]  max_depth=3, max_features=4, n_estimators=10, score=0.043, total=   0.0s\n",
      "[CV] max_depth=3, max_features=4, n_estimators=10 ....................\n",
      "[CV]  max_depth=3, max_features=4, n_estimators=10, score=0.109, total=   0.0s\n",
      "[CV] max_depth=3, max_features=4, n_estimators=10 ....................\n",
      "[CV]  max_depth=3, max_features=4, n_estimators=10, score=0.043, total=   0.0s\n",
      "[CV] max_depth=3, max_features=4, n_estimators=25 ....................\n"
     ]
    },
    {
     "name": "stderr",
     "output_type": "stream",
     "text": [
      "[Parallel(n_jobs=1)]: Using backend SequentialBackend with 1 concurrent workers.\n",
      "[Parallel(n_jobs=1)]: Done   1 out of   1 | elapsed:    0.0s remaining:    0.0s\n",
      "[Parallel(n_jobs=1)]: Done   2 out of   2 | elapsed:    0.0s remaining:    0.0s\n",
      "[Parallel(n_jobs=1)]: Done   3 out of   3 | elapsed:    0.0s remaining:    0.0s\n"
     ]
    },
    {
     "name": "stdout",
     "output_type": "stream",
     "text": [
      "[CV]  max_depth=3, max_features=4, n_estimators=25, score=0.022, total=   0.0s\n",
      "[CV] max_depth=3, max_features=4, n_estimators=25 ....................\n",
      "[CV]  max_depth=3, max_features=4, n_estimators=25, score=0.067, total=   0.0s\n",
      "[CV] max_depth=3, max_features=4, n_estimators=25 ....................\n",
      "[CV]  max_depth=3, max_features=4, n_estimators=25, score=0.043, total=   0.0s\n",
      "[CV] max_depth=3, max_features=4, n_estimators=25 ....................\n",
      "[CV]  max_depth=3, max_features=4, n_estimators=25, score=0.022, total=   0.0s\n",
      "[CV] max_depth=3, max_features=4, n_estimators=25 ....................\n",
      "[CV]  max_depth=3, max_features=4, n_estimators=25, score=0.022, total=   0.0s\n",
      "[CV] max_depth=3, max_features=4, n_estimators=50 ....................\n",
      "[CV]  max_depth=3, max_features=4, n_estimators=50, score=0.022, total=   0.1s\n",
      "[CV] max_depth=3, max_features=4, n_estimators=50 ....................\n",
      "[CV]  max_depth=3, max_features=4, n_estimators=50, score=0.089, total=   0.1s\n",
      "[CV] max_depth=3, max_features=4, n_estimators=50 ....................\n",
      "[CV]  max_depth=3, max_features=4, n_estimators=50, score=0.065, total=   0.1s\n",
      "[CV] max_depth=3, max_features=4, n_estimators=50 ....................\n",
      "[CV]  max_depth=3, max_features=4, n_estimators=50, score=0.022, total=   0.1s\n",
      "[CV] max_depth=3, max_features=4, n_estimators=50 ....................\n",
      "[CV]  max_depth=3, max_features=4, n_estimators=50, score=0.000, total=   0.1s\n",
      "[CV] max_depth=3, max_features=4, n_estimators=150 ...................\n",
      "[CV]  max_depth=3, max_features=4, n_estimators=150, score=0.022, total=   0.2s\n",
      "[CV] max_depth=3, max_features=4, n_estimators=150 ...................\n",
      "[CV]  max_depth=3, max_features=4, n_estimators=150, score=0.111, total=   0.2s\n",
      "[CV] max_depth=3, max_features=4, n_estimators=150 ...................\n",
      "[CV]  max_depth=3, max_features=4, n_estimators=150, score=0.065, total=   0.2s\n",
      "[CV] max_depth=3, max_features=4, n_estimators=150 ...................\n",
      "[CV]  max_depth=3, max_features=4, n_estimators=150, score=0.022, total=   0.2s\n",
      "[CV] max_depth=3, max_features=4, n_estimators=150 ...................\n",
      "[CV]  max_depth=3, max_features=4, n_estimators=150, score=0.022, total=   0.2s\n",
      "[CV] max_depth=3, max_features=7, n_estimators=3 .....................\n",
      "[CV]  max_depth=3, max_features=7, n_estimators=3, score=0.133, total=   0.0s\n",
      "[CV] max_depth=3, max_features=7, n_estimators=3 .....................\n",
      "[CV]  max_depth=3, max_features=7, n_estimators=3, score=0.267, total=   0.0s\n",
      "[CV] max_depth=3, max_features=7, n_estimators=3 .....................\n",
      "[CV]  max_depth=3, max_features=7, n_estimators=3, score=0.109, total=   0.0s\n",
      "[CV] max_depth=3, max_features=7, n_estimators=3 .....................\n",
      "[CV]  max_depth=3, max_features=7, n_estimators=3, score=0.152, total=   0.0s\n",
      "[CV] max_depth=3, max_features=7, n_estimators=3 .....................\n",
      "[CV]  max_depth=3, max_features=7, n_estimators=3, score=0.109, total=   0.0s\n",
      "[CV] max_depth=3, max_features=7, n_estimators=5 .....................\n",
      "[CV]  max_depth=3, max_features=7, n_estimators=5, score=0.133, total=   0.0s\n",
      "[CV] max_depth=3, max_features=7, n_estimators=5 .....................\n",
      "[CV]  max_depth=3, max_features=7, n_estimators=5, score=0.244, total=   0.0s\n",
      "[CV] max_depth=3, max_features=7, n_estimators=5 .....................\n",
      "[CV]  max_depth=3, max_features=7, n_estimators=5, score=0.087, total=   0.0s\n",
      "[CV] max_depth=3, max_features=7, n_estimators=5 .....................\n",
      "[CV]  max_depth=3, max_features=7, n_estimators=5, score=0.109, total=   0.0s\n",
      "[CV] max_depth=3, max_features=7, n_estimators=5 .....................\n",
      "[CV]  max_depth=3, max_features=7, n_estimators=5, score=0.152, total=   0.0s\n",
      "[CV] max_depth=3, max_features=7, n_estimators=10 ....................\n",
      "[CV]  max_depth=3, max_features=7, n_estimators=10, score=0.067, total=   0.0s\n",
      "[CV] max_depth=3, max_features=7, n_estimators=10 ....................\n",
      "[CV]  max_depth=3, max_features=7, n_estimators=10, score=0.244, total=   0.0s\n",
      "[CV] max_depth=3, max_features=7, n_estimators=10 ....................\n",
      "[CV]  max_depth=3, max_features=7, n_estimators=10, score=0.152, total=   0.0s\n",
      "[CV] max_depth=3, max_features=7, n_estimators=10 ....................\n",
      "[CV]  max_depth=3, max_features=7, n_estimators=10, score=0.152, total=   0.0s\n",
      "[CV] max_depth=3, max_features=7, n_estimators=10 ....................\n",
      "[CV]  max_depth=3, max_features=7, n_estimators=10, score=0.087, total=   0.0s\n",
      "[CV] max_depth=3, max_features=7, n_estimators=25 ....................\n",
      "[CV]  max_depth=3, max_features=7, n_estimators=25, score=0.067, total=   0.0s\n",
      "[CV] max_depth=3, max_features=7, n_estimators=25 ....................\n",
      "[CV]  max_depth=3, max_features=7, n_estimators=25, score=0.267, total=   0.0s\n",
      "[CV] max_depth=3, max_features=7, n_estimators=25 ....................\n",
      "[CV]  max_depth=3, max_features=7, n_estimators=25, score=0.109, total=   0.0s\n",
      "[CV] max_depth=3, max_features=7, n_estimators=25 ....................\n",
      "[CV]  max_depth=3, max_features=7, n_estimators=25, score=0.152, total=   0.0s\n",
      "[CV] max_depth=3, max_features=7, n_estimators=25 ....................\n",
      "[CV]  max_depth=3, max_features=7, n_estimators=25, score=0.043, total=   0.0s\n",
      "[CV] max_depth=3, max_features=7, n_estimators=50 ....................\n",
      "[CV]  max_depth=3, max_features=7, n_estimators=50, score=0.067, total=   0.1s\n",
      "[CV] max_depth=3, max_features=7, n_estimators=50 ....................\n",
      "[CV]  max_depth=3, max_features=7, n_estimators=50, score=0.200, total=   0.1s\n",
      "[CV] max_depth=3, max_features=7, n_estimators=50 ....................\n",
      "[CV]  max_depth=3, max_features=7, n_estimators=50, score=0.109, total=   0.1s\n",
      "[CV] max_depth=3, max_features=7, n_estimators=50 ....................\n",
      "[CV]  max_depth=3, max_features=7, n_estimators=50, score=0.130, total=   0.1s\n",
      "[CV] max_depth=3, max_features=7, n_estimators=50 ....................\n",
      "[CV]  max_depth=3, max_features=7, n_estimators=50, score=0.065, total=   0.1s\n",
      "[CV] max_depth=3, max_features=7, n_estimators=150 ...................\n",
      "[CV]  max_depth=3, max_features=7, n_estimators=150, score=0.067, total=   0.2s\n",
      "[CV] max_depth=3, max_features=7, n_estimators=150 ...................\n",
      "[CV]  max_depth=3, max_features=7, n_estimators=150, score=0.178, total=   0.2s\n",
      "[CV] max_depth=3, max_features=7, n_estimators=150 ...................\n",
      "[CV]  max_depth=3, max_features=7, n_estimators=150, score=0.130, total=   0.2s\n",
      "[CV] max_depth=3, max_features=7, n_estimators=150 ...................\n",
      "[CV]  max_depth=3, max_features=7, n_estimators=150, score=0.130, total=   0.2s\n",
      "[CV] max_depth=3, max_features=7, n_estimators=150 ...................\n",
      "[CV]  max_depth=3, max_features=7, n_estimators=150, score=0.109, total=   0.2s\n",
      "[CV] max_depth=3, max_features=15, n_estimators=3 ....................\n",
      "[CV]  max_depth=3, max_features=15, n_estimators=3, score=0.089, total=   0.0s\n",
      "[CV] max_depth=3, max_features=15, n_estimators=3 ....................\n",
      "[CV]  max_depth=3, max_features=15, n_estimators=3, score=0.422, total=   0.0s\n",
      "[CV] max_depth=3, max_features=15, n_estimators=3 ....................\n",
      "[CV]  max_depth=3, max_features=15, n_estimators=3, score=0.283, total=   0.0s\n",
      "[CV] max_depth=3, max_features=15, n_estimators=3 ....................\n",
      "[CV]  max_depth=3, max_features=15, n_estimators=3, score=0.239, total=   0.0s\n",
      "[CV] max_depth=3, max_features=15, n_estimators=3 ....................\n",
      "[CV]  max_depth=3, max_features=15, n_estimators=3, score=0.261, total=   0.0s\n",
      "[CV] max_depth=3, max_features=15, n_estimators=5 ....................\n",
      "[CV]  max_depth=3, max_features=15, n_estimators=5, score=0.089, total=   0.0s\n",
      "[CV] max_depth=3, max_features=15, n_estimators=5 ....................\n",
      "[CV]  max_depth=3, max_features=15, n_estimators=5, score=0.422, total=   0.0s\n",
      "[CV] max_depth=3, max_features=15, n_estimators=5 ....................\n",
      "[CV]  max_depth=3, max_features=15, n_estimators=5, score=0.196, total=   0.0s\n",
      "[CV] max_depth=3, max_features=15, n_estimators=5 ....................\n",
      "[CV]  max_depth=3, max_features=15, n_estimators=5, score=0.152, total=   0.0s\n",
      "[CV] max_depth=3, max_features=15, n_estimators=5 ....................\n",
      "[CV]  max_depth=3, max_features=15, n_estimators=5, score=0.239, total=   0.0s\n",
      "[CV] max_depth=3, max_features=15, n_estimators=10 ...................\n",
      "[CV]  max_depth=3, max_features=15, n_estimators=10, score=0.111, total=   0.0s\n",
      "[CV] max_depth=3, max_features=15, n_estimators=10 ...................\n",
      "[CV]  max_depth=3, max_features=15, n_estimators=10, score=0.289, total=   0.0s\n",
      "[CV] max_depth=3, max_features=15, n_estimators=10 ...................\n",
      "[CV]  max_depth=3, max_features=15, n_estimators=10, score=0.217, total=   0.0s\n",
      "[CV] max_depth=3, max_features=15, n_estimators=10 ...................\n",
      "[CV]  max_depth=3, max_features=15, n_estimators=10, score=0.109, total=   0.0s\n",
      "[CV] max_depth=3, max_features=15, n_estimators=10 ...................\n",
      "[CV]  max_depth=3, max_features=15, n_estimators=10, score=0.261, total=   0.0s\n",
      "[CV] max_depth=3, max_features=15, n_estimators=25 ...................\n",
      "[CV]  max_depth=3, max_features=15, n_estimators=25, score=0.178, total=   0.0s\n",
      "[CV] max_depth=3, max_features=15, n_estimators=25 ...................\n"
     ]
    },
    {
     "name": "stdout",
     "output_type": "stream",
     "text": [
      "[CV]  max_depth=3, max_features=15, n_estimators=25, score=0.311, total=   0.0s\n",
      "[CV] max_depth=3, max_features=15, n_estimators=25 ...................\n",
      "[CV]  max_depth=3, max_features=15, n_estimators=25, score=0.196, total=   0.0s\n",
      "[CV] max_depth=3, max_features=15, n_estimators=25 ...................\n",
      "[CV]  max_depth=3, max_features=15, n_estimators=25, score=0.217, total=   0.0s\n",
      "[CV] max_depth=3, max_features=15, n_estimators=25 ...................\n",
      "[CV]  max_depth=3, max_features=15, n_estimators=25, score=0.283, total=   0.0s\n",
      "[CV] max_depth=3, max_features=15, n_estimators=50 ...................\n",
      "[CV]  max_depth=3, max_features=15, n_estimators=50, score=0.200, total=   0.1s\n",
      "[CV] max_depth=3, max_features=15, n_estimators=50 ...................\n",
      "[CV]  max_depth=3, max_features=15, n_estimators=50, score=0.289, total=   0.1s\n",
      "[CV] max_depth=3, max_features=15, n_estimators=50 ...................\n",
      "[CV]  max_depth=3, max_features=15, n_estimators=50, score=0.217, total=   0.1s\n",
      "[CV] max_depth=3, max_features=15, n_estimators=50 ...................\n",
      "[CV]  max_depth=3, max_features=15, n_estimators=50, score=0.217, total=   0.1s\n",
      "[CV] max_depth=3, max_features=15, n_estimators=50 ...................\n",
      "[CV]  max_depth=3, max_features=15, n_estimators=50, score=0.283, total=   0.1s\n",
      "[CV] max_depth=3, max_features=15, n_estimators=150 ..................\n",
      "[CV]  max_depth=3, max_features=15, n_estimators=150, score=0.178, total=   0.2s\n",
      "[CV] max_depth=3, max_features=15, n_estimators=150 ..................\n",
      "[CV]  max_depth=3, max_features=15, n_estimators=150, score=0.289, total=   0.2s\n",
      "[CV] max_depth=3, max_features=15, n_estimators=150 ..................\n",
      "[CV]  max_depth=3, max_features=15, n_estimators=150, score=0.217, total=   0.2s\n",
      "[CV] max_depth=3, max_features=15, n_estimators=150 ..................\n",
      "[CV]  max_depth=3, max_features=15, n_estimators=150, score=0.196, total=   0.2s\n",
      "[CV] max_depth=3, max_features=15, n_estimators=150 ..................\n",
      "[CV]  max_depth=3, max_features=15, n_estimators=150, score=0.283, total=   0.2s\n",
      "[CV] max_depth=3, max_features=20, n_estimators=3 ....................\n",
      "[CV]  max_depth=3, max_features=20, n_estimators=3, score=0.222, total=   0.0s\n",
      "[CV] max_depth=3, max_features=20, n_estimators=3 ....................\n",
      "[CV]  max_depth=3, max_features=20, n_estimators=3, score=0.356, total=   0.0s\n",
      "[CV] max_depth=3, max_features=20, n_estimators=3 ....................\n",
      "[CV]  max_depth=3, max_features=20, n_estimators=3, score=0.348, total=   0.0s\n",
      "[CV] max_depth=3, max_features=20, n_estimators=3 ....................\n",
      "[CV]  max_depth=3, max_features=20, n_estimators=3, score=0.174, total=   0.0s\n",
      "[CV] max_depth=3, max_features=20, n_estimators=3 ....................\n",
      "[CV]  max_depth=3, max_features=20, n_estimators=3, score=0.304, total=   0.0s\n",
      "[CV] max_depth=3, max_features=20, n_estimators=5 ....................\n",
      "[CV]  max_depth=3, max_features=20, n_estimators=5, score=0.133, total=   0.0s\n",
      "[CV] max_depth=3, max_features=20, n_estimators=5 ....................\n",
      "[CV]  max_depth=3, max_features=20, n_estimators=5, score=0.444, total=   0.0s\n",
      "[CV] max_depth=3, max_features=20, n_estimators=5 ....................\n",
      "[CV]  max_depth=3, max_features=20, n_estimators=5, score=0.196, total=   0.0s\n",
      "[CV] max_depth=3, max_features=20, n_estimators=5 ....................\n",
      "[CV]  max_depth=3, max_features=20, n_estimators=5, score=0.196, total=   0.0s\n",
      "[CV] max_depth=3, max_features=20, n_estimators=5 ....................\n",
      "[CV]  max_depth=3, max_features=20, n_estimators=5, score=0.304, total=   0.0s\n",
      "[CV] max_depth=3, max_features=20, n_estimators=10 ...................\n",
      "[CV]  max_depth=3, max_features=20, n_estimators=10, score=0.178, total=   0.0s\n",
      "[CV] max_depth=3, max_features=20, n_estimators=10 ...................\n",
      "[CV]  max_depth=3, max_features=20, n_estimators=10, score=0.356, total=   0.0s\n",
      "[CV] max_depth=3, max_features=20, n_estimators=10 ...................\n",
      "[CV]  max_depth=3, max_features=20, n_estimators=10, score=0.196, total=   0.0s\n",
      "[CV] max_depth=3, max_features=20, n_estimators=10 ...................\n",
      "[CV]  max_depth=3, max_features=20, n_estimators=10, score=0.130, total=   0.0s\n",
      "[CV] max_depth=3, max_features=20, n_estimators=10 ...................\n",
      "[CV]  max_depth=3, max_features=20, n_estimators=10, score=0.217, total=   0.0s\n",
      "[CV] max_depth=3, max_features=20, n_estimators=25 ...................\n",
      "[CV]  max_depth=3, max_features=20, n_estimators=25, score=0.156, total=   0.0s\n",
      "[CV] max_depth=3, max_features=20, n_estimators=25 ...................\n",
      "[CV]  max_depth=3, max_features=20, n_estimators=25, score=0.289, total=   0.0s\n",
      "[CV] max_depth=3, max_features=20, n_estimators=25 ...................\n",
      "[CV]  max_depth=3, max_features=20, n_estimators=25, score=0.239, total=   0.0s\n",
      "[CV] max_depth=3, max_features=20, n_estimators=25 ...................\n",
      "[CV]  max_depth=3, max_features=20, n_estimators=25, score=0.174, total=   0.0s\n",
      "[CV] max_depth=3, max_features=20, n_estimators=25 ...................\n",
      "[CV]  max_depth=3, max_features=20, n_estimators=25, score=0.217, total=   0.0s\n",
      "[CV] max_depth=3, max_features=20, n_estimators=50 ...................\n",
      "[CV]  max_depth=3, max_features=20, n_estimators=50, score=0.178, total=   0.1s\n",
      "[CV] max_depth=3, max_features=20, n_estimators=50 ...................\n",
      "[CV]  max_depth=3, max_features=20, n_estimators=50, score=0.289, total=   0.1s\n",
      "[CV] max_depth=3, max_features=20, n_estimators=50 ...................\n",
      "[CV]  max_depth=3, max_features=20, n_estimators=50, score=0.196, total=   0.1s\n",
      "[CV] max_depth=3, max_features=20, n_estimators=50 ...................\n",
      "[CV]  max_depth=3, max_features=20, n_estimators=50, score=0.261, total=   0.1s\n",
      "[CV] max_depth=3, max_features=20, n_estimators=50 ...................\n",
      "[CV]  max_depth=3, max_features=20, n_estimators=50, score=0.261, total=   0.1s\n",
      "[CV] max_depth=3, max_features=20, n_estimators=150 ..................\n",
      "[CV]  max_depth=3, max_features=20, n_estimators=150, score=0.200, total=   0.2s\n",
      "[CV] max_depth=3, max_features=20, n_estimators=150 ..................\n",
      "[CV]  max_depth=3, max_features=20, n_estimators=150, score=0.289, total=   0.2s\n",
      "[CV] max_depth=3, max_features=20, n_estimators=150 ..................\n",
      "[CV]  max_depth=3, max_features=20, n_estimators=150, score=0.196, total=   0.2s\n",
      "[CV] max_depth=3, max_features=20, n_estimators=150 ..................\n",
      "[CV]  max_depth=3, max_features=20, n_estimators=150, score=0.239, total=   0.2s\n",
      "[CV] max_depth=3, max_features=20, n_estimators=150 ..................\n",
      "[CV]  max_depth=3, max_features=20, n_estimators=150, score=0.283, total=   0.2s\n",
      "[CV] max_depth=3, max_features=24, n_estimators=3 ....................\n",
      "[CV]  max_depth=3, max_features=24, n_estimators=3, score=0.244, total=   0.0s\n",
      "[CV] max_depth=3, max_features=24, n_estimators=3 ....................\n",
      "[CV]  max_depth=3, max_features=24, n_estimators=3, score=0.422, total=   0.0s\n",
      "[CV] max_depth=3, max_features=24, n_estimators=3 ....................\n",
      "[CV]  max_depth=3, max_features=24, n_estimators=3, score=0.348, total=   0.0s\n",
      "[CV] max_depth=3, max_features=24, n_estimators=3 ....................\n",
      "[CV]  max_depth=3, max_features=24, n_estimators=3, score=0.196, total=   0.0s\n",
      "[CV] max_depth=3, max_features=24, n_estimators=3 ....................\n",
      "[CV]  max_depth=3, max_features=24, n_estimators=3, score=0.304, total=   0.0s\n",
      "[CV] max_depth=3, max_features=24, n_estimators=5 ....................\n",
      "[CV]  max_depth=3, max_features=24, n_estimators=5, score=0.089, total=   0.0s\n",
      "[CV] max_depth=3, max_features=24, n_estimators=5 ....................\n",
      "[CV]  max_depth=3, max_features=24, n_estimators=5, score=0.467, total=   0.0s\n",
      "[CV] max_depth=3, max_features=24, n_estimators=5 ....................\n",
      "[CV]  max_depth=3, max_features=24, n_estimators=5, score=0.326, total=   0.0s\n",
      "[CV] max_depth=3, max_features=24, n_estimators=5 ....................\n",
      "[CV]  max_depth=3, max_features=24, n_estimators=5, score=0.217, total=   0.0s\n",
      "[CV] max_depth=3, max_features=24, n_estimators=5 ....................\n",
      "[CV]  max_depth=3, max_features=24, n_estimators=5, score=0.283, total=   0.0s\n",
      "[CV] max_depth=3, max_features=24, n_estimators=10 ...................\n",
      "[CV]  max_depth=3, max_features=24, n_estimators=10, score=0.222, total=   0.0s\n",
      "[CV] max_depth=3, max_features=24, n_estimators=10 ...................\n",
      "[CV]  max_depth=3, max_features=24, n_estimators=10, score=0.356, total=   0.0s\n",
      "[CV] max_depth=3, max_features=24, n_estimators=10 ...................\n",
      "[CV]  max_depth=3, max_features=24, n_estimators=10, score=0.196, total=   0.0s\n",
      "[CV] max_depth=3, max_features=24, n_estimators=10 ...................\n",
      "[CV]  max_depth=3, max_features=24, n_estimators=10, score=0.174, total=   0.0s\n",
      "[CV] max_depth=3, max_features=24, n_estimators=10 ...................\n",
      "[CV]  max_depth=3, max_features=24, n_estimators=10, score=0.239, total=   0.0s\n",
      "[CV] max_depth=3, max_features=24, n_estimators=25 ...................\n",
      "[CV]  max_depth=3, max_features=24, n_estimators=25, score=0.178, total=   0.0s\n",
      "[CV] max_depth=3, max_features=24, n_estimators=25 ...................\n",
      "[CV]  max_depth=3, max_features=24, n_estimators=25, score=0.333, total=   0.0s\n",
      "[CV] max_depth=3, max_features=24, n_estimators=25 ...................\n"
     ]
    },
    {
     "name": "stdout",
     "output_type": "stream",
     "text": [
      "[CV]  max_depth=3, max_features=24, n_estimators=25, score=0.217, total=   0.0s\n",
      "[CV] max_depth=3, max_features=24, n_estimators=25 ...................\n",
      "[CV]  max_depth=3, max_features=24, n_estimators=25, score=0.196, total=   0.0s\n",
      "[CV] max_depth=3, max_features=24, n_estimators=25 ...................\n",
      "[CV]  max_depth=3, max_features=24, n_estimators=25, score=0.261, total=   0.0s\n",
      "[CV] max_depth=3, max_features=24, n_estimators=50 ...................\n",
      "[CV]  max_depth=3, max_features=24, n_estimators=50, score=0.178, total=   0.1s\n",
      "[CV] max_depth=3, max_features=24, n_estimators=50 ...................\n",
      "[CV]  max_depth=3, max_features=24, n_estimators=50, score=0.356, total=   0.1s\n",
      "[CV] max_depth=3, max_features=24, n_estimators=50 ...................\n",
      "[CV]  max_depth=3, max_features=24, n_estimators=50, score=0.217, total=   0.1s\n",
      "[CV] max_depth=3, max_features=24, n_estimators=50 ...................\n",
      "[CV]  max_depth=3, max_features=24, n_estimators=50, score=0.283, total=   0.1s\n",
      "[CV] max_depth=3, max_features=24, n_estimators=50 ...................\n",
      "[CV]  max_depth=3, max_features=24, n_estimators=50, score=0.261, total=   0.1s\n",
      "[CV] max_depth=3, max_features=24, n_estimators=150 ..................\n",
      "[CV]  max_depth=3, max_features=24, n_estimators=150, score=0.178, total=   0.2s\n",
      "[CV] max_depth=3, max_features=24, n_estimators=150 ..................\n",
      "[CV]  max_depth=3, max_features=24, n_estimators=150, score=0.356, total=   0.2s\n",
      "[CV] max_depth=3, max_features=24, n_estimators=150 ..................\n",
      "[CV]  max_depth=3, max_features=24, n_estimators=150, score=0.217, total=   0.2s\n",
      "[CV] max_depth=3, max_features=24, n_estimators=150 ..................\n",
      "[CV]  max_depth=3, max_features=24, n_estimators=150, score=0.261, total=   0.2s\n",
      "[CV] max_depth=3, max_features=24, n_estimators=150 ..................\n",
      "[CV]  max_depth=3, max_features=24, n_estimators=150, score=0.283, total=   0.2s\n",
      "[CV] max_depth=5, max_features=4, n_estimators=3 .....................\n",
      "[CV]  max_depth=5, max_features=4, n_estimators=3, score=0.133, total=   0.0s\n",
      "[CV] max_depth=5, max_features=4, n_estimators=3 .....................\n",
      "[CV]  max_depth=5, max_features=4, n_estimators=3, score=0.222, total=   0.0s\n",
      "[CV] max_depth=5, max_features=4, n_estimators=3 .....................\n",
      "[CV]  max_depth=5, max_features=4, n_estimators=3, score=0.217, total=   0.0s\n",
      "[CV] max_depth=5, max_features=4, n_estimators=3 .....................\n",
      "[CV]  max_depth=5, max_features=4, n_estimators=3, score=0.239, total=   0.0s\n",
      "[CV] max_depth=5, max_features=4, n_estimators=3 .....................\n",
      "[CV]  max_depth=5, max_features=4, n_estimators=3, score=0.239, total=   0.0s\n",
      "[CV] max_depth=5, max_features=4, n_estimators=5 .....................\n",
      "[CV]  max_depth=5, max_features=4, n_estimators=5, score=0.111, total=   0.0s\n",
      "[CV] max_depth=5, max_features=4, n_estimators=5 .....................\n",
      "[CV]  max_depth=5, max_features=4, n_estimators=5, score=0.244, total=   0.0s\n",
      "[CV] max_depth=5, max_features=4, n_estimators=5 .....................\n",
      "[CV]  max_depth=5, max_features=4, n_estimators=5, score=0.196, total=   0.0s\n",
      "[CV] max_depth=5, max_features=4, n_estimators=5 .....................\n",
      "[CV]  max_depth=5, max_features=4, n_estimators=5, score=0.239, total=   0.0s\n",
      "[CV] max_depth=5, max_features=4, n_estimators=5 .....................\n",
      "[CV]  max_depth=5, max_features=4, n_estimators=5, score=0.174, total=   0.0s\n",
      "[CV] max_depth=5, max_features=4, n_estimators=10 ....................\n",
      "[CV]  max_depth=5, max_features=4, n_estimators=10, score=0.111, total=   0.0s\n",
      "[CV] max_depth=5, max_features=4, n_estimators=10 ....................\n",
      "[CV]  max_depth=5, max_features=4, n_estimators=10, score=0.244, total=   0.0s\n",
      "[CV] max_depth=5, max_features=4, n_estimators=10 ....................\n",
      "[CV]  max_depth=5, max_features=4, n_estimators=10, score=0.174, total=   0.0s\n",
      "[CV] max_depth=5, max_features=4, n_estimators=10 ....................\n",
      "[CV]  max_depth=5, max_features=4, n_estimators=10, score=0.196, total=   0.0s\n",
      "[CV] max_depth=5, max_features=4, n_estimators=10 ....................\n",
      "[CV]  max_depth=5, max_features=4, n_estimators=10, score=0.130, total=   0.0s\n",
      "[CV] max_depth=5, max_features=4, n_estimators=25 ....................\n",
      "[CV]  max_depth=5, max_features=4, n_estimators=25, score=0.133, total=   0.0s\n",
      "[CV] max_depth=5, max_features=4, n_estimators=25 ....................\n",
      "[CV]  max_depth=5, max_features=4, n_estimators=25, score=0.222, total=   0.0s\n",
      "[CV] max_depth=5, max_features=4, n_estimators=25 ....................\n",
      "[CV]  max_depth=5, max_features=4, n_estimators=25, score=0.109, total=   0.0s\n",
      "[CV] max_depth=5, max_features=4, n_estimators=25 ....................\n",
      "[CV]  max_depth=5, max_features=4, n_estimators=25, score=0.109, total=   0.0s\n",
      "[CV] max_depth=5, max_features=4, n_estimators=25 ....................\n",
      "[CV]  max_depth=5, max_features=4, n_estimators=25, score=0.130, total=   0.0s\n",
      "[CV] max_depth=5, max_features=4, n_estimators=50 ....................\n",
      "[CV]  max_depth=5, max_features=4, n_estimators=50, score=0.089, total=   0.1s\n",
      "[CV] max_depth=5, max_features=4, n_estimators=50 ....................\n",
      "[CV]  max_depth=5, max_features=4, n_estimators=50, score=0.222, total=   0.1s\n",
      "[CV] max_depth=5, max_features=4, n_estimators=50 ....................\n",
      "[CV]  max_depth=5, max_features=4, n_estimators=50, score=0.130, total=   0.1s\n",
      "[CV] max_depth=5, max_features=4, n_estimators=50 ....................\n",
      "[CV]  max_depth=5, max_features=4, n_estimators=50, score=0.174, total=   0.1s\n",
      "[CV] max_depth=5, max_features=4, n_estimators=50 ....................\n",
      "[CV]  max_depth=5, max_features=4, n_estimators=50, score=0.174, total=   0.1s\n",
      "[CV] max_depth=5, max_features=4, n_estimators=150 ...................\n",
      "[CV]  max_depth=5, max_features=4, n_estimators=150, score=0.133, total=   0.2s\n",
      "[CV] max_depth=5, max_features=4, n_estimators=150 ...................\n",
      "[CV]  max_depth=5, max_features=4, n_estimators=150, score=0.267, total=   0.2s\n",
      "[CV] max_depth=5, max_features=4, n_estimators=150 ...................\n",
      "[CV]  max_depth=5, max_features=4, n_estimators=150, score=0.130, total=   0.2s\n",
      "[CV] max_depth=5, max_features=4, n_estimators=150 ...................\n",
      "[CV]  max_depth=5, max_features=4, n_estimators=150, score=0.196, total=   0.2s\n",
      "[CV] max_depth=5, max_features=4, n_estimators=150 ...................\n",
      "[CV]  max_depth=5, max_features=4, n_estimators=150, score=0.217, total=   0.2s\n",
      "[CV] max_depth=5, max_features=7, n_estimators=3 .....................\n",
      "[CV]  max_depth=5, max_features=7, n_estimators=3, score=0.178, total=   0.0s\n",
      "[CV] max_depth=5, max_features=7, n_estimators=3 .....................\n",
      "[CV]  max_depth=5, max_features=7, n_estimators=3, score=0.356, total=   0.0s\n",
      "[CV] max_depth=5, max_features=7, n_estimators=3 .....................\n",
      "[CV]  max_depth=5, max_features=7, n_estimators=3, score=0.217, total=   0.0s\n",
      "[CV] max_depth=5, max_features=7, n_estimators=3 .....................\n",
      "[CV]  max_depth=5, max_features=7, n_estimators=3, score=0.239, total=   0.0s\n",
      "[CV] max_depth=5, max_features=7, n_estimators=3 .....................\n",
      "[CV]  max_depth=5, max_features=7, n_estimators=3, score=0.217, total=   0.0s\n",
      "[CV] max_depth=5, max_features=7, n_estimators=5 .....................\n",
      "[CV]  max_depth=5, max_features=7, n_estimators=5, score=0.156, total=   0.0s\n",
      "[CV] max_depth=5, max_features=7, n_estimators=5 .....................\n",
      "[CV]  max_depth=5, max_features=7, n_estimators=5, score=0.289, total=   0.0s\n",
      "[CV] max_depth=5, max_features=7, n_estimators=5 .....................\n",
      "[CV]  max_depth=5, max_features=7, n_estimators=5, score=0.217, total=   0.0s\n",
      "[CV] max_depth=5, max_features=7, n_estimators=5 .....................\n",
      "[CV]  max_depth=5, max_features=7, n_estimators=5, score=0.152, total=   0.0s\n",
      "[CV] max_depth=5, max_features=7, n_estimators=5 .....................\n",
      "[CV]  max_depth=5, max_features=7, n_estimators=5, score=0.196, total=   0.0s\n",
      "[CV] max_depth=5, max_features=7, n_estimators=10 ....................\n",
      "[CV]  max_depth=5, max_features=7, n_estimators=10, score=0.156, total=   0.0s\n",
      "[CV] max_depth=5, max_features=7, n_estimators=10 ....................\n",
      "[CV]  max_depth=5, max_features=7, n_estimators=10, score=0.333, total=   0.0s\n",
      "[CV] max_depth=5, max_features=7, n_estimators=10 ....................\n",
      "[CV]  max_depth=5, max_features=7, n_estimators=10, score=0.261, total=   0.0s\n",
      "[CV] max_depth=5, max_features=7, n_estimators=10 ....................\n",
      "[CV]  max_depth=5, max_features=7, n_estimators=10, score=0.152, total=   0.0s\n",
      "[CV] max_depth=5, max_features=7, n_estimators=10 ....................\n",
      "[CV]  max_depth=5, max_features=7, n_estimators=10, score=0.239, total=   0.0s\n",
      "[CV] max_depth=5, max_features=7, n_estimators=25 ....................\n",
      "[CV]  max_depth=5, max_features=7, n_estimators=25, score=0.200, total=   0.0s\n",
      "[CV] max_depth=5, max_features=7, n_estimators=25 ....................\n",
      "[CV]  max_depth=5, max_features=7, n_estimators=25, score=0.289, total=   0.0s\n",
      "[CV] max_depth=5, max_features=7, n_estimators=25 ....................\n"
     ]
    },
    {
     "name": "stdout",
     "output_type": "stream",
     "text": [
      "[CV]  max_depth=5, max_features=7, n_estimators=25, score=0.239, total=   0.0s\n",
      "[CV] max_depth=5, max_features=7, n_estimators=25 ....................\n",
      "[CV]  max_depth=5, max_features=7, n_estimators=25, score=0.261, total=   0.0s\n",
      "[CV] max_depth=5, max_features=7, n_estimators=25 ....................\n",
      "[CV]  max_depth=5, max_features=7, n_estimators=25, score=0.261, total=   0.0s\n",
      "[CV] max_depth=5, max_features=7, n_estimators=50 ....................\n",
      "[CV]  max_depth=5, max_features=7, n_estimators=50, score=0.178, total=   0.1s\n",
      "[CV] max_depth=5, max_features=7, n_estimators=50 ....................\n",
      "[CV]  max_depth=5, max_features=7, n_estimators=50, score=0.356, total=   0.1s\n",
      "[CV] max_depth=5, max_features=7, n_estimators=50 ....................\n",
      "[CV]  max_depth=5, max_features=7, n_estimators=50, score=0.217, total=   0.1s\n",
      "[CV] max_depth=5, max_features=7, n_estimators=50 ....................\n",
      "[CV]  max_depth=5, max_features=7, n_estimators=50, score=0.217, total=   0.1s\n",
      "[CV] max_depth=5, max_features=7, n_estimators=50 ....................\n",
      "[CV]  max_depth=5, max_features=7, n_estimators=50, score=0.261, total=   0.1s\n",
      "[CV] max_depth=5, max_features=7, n_estimators=150 ...................\n",
      "[CV]  max_depth=5, max_features=7, n_estimators=150, score=0.178, total=   0.2s\n",
      "[CV] max_depth=5, max_features=7, n_estimators=150 ...................\n",
      "[CV]  max_depth=5, max_features=7, n_estimators=150, score=0.333, total=   0.2s\n",
      "[CV] max_depth=5, max_features=7, n_estimators=150 ...................\n",
      "[CV]  max_depth=5, max_features=7, n_estimators=150, score=0.239, total=   0.2s\n",
      "[CV] max_depth=5, max_features=7, n_estimators=150 ...................\n",
      "[CV]  max_depth=5, max_features=7, n_estimators=150, score=0.304, total=   0.2s\n",
      "[CV] max_depth=5, max_features=7, n_estimators=150 ...................\n",
      "[CV]  max_depth=5, max_features=7, n_estimators=150, score=0.261, total=   0.2s\n",
      "[CV] max_depth=5, max_features=15, n_estimators=3 ....................\n",
      "[CV]  max_depth=5, max_features=15, n_estimators=3, score=0.333, total=   0.0s\n",
      "[CV] max_depth=5, max_features=15, n_estimators=3 ....................\n",
      "[CV]  max_depth=5, max_features=15, n_estimators=3, score=0.422, total=   0.0s\n",
      "[CV] max_depth=5, max_features=15, n_estimators=3 ....................\n",
      "[CV]  max_depth=5, max_features=15, n_estimators=3, score=0.391, total=   0.0s\n",
      "[CV] max_depth=5, max_features=15, n_estimators=3 ....................\n",
      "[CV]  max_depth=5, max_features=15, n_estimators=3, score=0.435, total=   0.0s\n",
      "[CV] max_depth=5, max_features=15, n_estimators=3 ....................\n",
      "[CV]  max_depth=5, max_features=15, n_estimators=3, score=0.283, total=   0.0s\n",
      "[CV] max_depth=5, max_features=15, n_estimators=5 ....................\n",
      "[CV]  max_depth=5, max_features=15, n_estimators=5, score=0.244, total=   0.0s\n",
      "[CV] max_depth=5, max_features=15, n_estimators=5 ....................\n",
      "[CV]  max_depth=5, max_features=15, n_estimators=5, score=0.400, total=   0.0s\n",
      "[CV] max_depth=5, max_features=15, n_estimators=5 ....................\n",
      "[CV]  max_depth=5, max_features=15, n_estimators=5, score=0.304, total=   0.0s\n",
      "[CV] max_depth=5, max_features=15, n_estimators=5 ....................\n",
      "[CV]  max_depth=5, max_features=15, n_estimators=5, score=0.370, total=   0.0s\n",
      "[CV] max_depth=5, max_features=15, n_estimators=5 ....................\n",
      "[CV]  max_depth=5, max_features=15, n_estimators=5, score=0.370, total=   0.0s\n",
      "[CV] max_depth=5, max_features=15, n_estimators=10 ...................\n",
      "[CV]  max_depth=5, max_features=15, n_estimators=10, score=0.222, total=   0.0s\n",
      "[CV] max_depth=5, max_features=15, n_estimators=10 ...................\n",
      "[CV]  max_depth=5, max_features=15, n_estimators=10, score=0.378, total=   0.0s\n",
      "[CV] max_depth=5, max_features=15, n_estimators=10 ...................\n",
      "[CV]  max_depth=5, max_features=15, n_estimators=10, score=0.370, total=   0.0s\n",
      "[CV] max_depth=5, max_features=15, n_estimators=10 ...................\n",
      "[CV]  max_depth=5, max_features=15, n_estimators=10, score=0.261, total=   0.0s\n",
      "[CV] max_depth=5, max_features=15, n_estimators=10 ...................\n",
      "[CV]  max_depth=5, max_features=15, n_estimators=10, score=0.413, total=   0.0s\n",
      "[CV] max_depth=5, max_features=15, n_estimators=25 ...................\n",
      "[CV]  max_depth=5, max_features=15, n_estimators=25, score=0.222, total=   0.0s\n",
      "[CV] max_depth=5, max_features=15, n_estimators=25 ...................\n",
      "[CV]  max_depth=5, max_features=15, n_estimators=25, score=0.378, total=   0.0s\n",
      "[CV] max_depth=5, max_features=15, n_estimators=25 ...................\n",
      "[CV]  max_depth=5, max_features=15, n_estimators=25, score=0.304, total=   0.0s\n",
      "[CV] max_depth=5, max_features=15, n_estimators=25 ...................\n",
      "[CV]  max_depth=5, max_features=15, n_estimators=25, score=0.304, total=   0.0s\n",
      "[CV] max_depth=5, max_features=15, n_estimators=25 ...................\n",
      "[CV]  max_depth=5, max_features=15, n_estimators=25, score=0.370, total=   0.0s\n",
      "[CV] max_depth=5, max_features=15, n_estimators=50 ...................\n",
      "[CV]  max_depth=5, max_features=15, n_estimators=50, score=0.267, total=   0.1s\n",
      "[CV] max_depth=5, max_features=15, n_estimators=50 ...................\n",
      "[CV]  max_depth=5, max_features=15, n_estimators=50, score=0.400, total=   0.1s\n",
      "[CV] max_depth=5, max_features=15, n_estimators=50 ...................\n",
      "[CV]  max_depth=5, max_features=15, n_estimators=50, score=0.304, total=   0.1s\n",
      "[CV] max_depth=5, max_features=15, n_estimators=50 ...................\n",
      "[CV]  max_depth=5, max_features=15, n_estimators=50, score=0.348, total=   0.1s\n",
      "[CV] max_depth=5, max_features=15, n_estimators=50 ...................\n",
      "[CV]  max_depth=5, max_features=15, n_estimators=50, score=0.413, total=   0.1s\n",
      "[CV] max_depth=5, max_features=15, n_estimators=150 ..................\n",
      "[CV]  max_depth=5, max_features=15, n_estimators=150, score=0.267, total=   0.2s\n",
      "[CV] max_depth=5, max_features=15, n_estimators=150 ..................\n",
      "[CV]  max_depth=5, max_features=15, n_estimators=150, score=0.400, total=   0.2s\n",
      "[CV] max_depth=5, max_features=15, n_estimators=150 ..................\n",
      "[CV]  max_depth=5, max_features=15, n_estimators=150, score=0.304, total=   0.2s\n",
      "[CV] max_depth=5, max_features=15, n_estimators=150 ..................\n",
      "[CV]  max_depth=5, max_features=15, n_estimators=150, score=0.370, total=   0.2s\n",
      "[CV] max_depth=5, max_features=15, n_estimators=150 ..................\n",
      "[CV]  max_depth=5, max_features=15, n_estimators=150, score=0.370, total=   0.2s\n",
      "[CV] max_depth=5, max_features=20, n_estimators=3 ....................\n",
      "[CV]  max_depth=5, max_features=20, n_estimators=3, score=0.378, total=   0.0s\n",
      "[CV] max_depth=5, max_features=20, n_estimators=3 ....................\n",
      "[CV]  max_depth=5, max_features=20, n_estimators=3, score=0.422, total=   0.0s\n",
      "[CV] max_depth=5, max_features=20, n_estimators=3 ....................\n",
      "[CV]  max_depth=5, max_features=20, n_estimators=3, score=0.304, total=   0.0s\n",
      "[CV] max_depth=5, max_features=20, n_estimators=3 ....................\n",
      "[CV]  max_depth=5, max_features=20, n_estimators=3, score=0.304, total=   0.0s\n",
      "[CV] max_depth=5, max_features=20, n_estimators=3 ....................\n",
      "[CV]  max_depth=5, max_features=20, n_estimators=3, score=0.348, total=   0.0s\n",
      "[CV] max_depth=5, max_features=20, n_estimators=5 ....................\n",
      "[CV]  max_depth=5, max_features=20, n_estimators=5, score=0.244, total=   0.0s\n",
      "[CV] max_depth=5, max_features=20, n_estimators=5 ....................\n",
      "[CV]  max_depth=5, max_features=20, n_estimators=5, score=0.511, total=   0.0s\n",
      "[CV] max_depth=5, max_features=20, n_estimators=5 ....................\n",
      "[CV]  max_depth=5, max_features=20, n_estimators=5, score=0.370, total=   0.0s\n",
      "[CV] max_depth=5, max_features=20, n_estimators=5 ....................\n",
      "[CV]  max_depth=5, max_features=20, n_estimators=5, score=0.326, total=   0.0s\n",
      "[CV] max_depth=5, max_features=20, n_estimators=5 ....................\n",
      "[CV]  max_depth=5, max_features=20, n_estimators=5, score=0.413, total=   0.0s\n",
      "[CV] max_depth=5, max_features=20, n_estimators=10 ...................\n",
      "[CV]  max_depth=5, max_features=20, n_estimators=10, score=0.267, total=   0.0s\n",
      "[CV] max_depth=5, max_features=20, n_estimators=10 ...................\n",
      "[CV]  max_depth=5, max_features=20, n_estimators=10, score=0.422, total=   0.0s\n",
      "[CV] max_depth=5, max_features=20, n_estimators=10 ...................\n",
      "[CV]  max_depth=5, max_features=20, n_estimators=10, score=0.326, total=   0.0s\n",
      "[CV] max_depth=5, max_features=20, n_estimators=10 ...................\n",
      "[CV]  max_depth=5, max_features=20, n_estimators=10, score=0.196, total=   0.0s\n",
      "[CV] max_depth=5, max_features=20, n_estimators=10 ...................\n",
      "[CV]  max_depth=5, max_features=20, n_estimators=10, score=0.391, total=   0.0s\n",
      "[CV] max_depth=5, max_features=20, n_estimators=25 ...................\n"
     ]
    },
    {
     "name": "stdout",
     "output_type": "stream",
     "text": [
      "[CV]  max_depth=5, max_features=20, n_estimators=25, score=0.244, total=   0.0s\n",
      "[CV] max_depth=5, max_features=20, n_estimators=25 ...................\n",
      "[CV]  max_depth=5, max_features=20, n_estimators=25, score=0.444, total=   0.0s\n",
      "[CV] max_depth=5, max_features=20, n_estimators=25 ...................\n",
      "[CV]  max_depth=5, max_features=20, n_estimators=25, score=0.283, total=   0.0s\n",
      "[CV] max_depth=5, max_features=20, n_estimators=25 ...................\n",
      "[CV]  max_depth=5, max_features=20, n_estimators=25, score=0.304, total=   0.0s\n",
      "[CV] max_depth=5, max_features=20, n_estimators=25 ...................\n",
      "[CV]  max_depth=5, max_features=20, n_estimators=25, score=0.413, total=   0.0s\n",
      "[CV] max_depth=5, max_features=20, n_estimators=50 ...................\n",
      "[CV]  max_depth=5, max_features=20, n_estimators=50, score=0.311, total=   0.1s\n",
      "[CV] max_depth=5, max_features=20, n_estimators=50 ...................\n",
      "[CV]  max_depth=5, max_features=20, n_estimators=50, score=0.422, total=   0.1s\n",
      "[CV] max_depth=5, max_features=20, n_estimators=50 ...................\n",
      "[CV]  max_depth=5, max_features=20, n_estimators=50, score=0.304, total=   0.1s\n",
      "[CV] max_depth=5, max_features=20, n_estimators=50 ...................\n",
      "[CV]  max_depth=5, max_features=20, n_estimators=50, score=0.348, total=   0.1s\n",
      "[CV] max_depth=5, max_features=20, n_estimators=50 ...................\n",
      "[CV]  max_depth=5, max_features=20, n_estimators=50, score=0.435, total=   0.1s\n",
      "[CV] max_depth=5, max_features=20, n_estimators=150 ..................\n",
      "[CV]  max_depth=5, max_features=20, n_estimators=150, score=0.356, total=   0.2s\n",
      "[CV] max_depth=5, max_features=20, n_estimators=150 ..................\n",
      "[CV]  max_depth=5, max_features=20, n_estimators=150, score=0.422, total=   0.2s\n",
      "[CV] max_depth=5, max_features=20, n_estimators=150 ..................\n",
      "[CV]  max_depth=5, max_features=20, n_estimators=150, score=0.326, total=   0.2s\n",
      "[CV] max_depth=5, max_features=20, n_estimators=150 ..................\n",
      "[CV]  max_depth=5, max_features=20, n_estimators=150, score=0.370, total=   0.2s\n",
      "[CV] max_depth=5, max_features=20, n_estimators=150 ..................\n",
      "[CV]  max_depth=5, max_features=20, n_estimators=150, score=0.391, total=   0.2s\n",
      "[CV] max_depth=5, max_features=24, n_estimators=3 ....................\n",
      "[CV]  max_depth=5, max_features=24, n_estimators=3, score=0.333, total=   0.0s\n",
      "[CV] max_depth=5, max_features=24, n_estimators=3 ....................\n",
      "[CV]  max_depth=5, max_features=24, n_estimators=3, score=0.467, total=   0.0s\n",
      "[CV] max_depth=5, max_features=24, n_estimators=3 ....................\n",
      "[CV]  max_depth=5, max_features=24, n_estimators=3, score=0.413, total=   0.0s\n",
      "[CV] max_depth=5, max_features=24, n_estimators=3 ....................\n",
      "[CV]  max_depth=5, max_features=24, n_estimators=3, score=0.478, total=   0.0s\n",
      "[CV] max_depth=5, max_features=24, n_estimators=3 ....................\n",
      "[CV]  max_depth=5, max_features=24, n_estimators=3, score=0.413, total=   0.0s\n",
      "[CV] max_depth=5, max_features=24, n_estimators=5 ....................\n",
      "[CV]  max_depth=5, max_features=24, n_estimators=5, score=0.289, total=   0.0s\n",
      "[CV] max_depth=5, max_features=24, n_estimators=5 ....................\n",
      "[CV]  max_depth=5, max_features=24, n_estimators=5, score=0.422, total=   0.0s\n",
      "[CV] max_depth=5, max_features=24, n_estimators=5 ....................\n",
      "[CV]  max_depth=5, max_features=24, n_estimators=5, score=0.391, total=   0.0s\n",
      "[CV] max_depth=5, max_features=24, n_estimators=5 ....................\n",
      "[CV]  max_depth=5, max_features=24, n_estimators=5, score=0.413, total=   0.0s\n",
      "[CV] max_depth=5, max_features=24, n_estimators=5 ....................\n",
      "[CV]  max_depth=5, max_features=24, n_estimators=5, score=0.304, total=   0.0s\n",
      "[CV] max_depth=5, max_features=24, n_estimators=10 ...................\n",
      "[CV]  max_depth=5, max_features=24, n_estimators=10, score=0.311, total=   0.0s\n",
      "[CV] max_depth=5, max_features=24, n_estimators=10 ...................\n",
      "[CV]  max_depth=5, max_features=24, n_estimators=10, score=0.400, total=   0.0s\n",
      "[CV] max_depth=5, max_features=24, n_estimators=10 ...................\n",
      "[CV]  max_depth=5, max_features=24, n_estimators=10, score=0.326, total=   0.0s\n",
      "[CV] max_depth=5, max_features=24, n_estimators=10 ...................\n",
      "[CV]  max_depth=5, max_features=24, n_estimators=10, score=0.370, total=   0.0s\n",
      "[CV] max_depth=5, max_features=24, n_estimators=10 ...................\n",
      "[CV]  max_depth=5, max_features=24, n_estimators=10, score=0.478, total=   0.0s\n",
      "[CV] max_depth=5, max_features=24, n_estimators=25 ...................\n",
      "[CV]  max_depth=5, max_features=24, n_estimators=25, score=0.289, total=   0.0s\n",
      "[CV] max_depth=5, max_features=24, n_estimators=25 ...................\n",
      "[CV]  max_depth=5, max_features=24, n_estimators=25, score=0.400, total=   0.0s\n",
      "[CV] max_depth=5, max_features=24, n_estimators=25 ...................\n",
      "[CV]  max_depth=5, max_features=24, n_estimators=25, score=0.283, total=   0.0s\n",
      "[CV] max_depth=5, max_features=24, n_estimators=25 ...................\n",
      "[CV]  max_depth=5, max_features=24, n_estimators=25, score=0.304, total=   0.0s\n",
      "[CV] max_depth=5, max_features=24, n_estimators=25 ...................\n",
      "[CV]  max_depth=5, max_features=24, n_estimators=25, score=0.435, total=   0.0s\n",
      "[CV] max_depth=5, max_features=24, n_estimators=50 ...................\n",
      "[CV]  max_depth=5, max_features=24, n_estimators=50, score=0.311, total=   0.1s\n",
      "[CV] max_depth=5, max_features=24, n_estimators=50 ...................\n",
      "[CV]  max_depth=5, max_features=24, n_estimators=50, score=0.422, total=   0.1s\n",
      "[CV] max_depth=5, max_features=24, n_estimators=50 ...................\n",
      "[CV]  max_depth=5, max_features=24, n_estimators=50, score=0.348, total=   0.1s\n",
      "[CV] max_depth=5, max_features=24, n_estimators=50 ...................\n",
      "[CV]  max_depth=5, max_features=24, n_estimators=50, score=0.370, total=   0.1s\n",
      "[CV] max_depth=5, max_features=24, n_estimators=50 ...................\n",
      "[CV]  max_depth=5, max_features=24, n_estimators=50, score=0.435, total=   0.1s\n",
      "[CV] max_depth=5, max_features=24, n_estimators=150 ..................\n",
      "[CV]  max_depth=5, max_features=24, n_estimators=150, score=0.333, total=   0.2s\n",
      "[CV] max_depth=5, max_features=24, n_estimators=150 ..................\n",
      "[CV]  max_depth=5, max_features=24, n_estimators=150, score=0.444, total=   0.2s\n",
      "[CV] max_depth=5, max_features=24, n_estimators=150 ..................\n",
      "[CV]  max_depth=5, max_features=24, n_estimators=150, score=0.348, total=   0.2s\n",
      "[CV] max_depth=5, max_features=24, n_estimators=150 ..................\n",
      "[CV]  max_depth=5, max_features=24, n_estimators=150, score=0.370, total=   0.2s\n",
      "[CV] max_depth=5, max_features=24, n_estimators=150 ..................\n",
      "[CV]  max_depth=5, max_features=24, n_estimators=150, score=0.391, total=   0.2s\n",
      "[CV] max_depth=7, max_features=4, n_estimators=3 .....................\n",
      "[CV]  max_depth=7, max_features=4, n_estimators=3, score=0.200, total=   0.0s\n",
      "[CV] max_depth=7, max_features=4, n_estimators=3 .....................\n",
      "[CV]  max_depth=7, max_features=4, n_estimators=3, score=0.200, total=   0.0s\n",
      "[CV] max_depth=7, max_features=4, n_estimators=3 .....................\n",
      "[CV]  max_depth=7, max_features=4, n_estimators=3, score=0.391, total=   0.0s\n",
      "[CV] max_depth=7, max_features=4, n_estimators=3 .....................\n",
      "[CV]  max_depth=7, max_features=4, n_estimators=3, score=0.391, total=   0.0s\n",
      "[CV] max_depth=7, max_features=4, n_estimators=3 .....................\n",
      "[CV]  max_depth=7, max_features=4, n_estimators=3, score=0.413, total=   0.0s\n",
      "[CV] max_depth=7, max_features=4, n_estimators=5 .....................\n",
      "[CV]  max_depth=7, max_features=4, n_estimators=5, score=0.200, total=   0.0s\n",
      "[CV] max_depth=7, max_features=4, n_estimators=5 .....................\n",
      "[CV]  max_depth=7, max_features=4, n_estimators=5, score=0.333, total=   0.0s\n",
      "[CV] max_depth=7, max_features=4, n_estimators=5 .....................\n",
      "[CV]  max_depth=7, max_features=4, n_estimators=5, score=0.304, total=   0.0s\n",
      "[CV] max_depth=7, max_features=4, n_estimators=5 .....................\n",
      "[CV]  max_depth=7, max_features=4, n_estimators=5, score=0.239, total=   0.0s\n",
      "[CV] max_depth=7, max_features=4, n_estimators=5 .....................\n",
      "[CV]  max_depth=7, max_features=4, n_estimators=5, score=0.370, total=   0.0s\n",
      "[CV] max_depth=7, max_features=4, n_estimators=10 ....................\n",
      "[CV]  max_depth=7, max_features=4, n_estimators=10, score=0.267, total=   0.0s\n",
      "[CV] max_depth=7, max_features=4, n_estimators=10 ....................\n",
      "[CV]  max_depth=7, max_features=4, n_estimators=10, score=0.311, total=   0.0s\n",
      "[CV] max_depth=7, max_features=4, n_estimators=10 ....................\n",
      "[CV]  max_depth=7, max_features=4, n_estimators=10, score=0.196, total=   0.0s\n",
      "[CV] max_depth=7, max_features=4, n_estimators=10 ....................\n",
      "[CV]  max_depth=7, max_features=4, n_estimators=10, score=0.174, total=   0.0s\n",
      "[CV] max_depth=7, max_features=4, n_estimators=10 ....................\n",
      "[CV]  max_depth=7, max_features=4, n_estimators=10, score=0.261, total=   0.0s\n",
      "[CV] max_depth=7, max_features=4, n_estimators=25 ....................\n",
      "[CV]  max_depth=7, max_features=4, n_estimators=25, score=0.200, total=   0.0s\n",
      "[CV] max_depth=7, max_features=4, n_estimators=25 ....................\n"
     ]
    },
    {
     "name": "stdout",
     "output_type": "stream",
     "text": [
      "[CV]  max_depth=7, max_features=4, n_estimators=25, score=0.311, total=   0.0s\n",
      "[CV] max_depth=7, max_features=4, n_estimators=25 ....................\n",
      "[CV]  max_depth=7, max_features=4, n_estimators=25, score=0.261, total=   0.0s\n",
      "[CV] max_depth=7, max_features=4, n_estimators=25 ....................\n",
      "[CV]  max_depth=7, max_features=4, n_estimators=25, score=0.239, total=   0.0s\n",
      "[CV] max_depth=7, max_features=4, n_estimators=25 ....................\n",
      "[CV]  max_depth=7, max_features=4, n_estimators=25, score=0.283, total=   0.0s\n",
      "[CV] max_depth=7, max_features=4, n_estimators=50 ....................\n",
      "[CV]  max_depth=7, max_features=4, n_estimators=50, score=0.200, total=   0.1s\n",
      "[CV] max_depth=7, max_features=4, n_estimators=50 ....................\n",
      "[CV]  max_depth=7, max_features=4, n_estimators=50, score=0.333, total=   0.1s\n",
      "[CV] max_depth=7, max_features=4, n_estimators=50 ....................\n",
      "[CV]  max_depth=7, max_features=4, n_estimators=50, score=0.217, total=   0.1s\n",
      "[CV] max_depth=7, max_features=4, n_estimators=50 ....................\n",
      "[CV]  max_depth=7, max_features=4, n_estimators=50, score=0.304, total=   0.1s\n",
      "[CV] max_depth=7, max_features=4, n_estimators=50 ....................\n",
      "[CV]  max_depth=7, max_features=4, n_estimators=50, score=0.283, total=   0.1s\n",
      "[CV] max_depth=7, max_features=4, n_estimators=150 ...................\n",
      "[CV]  max_depth=7, max_features=4, n_estimators=150, score=0.156, total=   0.2s\n",
      "[CV] max_depth=7, max_features=4, n_estimators=150 ...................\n",
      "[CV]  max_depth=7, max_features=4, n_estimators=150, score=0.356, total=   0.2s\n",
      "[CV] max_depth=7, max_features=4, n_estimators=150 ...................\n",
      "[CV]  max_depth=7, max_features=4, n_estimators=150, score=0.261, total=   0.2s\n",
      "[CV] max_depth=7, max_features=4, n_estimators=150 ...................\n",
      "[CV]  max_depth=7, max_features=4, n_estimators=150, score=0.326, total=   0.2s\n",
      "[CV] max_depth=7, max_features=4, n_estimators=150 ...................\n",
      "[CV]  max_depth=7, max_features=4, n_estimators=150, score=0.326, total=   0.2s\n",
      "[CV] max_depth=7, max_features=7, n_estimators=3 .....................\n",
      "[CV]  max_depth=7, max_features=7, n_estimators=3, score=0.422, total=   0.0s\n",
      "[CV] max_depth=7, max_features=7, n_estimators=3 .....................\n",
      "[CV]  max_depth=7, max_features=7, n_estimators=3, score=0.444, total=   0.0s\n",
      "[CV] max_depth=7, max_features=7, n_estimators=3 .....................\n",
      "[CV]  max_depth=7, max_features=7, n_estimators=3, score=0.391, total=   0.0s\n",
      "[CV] max_depth=7, max_features=7, n_estimators=3 .....................\n",
      "[CV]  max_depth=7, max_features=7, n_estimators=3, score=0.370, total=   0.0s\n",
      "[CV] max_depth=7, max_features=7, n_estimators=3 .....................\n",
      "[CV]  max_depth=7, max_features=7, n_estimators=3, score=0.457, total=   0.0s\n",
      "[CV] max_depth=7, max_features=7, n_estimators=5 .....................\n",
      "[CV]  max_depth=7, max_features=7, n_estimators=5, score=0.289, total=   0.0s\n",
      "[CV] max_depth=7, max_features=7, n_estimators=5 .....................\n",
      "[CV]  max_depth=7, max_features=7, n_estimators=5, score=0.400, total=   0.0s\n",
      "[CV] max_depth=7, max_features=7, n_estimators=5 .....................\n",
      "[CV]  max_depth=7, max_features=7, n_estimators=5, score=0.348, total=   0.0s\n",
      "[CV] max_depth=7, max_features=7, n_estimators=5 .....................\n",
      "[CV]  max_depth=7, max_features=7, n_estimators=5, score=0.326, total=   0.0s\n",
      "[CV] max_depth=7, max_features=7, n_estimators=5 .....................\n",
      "[CV]  max_depth=7, max_features=7, n_estimators=5, score=0.522, total=   0.0s\n",
      "[CV] max_depth=7, max_features=7, n_estimators=10 ....................\n",
      "[CV]  max_depth=7, max_features=7, n_estimators=10, score=0.289, total=   0.0s\n",
      "[CV] max_depth=7, max_features=7, n_estimators=10 ....................\n",
      "[CV]  max_depth=7, max_features=7, n_estimators=10, score=0.311, total=   0.0s\n",
      "[CV] max_depth=7, max_features=7, n_estimators=10 ....................\n",
      "[CV]  max_depth=7, max_features=7, n_estimators=10, score=0.348, total=   0.0s\n",
      "[CV] max_depth=7, max_features=7, n_estimators=10 ....................\n",
      "[CV]  max_depth=7, max_features=7, n_estimators=10, score=0.304, total=   0.0s\n",
      "[CV] max_depth=7, max_features=7, n_estimators=10 ....................\n",
      "[CV]  max_depth=7, max_features=7, n_estimators=10, score=0.348, total=   0.0s\n",
      "[CV] max_depth=7, max_features=7, n_estimators=25 ....................\n",
      "[CV]  max_depth=7, max_features=7, n_estimators=25, score=0.267, total=   0.0s\n",
      "[CV] max_depth=7, max_features=7, n_estimators=25 ....................\n",
      "[CV]  max_depth=7, max_features=7, n_estimators=25, score=0.333, total=   0.0s\n",
      "[CV] max_depth=7, max_features=7, n_estimators=25 ....................\n",
      "[CV]  max_depth=7, max_features=7, n_estimators=25, score=0.326, total=   0.0s\n",
      "[CV] max_depth=7, max_features=7, n_estimators=25 ....................\n",
      "[CV]  max_depth=7, max_features=7, n_estimators=25, score=0.326, total=   0.0s\n",
      "[CV] max_depth=7, max_features=7, n_estimators=25 ....................\n",
      "[CV]  max_depth=7, max_features=7, n_estimators=25, score=0.326, total=   0.0s\n",
      "[CV] max_depth=7, max_features=7, n_estimators=50 ....................\n",
      "[CV]  max_depth=7, max_features=7, n_estimators=50, score=0.267, total=   0.1s\n",
      "[CV] max_depth=7, max_features=7, n_estimators=50 ....................\n",
      "[CV]  max_depth=7, max_features=7, n_estimators=50, score=0.378, total=   0.1s\n",
      "[CV] max_depth=7, max_features=7, n_estimators=50 ....................\n",
      "[CV]  max_depth=7, max_features=7, n_estimators=50, score=0.370, total=   0.1s\n",
      "[CV] max_depth=7, max_features=7, n_estimators=50 ....................\n",
      "[CV]  max_depth=7, max_features=7, n_estimators=50, score=0.348, total=   0.1s\n",
      "[CV] max_depth=7, max_features=7, n_estimators=50 ....................\n",
      "[CV]  max_depth=7, max_features=7, n_estimators=50, score=0.348, total=   0.1s\n",
      "[CV] max_depth=7, max_features=7, n_estimators=150 ...................\n",
      "[CV]  max_depth=7, max_features=7, n_estimators=150, score=0.289, total=   0.2s\n",
      "[CV] max_depth=7, max_features=7, n_estimators=150 ...................\n",
      "[CV]  max_depth=7, max_features=7, n_estimators=150, score=0.422, total=   0.2s\n",
      "[CV] max_depth=7, max_features=7, n_estimators=150 ...................\n",
      "[CV]  max_depth=7, max_features=7, n_estimators=150, score=0.348, total=   0.2s\n",
      "[CV] max_depth=7, max_features=7, n_estimators=150 ...................\n",
      "[CV]  max_depth=7, max_features=7, n_estimators=150, score=0.370, total=   0.2s\n",
      "[CV] max_depth=7, max_features=7, n_estimators=150 ...................\n",
      "[CV]  max_depth=7, max_features=7, n_estimators=150, score=0.326, total=   0.2s\n",
      "[CV] max_depth=7, max_features=15, n_estimators=3 ....................\n",
      "[CV]  max_depth=7, max_features=15, n_estimators=3, score=0.311, total=   0.0s\n",
      "[CV] max_depth=7, max_features=15, n_estimators=3 ....................\n",
      "[CV]  max_depth=7, max_features=15, n_estimators=3, score=0.422, total=   0.0s\n",
      "[CV] max_depth=7, max_features=15, n_estimators=3 ....................\n",
      "[CV]  max_depth=7, max_features=15, n_estimators=3, score=0.435, total=   0.0s\n",
      "[CV] max_depth=7, max_features=15, n_estimators=3 ....................\n",
      "[CV]  max_depth=7, max_features=15, n_estimators=3, score=0.457, total=   0.0s\n",
      "[CV] max_depth=7, max_features=15, n_estimators=3 ....................\n",
      "[CV]  max_depth=7, max_features=15, n_estimators=3, score=0.391, total=   0.0s\n",
      "[CV] max_depth=7, max_features=15, n_estimators=5 ....................\n",
      "[CV]  max_depth=7, max_features=15, n_estimators=5, score=0.244, total=   0.0s\n",
      "[CV] max_depth=7, max_features=15, n_estimators=5 ....................\n",
      "[CV]  max_depth=7, max_features=15, n_estimators=5, score=0.444, total=   0.0s\n",
      "[CV] max_depth=7, max_features=15, n_estimators=5 ....................\n",
      "[CV]  max_depth=7, max_features=15, n_estimators=5, score=0.391, total=   0.0s\n",
      "[CV] max_depth=7, max_features=15, n_estimators=5 ....................\n",
      "[CV]  max_depth=7, max_features=15, n_estimators=5, score=0.391, total=   0.0s\n",
      "[CV] max_depth=7, max_features=15, n_estimators=5 ....................\n",
      "[CV]  max_depth=7, max_features=15, n_estimators=5, score=0.370, total=   0.0s\n",
      "[CV] max_depth=7, max_features=15, n_estimators=10 ...................\n",
      "[CV]  max_depth=7, max_features=15, n_estimators=10, score=0.267, total=   0.0s\n",
      "[CV] max_depth=7, max_features=15, n_estimators=10 ...................\n",
      "[CV]  max_depth=7, max_features=15, n_estimators=10, score=0.444, total=   0.0s\n",
      "[CV] max_depth=7, max_features=15, n_estimators=10 ...................\n",
      "[CV]  max_depth=7, max_features=15, n_estimators=10, score=0.370, total=   0.0s\n",
      "[CV] max_depth=7, max_features=15, n_estimators=10 ...................\n",
      "[CV]  max_depth=7, max_features=15, n_estimators=10, score=0.326, total=   0.0s\n",
      "[CV] max_depth=7, max_features=15, n_estimators=10 ...................\n",
      "[CV]  max_depth=7, max_features=15, n_estimators=10, score=0.413, total=   0.0s\n",
      "[CV] max_depth=7, max_features=15, n_estimators=25 ...................\n",
      "[CV]  max_depth=7, max_features=15, n_estimators=25, score=0.267, total=   0.0s\n",
      "[CV] max_depth=7, max_features=15, n_estimators=25 ...................\n"
     ]
    },
    {
     "name": "stdout",
     "output_type": "stream",
     "text": [
      "[CV]  max_depth=7, max_features=15, n_estimators=25, score=0.422, total=   0.0s\n",
      "[CV] max_depth=7, max_features=15, n_estimators=25 ...................\n",
      "[CV]  max_depth=7, max_features=15, n_estimators=25, score=0.326, total=   0.0s\n",
      "[CV] max_depth=7, max_features=15, n_estimators=25 ...................\n",
      "[CV]  max_depth=7, max_features=15, n_estimators=25, score=0.326, total=   0.0s\n",
      "[CV] max_depth=7, max_features=15, n_estimators=25 ...................\n",
      "[CV]  max_depth=7, max_features=15, n_estimators=25, score=0.457, total=   0.0s\n",
      "[CV] max_depth=7, max_features=15, n_estimators=50 ...................\n",
      "[CV]  max_depth=7, max_features=15, n_estimators=50, score=0.289, total=   0.1s\n",
      "[CV] max_depth=7, max_features=15, n_estimators=50 ...................\n",
      "[CV]  max_depth=7, max_features=15, n_estimators=50, score=0.467, total=   0.1s\n",
      "[CV] max_depth=7, max_features=15, n_estimators=50 ...................\n",
      "[CV]  max_depth=7, max_features=15, n_estimators=50, score=0.457, total=   0.1s\n",
      "[CV] max_depth=7, max_features=15, n_estimators=50 ...................\n",
      "[CV]  max_depth=7, max_features=15, n_estimators=50, score=0.391, total=   0.1s\n",
      "[CV] max_depth=7, max_features=15, n_estimators=50 ...................\n",
      "[CV]  max_depth=7, max_features=15, n_estimators=50, score=0.500, total=   0.1s\n",
      "[CV] max_depth=7, max_features=15, n_estimators=150 ..................\n",
      "[CV]  max_depth=7, max_features=15, n_estimators=150, score=0.289, total=   0.2s\n",
      "[CV] max_depth=7, max_features=15, n_estimators=150 ..................\n",
      "[CV]  max_depth=7, max_features=15, n_estimators=150, score=0.422, total=   0.2s\n",
      "[CV] max_depth=7, max_features=15, n_estimators=150 ..................\n",
      "[CV]  max_depth=7, max_features=15, n_estimators=150, score=0.391, total=   0.2s\n",
      "[CV] max_depth=7, max_features=15, n_estimators=150 ..................\n",
      "[CV]  max_depth=7, max_features=15, n_estimators=150, score=0.413, total=   0.2s\n",
      "[CV] max_depth=7, max_features=15, n_estimators=150 ..................\n",
      "[CV]  max_depth=7, max_features=15, n_estimators=150, score=0.478, total=   0.2s\n",
      "[CV] max_depth=7, max_features=20, n_estimators=3 ....................\n",
      "[CV]  max_depth=7, max_features=20, n_estimators=3, score=0.289, total=   0.0s\n",
      "[CV] max_depth=7, max_features=20, n_estimators=3 ....................\n",
      "[CV]  max_depth=7, max_features=20, n_estimators=3, score=0.444, total=   0.0s\n",
      "[CV] max_depth=7, max_features=20, n_estimators=3 ....................\n",
      "[CV]  max_depth=7, max_features=20, n_estimators=3, score=0.413, total=   0.0s\n",
      "[CV] max_depth=7, max_features=20, n_estimators=3 ....................\n",
      "[CV]  max_depth=7, max_features=20, n_estimators=3, score=0.478, total=   0.0s\n",
      "[CV] max_depth=7, max_features=20, n_estimators=3 ....................\n",
      "[CV]  max_depth=7, max_features=20, n_estimators=3, score=0.500, total=   0.0s\n",
      "[CV] max_depth=7, max_features=20, n_estimators=5 ....................\n",
      "[CV]  max_depth=7, max_features=20, n_estimators=5, score=0.289, total=   0.0s\n",
      "[CV] max_depth=7, max_features=20, n_estimators=5 ....................\n",
      "[CV]  max_depth=7, max_features=20, n_estimators=5, score=0.467, total=   0.0s\n",
      "[CV] max_depth=7, max_features=20, n_estimators=5 ....................\n",
      "[CV]  max_depth=7, max_features=20, n_estimators=5, score=0.457, total=   0.0s\n",
      "[CV] max_depth=7, max_features=20, n_estimators=5 ....................\n",
      "[CV]  max_depth=7, max_features=20, n_estimators=5, score=0.348, total=   0.0s\n",
      "[CV] max_depth=7, max_features=20, n_estimators=5 ....................\n",
      "[CV]  max_depth=7, max_features=20, n_estimators=5, score=0.478, total=   0.0s\n",
      "[CV] max_depth=7, max_features=20, n_estimators=10 ...................\n",
      "[CV]  max_depth=7, max_features=20, n_estimators=10, score=0.333, total=   0.0s\n",
      "[CV] max_depth=7, max_features=20, n_estimators=10 ...................\n",
      "[CV]  max_depth=7, max_features=20, n_estimators=10, score=0.400, total=   0.0s\n",
      "[CV] max_depth=7, max_features=20, n_estimators=10 ...................\n",
      "[CV]  max_depth=7, max_features=20, n_estimators=10, score=0.435, total=   0.0s\n",
      "[CV] max_depth=7, max_features=20, n_estimators=10 ...................\n",
      "[CV]  max_depth=7, max_features=20, n_estimators=10, score=0.348, total=   0.0s\n",
      "[CV] max_depth=7, max_features=20, n_estimators=10 ...................\n",
      "[CV]  max_depth=7, max_features=20, n_estimators=10, score=0.500, total=   0.0s\n",
      "[CV] max_depth=7, max_features=20, n_estimators=25 ...................\n",
      "[CV]  max_depth=7, max_features=20, n_estimators=25, score=0.378, total=   0.1s\n",
      "[CV] max_depth=7, max_features=20, n_estimators=25 ...................\n",
      "[CV]  max_depth=7, max_features=20, n_estimators=25, score=0.422, total=   0.0s\n",
      "[CV] max_depth=7, max_features=20, n_estimators=25 ...................\n",
      "[CV]  max_depth=7, max_features=20, n_estimators=25, score=0.435, total=   0.0s\n",
      "[CV] max_depth=7, max_features=20, n_estimators=25 ...................\n",
      "[CV]  max_depth=7, max_features=20, n_estimators=25, score=0.283, total=   0.0s\n",
      "[CV] max_depth=7, max_features=20, n_estimators=25 ...................\n",
      "[CV]  max_depth=7, max_features=20, n_estimators=25, score=0.500, total=   0.1s\n",
      "[CV] max_depth=7, max_features=20, n_estimators=50 ...................\n",
      "[CV]  max_depth=7, max_features=20, n_estimators=50, score=0.400, total=   0.1s\n",
      "[CV] max_depth=7, max_features=20, n_estimators=50 ...................\n",
      "[CV]  max_depth=7, max_features=20, n_estimators=50, score=0.422, total=   0.1s\n",
      "[CV] max_depth=7, max_features=20, n_estimators=50 ...................\n",
      "[CV]  max_depth=7, max_features=20, n_estimators=50, score=0.413, total=   0.1s\n",
      "[CV] max_depth=7, max_features=20, n_estimators=50 ...................\n",
      "[CV]  max_depth=7, max_features=20, n_estimators=50, score=0.370, total=   0.1s\n",
      "[CV] max_depth=7, max_features=20, n_estimators=50 ...................\n",
      "[CV]  max_depth=7, max_features=20, n_estimators=50, score=0.478, total=   0.1s\n",
      "[CV] max_depth=7, max_features=20, n_estimators=150 ..................\n",
      "[CV]  max_depth=7, max_features=20, n_estimators=150, score=0.422, total=   0.2s\n",
      "[CV] max_depth=7, max_features=20, n_estimators=150 ..................\n",
      "[CV]  max_depth=7, max_features=20, n_estimators=150, score=0.444, total=   0.2s\n",
      "[CV] max_depth=7, max_features=20, n_estimators=150 ..................\n",
      "[CV]  max_depth=7, max_features=20, n_estimators=150, score=0.435, total=   0.2s\n",
      "[CV] max_depth=7, max_features=20, n_estimators=150 ..................\n",
      "[CV]  max_depth=7, max_features=20, n_estimators=150, score=0.391, total=   0.2s\n",
      "[CV] max_depth=7, max_features=20, n_estimators=150 ..................\n",
      "[CV]  max_depth=7, max_features=20, n_estimators=150, score=0.522, total=   0.2s\n",
      "[CV] max_depth=7, max_features=24, n_estimators=3 ....................\n",
      "[CV]  max_depth=7, max_features=24, n_estimators=3, score=0.356, total=   0.0s\n",
      "[CV] max_depth=7, max_features=24, n_estimators=3 ....................\n",
      "[CV]  max_depth=7, max_features=24, n_estimators=3, score=0.378, total=   0.0s\n",
      "[CV] max_depth=7, max_features=24, n_estimators=3 ....................\n",
      "[CV]  max_depth=7, max_features=24, n_estimators=3, score=0.500, total=   0.0s\n",
      "[CV] max_depth=7, max_features=24, n_estimators=3 ....................\n",
      "[CV]  max_depth=7, max_features=24, n_estimators=3, score=0.565, total=   0.0s\n",
      "[CV] max_depth=7, max_features=24, n_estimators=3 ....................\n",
      "[CV]  max_depth=7, max_features=24, n_estimators=3, score=0.370, total=   0.0s\n",
      "[CV] max_depth=7, max_features=24, n_estimators=5 ....................\n",
      "[CV]  max_depth=7, max_features=24, n_estimators=5, score=0.333, total=   0.0s\n",
      "[CV] max_depth=7, max_features=24, n_estimators=5 ....................\n",
      "[CV]  max_depth=7, max_features=24, n_estimators=5, score=0.511, total=   0.0s\n",
      "[CV] max_depth=7, max_features=24, n_estimators=5 ....................\n",
      "[CV]  max_depth=7, max_features=24, n_estimators=5, score=0.478, total=   0.0s\n",
      "[CV] max_depth=7, max_features=24, n_estimators=5 ....................\n",
      "[CV]  max_depth=7, max_features=24, n_estimators=5, score=0.457, total=   0.0s\n",
      "[CV] max_depth=7, max_features=24, n_estimators=5 ....................\n",
      "[CV]  max_depth=7, max_features=24, n_estimators=5, score=0.522, total=   0.0s\n",
      "[CV] max_depth=7, max_features=24, n_estimators=10 ...................\n",
      "[CV]  max_depth=7, max_features=24, n_estimators=10, score=0.356, total=   0.0s\n",
      "[CV] max_depth=7, max_features=24, n_estimators=10 ...................\n",
      "[CV]  max_depth=7, max_features=24, n_estimators=10, score=0.400, total=   0.0s\n",
      "[CV] max_depth=7, max_features=24, n_estimators=10 ...................\n",
      "[CV]  max_depth=7, max_features=24, n_estimators=10, score=0.435, total=   0.0s\n",
      "[CV] max_depth=7, max_features=24, n_estimators=10 ...................\n",
      "[CV]  max_depth=7, max_features=24, n_estimators=10, score=0.326, total=   0.0s\n",
      "[CV] max_depth=7, max_features=24, n_estimators=10 ...................\n"
     ]
    },
    {
     "name": "stdout",
     "output_type": "stream",
     "text": [
      "[CV]  max_depth=7, max_features=24, n_estimators=10, score=0.522, total=   0.0s\n",
      "[CV] max_depth=7, max_features=24, n_estimators=25 ...................\n",
      "[CV]  max_depth=7, max_features=24, n_estimators=25, score=0.333, total=   0.0s\n",
      "[CV] max_depth=7, max_features=24, n_estimators=25 ...................\n",
      "[CV]  max_depth=7, max_features=24, n_estimators=25, score=0.422, total=   0.0s\n",
      "[CV] max_depth=7, max_features=24, n_estimators=25 ...................\n",
      "[CV]  max_depth=7, max_features=24, n_estimators=25, score=0.370, total=   0.0s\n",
      "[CV] max_depth=7, max_features=24, n_estimators=25 ...................\n",
      "[CV]  max_depth=7, max_features=24, n_estimators=25, score=0.348, total=   0.0s\n",
      "[CV] max_depth=7, max_features=24, n_estimators=25 ...................\n",
      "[CV]  max_depth=7, max_features=24, n_estimators=25, score=0.522, total=   0.0s\n",
      "[CV] max_depth=7, max_features=24, n_estimators=50 ...................\n",
      "[CV]  max_depth=7, max_features=24, n_estimators=50, score=0.356, total=   0.1s\n",
      "[CV] max_depth=7, max_features=24, n_estimators=50 ...................\n",
      "[CV]  max_depth=7, max_features=24, n_estimators=50, score=0.467, total=   0.1s\n",
      "[CV] max_depth=7, max_features=24, n_estimators=50 ...................\n",
      "[CV]  max_depth=7, max_features=24, n_estimators=50, score=0.457, total=   0.1s\n",
      "[CV] max_depth=7, max_features=24, n_estimators=50 ...................\n",
      "[CV]  max_depth=7, max_features=24, n_estimators=50, score=0.391, total=   0.1s\n",
      "[CV] max_depth=7, max_features=24, n_estimators=50 ...................\n",
      "[CV]  max_depth=7, max_features=24, n_estimators=50, score=0.478, total=   0.1s\n",
      "[CV] max_depth=7, max_features=24, n_estimators=150 ..................\n",
      "[CV]  max_depth=7, max_features=24, n_estimators=150, score=0.333, total=   0.2s\n",
      "[CV] max_depth=7, max_features=24, n_estimators=150 ..................\n",
      "[CV]  max_depth=7, max_features=24, n_estimators=150, score=0.467, total=   0.2s\n",
      "[CV] max_depth=7, max_features=24, n_estimators=150 ..................\n",
      "[CV]  max_depth=7, max_features=24, n_estimators=150, score=0.478, total=   0.2s\n",
      "[CV] max_depth=7, max_features=24, n_estimators=150 ..................\n",
      "[CV]  max_depth=7, max_features=24, n_estimators=150, score=0.391, total=   0.2s\n",
      "[CV] max_depth=7, max_features=24, n_estimators=150 ..................\n",
      "[CV]  max_depth=7, max_features=24, n_estimators=150, score=0.500, total=   0.3s\n",
      "[CV] max_depth=10, max_features=4, n_estimators=3 ....................\n",
      "[CV]  max_depth=10, max_features=4, n_estimators=3, score=0.244, total=   0.0s\n",
      "[CV] max_depth=10, max_features=4, n_estimators=3 ....................\n",
      "[CV]  max_depth=10, max_features=4, n_estimators=3, score=0.356, total=   0.0s\n",
      "[CV] max_depth=10, max_features=4, n_estimators=3 ....................\n",
      "[CV]  max_depth=10, max_features=4, n_estimators=3, score=0.391, total=   0.0s\n",
      "[CV] max_depth=10, max_features=4, n_estimators=3 ....................\n",
      "[CV]  max_depth=10, max_features=4, n_estimators=3, score=0.326, total=   0.0s\n",
      "[CV] max_depth=10, max_features=4, n_estimators=3 ....................\n",
      "[CV]  max_depth=10, max_features=4, n_estimators=3, score=0.500, total=   0.0s\n",
      "[CV] max_depth=10, max_features=4, n_estimators=5 ....................\n",
      "[CV]  max_depth=10, max_features=4, n_estimators=5, score=0.222, total=   0.0s\n",
      "[CV] max_depth=10, max_features=4, n_estimators=5 ....................\n",
      "[CV]  max_depth=10, max_features=4, n_estimators=5, score=0.422, total=   0.0s\n",
      "[CV] max_depth=10, max_features=4, n_estimators=5 ....................\n",
      "[CV]  max_depth=10, max_features=4, n_estimators=5, score=0.370, total=   0.0s\n",
      "[CV] max_depth=10, max_features=4, n_estimators=5 ....................\n",
      "[CV]  max_depth=10, max_features=4, n_estimators=5, score=0.370, total=   0.0s\n",
      "[CV] max_depth=10, max_features=4, n_estimators=5 ....................\n",
      "[CV]  max_depth=10, max_features=4, n_estimators=5, score=0.457, total=   0.0s\n",
      "[CV] max_depth=10, max_features=4, n_estimators=10 ...................\n",
      "[CV]  max_depth=10, max_features=4, n_estimators=10, score=0.244, total=   0.0s\n",
      "[CV] max_depth=10, max_features=4, n_estimators=10 ...................\n",
      "[CV]  max_depth=10, max_features=4, n_estimators=10, score=0.378, total=   0.0s\n",
      "[CV] max_depth=10, max_features=4, n_estimators=10 ...................\n",
      "[CV]  max_depth=10, max_features=4, n_estimators=10, score=0.348, total=   0.0s\n",
      "[CV] max_depth=10, max_features=4, n_estimators=10 ...................\n",
      "[CV]  max_depth=10, max_features=4, n_estimators=10, score=0.370, total=   0.0s\n",
      "[CV] max_depth=10, max_features=4, n_estimators=10 ...................\n",
      "[CV]  max_depth=10, max_features=4, n_estimators=10, score=0.326, total=   0.0s\n",
      "[CV] max_depth=10, max_features=4, n_estimators=25 ...................\n",
      "[CV]  max_depth=10, max_features=4, n_estimators=25, score=0.244, total=   0.0s\n",
      "[CV] max_depth=10, max_features=4, n_estimators=25 ...................\n",
      "[CV]  max_depth=10, max_features=4, n_estimators=25, score=0.422, total=   0.0s\n",
      "[CV] max_depth=10, max_features=4, n_estimators=25 ...................\n",
      "[CV]  max_depth=10, max_features=4, n_estimators=25, score=0.391, total=   0.0s\n",
      "[CV] max_depth=10, max_features=4, n_estimators=25 ...................\n",
      "[CV]  max_depth=10, max_features=4, n_estimators=25, score=0.348, total=   0.0s\n",
      "[CV] max_depth=10, max_features=4, n_estimators=25 ...................\n",
      "[CV]  max_depth=10, max_features=4, n_estimators=25, score=0.326, total=   0.0s\n",
      "[CV] max_depth=10, max_features=4, n_estimators=50 ...................\n",
      "[CV]  max_depth=10, max_features=4, n_estimators=50, score=0.222, total=   0.1s\n",
      "[CV] max_depth=10, max_features=4, n_estimators=50 ...................\n",
      "[CV]  max_depth=10, max_features=4, n_estimators=50, score=0.422, total=   0.1s\n",
      "[CV] max_depth=10, max_features=4, n_estimators=50 ...................\n",
      "[CV]  max_depth=10, max_features=4, n_estimators=50, score=0.370, total=   0.1s\n",
      "[CV] max_depth=10, max_features=4, n_estimators=50 ...................\n",
      "[CV]  max_depth=10, max_features=4, n_estimators=50, score=0.391, total=   0.1s\n",
      "[CV] max_depth=10, max_features=4, n_estimators=50 ...................\n",
      "[CV]  max_depth=10, max_features=4, n_estimators=50, score=0.391, total=   0.1s\n",
      "[CV] max_depth=10, max_features=4, n_estimators=150 ..................\n",
      "[CV]  max_depth=10, max_features=4, n_estimators=150, score=0.267, total=   0.2s\n",
      "[CV] max_depth=10, max_features=4, n_estimators=150 ..................\n",
      "[CV]  max_depth=10, max_features=4, n_estimators=150, score=0.378, total=   0.2s\n",
      "[CV] max_depth=10, max_features=4, n_estimators=150 ..................\n",
      "[CV]  max_depth=10, max_features=4, n_estimators=150, score=0.413, total=   0.2s\n",
      "[CV] max_depth=10, max_features=4, n_estimators=150 ..................\n",
      "[CV]  max_depth=10, max_features=4, n_estimators=150, score=0.391, total=   0.2s\n",
      "[CV] max_depth=10, max_features=4, n_estimators=150 ..................\n",
      "[CV]  max_depth=10, max_features=4, n_estimators=150, score=0.370, total=   0.2s\n",
      "[CV] max_depth=10, max_features=7, n_estimators=3 ....................\n",
      "[CV]  max_depth=10, max_features=7, n_estimators=3, score=0.356, total=   0.0s\n",
      "[CV] max_depth=10, max_features=7, n_estimators=3 ....................\n",
      "[CV]  max_depth=10, max_features=7, n_estimators=3, score=0.378, total=   0.0s\n",
      "[CV] max_depth=10, max_features=7, n_estimators=3 ....................\n",
      "[CV]  max_depth=10, max_features=7, n_estimators=3, score=0.435, total=   0.0s\n",
      "[CV] max_depth=10, max_features=7, n_estimators=3 ....................\n",
      "[CV]  max_depth=10, max_features=7, n_estimators=3, score=0.370, total=   0.0s\n",
      "[CV] max_depth=10, max_features=7, n_estimators=3 ....................\n",
      "[CV]  max_depth=10, max_features=7, n_estimators=3, score=0.435, total=   0.0s\n",
      "[CV] max_depth=10, max_features=7, n_estimators=5 ....................\n",
      "[CV]  max_depth=10, max_features=7, n_estimators=5, score=0.289, total=   0.0s\n",
      "[CV] max_depth=10, max_features=7, n_estimators=5 ....................\n",
      "[CV]  max_depth=10, max_features=7, n_estimators=5, score=0.400, total=   0.0s\n",
      "[CV] max_depth=10, max_features=7, n_estimators=5 ....................\n",
      "[CV]  max_depth=10, max_features=7, n_estimators=5, score=0.457, total=   0.0s\n",
      "[CV] max_depth=10, max_features=7, n_estimators=5 ....................\n",
      "[CV]  max_depth=10, max_features=7, n_estimators=5, score=0.348, total=   0.0s\n",
      "[CV] max_depth=10, max_features=7, n_estimators=5 ....................\n",
      "[CV]  max_depth=10, max_features=7, n_estimators=5, score=0.370, total=   0.0s\n",
      "[CV] max_depth=10, max_features=7, n_estimators=10 ...................\n",
      "[CV]  max_depth=10, max_features=7, n_estimators=10, score=0.289, total=   0.0s\n",
      "[CV] max_depth=10, max_features=7, n_estimators=10 ...................\n",
      "[CV]  max_depth=10, max_features=7, n_estimators=10, score=0.378, total=   0.0s\n",
      "[CV] max_depth=10, max_features=7, n_estimators=10 ...................\n",
      "[CV]  max_depth=10, max_features=7, n_estimators=10, score=0.500, total=   0.0s\n",
      "[CV] max_depth=10, max_features=7, n_estimators=10 ...................\n",
      "[CV]  max_depth=10, max_features=7, n_estimators=10, score=0.326, total=   0.0s\n",
      "[CV] max_depth=10, max_features=7, n_estimators=10 ...................\n",
      "[CV]  max_depth=10, max_features=7, n_estimators=10, score=0.478, total=   0.0s\n",
      "[CV] max_depth=10, max_features=7, n_estimators=25 ...................\n",
      "[CV]  max_depth=10, max_features=7, n_estimators=25, score=0.311, total=   0.0s\n",
      "[CV] max_depth=10, max_features=7, n_estimators=25 ...................\n"
     ]
    },
    {
     "name": "stdout",
     "output_type": "stream",
     "text": [
      "[CV]  max_depth=10, max_features=7, n_estimators=25, score=0.378, total=   0.0s\n",
      "[CV] max_depth=10, max_features=7, n_estimators=25 ...................\n",
      "[CV]  max_depth=10, max_features=7, n_estimators=25, score=0.435, total=   0.0s\n",
      "[CV] max_depth=10, max_features=7, n_estimators=25 ...................\n",
      "[CV]  max_depth=10, max_features=7, n_estimators=25, score=0.413, total=   0.0s\n",
      "[CV] max_depth=10, max_features=7, n_estimators=25 ...................\n",
      "[CV]  max_depth=10, max_features=7, n_estimators=25, score=0.413, total=   0.0s\n",
      "[CV] max_depth=10, max_features=7, n_estimators=50 ...................\n",
      "[CV]  max_depth=10, max_features=7, n_estimators=50, score=0.289, total=   0.1s\n",
      "[CV] max_depth=10, max_features=7, n_estimators=50 ...................\n",
      "[CV]  max_depth=10, max_features=7, n_estimators=50, score=0.400, total=   0.1s\n",
      "[CV] max_depth=10, max_features=7, n_estimators=50 ...................\n",
      "[CV]  max_depth=10, max_features=7, n_estimators=50, score=0.457, total=   0.1s\n",
      "[CV] max_depth=10, max_features=7, n_estimators=50 ...................\n",
      "[CV]  max_depth=10, max_features=7, n_estimators=50, score=0.391, total=   0.1s\n",
      "[CV] max_depth=10, max_features=7, n_estimators=50 ...................\n",
      "[CV]  max_depth=10, max_features=7, n_estimators=50, score=0.391, total=   0.1s\n",
      "[CV] max_depth=10, max_features=7, n_estimators=150 ..................\n",
      "[CV]  max_depth=10, max_features=7, n_estimators=150, score=0.311, total=   0.3s\n",
      "[CV] max_depth=10, max_features=7, n_estimators=150 ..................\n",
      "[CV]  max_depth=10, max_features=7, n_estimators=150, score=0.400, total=   0.2s\n",
      "[CV] max_depth=10, max_features=7, n_estimators=150 ..................\n",
      "[CV]  max_depth=10, max_features=7, n_estimators=150, score=0.478, total=   0.2s\n",
      "[CV] max_depth=10, max_features=7, n_estimators=150 ..................\n",
      "[CV]  max_depth=10, max_features=7, n_estimators=150, score=0.370, total=   0.2s\n",
      "[CV] max_depth=10, max_features=7, n_estimators=150 ..................\n",
      "[CV]  max_depth=10, max_features=7, n_estimators=150, score=0.413, total=   0.2s\n",
      "[CV] max_depth=10, max_features=15, n_estimators=3 ...................\n",
      "[CV]  max_depth=10, max_features=15, n_estimators=3, score=0.289, total=   0.0s\n",
      "[CV] max_depth=10, max_features=15, n_estimators=3 ...................\n",
      "[CV]  max_depth=10, max_features=15, n_estimators=3, score=0.489, total=   0.0s\n",
      "[CV] max_depth=10, max_features=15, n_estimators=3 ...................\n",
      "[CV]  max_depth=10, max_features=15, n_estimators=3, score=0.370, total=   0.0s\n",
      "[CV] max_depth=10, max_features=15, n_estimators=3 ...................\n",
      "[CV]  max_depth=10, max_features=15, n_estimators=3, score=0.326, total=   0.0s\n",
      "[CV] max_depth=10, max_features=15, n_estimators=3 ...................\n",
      "[CV]  max_depth=10, max_features=15, n_estimators=3, score=0.348, total=   0.0s\n",
      "[CV] max_depth=10, max_features=15, n_estimators=5 ...................\n",
      "[CV]  max_depth=10, max_features=15, n_estimators=5, score=0.289, total=   0.0s\n",
      "[CV] max_depth=10, max_features=15, n_estimators=5 ...................\n",
      "[CV]  max_depth=10, max_features=15, n_estimators=5, score=0.444, total=   0.0s\n",
      "[CV] max_depth=10, max_features=15, n_estimators=5 ...................\n",
      "[CV]  max_depth=10, max_features=15, n_estimators=5, score=0.413, total=   0.0s\n",
      "[CV] max_depth=10, max_features=15, n_estimators=5 ...................\n",
      "[CV]  max_depth=10, max_features=15, n_estimators=5, score=0.391, total=   0.0s\n",
      "[CV] max_depth=10, max_features=15, n_estimators=5 ...................\n",
      "[CV]  max_depth=10, max_features=15, n_estimators=5, score=0.478, total=   0.0s\n",
      "[CV] max_depth=10, max_features=15, n_estimators=10 ..................\n",
      "[CV]  max_depth=10, max_features=15, n_estimators=10, score=0.311, total=   0.0s\n",
      "[CV] max_depth=10, max_features=15, n_estimators=10 ..................\n",
      "[CV]  max_depth=10, max_features=15, n_estimators=10, score=0.378, total=   0.0s\n",
      "[CV] max_depth=10, max_features=15, n_estimators=10 ..................\n",
      "[CV]  max_depth=10, max_features=15, n_estimators=10, score=0.391, total=   0.0s\n",
      "[CV] max_depth=10, max_features=15, n_estimators=10 ..................\n",
      "[CV]  max_depth=10, max_features=15, n_estimators=10, score=0.326, total=   0.0s\n",
      "[CV] max_depth=10, max_features=15, n_estimators=10 ..................\n",
      "[CV]  max_depth=10, max_features=15, n_estimators=10, score=0.543, total=   0.0s\n",
      "[CV] max_depth=10, max_features=15, n_estimators=25 ..................\n",
      "[CV]  max_depth=10, max_features=15, n_estimators=25, score=0.356, total=   0.0s\n",
      "[CV] max_depth=10, max_features=15, n_estimators=25 ..................\n",
      "[CV]  max_depth=10, max_features=15, n_estimators=25, score=0.378, total=   0.0s\n",
      "[CV] max_depth=10, max_features=15, n_estimators=25 ..................\n",
      "[CV]  max_depth=10, max_features=15, n_estimators=25, score=0.435, total=   0.0s\n",
      "[CV] max_depth=10, max_features=15, n_estimators=25 ..................\n",
      "[CV]  max_depth=10, max_features=15, n_estimators=25, score=0.326, total=   0.0s\n",
      "[CV] max_depth=10, max_features=15, n_estimators=25 ..................\n",
      "[CV]  max_depth=10, max_features=15, n_estimators=25, score=0.522, total=   0.0s\n",
      "[CV] max_depth=10, max_features=15, n_estimators=50 ..................\n",
      "[CV]  max_depth=10, max_features=15, n_estimators=50, score=0.378, total=   0.1s\n",
      "[CV] max_depth=10, max_features=15, n_estimators=50 ..................\n",
      "[CV]  max_depth=10, max_features=15, n_estimators=50, score=0.356, total=   0.1s\n",
      "[CV] max_depth=10, max_features=15, n_estimators=50 ..................\n",
      "[CV]  max_depth=10, max_features=15, n_estimators=50, score=0.478, total=   0.1s\n",
      "[CV] max_depth=10, max_features=15, n_estimators=50 ..................\n",
      "[CV]  max_depth=10, max_features=15, n_estimators=50, score=0.370, total=   0.1s\n",
      "[CV] max_depth=10, max_features=15, n_estimators=50 ..................\n",
      "[CV]  max_depth=10, max_features=15, n_estimators=50, score=0.500, total=   0.1s\n",
      "[CV] max_depth=10, max_features=15, n_estimators=150 .................\n",
      "[CV]  max_depth=10, max_features=15, n_estimators=150, score=0.400, total=   0.2s\n",
      "[CV] max_depth=10, max_features=15, n_estimators=150 .................\n",
      "[CV]  max_depth=10, max_features=15, n_estimators=150, score=0.422, total=   0.2s\n",
      "[CV] max_depth=10, max_features=15, n_estimators=150 .................\n",
      "[CV]  max_depth=10, max_features=15, n_estimators=150, score=0.478, total=   0.2s\n",
      "[CV] max_depth=10, max_features=15, n_estimators=150 .................\n",
      "[CV]  max_depth=10, max_features=15, n_estimators=150, score=0.413, total=   0.2s\n",
      "[CV] max_depth=10, max_features=15, n_estimators=150 .................\n",
      "[CV]  max_depth=10, max_features=15, n_estimators=150, score=0.478, total=   0.2s\n",
      "[CV] max_depth=10, max_features=20, n_estimators=3 ...................\n",
      "[CV]  max_depth=10, max_features=20, n_estimators=3, score=0.311, total=   0.0s\n",
      "[CV] max_depth=10, max_features=20, n_estimators=3 ...................\n",
      "[CV]  max_depth=10, max_features=20, n_estimators=3, score=0.467, total=   0.0s\n",
      "[CV] max_depth=10, max_features=20, n_estimators=3 ...................\n",
      "[CV]  max_depth=10, max_features=20, n_estimators=3, score=0.457, total=   0.0s\n",
      "[CV] max_depth=10, max_features=20, n_estimators=3 ...................\n",
      "[CV]  max_depth=10, max_features=20, n_estimators=3, score=0.435, total=   0.0s\n",
      "[CV] max_depth=10, max_features=20, n_estimators=3 ...................\n",
      "[CV]  max_depth=10, max_features=20, n_estimators=3, score=0.457, total=   0.0s\n",
      "[CV] max_depth=10, max_features=20, n_estimators=5 ...................\n",
      "[CV]  max_depth=10, max_features=20, n_estimators=5, score=0.333, total=   0.0s\n",
      "[CV] max_depth=10, max_features=20, n_estimators=5 ...................\n",
      "[CV]  max_depth=10, max_features=20, n_estimators=5, score=0.422, total=   0.0s\n",
      "[CV] max_depth=10, max_features=20, n_estimators=5 ...................\n",
      "[CV]  max_depth=10, max_features=20, n_estimators=5, score=0.500, total=   0.0s\n",
      "[CV] max_depth=10, max_features=20, n_estimators=5 ...................\n",
      "[CV]  max_depth=10, max_features=20, n_estimators=5, score=0.435, total=   0.0s\n",
      "[CV] max_depth=10, max_features=20, n_estimators=5 ...................\n",
      "[CV]  max_depth=10, max_features=20, n_estimators=5, score=0.413, total=   0.0s\n",
      "[CV] max_depth=10, max_features=20, n_estimators=10 ..................\n",
      "[CV]  max_depth=10, max_features=20, n_estimators=10, score=0.356, total=   0.0s\n",
      "[CV] max_depth=10, max_features=20, n_estimators=10 ..................\n",
      "[CV]  max_depth=10, max_features=20, n_estimators=10, score=0.444, total=   0.0s\n",
      "[CV] max_depth=10, max_features=20, n_estimators=10 ..................\n",
      "[CV]  max_depth=10, max_features=20, n_estimators=10, score=0.478, total=   0.0s\n",
      "[CV] max_depth=10, max_features=20, n_estimators=10 ..................\n",
      "[CV]  max_depth=10, max_features=20, n_estimators=10, score=0.413, total=   0.0s\n",
      "[CV] max_depth=10, max_features=20, n_estimators=10 ..................\n",
      "[CV]  max_depth=10, max_features=20, n_estimators=10, score=0.522, total=   0.0s\n",
      "[CV] max_depth=10, max_features=20, n_estimators=25 ..................\n"
     ]
    },
    {
     "name": "stdout",
     "output_type": "stream",
     "text": [
      "[CV]  max_depth=10, max_features=20, n_estimators=25, score=0.356, total=   0.0s\n",
      "[CV] max_depth=10, max_features=20, n_estimators=25 ..................\n",
      "[CV]  max_depth=10, max_features=20, n_estimators=25, score=0.444, total=   0.0s\n",
      "[CV] max_depth=10, max_features=20, n_estimators=25 ..................\n",
      "[CV]  max_depth=10, max_features=20, n_estimators=25, score=0.478, total=   0.0s\n",
      "[CV] max_depth=10, max_features=20, n_estimators=25 ..................\n",
      "[CV]  max_depth=10, max_features=20, n_estimators=25, score=0.391, total=   0.0s\n",
      "[CV] max_depth=10, max_features=20, n_estimators=25 ..................\n",
      "[CV]  max_depth=10, max_features=20, n_estimators=25, score=0.565, total=   0.0s\n",
      "[CV] max_depth=10, max_features=20, n_estimators=50 ..................\n",
      "[CV]  max_depth=10, max_features=20, n_estimators=50, score=0.333, total=   0.1s\n",
      "[CV] max_depth=10, max_features=20, n_estimators=50 ..................\n",
      "[CV]  max_depth=10, max_features=20, n_estimators=50, score=0.444, total=   0.1s\n",
      "[CV] max_depth=10, max_features=20, n_estimators=50 ..................\n",
      "[CV]  max_depth=10, max_features=20, n_estimators=50, score=0.478, total=   0.1s\n",
      "[CV] max_depth=10, max_features=20, n_estimators=50 ..................\n",
      "[CV]  max_depth=10, max_features=20, n_estimators=50, score=0.391, total=   0.1s\n",
      "[CV] max_depth=10, max_features=20, n_estimators=50 ..................\n",
      "[CV]  max_depth=10, max_features=20, n_estimators=50, score=0.522, total=   0.1s\n",
      "[CV] max_depth=10, max_features=20, n_estimators=150 .................\n",
      "[CV]  max_depth=10, max_features=20, n_estimators=150, score=0.378, total=   0.2s\n",
      "[CV] max_depth=10, max_features=20, n_estimators=150 .................\n",
      "[CV]  max_depth=10, max_features=20, n_estimators=150, score=0.422, total=   0.2s\n",
      "[CV] max_depth=10, max_features=20, n_estimators=150 .................\n",
      "[CV]  max_depth=10, max_features=20, n_estimators=150, score=0.500, total=   0.2s\n",
      "[CV] max_depth=10, max_features=20, n_estimators=150 .................\n",
      "[CV]  max_depth=10, max_features=20, n_estimators=150, score=0.391, total=   0.2s\n",
      "[CV] max_depth=10, max_features=20, n_estimators=150 .................\n",
      "[CV]  max_depth=10, max_features=20, n_estimators=150, score=0.478, total=   0.2s\n",
      "[CV] max_depth=10, max_features=24, n_estimators=3 ...................\n",
      "[CV]  max_depth=10, max_features=24, n_estimators=3, score=0.400, total=   0.0s\n",
      "[CV] max_depth=10, max_features=24, n_estimators=3 ...................\n",
      "[CV]  max_depth=10, max_features=24, n_estimators=3, score=0.422, total=   0.0s\n",
      "[CV] max_depth=10, max_features=24, n_estimators=3 ...................\n",
      "[CV]  max_depth=10, max_features=24, n_estimators=3, score=0.565, total=   0.0s\n",
      "[CV] max_depth=10, max_features=24, n_estimators=3 ...................\n",
      "[CV]  max_depth=10, max_features=24, n_estimators=3, score=0.565, total=   0.0s\n",
      "[CV] max_depth=10, max_features=24, n_estimators=3 ...................\n",
      "[CV]  max_depth=10, max_features=24, n_estimators=3, score=0.457, total=   0.0s\n",
      "[CV] max_depth=10, max_features=24, n_estimators=5 ...................\n",
      "[CV]  max_depth=10, max_features=24, n_estimators=5, score=0.378, total=   0.0s\n",
      "[CV] max_depth=10, max_features=24, n_estimators=5 ...................\n",
      "[CV]  max_depth=10, max_features=24, n_estimators=5, score=0.511, total=   0.0s\n",
      "[CV] max_depth=10, max_features=24, n_estimators=5 ...................\n",
      "[CV]  max_depth=10, max_features=24, n_estimators=5, score=0.630, total=   0.0s\n",
      "[CV] max_depth=10, max_features=24, n_estimators=5 ...................\n",
      "[CV]  max_depth=10, max_features=24, n_estimators=5, score=0.435, total=   0.0s\n",
      "[CV] max_depth=10, max_features=24, n_estimators=5 ...................\n",
      "[CV]  max_depth=10, max_features=24, n_estimators=5, score=0.543, total=   0.0s\n",
      "[CV] max_depth=10, max_features=24, n_estimators=10 ..................\n",
      "[CV]  max_depth=10, max_features=24, n_estimators=10, score=0.378, total=   0.0s\n",
      "[CV] max_depth=10, max_features=24, n_estimators=10 ..................\n",
      "[CV]  max_depth=10, max_features=24, n_estimators=10, score=0.378, total=   0.0s\n",
      "[CV] max_depth=10, max_features=24, n_estimators=10 ..................\n",
      "[CV]  max_depth=10, max_features=24, n_estimators=10, score=0.500, total=   0.0s\n",
      "[CV] max_depth=10, max_features=24, n_estimators=10 ..................\n",
      "[CV]  max_depth=10, max_features=24, n_estimators=10, score=0.413, total=   0.0s\n",
      "[CV] max_depth=10, max_features=24, n_estimators=10 ..................\n",
      "[CV]  max_depth=10, max_features=24, n_estimators=10, score=0.522, total=   0.0s\n",
      "[CV] max_depth=10, max_features=24, n_estimators=25 ..................\n",
      "[CV]  max_depth=10, max_features=24, n_estimators=25, score=0.333, total=   0.0s\n",
      "[CV] max_depth=10, max_features=24, n_estimators=25 ..................\n",
      "[CV]  max_depth=10, max_features=24, n_estimators=25, score=0.444, total=   0.0s\n",
      "[CV] max_depth=10, max_features=24, n_estimators=25 ..................\n",
      "[CV]  max_depth=10, max_features=24, n_estimators=25, score=0.522, total=   0.0s\n",
      "[CV] max_depth=10, max_features=24, n_estimators=25 ..................\n",
      "[CV]  max_depth=10, max_features=24, n_estimators=25, score=0.413, total=   0.0s\n",
      "[CV] max_depth=10, max_features=24, n_estimators=25 ..................\n",
      "[CV]  max_depth=10, max_features=24, n_estimators=25, score=0.522, total=   0.0s\n",
      "[CV] max_depth=10, max_features=24, n_estimators=50 ..................\n",
      "[CV]  max_depth=10, max_features=24, n_estimators=50, score=0.378, total=   0.1s\n",
      "[CV] max_depth=10, max_features=24, n_estimators=50 ..................\n",
      "[CV]  max_depth=10, max_features=24, n_estimators=50, score=0.467, total=   0.1s\n",
      "[CV] max_depth=10, max_features=24, n_estimators=50 ..................\n",
      "[CV]  max_depth=10, max_features=24, n_estimators=50, score=0.543, total=   0.1s\n",
      "[CV] max_depth=10, max_features=24, n_estimators=50 ..................\n",
      "[CV]  max_depth=10, max_features=24, n_estimators=50, score=0.391, total=   0.1s\n",
      "[CV] max_depth=10, max_features=24, n_estimators=50 ..................\n",
      "[CV]  max_depth=10, max_features=24, n_estimators=50, score=0.565, total=   0.1s\n",
      "[CV] max_depth=10, max_features=24, n_estimators=150 .................\n",
      "[CV]  max_depth=10, max_features=24, n_estimators=150, score=0.400, total=   0.3s\n",
      "[CV] max_depth=10, max_features=24, n_estimators=150 .................\n",
      "[CV]  max_depth=10, max_features=24, n_estimators=150, score=0.467, total=   0.3s\n",
      "[CV] max_depth=10, max_features=24, n_estimators=150 .................\n",
      "[CV]  max_depth=10, max_features=24, n_estimators=150, score=0.478, total=   0.3s\n",
      "[CV] max_depth=10, max_features=24, n_estimators=150 .................\n",
      "[CV]  max_depth=10, max_features=24, n_estimators=150, score=0.370, total=   0.3s\n",
      "[CV] max_depth=10, max_features=24, n_estimators=150 .................\n",
      "[CV]  max_depth=10, max_features=24, n_estimators=150, score=0.522, total=   0.3s\n",
      "[CV] max_depth=None, max_features=4, n_estimators=3 ..................\n",
      "[CV]  max_depth=None, max_features=4, n_estimators=3, score=0.267, total=   0.0s\n",
      "[CV] max_depth=None, max_features=4, n_estimators=3 ..................\n",
      "[CV]  max_depth=None, max_features=4, n_estimators=3, score=0.400, total=   0.0s\n",
      "[CV] max_depth=None, max_features=4, n_estimators=3 ..................\n",
      "[CV]  max_depth=None, max_features=4, n_estimators=3, score=0.478, total=   0.0s\n",
      "[CV] max_depth=None, max_features=4, n_estimators=3 ..................\n",
      "[CV]  max_depth=None, max_features=4, n_estimators=3, score=0.435, total=   0.0s\n",
      "[CV] max_depth=None, max_features=4, n_estimators=3 ..................\n",
      "[CV]  max_depth=None, max_features=4, n_estimators=3, score=0.435, total=   0.0s\n",
      "[CV] max_depth=None, max_features=4, n_estimators=5 ..................\n",
      "[CV]  max_depth=None, max_features=4, n_estimators=5, score=0.200, total=   0.0s\n",
      "[CV] max_depth=None, max_features=4, n_estimators=5 ..................\n",
      "[CV]  max_depth=None, max_features=4, n_estimators=5, score=0.422, total=   0.0s\n",
      "[CV] max_depth=None, max_features=4, n_estimators=5 ..................\n",
      "[CV]  max_depth=None, max_features=4, n_estimators=5, score=0.522, total=   0.0s\n",
      "[CV] max_depth=None, max_features=4, n_estimators=5 ..................\n",
      "[CV]  max_depth=None, max_features=4, n_estimators=5, score=0.391, total=   0.0s\n",
      "[CV] max_depth=None, max_features=4, n_estimators=5 ..................\n",
      "[CV]  max_depth=None, max_features=4, n_estimators=5, score=0.391, total=   0.0s\n",
      "[CV] max_depth=None, max_features=4, n_estimators=10 .................\n",
      "[CV]  max_depth=None, max_features=4, n_estimators=10, score=0.267, total=   0.0s\n",
      "[CV] max_depth=None, max_features=4, n_estimators=10 .................\n",
      "[CV]  max_depth=None, max_features=4, n_estimators=10, score=0.356, total=   0.0s\n",
      "[CV] max_depth=None, max_features=4, n_estimators=10 .................\n",
      "[CV]  max_depth=None, max_features=4, n_estimators=10, score=0.391, total=   0.0s\n",
      "[CV] max_depth=None, max_features=4, n_estimators=10 .................\n",
      "[CV]  max_depth=None, max_features=4, n_estimators=10, score=0.283, total=   0.0s\n",
      "[CV] max_depth=None, max_features=4, n_estimators=10 .................\n",
      "[CV]  max_depth=None, max_features=4, n_estimators=10, score=0.283, total=   0.0s\n",
      "[CV] max_depth=None, max_features=4, n_estimators=25 .................\n",
      "[CV]  max_depth=None, max_features=4, n_estimators=25, score=0.267, total=   0.0s\n",
      "[CV] max_depth=None, max_features=4, n_estimators=25 .................\n"
     ]
    },
    {
     "name": "stdout",
     "output_type": "stream",
     "text": [
      "[CV]  max_depth=None, max_features=4, n_estimators=25, score=0.378, total=   0.0s\n",
      "[CV] max_depth=None, max_features=4, n_estimators=25 .................\n",
      "[CV]  max_depth=None, max_features=4, n_estimators=25, score=0.500, total=   0.0s\n",
      "[CV] max_depth=None, max_features=4, n_estimators=25 .................\n",
      "[CV]  max_depth=None, max_features=4, n_estimators=25, score=0.391, total=   0.0s\n",
      "[CV] max_depth=None, max_features=4, n_estimators=25 .................\n",
      "[CV]  max_depth=None, max_features=4, n_estimators=25, score=0.348, total=   0.0s\n",
      "[CV] max_depth=None, max_features=4, n_estimators=50 .................\n",
      "[CV]  max_depth=None, max_features=4, n_estimators=50, score=0.311, total=   0.1s\n",
      "[CV] max_depth=None, max_features=4, n_estimators=50 .................\n",
      "[CV]  max_depth=None, max_features=4, n_estimators=50, score=0.378, total=   0.1s\n",
      "[CV] max_depth=None, max_features=4, n_estimators=50 .................\n",
      "[CV]  max_depth=None, max_features=4, n_estimators=50, score=0.457, total=   0.1s\n",
      "[CV] max_depth=None, max_features=4, n_estimators=50 .................\n",
      "[CV]  max_depth=None, max_features=4, n_estimators=50, score=0.413, total=   0.1s\n",
      "[CV] max_depth=None, max_features=4, n_estimators=50 .................\n",
      "[CV]  max_depth=None, max_features=4, n_estimators=50, score=0.304, total=   0.1s\n",
      "[CV] max_depth=None, max_features=4, n_estimators=150 ................\n",
      "[CV]  max_depth=None, max_features=4, n_estimators=150, score=0.289, total=   0.2s\n",
      "[CV] max_depth=None, max_features=4, n_estimators=150 ................\n",
      "[CV]  max_depth=None, max_features=4, n_estimators=150, score=0.378, total=   0.2s\n",
      "[CV] max_depth=None, max_features=4, n_estimators=150 ................\n",
      "[CV]  max_depth=None, max_features=4, n_estimators=150, score=0.391, total=   0.2s\n",
      "[CV] max_depth=None, max_features=4, n_estimators=150 ................\n",
      "[CV]  max_depth=None, max_features=4, n_estimators=150, score=0.435, total=   0.2s\n",
      "[CV] max_depth=None, max_features=4, n_estimators=150 ................\n",
      "[CV]  max_depth=None, max_features=4, n_estimators=150, score=0.326, total=   0.2s\n",
      "[CV] max_depth=None, max_features=7, n_estimators=3 ..................\n",
      "[CV]  max_depth=None, max_features=7, n_estimators=3, score=0.400, total=   0.0s\n",
      "[CV] max_depth=None, max_features=7, n_estimators=3 ..................\n",
      "[CV]  max_depth=None, max_features=7, n_estimators=3, score=0.444, total=   0.0s\n",
      "[CV] max_depth=None, max_features=7, n_estimators=3 ..................\n",
      "[CV]  max_depth=None, max_features=7, n_estimators=3, score=0.522, total=   0.0s\n",
      "[CV] max_depth=None, max_features=7, n_estimators=3 ..................\n",
      "[CV]  max_depth=None, max_features=7, n_estimators=3, score=0.522, total=   0.0s\n",
      "[CV] max_depth=None, max_features=7, n_estimators=3 ..................\n",
      "[CV]  max_depth=None, max_features=7, n_estimators=3, score=0.457, total=   0.0s\n",
      "[CV] max_depth=None, max_features=7, n_estimators=5 ..................\n",
      "[CV]  max_depth=None, max_features=7, n_estimators=5, score=0.356, total=   0.0s\n",
      "[CV] max_depth=None, max_features=7, n_estimators=5 ..................\n",
      "[CV]  max_depth=None, max_features=7, n_estimators=5, score=0.378, total=   0.0s\n",
      "[CV] max_depth=None, max_features=7, n_estimators=5 ..................\n",
      "[CV]  max_depth=None, max_features=7, n_estimators=5, score=0.543, total=   0.0s\n",
      "[CV] max_depth=None, max_features=7, n_estimators=5 ..................\n",
      "[CV]  max_depth=None, max_features=7, n_estimators=5, score=0.391, total=   0.0s\n",
      "[CV] max_depth=None, max_features=7, n_estimators=5 ..................\n",
      "[CV]  max_depth=None, max_features=7, n_estimators=5, score=0.457, total=   0.0s\n",
      "[CV] max_depth=None, max_features=7, n_estimators=10 .................\n",
      "[CV]  max_depth=None, max_features=7, n_estimators=10, score=0.311, total=   0.0s\n",
      "[CV] max_depth=None, max_features=7, n_estimators=10 .................\n",
      "[CV]  max_depth=None, max_features=7, n_estimators=10, score=0.378, total=   0.0s\n",
      "[CV] max_depth=None, max_features=7, n_estimators=10 .................\n",
      "[CV]  max_depth=None, max_features=7, n_estimators=10, score=0.435, total=   0.0s\n",
      "[CV] max_depth=None, max_features=7, n_estimators=10 .................\n",
      "[CV]  max_depth=None, max_features=7, n_estimators=10, score=0.326, total=   0.0s\n",
      "[CV] max_depth=None, max_features=7, n_estimators=10 .................\n",
      "[CV]  max_depth=None, max_features=7, n_estimators=10, score=0.478, total=   0.0s\n",
      "[CV] max_depth=None, max_features=7, n_estimators=25 .................\n",
      "[CV]  max_depth=None, max_features=7, n_estimators=25, score=0.333, total=   0.0s\n",
      "[CV] max_depth=None, max_features=7, n_estimators=25 .................\n",
      "[CV]  max_depth=None, max_features=7, n_estimators=25, score=0.378, total=   0.0s\n",
      "[CV] max_depth=None, max_features=7, n_estimators=25 .................\n",
      "[CV]  max_depth=None, max_features=7, n_estimators=25, score=0.413, total=   0.0s\n",
      "[CV] max_depth=None, max_features=7, n_estimators=25 .................\n",
      "[CV]  max_depth=None, max_features=7, n_estimators=25, score=0.413, total=   0.0s\n",
      "[CV] max_depth=None, max_features=7, n_estimators=25 .................\n",
      "[CV]  max_depth=None, max_features=7, n_estimators=25, score=0.413, total=   0.0s\n",
      "[CV] max_depth=None, max_features=7, n_estimators=50 .................\n",
      "[CV]  max_depth=None, max_features=7, n_estimators=50, score=0.333, total=   0.1s\n",
      "[CV] max_depth=None, max_features=7, n_estimators=50 .................\n",
      "[CV]  max_depth=None, max_features=7, n_estimators=50, score=0.333, total=   0.1s\n",
      "[CV] max_depth=None, max_features=7, n_estimators=50 .................\n",
      "[CV]  max_depth=None, max_features=7, n_estimators=50, score=0.435, total=   0.1s\n",
      "[CV] max_depth=None, max_features=7, n_estimators=50 .................\n",
      "[CV]  max_depth=None, max_features=7, n_estimators=50, score=0.326, total=   0.1s\n",
      "[CV] max_depth=None, max_features=7, n_estimators=50 .................\n",
      "[CV]  max_depth=None, max_features=7, n_estimators=50, score=0.413, total=   0.1s\n",
      "[CV] max_depth=None, max_features=7, n_estimators=150 ................\n",
      "[CV]  max_depth=None, max_features=7, n_estimators=150, score=0.311, total=   0.2s\n",
      "[CV] max_depth=None, max_features=7, n_estimators=150 ................\n",
      "[CV]  max_depth=None, max_features=7, n_estimators=150, score=0.333, total=   0.2s\n",
      "[CV] max_depth=None, max_features=7, n_estimators=150 ................\n",
      "[CV]  max_depth=None, max_features=7, n_estimators=150, score=0.457, total=   0.2s\n",
      "[CV] max_depth=None, max_features=7, n_estimators=150 ................\n",
      "[CV]  max_depth=None, max_features=7, n_estimators=150, score=0.370, total=   0.2s\n",
      "[CV] max_depth=None, max_features=7, n_estimators=150 ................\n",
      "[CV]  max_depth=None, max_features=7, n_estimators=150, score=0.435, total=   0.2s\n",
      "[CV] max_depth=None, max_features=15, n_estimators=3 .................\n",
      "[CV]  max_depth=None, max_features=15, n_estimators=3, score=0.333, total=   0.0s\n",
      "[CV] max_depth=None, max_features=15, n_estimators=3 .................\n",
      "[CV]  max_depth=None, max_features=15, n_estimators=3, score=0.489, total=   0.0s\n",
      "[CV] max_depth=None, max_features=15, n_estimators=3 .................\n",
      "[CV]  max_depth=None, max_features=15, n_estimators=3, score=0.522, total=   0.0s\n",
      "[CV] max_depth=None, max_features=15, n_estimators=3 .................\n",
      "[CV]  max_depth=None, max_features=15, n_estimators=3, score=0.478, total=   0.0s\n",
      "[CV] max_depth=None, max_features=15, n_estimators=3 .................\n",
      "[CV]  max_depth=None, max_features=15, n_estimators=3, score=0.304, total=   0.0s\n",
      "[CV] max_depth=None, max_features=15, n_estimators=5 .................\n",
      "[CV]  max_depth=None, max_features=15, n_estimators=5, score=0.400, total=   0.0s\n",
      "[CV] max_depth=None, max_features=15, n_estimators=5 .................\n",
      "[CV]  max_depth=None, max_features=15, n_estimators=5, score=0.511, total=   0.0s\n",
      "[CV] max_depth=None, max_features=15, n_estimators=5 .................\n",
      "[CV]  max_depth=None, max_features=15, n_estimators=5, score=0.457, total=   0.0s\n",
      "[CV] max_depth=None, max_features=15, n_estimators=5 .................\n",
      "[CV]  max_depth=None, max_features=15, n_estimators=5, score=0.500, total=   0.0s\n",
      "[CV] max_depth=None, max_features=15, n_estimators=5 .................\n",
      "[CV]  max_depth=None, max_features=15, n_estimators=5, score=0.457, total=   0.0s\n",
      "[CV] max_depth=None, max_features=15, n_estimators=10 ................\n",
      "[CV]  max_depth=None, max_features=15, n_estimators=10, score=0.311, total=   0.0s\n",
      "[CV] max_depth=None, max_features=15, n_estimators=10 ................\n",
      "[CV]  max_depth=None, max_features=15, n_estimators=10, score=0.378, total=   0.0s\n",
      "[CV] max_depth=None, max_features=15, n_estimators=10 ................\n",
      "[CV]  max_depth=None, max_features=15, n_estimators=10, score=0.370, total=   0.0s\n",
      "[CV] max_depth=None, max_features=15, n_estimators=10 ................\n",
      "[CV]  max_depth=None, max_features=15, n_estimators=10, score=0.348, total=   0.0s\n",
      "[CV] max_depth=None, max_features=15, n_estimators=10 ................\n",
      "[CV]  max_depth=None, max_features=15, n_estimators=10, score=0.435, total=   0.0s\n",
      "[CV] max_depth=None, max_features=15, n_estimators=25 ................\n"
     ]
    },
    {
     "name": "stdout",
     "output_type": "stream",
     "text": [
      "[CV]  max_depth=None, max_features=15, n_estimators=25, score=0.311, total=   0.0s\n",
      "[CV] max_depth=None, max_features=15, n_estimators=25 ................\n",
      "[CV]  max_depth=None, max_features=15, n_estimators=25, score=0.467, total=   0.0s\n",
      "[CV] max_depth=None, max_features=15, n_estimators=25 ................\n",
      "[CV]  max_depth=None, max_features=15, n_estimators=25, score=0.522, total=   0.1s\n",
      "[CV] max_depth=None, max_features=15, n_estimators=25 ................\n",
      "[CV]  max_depth=None, max_features=15, n_estimators=25, score=0.348, total=   0.0s\n",
      "[CV] max_depth=None, max_features=15, n_estimators=25 ................\n",
      "[CV]  max_depth=None, max_features=15, n_estimators=25, score=0.500, total=   0.0s\n",
      "[CV] max_depth=None, max_features=15, n_estimators=50 ................\n",
      "[CV]  max_depth=None, max_features=15, n_estimators=50, score=0.422, total=   0.1s\n",
      "[CV] max_depth=None, max_features=15, n_estimators=50 ................\n",
      "[CV]  max_depth=None, max_features=15, n_estimators=50, score=0.444, total=   0.1s\n",
      "[CV] max_depth=None, max_features=15, n_estimators=50 ................\n",
      "[CV]  max_depth=None, max_features=15, n_estimators=50, score=0.435, total=   0.1s\n",
      "[CV] max_depth=None, max_features=15, n_estimators=50 ................\n",
      "[CV]  max_depth=None, max_features=15, n_estimators=50, score=0.326, total=   0.1s\n",
      "[CV] max_depth=None, max_features=15, n_estimators=50 ................\n",
      "[CV]  max_depth=None, max_features=15, n_estimators=50, score=0.522, total=   0.1s\n",
      "[CV] max_depth=None, max_features=15, n_estimators=150 ...............\n",
      "[CV]  max_depth=None, max_features=15, n_estimators=150, score=0.378, total=   0.2s\n",
      "[CV] max_depth=None, max_features=15, n_estimators=150 ...............\n",
      "[CV]  max_depth=None, max_features=15, n_estimators=150, score=0.422, total=   0.2s\n",
      "[CV] max_depth=None, max_features=15, n_estimators=150 ...............\n",
      "[CV]  max_depth=None, max_features=15, n_estimators=150, score=0.478, total=   0.2s\n",
      "[CV] max_depth=None, max_features=15, n_estimators=150 ...............\n",
      "[CV]  max_depth=None, max_features=15, n_estimators=150, score=0.413, total=   0.2s\n",
      "[CV] max_depth=None, max_features=15, n_estimators=150 ...............\n",
      "[CV]  max_depth=None, max_features=15, n_estimators=150, score=0.543, total=   0.2s\n",
      "[CV] max_depth=None, max_features=20, n_estimators=3 .................\n",
      "[CV]  max_depth=None, max_features=20, n_estimators=3, score=0.489, total=   0.0s\n",
      "[CV] max_depth=None, max_features=20, n_estimators=3 .................\n",
      "[CV]  max_depth=None, max_features=20, n_estimators=3, score=0.533, total=   0.0s\n",
      "[CV] max_depth=None, max_features=20, n_estimators=3 .................\n",
      "[CV]  max_depth=None, max_features=20, n_estimators=3, score=0.543, total=   0.0s\n",
      "[CV] max_depth=None, max_features=20, n_estimators=3 .................\n",
      "[CV]  max_depth=None, max_features=20, n_estimators=3, score=0.500, total=   0.0s\n",
      "[CV] max_depth=None, max_features=20, n_estimators=3 .................\n",
      "[CV]  max_depth=None, max_features=20, n_estimators=3, score=0.478, total=   0.0s\n",
      "[CV] max_depth=None, max_features=20, n_estimators=5 .................\n",
      "[CV]  max_depth=None, max_features=20, n_estimators=5, score=0.400, total=   0.0s\n",
      "[CV] max_depth=None, max_features=20, n_estimators=5 .................\n",
      "[CV]  max_depth=None, max_features=20, n_estimators=5, score=0.556, total=   0.0s\n",
      "[CV] max_depth=None, max_features=20, n_estimators=5 .................\n",
      "[CV]  max_depth=None, max_features=20, n_estimators=5, score=0.543, total=   0.0s\n",
      "[CV] max_depth=None, max_features=20, n_estimators=5 .................\n",
      "[CV]  max_depth=None, max_features=20, n_estimators=5, score=0.413, total=   0.0s\n",
      "[CV] max_depth=None, max_features=20, n_estimators=5 .................\n",
      "[CV]  max_depth=None, max_features=20, n_estimators=5, score=0.543, total=   0.0s\n",
      "[CV] max_depth=None, max_features=20, n_estimators=10 ................\n",
      "[CV]  max_depth=None, max_features=20, n_estimators=10, score=0.311, total=   0.0s\n",
      "[CV] max_depth=None, max_features=20, n_estimators=10 ................\n",
      "[CV]  max_depth=None, max_features=20, n_estimators=10, score=0.533, total=   0.0s\n",
      "[CV] max_depth=None, max_features=20, n_estimators=10 ................\n",
      "[CV]  max_depth=None, max_features=20, n_estimators=10, score=0.413, total=   0.0s\n",
      "[CV] max_depth=None, max_features=20, n_estimators=10 ................\n",
      "[CV]  max_depth=None, max_features=20, n_estimators=10, score=0.283, total=   0.0s\n",
      "[CV] max_depth=None, max_features=20, n_estimators=10 ................\n",
      "[CV]  max_depth=None, max_features=20, n_estimators=10, score=0.543, total=   0.0s\n",
      "[CV] max_depth=None, max_features=20, n_estimators=25 ................\n",
      "[CV]  max_depth=None, max_features=20, n_estimators=25, score=0.356, total=   0.0s\n",
      "[CV] max_depth=None, max_features=20, n_estimators=25 ................\n",
      "[CV]  max_depth=None, max_features=20, n_estimators=25, score=0.489, total=   0.0s\n",
      "[CV] max_depth=None, max_features=20, n_estimators=25 ................\n",
      "[CV]  max_depth=None, max_features=20, n_estimators=25, score=0.522, total=   0.0s\n",
      "[CV] max_depth=None, max_features=20, n_estimators=25 ................\n",
      "[CV]  max_depth=None, max_features=20, n_estimators=25, score=0.326, total=   0.0s\n",
      "[CV] max_depth=None, max_features=20, n_estimators=25 ................\n",
      "[CV]  max_depth=None, max_features=20, n_estimators=25, score=0.565, total=   0.0s\n",
      "[CV] max_depth=None, max_features=20, n_estimators=50 ................\n",
      "[CV]  max_depth=None, max_features=20, n_estimators=50, score=0.444, total=   0.1s\n",
      "[CV] max_depth=None, max_features=20, n_estimators=50 ................\n",
      "[CV]  max_depth=None, max_features=20, n_estimators=50, score=0.467, total=   0.1s\n",
      "[CV] max_depth=None, max_features=20, n_estimators=50 ................\n",
      "[CV]  max_depth=None, max_features=20, n_estimators=50, score=0.543, total=   0.1s\n",
      "[CV] max_depth=None, max_features=20, n_estimators=50 ................\n",
      "[CV]  max_depth=None, max_features=20, n_estimators=50, score=0.348, total=   0.1s\n",
      "[CV] max_depth=None, max_features=20, n_estimators=50 ................\n",
      "[CV]  max_depth=None, max_features=20, n_estimators=50, score=0.543, total=   0.1s\n",
      "[CV] max_depth=None, max_features=20, n_estimators=150 ...............\n",
      "[CV]  max_depth=None, max_features=20, n_estimators=150, score=0.422, total=   0.3s\n",
      "[CV] max_depth=None, max_features=20, n_estimators=150 ...............\n",
      "[CV]  max_depth=None, max_features=20, n_estimators=150, score=0.422, total=   0.2s\n",
      "[CV] max_depth=None, max_features=20, n_estimators=150 ...............\n",
      "[CV]  max_depth=None, max_features=20, n_estimators=150, score=0.500, total=   0.3s\n",
      "[CV] max_depth=None, max_features=20, n_estimators=150 ...............\n",
      "[CV]  max_depth=None, max_features=20, n_estimators=150, score=0.391, total=   0.3s\n",
      "[CV] max_depth=None, max_features=20, n_estimators=150 ...............\n",
      "[CV]  max_depth=None, max_features=20, n_estimators=150, score=0.500, total=   0.3s\n",
      "[CV] max_depth=None, max_features=24, n_estimators=3 .................\n",
      "[CV]  max_depth=None, max_features=24, n_estimators=3, score=0.356, total=   0.0s\n",
      "[CV] max_depth=None, max_features=24, n_estimators=3 .................\n",
      "[CV]  max_depth=None, max_features=24, n_estimators=3, score=0.489, total=   0.0s\n",
      "[CV] max_depth=None, max_features=24, n_estimators=3 .................\n",
      "[CV]  max_depth=None, max_features=24, n_estimators=3, score=0.543, total=   0.0s\n",
      "[CV] max_depth=None, max_features=24, n_estimators=3 .................\n",
      "[CV]  max_depth=None, max_features=24, n_estimators=3, score=0.565, total=   0.0s\n",
      "[CV] max_depth=None, max_features=24, n_estimators=3 .................\n",
      "[CV]  max_depth=None, max_features=24, n_estimators=3, score=0.522, total=   0.0s\n",
      "[CV] max_depth=None, max_features=24, n_estimators=5 .................\n",
      "[CV]  max_depth=None, max_features=24, n_estimators=5, score=0.378, total=   0.0s\n",
      "[CV] max_depth=None, max_features=24, n_estimators=5 .................\n",
      "[CV]  max_depth=None, max_features=24, n_estimators=5, score=0.556, total=   0.0s\n",
      "[CV] max_depth=None, max_features=24, n_estimators=5 .................\n",
      "[CV]  max_depth=None, max_features=24, n_estimators=5, score=0.565, total=   0.0s\n",
      "[CV] max_depth=None, max_features=24, n_estimators=5 .................\n",
      "[CV]  max_depth=None, max_features=24, n_estimators=5, score=0.457, total=   0.0s\n",
      "[CV] max_depth=None, max_features=24, n_estimators=5 .................\n",
      "[CV]  max_depth=None, max_features=24, n_estimators=5, score=0.630, total=   0.0s\n",
      "[CV] max_depth=None, max_features=24, n_estimators=10 ................\n",
      "[CV]  max_depth=None, max_features=24, n_estimators=10, score=0.400, total=   0.0s\n",
      "[CV] max_depth=None, max_features=24, n_estimators=10 ................\n",
      "[CV]  max_depth=None, max_features=24, n_estimators=10, score=0.378, total=   0.0s\n",
      "[CV] max_depth=None, max_features=24, n_estimators=10 ................\n",
      "[CV]  max_depth=None, max_features=24, n_estimators=10, score=0.435, total=   0.0s\n",
      "[CV] max_depth=None, max_features=24, n_estimators=10 ................\n",
      "[CV]  max_depth=None, max_features=24, n_estimators=10, score=0.370, total=   0.0s\n",
      "[CV] max_depth=None, max_features=24, n_estimators=10 ................\n"
     ]
    },
    {
     "name": "stdout",
     "output_type": "stream",
     "text": [
      "[CV]  max_depth=None, max_features=24, n_estimators=10, score=0.478, total=   0.0s\n",
      "[CV] max_depth=None, max_features=24, n_estimators=25 ................\n",
      "[CV]  max_depth=None, max_features=24, n_estimators=25, score=0.400, total=   0.1s\n",
      "[CV] max_depth=None, max_features=24, n_estimators=25 ................\n",
      "[CV]  max_depth=None, max_features=24, n_estimators=25, score=0.489, total=   0.0s\n",
      "[CV] max_depth=None, max_features=24, n_estimators=25 ................\n",
      "[CV]  max_depth=None, max_features=24, n_estimators=25, score=0.522, total=   0.0s\n",
      "[CV] max_depth=None, max_features=24, n_estimators=25 ................\n",
      "[CV]  max_depth=None, max_features=24, n_estimators=25, score=0.391, total=   0.0s\n",
      "[CV] max_depth=None, max_features=24, n_estimators=25 ................\n",
      "[CV]  max_depth=None, max_features=24, n_estimators=25, score=0.500, total=   0.1s\n",
      "[CV] max_depth=None, max_features=24, n_estimators=50 ................\n",
      "[CV]  max_depth=None, max_features=24, n_estimators=50, score=0.400, total=   0.1s\n",
      "[CV] max_depth=None, max_features=24, n_estimators=50 ................\n",
      "[CV]  max_depth=None, max_features=24, n_estimators=50, score=0.467, total=   0.1s\n",
      "[CV] max_depth=None, max_features=24, n_estimators=50 ................\n",
      "[CV]  max_depth=None, max_features=24, n_estimators=50, score=0.478, total=   0.1s\n",
      "[CV] max_depth=None, max_features=24, n_estimators=50 ................\n",
      "[CV]  max_depth=None, max_features=24, n_estimators=50, score=0.391, total=   0.1s\n",
      "[CV] max_depth=None, max_features=24, n_estimators=50 ................\n",
      "[CV]  max_depth=None, max_features=24, n_estimators=50, score=0.500, total=   0.1s\n",
      "[CV] max_depth=None, max_features=24, n_estimators=150 ...............\n",
      "[CV]  max_depth=None, max_features=24, n_estimators=150, score=0.422, total=   0.3s\n",
      "[CV] max_depth=None, max_features=24, n_estimators=150 ...............\n",
      "[CV]  max_depth=None, max_features=24, n_estimators=150, score=0.422, total=   0.3s\n",
      "[CV] max_depth=None, max_features=24, n_estimators=150 ...............\n",
      "[CV]  max_depth=None, max_features=24, n_estimators=150, score=0.500, total=   0.3s\n",
      "[CV] max_depth=None, max_features=24, n_estimators=150 ...............\n",
      "[CV]  max_depth=None, max_features=24, n_estimators=150, score=0.370, total=   0.3s\n",
      "[CV] max_depth=None, max_features=24, n_estimators=150 ...............\n",
      "[CV]  max_depth=None, max_features=24, n_estimators=150, score=0.478, total=   0.3s\n"
     ]
    },
    {
     "name": "stderr",
     "output_type": "stream",
     "text": [
      "[Parallel(n_jobs=1)]: Done 750 out of 750 | elapsed:   43.9s finished\n"
     ]
    },
    {
     "data": {
      "text/plain": [
       "GridSearchCV(cv=5, estimator=RandomForestClassifier(random_state=2),\n",
       "             param_grid={'max_depth': [3, 5, 7, 10, None],\n",
       "                         'max_features': [4, 7, 15, 20, 24],\n",
       "                         'n_estimators': [3, 5, 10, 25, 50, 150]},\n",
       "             scoring='recall', verbose=4)"
      ]
     },
     "execution_count": 68,
     "metadata": {},
     "output_type": "execute_result"
    }
   ],
   "source": [
    "#Seting the Hyper Parameters\n",
    "param_grid = {\"max_depth\": [3,5, 7, 10,None],\n",
    "              \"n_estimators\":[3,5,10,25,50,150],\n",
    "              \"max_features\": [4,7,15,20,24]}\n",
    "\n",
    "#Creating the classifier\n",
    "model = RandomForestClassifier(random_state=2)\n",
    "\n",
    "grid_search = GridSearchCV(model, param_grid=param_grid, cv=5, scoring='recall', verbose=4)\n",
    "grid_search.fit(X_train, y_train)"
   ]
  },
  {
   "cell_type": "code",
   "execution_count": 69,
   "metadata": {
    "colab": {
     "base_uri": "https://localhost:8080/"
    },
    "id": "ZgmQ6izAEzlI",
    "outputId": "3c16d01e-62f2-4662-ee54-3958cf10ecb7"
   },
   "outputs": [
    {
     "name": "stdout",
     "output_type": "stream",
     "text": [
      "0.5171014492753623\n",
      "{'max_depth': None, 'max_features': 24, 'n_estimators': 5}\n"
     ]
    }
   ],
   "source": [
    "print(grid_search.best_score_)\n",
    "print(grid_search.best_params_)"
   ]
  },
  {
   "cell_type": "code",
   "execution_count": 82,
   "metadata": {
    "colab": {
     "base_uri": "https://localhost:8080/"
    },
    "id": "PyoHDfdJEzlI",
    "outputId": "975f375c-781f-45a8-e720-e003bb5cfef7"
   },
   "outputs": [
    {
     "data": {
      "text/plain": [
       "RandomForestClassifier(max_features=20, n_estimators=3, random_state=0)"
      ]
     },
     "execution_count": 82,
     "metadata": {},
     "output_type": "execute_result"
    }
   ],
   "source": [
    "rf = RandomForestClassifier(max_depth=None, max_features=20, n_estimators=3, random_state=0)\n",
    "# rf = RandomForestClassifier(max_depth=None, max_features=7, n_estimators=3, random_state=0)\n",
    "\n",
    "#trainning with the best params\n",
    "rf.fit(X_train, y_train)"
   ]
  },
  {
   "cell_type": "code",
   "execution_count": 83,
   "metadata": {
    "colab": {
     "base_uri": "https://localhost:8080/"
    },
    "id": "RQSZeuPhEzlI",
    "outputId": "0aa17dde-2109-4515-d1c7-1cc8ec9ff002"
   },
   "outputs": [
    {
     "name": "stdout",
     "output_type": "stream",
     "text": [
      "0.712\n",
      "0.7157849563046191\n",
      "\n",
      "\n",
      "[[147  31]\n",
      " [ 41  31]]\n",
      "\n",
      "\n",
      "0.4428571428571429\n"
     ]
    }
   ],
   "source": [
    "#Testing the model \n",
    "#Predicting using our  model\n",
    "y_pred = rf.predict(X_test)\n",
    "y_pred_prob=rf.predict_proba(X_test)\n",
    "# Verificaar os resultados obtidos\n",
    "print(accuracy_score(y_test,y_pred))\n",
    "# print(roc_auc_score(y_test,y_pred))\n",
    "print(roc_auc_score(y_test, rf.predict_proba(X_test)[:, 1]))\n",
    "print(\"\\n\")\n",
    "print(confusion_matrix(y_test, y_pred))\n",
    "print(\"\\n\")\n",
    "print(fbeta_score(y_test, y_pred, beta=2))"
   ]
  },
  {
   "cell_type": "code",
   "execution_count": 115,
   "metadata": {},
   "outputs": [
    {
     "data": {
      "text/plain": [
       "Text(0.5, 1.0, 'ROC curve of the RandomForestClassifier')"
      ]
     },
     "execution_count": 115,
     "metadata": {},
     "output_type": "execute_result"
    },
    {
     "data": {
      "text/plain": [
       "<Figure size 720x720 with 0 Axes>"
      ]
     },
     "metadata": {},
     "output_type": "display_data"
    },
    {
     "data": {
      "image/png": "[encoded data removed]",
      "text/plain": [
       "<Figure size 432x288 with 1 Axes>"
      ]
     },
     "metadata": {
      "needs_background": "light"
     },
     "output_type": "display_data"
    }
   ],
   "source": [
    "from sklearn.metrics import plot_roc_curve\n",
    "plt.figure(figsize=(10,10))\n",
    "plot_roc_curve(rf, X_test, y_test) \n",
    "plt.title('ROC curve of the RandomForestClassifier')"
   ]
  },
  {
   "cell_type": "markdown",
   "metadata": {
    "id": "vY0Sqv7UF74T"
   },
   "source": [
    "## Task 2"
   ]
  },
  {
   "cell_type": "code",
   "execution_count": 84,
   "metadata": {
    "colab": {
     "base_uri": "https://localhost:8080/"
    },
    "id": "evRH65ZQGfBs",
    "outputId": "8f37d10e-19c1-4fdd-af89-e34780e52634"
   },
   "outputs": [
    {
     "data": {
      "text/plain": [
       "Index(['Age', 'Job', 'Credit amount', 'Duration', 'Purpose_car',\n",
       "       'Purpose_domestic appliances', 'Purpose_education',\n",
       "       'Purpose_furniture/equipment', 'Purpose_radio/TV', 'Purpose_repairs',\n",
       "       'Purpose_vacation/others', 'Sex_male', 'Housing_own', 'Housing_rent',\n",
       "       'Savings_moderate', 'Savings_no_inf', 'Savings_quite rich',\n",
       "       'Savings_rich', 'Risk_bad', 'Check_moderate', 'Check_no_inf',\n",
       "       'Check_rich', 'Age_cat_Young', 'Age_cat_Adult', 'Age_cat_Senior'],\n",
       "      dtype='object')"
      ]
     },
     "execution_count": 84,
     "metadata": {},
     "output_type": "execute_result"
    }
   ],
   "source": [
    "df_credit.columns"
   ]
  },
  {
   "cell_type": "code",
   "execution_count": 85,
   "metadata": {
    "id": "I8CPdimlGeTL"
   },
   "outputs": [],
   "source": [
    "test_df =  pd.DataFrame(X_test, columns=['Age', 'Job', 'Credit amount', 'Duration', 'Purpose_car',\n",
    "       'Purpose_domestic appliances', 'Purpose_education',\n",
    "       'Purpose_furniture/equipment', 'Purpose_radio/TV', 'Purpose_repairs',\n",
    "       'Purpose_vacation/others', 'Sex_male', 'Housing_own', 'Housing_rent',\n",
    "       'Savings_moderate', 'Savings_no_inf', 'Savings_quite rich',\n",
    "       'Savings_rich', 'Check_moderate', 'Check_no_inf',\n",
    "       'Check_rich', 'Age_cat_Young', 'Age_cat_Adult', 'Age_cat_Senior'])"
   ]
  },
  {
   "cell_type": "code",
   "execution_count": 86,
   "metadata": {
    "id": "BAlsFugRGdqn"
   },
   "outputs": [],
   "source": [
    "test_df['Risk_bad'] = y_test"
   ]
  },
  {
   "cell_type": "code",
   "execution_count": 87,
   "metadata": {
    "colab": {
     "base_uri": "https://localhost:8080/"
    },
    "id": "KLTem1RALiMp",
    "outputId": "304a67cc-a71a-466c-c61c-681a0d0a7523"
   },
   "outputs": [
    {
     "data": {
      "text/plain": [
       "0      0.0\n",
       "1      1.0\n",
       "2      1.0\n",
       "3      1.0\n",
       "4      1.0\n",
       "      ... \n",
       "245    1.0\n",
       "246    1.0\n",
       "247    1.0\n",
       "248    1.0\n",
       "249    1.0\n",
       "Name: Sex_male, Length: 250, dtype: float64"
      ]
     },
     "execution_count": 87,
     "metadata": {},
     "output_type": "execute_result"
    }
   ],
   "source": [
    "test_df['Sex_male']"
   ]
  },
  {
   "cell_type": "markdown",
   "metadata": {
    "id": "yR6mjQ5nGDPD"
   },
   "source": [
    "### Anti-Classifiction"
   ]
  },
  {
   "cell_type": "code",
   "execution_count": 88,
   "metadata": {},
   "outputs": [],
   "source": [
    "age_df = test_df.copy()\n",
    "# student_age = []\n",
    "\n",
    "# for i, row in age_df.iterrows():\n",
    "#     if row.Age_cat_Young == 0.0 and row.Age_cat_Adult == 0.0 and row.Age_cat_Senior == 0.0:\n",
    "#         student_age.append(1.0)\n",
    "#     else:\n",
    "#         student_age.append(0.0)\n",
    "        \n",
    "# age_df['Age_cat_Student'] = student_age\n",
    "\n",
    "# age_df"
   ]
  },
  {
   "cell_type": "code",
   "execution_count": 89,
   "metadata": {},
   "outputs": [
    {
     "ename": "KeyError",
     "evalue": "\"['predicted_risk_bad'] not found in axis\"",
     "output_type": "error",
     "traceback": [
      "\u001b[0;31m---------------------------------------------------------------------------\u001b[0m",
      "\u001b[0;31mKeyError\u001b[0m                                  Traceback (most recent call last)",
      "\u001b[0;32m<ipython-input-89-37d45a7d2c54>\u001b[0m in \u001b[0;36m<module>\u001b[0;34m\u001b[0m\n\u001b[0;32m----> 1\u001b[0;31m \u001b[0mage_df\u001b[0m \u001b[0;34m=\u001b[0m \u001b[0mage_df\u001b[0m\u001b[0;34m.\u001b[0m\u001b[0mdrop\u001b[0m\u001b[0;34m(\u001b[0m\u001b[0;34m'predicted_risk_bad'\u001b[0m\u001b[0;34m,\u001b[0m \u001b[0;36m1\u001b[0m\u001b[0;34m)\u001b[0m\u001b[0;34m\u001b[0m\u001b[0;34m\u001b[0m\u001b[0m\n\u001b[0m",
      "\u001b[0;32m/Library/Frameworks/Python.framework/Versions/3.8/lib/python3.8/site-packages/pandas/util/_decorators.py\u001b[0m in \u001b[0;36mwrapper\u001b[0;34m(*args, **kwargs)\u001b[0m\n\u001b[1;32m    309\u001b[0m                     \u001b[0mstacklevel\u001b[0m\u001b[0;34m=\u001b[0m\u001b[0mstacklevel\u001b[0m\u001b[0;34m,\u001b[0m\u001b[0;34m\u001b[0m\u001b[0;34m\u001b[0m\u001b[0m\n\u001b[1;32m    310\u001b[0m                 )\n\u001b[0;32m--> 311\u001b[0;31m             \u001b[0;32mreturn\u001b[0m \u001b[0mfunc\u001b[0m\u001b[0;34m(\u001b[0m\u001b[0;34m*\u001b[0m\u001b[0margs\u001b[0m\u001b[0;34m,\u001b[0m \u001b[0;34m**\u001b[0m\u001b[0mkwargs\u001b[0m\u001b[0;34m)\u001b[0m\u001b[0;34m\u001b[0m\u001b[0;34m\u001b[0m\u001b[0m\n\u001b[0m\u001b[1;32m    312\u001b[0m \u001b[0;34m\u001b[0m\u001b[0m\n\u001b[1;32m    313\u001b[0m         \u001b[0;32mreturn\u001b[0m \u001b[0mwrapper\u001b[0m\u001b[0;34m\u001b[0m\u001b[0;34m\u001b[0m\u001b[0m\n",
      "\u001b[0;32m/Library/Frameworks/Python.framework/Versions/3.8/lib/python3.8/site-packages/pandas/core/frame.py\u001b[0m in \u001b[0;36mdrop\u001b[0;34m(self, labels, axis, index, columns, level, inplace, errors)\u001b[0m\n\u001b[1;32m   4952\u001b[0m                 \u001b[0mweight\u001b[0m  \u001b[0;36m1.0\u001b[0m     \u001b[0;36m0.8\u001b[0m\u001b[0;34m\u001b[0m\u001b[0;34m\u001b[0m\u001b[0m\n\u001b[1;32m   4953\u001b[0m         \"\"\"\n\u001b[0;32m-> 4954\u001b[0;31m         return super().drop(\n\u001b[0m\u001b[1;32m   4955\u001b[0m             \u001b[0mlabels\u001b[0m\u001b[0;34m=\u001b[0m\u001b[0mlabels\u001b[0m\u001b[0;34m,\u001b[0m\u001b[0;34m\u001b[0m\u001b[0;34m\u001b[0m\u001b[0m\n\u001b[1;32m   4956\u001b[0m             \u001b[0maxis\u001b[0m\u001b[0;34m=\u001b[0m\u001b[0maxis\u001b[0m\u001b[0;34m,\u001b[0m\u001b[0;34m\u001b[0m\u001b[0;34m\u001b[0m\u001b[0m\n",
      "\u001b[0;32m/Library/Frameworks/Python.framework/Versions/3.8/lib/python3.8/site-packages/pandas/core/generic.py\u001b[0m in \u001b[0;36mdrop\u001b[0;34m(self, labels, axis, index, columns, level, inplace, errors)\u001b[0m\n\u001b[1;32m   4265\u001b[0m         \u001b[0;32mfor\u001b[0m \u001b[0maxis\u001b[0m\u001b[0;34m,\u001b[0m \u001b[0mlabels\u001b[0m \u001b[0;32min\u001b[0m \u001b[0maxes\u001b[0m\u001b[0;34m.\u001b[0m\u001b[0mitems\u001b[0m\u001b[0;34m(\u001b[0m\u001b[0;34m)\u001b[0m\u001b[0;34m:\u001b[0m\u001b[0;34m\u001b[0m\u001b[0;34m\u001b[0m\u001b[0m\n\u001b[1;32m   4266\u001b[0m             \u001b[0;32mif\u001b[0m \u001b[0mlabels\u001b[0m \u001b[0;32mis\u001b[0m \u001b[0;32mnot\u001b[0m \u001b[0;32mNone\u001b[0m\u001b[0;34m:\u001b[0m\u001b[0;34m\u001b[0m\u001b[0;34m\u001b[0m\u001b[0m\n\u001b[0;32m-> 4267\u001b[0;31m                 \u001b[0mobj\u001b[0m \u001b[0;34m=\u001b[0m \u001b[0mobj\u001b[0m\u001b[0;34m.\u001b[0m\u001b[0m_drop_axis\u001b[0m\u001b[0;34m(\u001b[0m\u001b[0mlabels\u001b[0m\u001b[0;34m,\u001b[0m \u001b[0maxis\u001b[0m\u001b[0;34m,\u001b[0m \u001b[0mlevel\u001b[0m\u001b[0;34m=\u001b[0m\u001b[0mlevel\u001b[0m\u001b[0;34m,\u001b[0m \u001b[0merrors\u001b[0m\u001b[0;34m=\u001b[0m\u001b[0merrors\u001b[0m\u001b[0;34m)\u001b[0m\u001b[0;34m\u001b[0m\u001b[0;34m\u001b[0m\u001b[0m\n\u001b[0m\u001b[1;32m   4268\u001b[0m \u001b[0;34m\u001b[0m\u001b[0m\n\u001b[1;32m   4269\u001b[0m         \u001b[0;32mif\u001b[0m \u001b[0minplace\u001b[0m\u001b[0;34m:\u001b[0m\u001b[0;34m\u001b[0m\u001b[0;34m\u001b[0m\u001b[0m\n",
      "\u001b[0;32m/Library/Frameworks/Python.framework/Versions/3.8/lib/python3.8/site-packages/pandas/core/generic.py\u001b[0m in \u001b[0;36m_drop_axis\u001b[0;34m(self, labels, axis, level, errors, consolidate, only_slice)\u001b[0m\n\u001b[1;32m   4309\u001b[0m                 \u001b[0mnew_axis\u001b[0m \u001b[0;34m=\u001b[0m \u001b[0maxis\u001b[0m\u001b[0;34m.\u001b[0m\u001b[0mdrop\u001b[0m\u001b[0;34m(\u001b[0m\u001b[0mlabels\u001b[0m\u001b[0;34m,\u001b[0m \u001b[0mlevel\u001b[0m\u001b[0;34m=\u001b[0m\u001b[0mlevel\u001b[0m\u001b[0;34m,\u001b[0m \u001b[0merrors\u001b[0m\u001b[0;34m=\u001b[0m\u001b[0merrors\u001b[0m\u001b[0;34m)\u001b[0m\u001b[0;34m\u001b[0m\u001b[0;34m\u001b[0m\u001b[0m\n\u001b[1;32m   4310\u001b[0m             \u001b[0;32melse\u001b[0m\u001b[0;34m:\u001b[0m\u001b[0;34m\u001b[0m\u001b[0;34m\u001b[0m\u001b[0m\n\u001b[0;32m-> 4311\u001b[0;31m                 \u001b[0mnew_axis\u001b[0m \u001b[0;34m=\u001b[0m \u001b[0maxis\u001b[0m\u001b[0;34m.\u001b[0m\u001b[0mdrop\u001b[0m\u001b[0;34m(\u001b[0m\u001b[0mlabels\u001b[0m\u001b[0;34m,\u001b[0m \u001b[0merrors\u001b[0m\u001b[0;34m=\u001b[0m\u001b[0merrors\u001b[0m\u001b[0;34m)\u001b[0m\u001b[0;34m\u001b[0m\u001b[0;34m\u001b[0m\u001b[0m\n\u001b[0m\u001b[1;32m   4312\u001b[0m             \u001b[0mindexer\u001b[0m \u001b[0;34m=\u001b[0m \u001b[0maxis\u001b[0m\u001b[0;34m.\u001b[0m\u001b[0mget_indexer\u001b[0m\u001b[0;34m(\u001b[0m\u001b[0mnew_axis\u001b[0m\u001b[0;34m)\u001b[0m\u001b[0;34m\u001b[0m\u001b[0;34m\u001b[0m\u001b[0m\n\u001b[1;32m   4313\u001b[0m \u001b[0;34m\u001b[0m\u001b[0m\n",
      "\u001b[0;32m/Library/Frameworks/Python.framework/Versions/3.8/lib/python3.8/site-packages/pandas/core/indexes/base.py\u001b[0m in \u001b[0;36mdrop\u001b[0;34m(self, labels, errors)\u001b[0m\n\u001b[1;32m   6642\u001b[0m         \u001b[0;32mif\u001b[0m \u001b[0mmask\u001b[0m\u001b[0;34m.\u001b[0m\u001b[0many\u001b[0m\u001b[0;34m(\u001b[0m\u001b[0;34m)\u001b[0m\u001b[0;34m:\u001b[0m\u001b[0;34m\u001b[0m\u001b[0;34m\u001b[0m\u001b[0m\n\u001b[1;32m   6643\u001b[0m             \u001b[0;32mif\u001b[0m \u001b[0merrors\u001b[0m \u001b[0;34m!=\u001b[0m \u001b[0;34m\"ignore\"\u001b[0m\u001b[0;34m:\u001b[0m\u001b[0;34m\u001b[0m\u001b[0;34m\u001b[0m\u001b[0m\n\u001b[0;32m-> 6644\u001b[0;31m                 \u001b[0;32mraise\u001b[0m \u001b[0mKeyError\u001b[0m\u001b[0;34m(\u001b[0m\u001b[0;34mf\"{list(labels[mask])} not found in axis\"\u001b[0m\u001b[0;34m)\u001b[0m\u001b[0;34m\u001b[0m\u001b[0;34m\u001b[0m\u001b[0m\n\u001b[0m\u001b[1;32m   6645\u001b[0m             \u001b[0mindexer\u001b[0m \u001b[0;34m=\u001b[0m \u001b[0mindexer\u001b[0m\u001b[0;34m[\u001b[0m\u001b[0;34m~\u001b[0m\u001b[0mmask\u001b[0m\u001b[0;34m]\u001b[0m\u001b[0;34m\u001b[0m\u001b[0;34m\u001b[0m\u001b[0m\n\u001b[1;32m   6646\u001b[0m         \u001b[0;32mreturn\u001b[0m \u001b[0mself\u001b[0m\u001b[0;34m.\u001b[0m\u001b[0mdelete\u001b[0m\u001b[0;34m(\u001b[0m\u001b[0mindexer\u001b[0m\u001b[0;34m)\u001b[0m\u001b[0;34m\u001b[0m\u001b[0;34m\u001b[0m\u001b[0m\n",
      "\u001b[0;31mKeyError\u001b[0m: \"['predicted_risk_bad'] not found in axis\""
     ]
    }
   ],
   "source": [
    "age_df = age_df.drop('predicted_risk_bad', 1)"
   ]
  },
  {
   "cell_type": "code",
   "execution_count": 140,
   "metadata": {},
   "outputs": [
    {
     "data": {
      "text/plain": [
       "(2, 2)"
      ]
     },
     "execution_count": 140,
     "metadata": {},
     "output_type": "execute_result"
    }
   ],
   "source": [
    "def get_different(a1, a2):\n",
    "    # 1 is bad\n",
    "    diff = np.subtract(a1, a2)\n",
    "    good_to_bad = len([int(x) for x in diff if x == -1])  # 0 to 1\n",
    "    bad_to_good = len([int(x) for x in diff if x == 1])   # 1 to 0\n",
    "    \n",
    "    return good_to_bad, bad_to_good\n",
    "\n",
    "get_different([1,1,0,0], [0,0,1,1])"
   ]
  },
  {
   "cell_type": "code",
   "execution_count": 143,
   "metadata": {},
   "outputs": [],
   "source": [
    "def anti_class_m_age(age_df, rf):\n",
    "    test_young_df = age_df.copy()\n",
    "    test_adult_df = age_df.copy()\n",
    "    test_senior_df = age_df.copy()\n",
    "    test_student_df = age_df.copy()\n",
    "    \n",
    "    control_df = age_df.copy()\n",
    "    \n",
    "    test_control = control_df.drop('Risk_bad',1).values\n",
    "    y_preds = rf.predict(test_control)\n",
    "    y_preds_prob = rf.predict_proba(test_control)\n",
    "    \n",
    "    \n",
    "    test_young_df['Age_cat_Young'] = [1 for x in age_df.Age_cat_Young.values]\n",
    "    test_young_df['Age_cat_Adult'] = [0 for x in age_df.Age_cat_Young.values]\n",
    "    test_young_df['Age_cat_Senior'] = [0 for x in age_df.Age_cat_Young.values]\n",
    "#     test_young_df['Age_cat_Student'] = [0 for x in age_df.Age_cat_Young.values]\n",
    "    \n",
    "    test_young = test_young_df.drop('Risk_bad',1).values\n",
    "    young_preds = rf.predict(test_young)\n",
    "    young_preds_prob = rf.predict_proba(test_young)\n",
    "    \n",
    "    test_adult_df['Age_cat_Young'] = [0 for x in age_df.Age_cat_Young.values]\n",
    "    test_adult_df['Age_cat_Adult'] = [1 for x in age_df.Age_cat_Young.values]\n",
    "    test_adult_df['Age_cat_Senior'] = [0 for x in age_df.Age_cat_Young.values]\n",
    "#     test_adult_df['Age_cat_Student'] = [0 for x in age_df.Age_cat_Young.values]\n",
    "    \n",
    "    test_adult = test_adult_df.drop('Risk_bad', 1).values\n",
    "    adult_preds = rf.predict(test_adult)\n",
    "    adult_preds_prob = rf.predict_proba(test_adult)\n",
    "    \n",
    "    test_senior_df['Age_cat_Young'] = [0 for x in age_df.Age_cat_Young.values]\n",
    "    test_senior_df['Age_cat_Adult'] = [0 for x in age_df.Age_cat_Young.values]\n",
    "    test_senior_df['Age_cat_Senior'] = [1 for x in age_df.Age_cat_Young.values]\n",
    "#     test_senior_df['Age_cat_Student'] = [0 for x in age_df.Age_cat_Young.values]\n",
    "    \n",
    "    test_senior = test_senior_df.drop('Risk_bad', 1).values\n",
    "    senior_preds = rf.predict(test_senior)\n",
    "    senior_preds_prob = rf.predict_proba(test_senior)\n",
    "    \n",
    "    test_student_df['Age_cat_Young'] = [0 for x in age_df.Age_cat_Young.values]\n",
    "    test_student_df['Age_cat_Adult'] = [0 for x in age_df.Age_cat_Young.values]\n",
    "    test_student_df['Age_cat_Senior'] = [0 for x in age_df.Age_cat_Young.values]\n",
    "#     test_student_df['Age_cat_Student'] = [1 for x in age_df.Age_cat_Young.values]\n",
    "    \n",
    "    test_student = test_student_df.drop('Risk_bad', 1).values\n",
    "    student_preds = rf.predict(test_student)\n",
    "    student_preds_prob = rf.predict_proba(test_student)\n",
    "    \n",
    "#     print(y_preds)\n",
    "    \n",
    "    y_gtb, y_btg = get_different(y_preds.astype('float'), young_preds.astype('float'))\n",
    "    a_gtb, a_btg = get_different(y_preds.astype('float'), adult_preds.astype('float'))\n",
    "    sen_gtb, sen_btg = get_different(y_preds.astype('float'), senior_preds.astype('float'))\n",
    "    stu_gtb, stu_btg = get_different(y_preds.astype('float'), student_preds.astype('float'))\n",
    "    \n",
    "    return {\n",
    "          \"young\":{\n",
    "              \"good_to_bad\": y_gtb,\n",
    "              \"bad_to_good\": y_btg},\n",
    "          \"adult\":{\n",
    "              \"good_to_bad\": a_gtb,\n",
    "              \"bad_to_good\": a_btg},\n",
    "          \"senior\":{\n",
    "              \"good_to_bad\": sen_gtb,\n",
    "              \"bad_to_good\": sen_btg},\n",
    "          \"student\":{\n",
    "              \"good_to_bad\": stu_gtb,\n",
    "              \"bad_to_good\": stu_btg},\n",
    "          \"total_count\":len(y_preds)\n",
    "        }\n",
    "    "
   ]
  },
  {
   "cell_type": "code",
   "execution_count": 144,
   "metadata": {},
   "outputs": [
    {
     "data": {
      "text/plain": [
       "{'young': {'good_to_bad': 15, 'bad_to_good': 2},\n",
       " 'adult': {'good_to_bad': 3, 'bad_to_good': 11},\n",
       " 'senior': {'good_to_bad': 5, 'bad_to_good': 13},\n",
       " 'student': {'good_to_bad': 4, 'bad_to_good': 11},\n",
       " 'total_count': 250}"
      ]
     },
     "execution_count": 144,
     "metadata": {},
     "output_type": "execute_result"
    }
   ],
   "source": [
    "res = anti_class_m_age(age_df,rf)\n",
    "res"
   ]
  },
  {
   "cell_type": "code",
   "execution_count": 118,
   "metadata": {},
   "outputs": [
    {
     "data": {
      "text/plain": [
       "(62, 75, 54, 54, 55)"
      ]
     },
     "execution_count": 118,
     "metadata": {},
     "output_type": "execute_result"
    }
   ],
   "source": [
    "res['control']['no_of_risky'],res['young']['no_of_risky'],res['adult']['no_of_risky'], \\\n",
    "res['senior']['no_of_risky'],res['student']['no_of_risky']"
   ]
  },
  {
   "cell_type": "code",
   "execution_count": 93,
   "metadata": {},
   "outputs": [
    {
     "data": {
      "text/plain": [
       "(0.248, 0.3, 0.216, 0.216, 0.22)"
      ]
     },
     "execution_count": 93,
     "metadata": {},
     "output_type": "execute_result"
    }
   ],
   "source": [
    "res['control']['no_of_risky']/res['total_count'],res['young']['no_of_risky']/res['total_count'], \\\n",
    "res['adult']['no_of_risky']/res['total_count'], \\\n",
    "res['senior']['no_of_risky']/res['total_count'],res['student']['no_of_risky']/res['total_count']"
   ]
  },
  {
   "cell_type": "code",
   "execution_count": 94,
   "metadata": {
    "id": "79Pv_tOAPqlW"
   },
   "outputs": [],
   "source": [
    "def anti_class_m(test_df,rf):\n",
    "  test_male_df = test_df.copy()\n",
    "  test_female_df = test_df.copy()\n",
    "  control_df = test_df.copy()\n",
    "\n",
    "  test_male_df['Sex_male'] = [1 for x in test_male_df.Sex_male.values]\n",
    "  test_female_df['Sex_male'] = [0 for x in test_female_df.Sex_male.values]\n",
    "\n",
    "  test_control = control_df.drop('Risk_bad',1).values\n",
    "  y_preds = rf.predict(test_control)\n",
    "  y_preds_prob = rf.predict_proba(test_control)\n",
    "  \n",
    "  test_male = test_male_df.drop('Risk_bad',1).values\n",
    "  male_preds = rf.predict(test_male)\n",
    "  male_preds_prob = rf.predict_proba(test_male)\n",
    "  \n",
    "  test_female = test_female_df.drop('Risk_bad',1).values\n",
    "  female_preds = rf.predict(test_female)\n",
    "  female_preds_prob = rf.predict_proba(test_female)\n",
    "  return {\"control\":{\n",
    "              \"no_of_risky\": sum(y_preds),\n",
    "              \"prob of risky\": y_preds_prob},\n",
    "          \"male\":{\n",
    "              \"no_of_risky\": sum(male_preds),\n",
    "              \"prob of risky\": male_preds_prob},\n",
    "          \"female\":{\n",
    "              \"no_of_risky\": sum(female_preds),\n",
    "              \"prob of risky\": female_preds_prob},\n",
    "          \"total_count\":len(y_preds)\n",
    "        }"
   ]
  },
  {
   "cell_type": "code",
   "execution_count": 95,
   "metadata": {
    "colab": {
     "base_uri": "https://localhost:8080/"
    },
    "id": "zf7vHqOIs6hk",
    "outputId": "1e9fe436-8f6c-4832-a0ea-91fa073bb234"
   },
   "outputs": [
    {
     "data": {
      "text/plain": [
       "(62, 65, 58)"
      ]
     },
     "execution_count": 95,
     "metadata": {},
     "output_type": "execute_result"
    }
   ],
   "source": [
    "res = anti_class_m(test_df,rf)\n",
    "res['control']['no_of_risky'],res['male']['no_of_risky'],res['female']['no_of_risky']"
   ]
  },
  {
   "cell_type": "code",
   "execution_count": null,
   "metadata": {
    "id": "qHYktetXGInU"
   },
   "outputs": [],
   "source": [
    "test_male_df = test_df.copy()\n",
    "test_female_df = test_df.copy()"
   ]
  },
  {
   "cell_type": "code",
   "execution_count": null,
   "metadata": {
    "colab": {
     "base_uri": "https://localhost:8080/"
    },
    "id": "iIpGpYbmGIcK",
    "outputId": "7a483f2b-1a55-437e-8b8f-2a218c40efd4"
   },
   "outputs": [],
   "source": [
    "test_male_df['Sex_male'] = [1 for x in test_male_df.Sex_male.values]\n",
    "test_male_df['Sex_male'] "
   ]
  },
  {
   "cell_type": "code",
   "execution_count": null,
   "metadata": {
    "colab": {
     "base_uri": "https://localhost:8080/"
    },
    "id": "9LdCaDheGISE",
    "outputId": "bd14eb97-683b-47e9-9c05-c7bee3b3a479"
   },
   "outputs": [],
   "source": [
    "test_female_df['Sex_male'] = [0 for x in test_female_df.Sex_male.values]\n",
    "test_female_df['Sex_male']"
   ]
  },
  {
   "cell_type": "code",
   "execution_count": null,
   "metadata": {
    "colab": {
     "base_uri": "https://localhost:8080/"
    },
    "id": "XkH7gZNtGIJc",
    "outputId": "e7a541a3-9bca-4097-94ec-1472f7869ded"
   },
   "outputs": [],
   "source": [
    "test_male = test_male_df.drop('Risk_bad',1).values\n",
    "male_preds = rf.predict(test_male)\n",
    "male_preds_prob = rf.predict_proba(test_male)"
   ]
  },
  {
   "cell_type": "code",
   "execution_count": null,
   "metadata": {
    "colab": {
     "base_uri": "https://localhost:8080/"
    },
    "id": "C8-yvGpJGIBR",
    "outputId": "2a46a931-a903-43fd-e687-1f424e2c64ec"
   },
   "outputs": [],
   "source": [
    "test_female = test_female_df.drop('Risk_bad',1).values\n",
    "female_preds = rf.predict(test_female)\n",
    "female_preds_prob = rf.predict_proba(test_female)"
   ]
  },
  {
   "cell_type": "code",
   "execution_count": null,
   "metadata": {
    "colab": {
     "base_uri": "https://localhost:8080/"
    },
    "id": "QXG3WqhTGH4h",
    "outputId": "33181f64-510e-4b6a-96b1-3f1dbba76365"
   },
   "outputs": [],
   "source": [
    "sum(male_preds),sum(female_preds),sum(y_pred)"
   ]
  },
  {
   "cell_type": "markdown",
   "metadata": {
    "id": "Ebj1D1eJOdjH"
   },
   "source": [
    "### Anti Classification 2"
   ]
  },
  {
   "cell_type": "code",
   "execution_count": 96,
   "metadata": {
    "id": "38-VlVv4zG5V"
   },
   "outputs": [],
   "source": [
    "def anti_class_2(test_df,rf):\n",
    "    control_df = test_df.copy()\n",
    "    test_df_flipped=test_df.copy()\n",
    "    test_df_flipped['Sex_male'] = [1-x for x in test_df_flipped.Sex_male.values]\n",
    "    test_flipped = test_df_flipped.drop('Risk_bad', 1).values\n",
    "    test_control = control_df.drop('Risk_bad', 1).values\n",
    "    flipped_preds = rf.predict(test_flipped)\n",
    "    flipped_preds_prob = rf.predict_proba(test_flipped)\n",
    "    y_preds = rf.predict(test_control)\n",
    "    y_preds_prob = rf.predict_proba(test_control)\n",
    "    differences = 0\n",
    "    for i in range(len(y_pred)):\n",
    "      if y_preds[i] != flipped_preds[i]:\n",
    "        differences += 1\n",
    "\n",
    "    return (differences,differences/len(y_pred))"
   ]
  },
  {
   "cell_type": "code",
   "execution_count": 97,
   "metadata": {
    "colab": {
     "base_uri": "https://localhost:8080/"
    },
    "id": "BcjTWLEt0az-",
    "outputId": "5831f770-9337-43c6-a7d1-82f61c00fdbb"
   },
   "outputs": [
    {
     "data": {
      "text/plain": [
       "(11, 0.044)"
      ]
     },
     "execution_count": 97,
     "metadata": {},
     "output_type": "execute_result"
    }
   ],
   "source": [
    "anti_class_2(test_df,rf)"
   ]
  },
  {
   "cell_type": "code",
   "execution_count": null,
   "metadata": {
    "colab": {
     "base_uri": "https://localhost:8080/"
    },
    "id": "ua4LrpRWGHvd",
    "outputId": "c374bcd1-674c-4c52-feb9-71b99dadfcc4"
   },
   "outputs": [],
   "source": [
    "test_df_flipped=test_df.copy()\n",
    "test_df_flipped['Sex_male'] = [1-x for x in test_df_flipped.Sex_male.values]\n",
    "test_df_flipped['Sex_male'] #It is properly flipped"
   ]
  },
  {
   "cell_type": "code",
   "execution_count": null,
   "metadata": {
    "colab": {
     "base_uri": "https://localhost:8080/"
    },
    "id": "VCrBLTbdGHmi",
    "outputId": "9c16f418-c186-4697-e702-f4b94bf30e37"
   },
   "outputs": [],
   "source": [
    "test_flipped = test_df_flipped.drop('Risk_bad', 1).values\n",
    "flipped_preds = rf.predict(test_flipped)\n",
    "flipped_preds_prob = rf.predict_proba(test_flipped)"
   ]
  },
  {
   "cell_type": "code",
   "execution_count": null,
   "metadata": {
    "id": "2zo03yXFGHeo"
   },
   "outputs": [],
   "source": [
    "differences = 0\n",
    "\n",
    "for i in range(len(y_pred)):\n",
    "  if y_pred[i] != flipped_preds[i]:\n",
    "    differences += 1\n",
    "\n",
    "print(differences,differences/len(y_pred))"
   ]
  },
  {
   "cell_type": "code",
   "execution_count": null,
   "metadata": {
    "id": "jYmBiaF0GHWe"
   },
   "outputs": [],
   "source": [
    "differences=0\n",
    "\n",
    "for i in range(len(y_pred)):\n",
    "  # print(y_pred_prob[i][0],flipped_preds_prob[i][0])\n",
    "  if abs(y_pred_prob[i][1]-flipped_preds_prob[i][1]) >= 0.33:\n",
    "      print(y_pred_prob[i][1],flipped_preds_prob[i][1])\n",
    "\n",
    "      differences+=1\n",
    "print(differences)"
   ]
  },
  {
   "cell_type": "markdown",
   "metadata": {
    "id": "ErMsjOSXR8p7"
   },
   "source": [
    "### Group Fairness"
   ]
  },
  {
   "cell_type": "code",
   "execution_count": 98,
   "metadata": {},
   "outputs": [],
   "source": [
    "def group_fair_age(age_df, rf):\n",
    "    \n",
    "#     test_young_df = age_df.copy()\n",
    "#     test_adult_df = age_df.copy()\n",
    "#     test_senior_df = age_df.copy()\n",
    "#     test_student_df = age_df.copy()\n",
    "    \n",
    "#     control_df = age_df.copy()\n",
    "\n",
    "    temp_df = age_df.copy()\n",
    "    test_control = temp_df.drop('Risk_bad',1).values\n",
    "    y_preds = rf.predict(test_control)\n",
    "    y_preds_prob = rf.predict_proba(test_control)\n",
    "    temp_df['predicted_risk_bad'] = y_preds\n",
    "    \n",
    "    # young, adult, senior, student\n",
    "    risky_young = len(temp_df[temp_df.Age_cat_Young == 1][temp_df.predicted_risk_bad == 1])\n",
    "    risky_adult = len(temp_df[temp_df.Age_cat_Adult == 1][temp_df.predicted_risk_bad == 1])\n",
    "    risky_senior = len(temp_df[temp_df.Age_cat_Senior == 1][temp_df.predicted_risk_bad == 1])\n",
    "    risky_student = len(temp_df[temp_df.Age_cat_Young == 0][temp_df.Age_cat_Adult == 0][temp_df.Age_cat_Senior == 0][temp_df.predicted_risk_bad == 1])\n",
    "    \n",
    "    \n",
    "    total_young = len(temp_df[temp_df.Age_cat_Young == 1])\n",
    "    total_adult = len(temp_df[temp_df.Age_cat_Adult == 1])\n",
    "    total_senior = len(temp_df[temp_df.Age_cat_Senior == 1])\n",
    "    total_student = len(temp_df[temp_df.Age_cat_Young == 0][temp_df.Age_cat_Adult == 0][temp_df.Age_cat_Senior == 0])\n",
    "    \n",
    "    return {\n",
    "      \"risky_young\": risky_young,\n",
    "      \"risky_adult\": risky_adult,\n",
    "      \"risky_senior\": risky_senior,\n",
    "      \"risky_student\": risky_student,\n",
    "        \n",
    "      \"total_young\": total_young,\n",
    "      \"total_adult\": total_adult,\n",
    "      \"total_senior\": total_senior,\n",
    "      \"total_student\": total_student,\n",
    "        \n",
    "      \"percent_risky_young\": risky_young/total_young,\n",
    "      \"percent_risky_adult\": risky_adult/total_adult,\n",
    "      \"percent_risky_senior\": risky_senior/total_senior,\n",
    "      \"percent_risky_student\": risky_student/total_student\n",
    "  } \n",
    "    "
   ]
  },
  {
   "cell_type": "code",
   "execution_count": 99,
   "metadata": {},
   "outputs": [
    {
     "data": {
      "text/plain": [
       "{'risky_young': 19,\n",
       " 'risky_adult': 17,\n",
       " 'risky_senior': 2,\n",
       " 'risky_student': 24,\n",
       " 'total_young': 94,\n",
       " 'total_adult': 92,\n",
       " 'total_senior': 13,\n",
       " 'total_student': 51,\n",
       " 'percent_risky_young': 0.20212765957446807,\n",
       " 'percent_risky_adult': 0.18478260869565216,\n",
       " 'percent_risky_senior': 0.15384615384615385,\n",
       " 'percent_risky_student': 0.47058823529411764}"
      ]
     },
     "execution_count": 99,
     "metadata": {},
     "output_type": "execute_result"
    }
   ],
   "source": [
    "group_fair_age(age_df,rf)"
   ]
  },
  {
   "cell_type": "code",
   "execution_count": 100,
   "metadata": {
    "id": "uZOCrqMP0lPJ"
   },
   "outputs": [],
   "source": [
    "def group_fair(test_df,rf):\n",
    "  temp_df = test_df.copy()\n",
    "  test_control = temp_df.drop('Risk_bad',1).values\n",
    "  y_preds = rf.predict(test_control)\n",
    "  y_preds_prob = rf.predict_proba(test_control)\n",
    "  temp_df['predicted_risk_bad'] = y_preds\n",
    "  risky_male = len(temp_df[temp_df.Sex_male == 1][temp_df.predicted_risk_bad == 1])\n",
    "  risky_female = len(temp_df[temp_df.Sex_male == 0][temp_df.predicted_risk_bad == 1])\n",
    "  total_male = len(temp_df[temp_df.Sex_male == 1])\n",
    "  total_female = len(temp_df[temp_df.Sex_male == 0])\n",
    "\n",
    "  return {\n",
    "      \"risky_males\": risky_male,\n",
    "      \"risky_females\": risky_female,\n",
    "      \"total_males\": total_male,\n",
    "      \"total_females\": total_female,\n",
    "      \"percent_risky_males\": risky_male/total_male,\n",
    "      \"percent_risky_female\": risky_female/total_female\n",
    "  }"
   ]
  },
  {
   "cell_type": "code",
   "execution_count": 101,
   "metadata": {
    "colab": {
     "base_uri": "https://localhost:8080/"
    },
    "id": "pP2dA29Y1xVI",
    "outputId": "03a2ffb1-9e66-47e9-fdce-b5ecba72eccc"
   },
   "outputs": [
    {
     "data": {
      "text/plain": [
       "{'risky_males': 44,\n",
       " 'risky_females': 18,\n",
       " 'total_males': 177,\n",
       " 'total_females': 73,\n",
       " 'percent_risky_males': 0.24858757062146894,\n",
       " 'percent_risky_female': 0.2465753424657534}"
      ]
     },
     "execution_count": 101,
     "metadata": {},
     "output_type": "execute_result"
    }
   ],
   "source": [
    "group_fair(test_df,rf)"
   ]
  },
  {
   "cell_type": "code",
   "execution_count": null,
   "metadata": {
    "colab": {
     "base_uri": "https://localhost:8080/",
     "height": 505
    },
    "id": "tuIGeaQwGHM_",
    "outputId": "2a5bab43-ca2d-4b71-d97d-c228acb7598c"
   },
   "outputs": [],
   "source": [
    "test_df['predicted_risk_bad'] = y_pred\n",
    "test_df"
   ]
  },
  {
   "cell_type": "code",
   "execution_count": null,
   "metadata": {
    "colab": {
     "base_uri": "https://localhost:8080/",
     "height": 574
    },
    "id": "b-03RaW_bRHK",
    "outputId": "45a11406-cda9-4a70-cd59-b17d6c1b18dd"
   },
   "outputs": [],
   "source": [
    "test_df[test_df.Sex_male == 1][test_df.predicted_risk_bad == 0]"
   ]
  },
  {
   "cell_type": "code",
   "execution_count": null,
   "metadata": {
    "colab": {
     "base_uri": "https://localhost:8080/"
    },
    "id": "1q2xNg0XGG_N",
    "outputId": "1963ac01-a288-4c65-ab5c-134f8983bab5"
   },
   "outputs": [],
   "source": [
    "risky_male = len(test_df[test_df.Sex_male == 1][test_df.predicted_risk_bad == 1])\n",
    "risky_female = len(test_df[test_df.Sex_male == 0][test_df.predicted_risk_bad == 1])\n",
    "\n",
    "total_male = len(test_df[test_df.Sex_male == 1])\n",
    "total_female = len(test_df[test_df.Sex_male == 0])\n",
    "print(risky_female,total_female)\n",
    "print(risky_male,total_male)\n",
    "risky_male/total_male, risky_female/total_female"
   ]
  },
  {
   "cell_type": "markdown",
   "metadata": {
    "id": "7pr4mxymZo9P"
   },
   "source": [
    "### Seperation"
   ]
  },
  {
   "cell_type": "code",
   "execution_count": 102,
   "metadata": {},
   "outputs": [],
   "source": [
    "def seperation_age(age_df, rf):\n",
    "    temp_df = age_df.copy()\n",
    "    test_control = temp_df.drop('Risk_bad',1).values\n",
    "    y_preds = rf.predict(test_control)\n",
    "    temp_df['predicted_risk_bad'] = y_preds\n",
    "    \n",
    "    young_df = temp_df[temp_df.Age_cat_Young == 1].copy()\n",
    "    adult_df = temp_df[temp_df.Age_cat_Adult == 1].copy()\n",
    "    senior_df = temp_df[temp_df.Age_cat_Senior == 1].copy()\n",
    "    student_df = temp_df[temp_df.Age_cat_Young == 0][temp_df.Age_cat_Adult == 0][temp_df.Age_cat_Senior == 0].copy()\n",
    "    \n",
    "    young_df_fpr = len(young_df[young_df.predicted_risk_bad==0][young_df.Risk_bad==1])/len(young_df[young_df.Risk_bad==1])\n",
    "    adult_df_fpr = len(adult_df[adult_df.predicted_risk_bad==0][adult_df.Risk_bad==1])/len(adult_df[adult_df.Risk_bad==1])\n",
    "    senior_df_fpr = len(senior_df[senior_df.predicted_risk_bad==0][senior_df.Risk_bad==1])/len(senior_df[senior_df.Risk_bad==1])\n",
    "    student_df_fpr = len(student_df[student_df.predicted_risk_bad==0][student_df.Risk_bad==1])/len(student_df[student_df.Risk_bad==1])\n",
    "    \n",
    "    young_df_fnr = len(young_df[young_df.predicted_risk_bad==1][young_df.Risk_bad==0])/len(young_df[young_df.Risk_bad==0])\n",
    "    adult_df_fnr = len(adult_df[adult_df.predicted_risk_bad==1][adult_df.Risk_bad==0])/len(adult_df[adult_df.Risk_bad==0])\n",
    "    senior_df_fnr = len(senior_df[senior_df.predicted_risk_bad==1][senior_df.Risk_bad==0])/len(senior_df[senior_df.Risk_bad==0])\n",
    "    student_df_fnr = len(student_df[student_df.predicted_risk_bad==1][student_df.Risk_bad==0])/len(student_df[student_df.Risk_bad==0])\n",
    "    \n",
    "    return {\n",
    "        \"young_fpr\": young_df_fpr,\n",
    "        \"young_fnr\": young_df_fnr,\n",
    "        \n",
    "        \"adult_fpr\": adult_df_fpr,\n",
    "        \"adult_fnr\": adult_df_fnr,\n",
    "        \n",
    "        \"senior_fpr\": senior_df_fpr,\n",
    "        \"senior_fnr\": senior_df_fnr,\n",
    "        \n",
    "        \"student_fpr\": student_df_fpr,\n",
    "        \"student_fnr\": student_df_fnr,\n",
    "    }\n",
    "    \n",
    "    \n",
    "    "
   ]
  },
  {
   "cell_type": "code",
   "execution_count": 103,
   "metadata": {},
   "outputs": [
    {
     "data": {
      "text/plain": [
       "{'young_fpr': 0.6,\n",
       " 'young_fnr': 0.13043478260869565,\n",
       " 'adult_fpr': 0.64,\n",
       " 'adult_fnr': 0.11940298507462686,\n",
       " 'senior_fpr': 0.8,\n",
       " 'senior_fnr': 0.125,\n",
       " 'student_fpr': 0.35294117647058826,\n",
       " 'student_fnr': 0.38235294117647056}"
      ]
     },
     "execution_count": 103,
     "metadata": {},
     "output_type": "execute_result"
    }
   ],
   "source": [
    "seperation_age(age_df, rf)"
   ]
  },
  {
   "cell_type": "code",
   "execution_count": 106,
   "metadata": {
    "id": "L1N45q0q16ax"
   },
   "outputs": [],
   "source": [
    "def seperation(test_df,rf):\n",
    "  temp_df = test_df.copy()\n",
    "  test_control = temp_df.drop('Risk_bad',1).values\n",
    "  y_preds = rf.predict(test_control)\n",
    "  temp_df['predicted_risk_bad'] = y_preds\n",
    "  male_df = temp_df[test_df.Sex_male==1].copy()\n",
    "  female_df = temp_df[test_df.Sex_male==0].copy()\n",
    "  male_df_fpr = len(male_df[male_df.predicted_risk_bad==0][male_df.Risk_bad==1])/len(male_df[male_df.Risk_bad==1])\n",
    "  male_df_fnr = len(male_df[male_df.predicted_risk_bad==1][male_df.Risk_bad==0])/len(male_df[male_df.Risk_bad==0])\n",
    "  female_df_fpr = len(female_df[female_df.predicted_risk_bad==0][female_df.Risk_bad==1])/len(female_df[female_df.Risk_bad==1])\n",
    "  female_df_fnr = len(female_df[female_df.predicted_risk_bad==1][female_df.Risk_bad==0])/len(female_df[female_df.Risk_bad==0])\n",
    "  return {\n",
    "          \"male_false_positive_rate\": male_df_fpr,\n",
    "          \"male_false_negative_rate\": male_df_fnr,\n",
    "          \"female_false_positive_rate\": female_df_fpr,\n",
    "          \"female_false_negative_rate\": female_df_fnr,\n",
    "      }"
   ]
  },
  {
   "cell_type": "code",
   "execution_count": 107,
   "metadata": {
    "colab": {
     "base_uri": "https://localhost:8080/"
    },
    "id": "bdCHX-uS3BJq",
    "outputId": "7781a45d-77a6-4ba2-ca1e-96614be15e36"
   },
   "outputs": [
    {
     "data": {
      "text/plain": [
       "{'male_false_positive_rate': 0.58,\n",
       " 'male_false_negative_rate': 0.18110236220472442,\n",
       " 'female_false_positive_rate': 0.5454545454545454,\n",
       " 'female_false_negative_rate': 0.1568627450980392}"
      ]
     },
     "execution_count": 107,
     "metadata": {},
     "output_type": "execute_result"
    }
   ],
   "source": [
    "seperation(test_df,rf)"
   ]
  },
  {
   "cell_type": "code",
   "execution_count": null,
   "metadata": {
    "id": "zPqguLfVWTDq"
   },
   "outputs": [],
   "source": [
    "male_df = test_df[test_df.Sex_male==1].copy()\n",
    "female_df = test_df[test_df.Sex_male==0].copy()\n"
   ]
  },
  {
   "cell_type": "code",
   "execution_count": null,
   "metadata": {
    "colab": {
     "base_uri": "https://localhost:8080/"
    },
    "id": "GThmhyNxWS9L",
    "outputId": "70af8107-4b74-4d5d-c049-c198e4cfdf9c"
   },
   "outputs": [],
   "source": [
    "# male_df\n",
    "male_df_fpr = len(male_df[male_df.predicted_risk_bad==0][male_df.Risk_bad==1])/len(male_df[male_df.Risk_bad==1])\n",
    "male_df_fnr = len(male_df[male_df.predicted_risk_bad==1][male_df.Risk_bad==0])/len(male_df[male_df.Risk_bad==0])\n",
    "male_df_fnr,male_df_fpr"
   ]
  },
  {
   "cell_type": "code",
   "execution_count": null,
   "metadata": {
    "colab": {
     "base_uri": "https://localhost:8080/"
    },
    "id": "DBVhpHV2WS2b",
    "outputId": "e26bcb2b-799c-4d6d-f36c-f0de2a77e2e2"
   },
   "outputs": [],
   "source": [
    "# female_df\n",
    "female_df_fpr = len(female_df[female_df.predicted_risk_bad==0][female_df.Risk_bad==1])/len(female_df[female_df.Risk_bad==1])\n",
    "female_df_fnr = len(female_df[female_df.predicted_risk_bad==1][female_df.Risk_bad==0])/len(female_df[female_df.Risk_bad==0])\n",
    "female_df_fnr,female_df_fpr"
   ]
  },
  {
   "cell_type": "markdown",
   "metadata": {
    "id": "bZZbHriKoeMd"
   },
   "source": [
    "## Task 3\n"
   ]
  },
  {
   "cell_type": "markdown",
   "metadata": {
    "id": "CEvvDoj7LJVq"
   },
   "source": [
    "### Tackling Anti-Classification\n",
    "One way to tackle would be to train  a model to not llok at the protected attributes. SO we drop them like it's hot"
   ]
  },
  {
   "cell_type": "code",
   "execution_count": null,
   "metadata": {
    "colab": {
     "base_uri": "https://localhost:8080/"
    },
    "id": "wASFDjyoLXSL",
    "outputId": "8480f653-6627-4fc0-bec6-2fe9ae3be5a1"
   },
   "outputs": [],
   "source": [
    "df_credit.columns"
   ]
  },
  {
   "cell_type": "code",
   "execution_count": null,
   "metadata": {
    "colab": {
     "base_uri": "https://localhost:8080/"
    },
    "id": "PabsW8-YLoY7",
    "outputId": "876d338b-8d2e-48d5-922b-c31e879622a8"
   },
   "outputs": [],
   "source": [
    "df_credit_temp = df_credit.drop('Sex_male',1)\n",
    "df_credit_temp.columns"
   ]
  },
  {
   "cell_type": "code",
   "execution_count": null,
   "metadata": {
    "id": "-276e1j6ooeN"
   },
   "outputs": [],
   "source": [
    "\n",
    "X = df_credit.drop('Risk_bad', 1).values\n",
    "y = df_credit[\"Risk_bad\"].values\n",
    "\n",
    "# Spliting X and y into train and test version\n",
    "X_train, X_test, y_train, y_test = train_test_split(X, y, test_size = 0.25, random_state=42)"
   ]
  },
  {
   "cell_type": "code",
   "execution_count": null,
   "metadata": {
    "id": "qzh3t301ooXp"
   },
   "outputs": [],
   "source": []
  },
  {
   "cell_type": "code",
   "execution_count": null,
   "metadata": {
    "id": "AWqGMVhUooQu"
   },
   "outputs": [],
   "source": []
  },
  {
   "cell_type": "code",
   "execution_count": null,
   "metadata": {
    "id": "xYOpW5V9ooJ0"
   },
   "outputs": [],
   "source": []
  },
  {
   "cell_type": "code",
   "execution_count": null,
   "metadata": {
    "id": "5TXKP8v7ooDU"
   },
   "outputs": [],
   "source": []
  },
  {
   "cell_type": "code",
   "execution_count": null,
   "metadata": {
    "id": "WtELTzuVon7Z"
   },
   "outputs": [],
   "source": []
  },
  {
   "cell_type": "code",
   "execution_count": null,
   "metadata": {
    "id": "2FzeN2dbon0m"
   },
   "outputs": [],
   "source": []
  },
  {
   "cell_type": "code",
   "execution_count": null,
   "metadata": {
    "id": "90xaTVg1ont0"
   },
   "outputs": [],
   "source": []
  },
  {
   "cell_type": "code",
   "execution_count": null,
   "metadata": {
    "id": "AJlRh9PGonjj"
   },
   "outputs": [],
   "source": []
  },
  {
   "cell_type": "code",
   "execution_count": null,
   "metadata": {
    "id": "aWAW84DAonaJ"
   },
   "outputs": [],
   "source": []
  },
  {
   "cell_type": "code",
   "execution_count": null,
   "metadata": {
    "id": "a1lxw7YUonMX"
   },
   "outputs": [],
   "source": []
  },
  {
   "cell_type": "markdown",
   "metadata": {
    "id": "kRTV8x6lEzlI"
   },
   "source": [
    "Very sucks results! How can I increase my model? "
   ]
  },
  {
   "cell_type": "markdown",
   "metadata": {
    "id": "7Ob3_zgMEzlJ"
   },
   "source": [
    "# **7.2 Model 2:** <a id=\"Modelling 2\"></a> <br>"
   ]
  },
  {
   "cell_type": "code",
   "execution_count": null,
   "metadata": {
    "id": "lh5QDXWvEzlJ"
   },
   "outputs": [],
   "source": [
    "from sklearn.utils import resample\n",
    "from sklearn.metrics import roc_curve"
   ]
  },
  {
   "cell_type": "code",
   "execution_count": null,
   "metadata": {
    "id": "wkzQ3A0GEzlJ"
   },
   "outputs": [],
   "source": [
    "# Criando o classificador logreg\n",
    "GNB = GaussianNB()\n",
    "\n",
    "# Fitting with train data\n",
    "model = GNB.fit(X_train, y_train)"
   ]
  },
  {
   "cell_type": "code",
   "execution_count": null,
   "metadata": {
    "colab": {
     "base_uri": "https://localhost:8080/"
    },
    "id": "yOcJJB1VEzlK",
    "outputId": "130b6a83-8ec5-4cc2-d19e-20048f2c1604"
   },
   "outputs": [],
   "source": [
    "# Printing the Training Score\n",
    "print(\"Training score data: \")\n",
    "print(model.score(X_train, y_train))"
   ]
  },
  {
   "cell_type": "code",
   "execution_count": null,
   "metadata": {
    "colab": {
     "base_uri": "https://localhost:8080/"
    },
    "id": "TJW_NWPVEzlK",
    "outputId": "e25fd75a-45c0-405a-b357-330b85d0b533"
   },
   "outputs": [],
   "source": [
    "y_pred = model.predict(X_test)\n",
    "\n",
    "print(accuracy_score(y_test,y_pred))\n",
    "print(roc_auc_score(y_test,y_pred))\n",
    "print(\"\\n\")\n",
    "print(confusion_matrix(y_test, y_pred))\n",
    "print(\"\\n\")\n",
    "print(classification_report(y_test, y_pred))"
   ]
  },
  {
   "cell_type": "markdown",
   "metadata": {
    "id": "FnVebTzMEzlK"
   },
   "source": [
    "With the Gaussian Model we got a best recall. "
   ]
  },
  {
   "cell_type": "markdown",
   "metadata": {
    "id": "DcpaeRukEzlL"
   },
   "source": [
    "## Let's verify the ROC curve"
   ]
  },
  {
   "cell_type": "code",
   "execution_count": null,
   "metadata": {
    "colab": {
     "base_uri": "https://localhost:8080/",
     "height": 295
    },
    "id": "B7bMixCAEzlL",
    "outputId": "059f5e3b-db86-40b8-8323-fd8c6a409f02"
   },
   "outputs": [],
   "source": [
    "#Predicting proba\n",
    "y_pred_prob = model.predict_proba(X_test)[:,1]\n",
    "\n",
    "# Generate ROC curve values: fpr, tpr, thresholds\n",
    "fpr, tpr, thresholds = roc_curve(y_test, y_pred_prob)\n",
    "\n",
    "# Plot ROC curve\n",
    "plt.plot([0, 1], [0, 1], 'k--')\n",
    "plt.plot(fpr, tpr)\n",
    "plt.xlabel('False Positive Rate')\n",
    "plt.ylabel('True Positive Rate')\n",
    "plt.title('ROC Curve')\n",
    "plt.show()"
   ]
  },
  {
   "cell_type": "code",
   "execution_count": null,
   "metadata": {
    "id": "EFQQsm74EzlL"
   },
   "outputs": [],
   "source": [
    "from sklearn.model_selection import KFold\n",
    "from sklearn.model_selection import cross_val_score\n",
    "from sklearn.pipeline import Pipeline\n",
    "from sklearn.pipeline import FeatureUnion\n",
    "from sklearn.linear_model import LogisticRegression\n",
    "from sklearn.decomposition import PCA\n",
    "from sklearn.feature_selection import SelectKBest"
   ]
  },
  {
   "cell_type": "code",
   "execution_count": null,
   "metadata": {
    "colab": {
     "base_uri": "https://localhost:8080/"
    },
    "id": "00y6WWOKEzlL",
    "outputId": "1499211a-73f2-4cb8-f5cb-14cd2de05f88"
   },
   "outputs": [],
   "source": [
    "features = []\n",
    "features.append(('pca', PCA(n_components=2)))\n",
    "features.append(('select_best', SelectKBest(k=6)))\n",
    "feature_union = FeatureUnion(features)\n",
    "# create pipeline\n",
    "estimators = []\n",
    "estimators.append(('feature_union', feature_union))\n",
    "estimators.append(('logistic', GaussianNB()))\n",
    "model = Pipeline(estimators)\n",
    "# evaluate pipeline\n",
    "seed = 7\n",
    "kfold = KFold(n_splits=10)\n",
    "results = cross_val_score(model, X_train, y_train, cv=kfold)\n",
    "print(results.mean())"
   ]
  },
  {
   "cell_type": "code",
   "execution_count": null,
   "metadata": {
    "colab": {
     "base_uri": "https://localhost:8080/"
    },
    "id": "UXT1rFQREzlL",
    "outputId": "82a437ab-d5f3-4275-bd89-67b64d890a8f"
   },
   "outputs": [],
   "source": [
    "model.fit(X_train, y_train)\n",
    "y_pred = model.predict(X_test)\n",
    "\n",
    "print(accuracy_score(y_test,y_pred))\n",
    "print(roc_auc_score(y_test,y_pred))\n",
    "print(\"\\n\")\n",
    "print(confusion_matrix(y_test, y_pred))\n",
    "print(\"\\n\")\n",
    "print(fbeta_score(y_test, y_pred, beta=2))"
   ]
  },
  {
   "cell_type": "markdown",
   "metadata": {
    "id": "giXuTDdQEzlL"
   },
   "source": []
  },
  {
   "cell_type": "markdown",
   "metadata": {
    "id": "bIQhsd7iEzlM"
   },
   "source": [
    "## Implementing a pipeline of models "
   ]
  },
  {
   "cell_type": "code",
   "execution_count": null,
   "metadata": {
    "colab": {
     "base_uri": "https://localhost:8080/"
    },
    "id": "37awp9XnEzlM",
    "outputId": "3ba79a52-aa49-489e-a578-b3bb78dc8a42"
   },
   "outputs": [],
   "source": [
    "#Seting the Hyper Parameters\n",
    "param_test1 = {\n",
    " 'max_depth':[3,5,6,10],\n",
    " 'min_child_weight':[3,5,10],\n",
    " 'gamma':[0.0, 0.1, 0.2, 0.3, 0.4],\n",
    "# 'reg_alpha':[1e-5, 1e-2, 0.1, 1, 10],\n",
    " 'subsample':[i/100.0 for i in range(75,90,5)],\n",
    " 'colsample_bytree':[i/100.0 for i in range(75,90,5)]\n",
    "}\n",
    "\n",
    "#Creating the classifier\n",
    "model_xg = XGBClassifier(random_state=2)\n",
    "\n",
    "grid_search = GridSearchCV(model_xg, param_grid=param_test1, cv=5, scoring='recall')\n",
    "grid_search.fit(X_train, y_train)"
   ]
  },
  {
   "cell_type": "markdown",
   "metadata": {
    "id": "skY-BMTIEzlM"
   },
   "source": [
    "How can I avoid of this "
   ]
  },
  {
   "cell_type": "markdown",
   "metadata": {
    "id": "177vPo6iEzlM"
   },
   "source": [
    "# Please, how can I increase this sucks models ?"
   ]
  },
  {
   "cell_type": "code",
   "execution_count": null,
   "metadata": {
    "colab": {
     "base_uri": "https://localhost:8080/"
    },
    "id": "FTdY_qNqEzlM",
    "outputId": "3eba339d-1dac-48c7-9162-c86d85aefaa6"
   },
   "outputs": [],
   "source": [
    "grid_search.best_score_\n",
    "grid_search.best_params_"
   ]
  },
  {
   "cell_type": "code",
   "execution_count": null,
   "metadata": {
    "colab": {
     "base_uri": "https://localhost:8080/"
    },
    "id": "hRMK-NI6EzlM",
    "outputId": "ff5aebe6-3058-4550-cf61-fe5b905ce833"
   },
   "outputs": [],
   "source": [
    "y_pred = grid_search.predict(X_test)\n",
    "\n",
    "# Verificaar os resultados obtidos\n",
    "print(accuracy_score(y_test,y_pred))\n",
    "print(roc_auc_score(y_test,y_pred))\n",
    "print(\"\\n\")\n",
    "print(confusion_matrix(y_test, y_pred))"
   ]
  },
  {
   "cell_type": "markdown",
   "metadata": {
    "id": "MTP_H5TuEzlM"
   },
   "source": [
    "How can I avoid this error? \n",
    "\n",
    "/opt/conda/lib/python3.6/site-packages/sklearn/preprocessing/label.py:151: DeprecationWarning:\n",
    "\n",
    "The truth value of an empty array is ambiguous. Returning False, but in future this will result in an error. Use `array.size > 0` to check that an array is not empty.\n"
   ]
  },
  {
   "cell_type": "code",
   "execution_count": null,
   "metadata": {
    "colab": {
     "base_uri": "https://localhost:8080/"
    },
    "id": "MyC9hPz8EzlN",
    "outputId": "6cd85818-a46c-4435-90a3-f2782fa27d14"
   },
   "outputs": [],
   "source": [
    "print(roc_auc_score(y_test, grid_search.predict_proba(X_test)[:, 1]))"
   ]
  },
  {
   "cell_type": "code",
   "execution_count": null,
   "metadata": {
    "id": "igO1fNnZUaDm"
   },
   "outputs": [],
   "source": []
  }
 ],
 "metadata": {
  "colab": {
   "collapsed_sections": [],
   "name": "predicting-credit-risk-model-pipeline.ipynb",
   "provenance": [],
   "toc_visible": true
  },
  "kernelspec": {
   "display_name": "Python 3",
   "language": "python",
   "name": "python3"
  },
  "language_info": {
   "codemirror_mode": {
    "name": "ipython",
    "version": 3
   },
   "file_extension": ".py",
   "mimetype": "text/x-python",
   "name": "python",
   "nbconvert_exporter": "python",
   "pygments_lexer": "ipython3",
   "version": "3.8.5"
  }
 },
 "nbformat": 4,
 "nbformat_minor": 1
}
