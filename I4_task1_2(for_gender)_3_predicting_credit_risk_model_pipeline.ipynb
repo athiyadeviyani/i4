{
  "cells": [
    {
      "cell_type": "markdown",
      "metadata": {
        "id": "lYBQL6SUEzkl"
      },
      "source": [
        "<h3>- Note that I will use the Dataset with the Risk column </h3>"
      ]
    },
    {
      "cell_type": "markdown",
      "metadata": {
        "id": "40Caaf_rEzkw"
      },
      "source": [
        "<h1>Welcome to my Kernel ! </h1>\n",
        "\n",
        "<h2>I will do some Explorations through the German Credit Risk to understand their distribuitions and patterns. </h2>"
      ]
    },
    {
      "cell_type": "markdown",
      "metadata": {
        "id": "Ol6Exmt8Ezkw"
      },
      "source": [
        "Look for another interesting Kernels on https://www.kaggle.com/kabure/kernels<br>\n",
        "Give me your feedback and if yo like this kernel, <b>votes up</b>"
      ]
    },
    {
      "cell_type": "markdown",
      "metadata": {
        "id": "TLhSe2_nEzkx"
      },
      "source": [
        "# Tables of Content:\n",
        "\n",
        "**1. [Introduction](#Introduction)** <br>\n",
        "    - Info's about datasets\n",
        "**2. [Librarys](#Librarys)** <br>\n",
        "    - Importing Librarys\n",
        "    - Importing Dataset\n",
        "**3. [Knowning the data](#Known)** <br>\n",
        "    - 3.1 Looking the Type of Data\n",
        "    - 3.2 Shape of data\n",
        "    - 3.3 Null Numbers\n",
        "    - 3.4 Unique values\n",
        "    - 3.5 The first rows of our dataset\n",
        "**4. [Exploring some Variables](#Explorations)** <br>\n",
        "    - 4.1 Ploting some graphical and descriptive informations\n",
        "**5. [Correlation of data](#Correlation)** <br>\n",
        "\t- 5.1 Correlation Data\n",
        "**6. [Preprocess](#Preprocessing)** <br>\n",
        "\t- 6.1 Importing Librarys\n",
        "\t- 6.2 Setting X and Y\n",
        "    - 6.3 Spliting the X and Y in train and test \n",
        "**7. 1 [Model 1](#Modelling 1)** <br>\n",
        "    - 7.1.1 Random Forest \n",
        "    - 7.1.2 Score values\n",
        "    - 7.1.3 Cross Validation \n",
        "**7. 2 [Model 2](#Modelling 2)** <br>\n",
        "    - 7.2.1 Logistic Regression \n",
        "    - 7.2.2 Score values\n",
        "    - 7.2.3 Cross Validation \n",
        "    - 7.2.4 ROC Curve"
      ]
    },
    {
      "cell_type": "markdown",
      "metadata": {
        "id": "R2cKf96oEzky"
      },
      "source": [
        "<a id=\"Introduction\"></a> <br>\n"
      ]
    },
    {
      "cell_type": "markdown",
      "metadata": {
        "id": "2x8lpQW2Ezkz"
      },
      "source": [
        "# **1. Introduction:** \n",
        "<h2>Context</h2>\n",
        "The original dataset contains 1000 entries with 20 categorial/symbolic attributes prepared by Prof. Hofmann. In this dataset, each entry represents a person who takes a credit by a bank. Each person is classified as good or bad credit risks according to the set of attributes. The link to the original dataset can be found below.\n",
        "\n",
        "<h2>Content</h2>\n",
        "It is almost impossible to understand the original dataset due to its complicated system of categories and symbols. Thus, I wrote a small Python script to convert it into a readable CSV file. Several columns are simply ignored, because in my opinion either they are not important or their descriptions are obscure. The selected attributes are:\n",
        "\n",
        "<b>Age </b>(numeric)<br>\n",
        "<b>Sex </b>(text: male, female)<br>\n",
        "<b>Job </b>(numeric: 0 - unskilled and non-resident, 1 - unskilled and resident, 2 - skilled, 3 - highly skilled)<br>\n",
        "<b>Housing</b> (text: own, rent, or free)<br>\n",
        "<b>Saving accounts</b> (text - little, moderate, quite rich, rich)<br>\n",
        "<b>Checking account </b>(numeric, in DM - Deutsch Mark)<br>\n",
        "<b>Credit amount</b> (numeric, in DM)<br>\n",
        "<b>Duration</b> (numeric, in month)<br>\n",
        "<b>Purpose</b>(text: car, furniture/equipment, radio/TV, domestic appliances, repairs, education, business, vacation/others<br>\n",
        "<b>Risk </b> (Value target - Good or Bad Risk)<br>"
      ]
    },
    {
      "cell_type": "code",
      "execution_count": 41,
      "metadata": {
        "id": "qB_wSOdlXFgQ"
      },
      "outputs": [],
      "source": [
        "import warnings\n",
        "warnings.filterwarnings('ignore')"
      ]
    },
    {
      "cell_type": "markdown",
      "metadata": {
        "id": "nkTOJWl3Ezk0"
      },
      "source": [
        "<i>English is not my first language, so, sorry about any error</i>"
      ]
    },
    {
      "cell_type": "markdown",
      "metadata": {
        "id": "PuVue8y9Ezk0"
      },
      "source": [
        "<a id=\"Librarys\"></a> <br>\n",
        "# **2. Librarys:** \n",
        "- Importing Librarys\n",
        "- Importing Dataset"
      ]
    },
    {
      "cell_type": "code",
      "execution_count": 42,
      "metadata": {
        "id": "9y-AgtA3Ezk1"
      },
      "outputs": [],
      "source": [
        "#Load the librarys\n",
        "import pandas as pd #To work with dataset\n",
        "import numpy as np #Math library\n",
        "import seaborn as sns #Graph library that use matplot in background\n",
        "import matplotlib.pyplot as plt #to plot some parameters in seaborn\n",
        "\n",
        "#Importing the data\n",
        "df_credit = pd.read_csv(\"german_credit_data.csv\",index_col=0)"
      ]
    },
    {
      "cell_type": "markdown",
      "metadata": {
        "id": "xpiOR8q3Ezk2"
      },
      "source": [
        "<a id=\"Known\"></a> <br>\n",
        "# **3. First Look at the data:** \n",
        "- Looking the Type of Data\n",
        "- Null Numbers\n",
        "- Unique values\n",
        "- The first rows of our dataset"
      ]
    },
    {
      "cell_type": "code",
      "execution_count": 43,
      "metadata": {
        "colab": {
          "base_uri": "https://localhost:8080/"
        },
        "id": "HaNGROmrEzk3",
        "outputId": "c876b6f4-bedd-44bf-dc26-f2a11809cbcd"
      },
      "outputs": [
        {
          "output_type": "stream",
          "name": "stdout",
          "text": [
            "<class 'pandas.core.frame.DataFrame'>\n",
            "Int64Index: 1000 entries, 0 to 999\n",
            "Data columns (total 10 columns):\n",
            " #   Column            Non-Null Count  Dtype \n",
            "---  ------            --------------  ----- \n",
            " 0   Age               1000 non-null   int64 \n",
            " 1   Sex               1000 non-null   object\n",
            " 2   Job               1000 non-null   int64 \n",
            " 3   Housing           1000 non-null   object\n",
            " 4   Saving accounts   817 non-null    object\n",
            " 5   Checking account  606 non-null    object\n",
            " 6   Credit amount     1000 non-null   int64 \n",
            " 7   Duration          1000 non-null   int64 \n",
            " 8   Purpose           1000 non-null   object\n",
            " 9   Risk              1000 non-null   object\n",
            "dtypes: int64(4), object(6)\n",
            "memory usage: 85.9+ KB\n",
            "None\n"
          ]
        }
      ],
      "source": [
        "#Searching for Missings,type of data and also known the shape of data\n",
        "print(df_credit.info())"
      ]
    },
    {
      "cell_type": "code",
      "execution_count": 44,
      "metadata": {
        "colab": {
          "base_uri": "https://localhost:8080/"
        },
        "id": "HEqUfSVPEzk3",
        "outputId": "ec0e3c3f-7c11-4467-e7d9-5a78c93c3f18"
      },
      "outputs": [
        {
          "output_type": "stream",
          "name": "stdout",
          "text": [
            "Age                  53\n",
            "Sex                   2\n",
            "Job                   4\n",
            "Housing               3\n",
            "Saving accounts       4\n",
            "Checking account      3\n",
            "Credit amount       921\n",
            "Duration             33\n",
            "Purpose               8\n",
            "Risk                  2\n",
            "dtype: int64\n",
            "   Age     Sex  Job Housing Saving accounts Checking account  Credit amount  \\\n",
            "0   67    male    2     own             NaN           little           1169   \n",
            "1   22  female    2     own          little         moderate           5951   \n",
            "2   49    male    1     own          little              NaN           2096   \n",
            "3   45    male    2    free          little           little           7882   \n",
            "4   53    male    2    free          little           little           4870   \n",
            "\n",
            "   Duration              Purpose  Risk  \n",
            "0         6             radio/TV  good  \n",
            "1        48             radio/TV   bad  \n",
            "2        12            education  good  \n",
            "3        42  furniture/equipment  good  \n",
            "4        24                  car   bad  \n"
          ]
        }
      ],
      "source": [
        "#Looking unique values\n",
        "print(df_credit.nunique())\n",
        "#Looking the data\n",
        "print(df_credit.head())"
      ]
    },
    {
      "cell_type": "markdown",
      "metadata": {
        "id": "fbHK88TiEzk6"
      },
      "source": [
        "## 4.1 Creating an categorical variable to handle with the Age variable"
      ]
    },
    {
      "cell_type": "code",
      "execution_count": 45,
      "metadata": {
        "id": "I-1IXqYSEzk6"
      },
      "outputs": [],
      "source": [
        "#Let's look the Credit Amount column\n",
        "interval = (18, 25, 35, 60, 120)\n",
        "\n",
        "cats = ['Student', 'Young', 'Adult', 'Senior']\n",
        "df_credit[\"Age_cat\"] = pd.cut(df_credit.Age, interval, labels=cats)\n",
        "\n",
        "\n",
        "df_good = df_credit[df_credit[\"Risk\"] == 'good']\n",
        "df_bad = df_credit[df_credit[\"Risk\"] == 'bad']"
      ]
    },
    {
      "cell_type": "markdown",
      "metadata": {
        "id": "ucbwUk00EzlF"
      },
      "source": [
        "## Looking the total of values in each categorical feature"
      ]
    },
    {
      "cell_type": "code",
      "execution_count": 46,
      "metadata": {
        "colab": {
          "base_uri": "https://localhost:8080/"
        },
        "id": "zhZGCTjPEzlF",
        "outputId": "3faf30ee-bd13-4c69-b046-2640e300a5d5"
      },
      "outputs": [
        {
          "output_type": "stream",
          "name": "stdout",
          "text": [
            "Purpose :  ['radio/TV' 'education' 'furniture/equipment' 'car' 'business'\n",
            " 'domestic appliances' 'repairs' 'vacation/others']\n",
            "Sex :  ['male' 'female']\n",
            "Housing :  ['own' 'free' 'rent']\n",
            "Saving accounts :  [nan 'little' 'quite rich' 'rich' 'moderate']\n",
            "Risk :  ['good' 'bad']\n",
            "Checking account :  ['little' 'moderate' nan 'rich']\n",
            "Aget_cat :  ['Senior', 'Student', 'Adult', 'Young']\n",
            "Categories (4, object): ['Student' < 'Young' < 'Adult' < 'Senior']\n"
          ]
        }
      ],
      "source": [
        "print(\"Purpose : \",df_credit.Purpose.unique())\n",
        "print(\"Sex : \",df_credit.Sex.unique())\n",
        "print(\"Housing : \",df_credit.Housing.unique())\n",
        "print(\"Saving accounts : \",df_credit['Saving accounts'].unique())\n",
        "print(\"Risk : \",df_credit['Risk'].unique())\n",
        "print(\"Checking account : \",df_credit['Checking account'].unique())\n",
        "print(\"Aget_cat : \",df_credit['Age_cat'].unique())"
      ]
    },
    {
      "cell_type": "markdown",
      "metadata": {
        "id": "5aGqpxfdEzlF"
      },
      "source": [
        "## Transforming the data into Dummy variables"
      ]
    },
    {
      "cell_type": "code",
      "execution_count": 47,
      "metadata": {
        "id": "7FDqnWtSEzlG"
      },
      "outputs": [],
      "source": [
        "df_credit['Saving accounts'] = df_credit['Saving accounts'].fillna('no_inf')\n",
        "df_credit['Checking account'] = df_credit['Checking account'].fillna('no_inf')\n",
        "\n",
        "#Purpose to Dummies Variable\n",
        "df_credit = df_credit.merge(pd.get_dummies(df_credit.Purpose, drop_first=True, prefix='Purpose'), left_index=True, right_index=True)\n",
        "#Sex feature in dummies\n",
        "df_credit = df_credit.merge(pd.get_dummies(df_credit.Sex, drop_first=True, prefix='Sex'), left_index=True, right_index=True)\n",
        "# Housing get dummies\n",
        "df_credit = df_credit.merge(pd.get_dummies(df_credit.Housing, drop_first=True, prefix='Housing'), left_index=True, right_index=True)\n",
        "# Housing get Saving Accounts\n",
        "df_credit = df_credit.merge(pd.get_dummies(df_credit[\"Saving accounts\"], drop_first=True, prefix='Savings'), left_index=True, right_index=True)\n",
        "# Housing get Risk\n",
        "df_credit = df_credit.merge(pd.get_dummies(df_credit.Risk, prefix='Risk'), left_index=True, right_index=True)\n",
        "# Housing get Checking Account\n",
        "df_credit = df_credit.merge(pd.get_dummies(df_credit[\"Checking account\"], drop_first=True, prefix='Check'), left_index=True, right_index=True)\n",
        "# Housing get Age categorical\n",
        "df_credit = df_credit.merge(pd.get_dummies(df_credit[\"Age_cat\"], drop_first=True, prefix='Age_cat'), left_index=True, right_index=True)"
      ]
    },
    {
      "cell_type": "code",
      "execution_count": 48,
      "metadata": {
        "colab": {
          "base_uri": "https://localhost:8080/",
          "height": 424
        },
        "id": "3lLm2EPhME3Y",
        "outputId": "d41d4df1-4fc3-4ad1-a4a3-5dde6aca7374"
      },
      "outputs": [
        {
          "output_type": "execute_result",
          "data": {
            "text/plain": [
              "     Age_cat_Senior  Age_cat  Age_cat_Young  Age_cat_Adult\n",
              "0                 1   Senior              0              0\n",
              "1                 0  Student              0              0\n",
              "2                 0    Adult              0              1\n",
              "3                 0    Adult              0              1\n",
              "4                 0    Adult              0              1\n",
              "..              ...      ...            ...            ...\n",
              "995               0    Young              1              0\n",
              "996               0    Adult              0              1\n",
              "997               0    Adult              0              1\n",
              "998               0  Student              0              0\n",
              "999               0    Young              1              0\n",
              "\n",
              "[1000 rows x 4 columns]"
            ],
            "text/html": [
              "\n",
              "  <div id=\"df-dce5b4f5-787a-48fa-92fd-fff4a4fa4793\">\n",
              "    <div class=\"colab-df-container\">\n",
              "      <div>\n",
              "<style scoped>\n",
              "    .dataframe tbody tr th:only-of-type {\n",
              "        vertical-align: middle;\n",
              "    }\n",
              "\n",
              "    .dataframe tbody tr th {\n",
              "        vertical-align: top;\n",
              "    }\n",
              "\n",
              "    .dataframe thead th {\n",
              "        text-align: right;\n",
              "    }\n",
              "</style>\n",
              "<table border=\"1\" class=\"dataframe\">\n",
              "  <thead>\n",
              "    <tr style=\"text-align: right;\">\n",
              "      <th></th>\n",
              "      <th>Age_cat_Senior</th>\n",
              "      <th>Age_cat</th>\n",
              "      <th>Age_cat_Young</th>\n",
              "      <th>Age_cat_Adult</th>\n",
              "    </tr>\n",
              "  </thead>\n",
              "  <tbody>\n",
              "    <tr>\n",
              "      <th>0</th>\n",
              "      <td>1</td>\n",
              "      <td>Senior</td>\n",
              "      <td>0</td>\n",
              "      <td>0</td>\n",
              "    </tr>\n",
              "    <tr>\n",
              "      <th>1</th>\n",
              "      <td>0</td>\n",
              "      <td>Student</td>\n",
              "      <td>0</td>\n",
              "      <td>0</td>\n",
              "    </tr>\n",
              "    <tr>\n",
              "      <th>2</th>\n",
              "      <td>0</td>\n",
              "      <td>Adult</td>\n",
              "      <td>0</td>\n",
              "      <td>1</td>\n",
              "    </tr>\n",
              "    <tr>\n",
              "      <th>3</th>\n",
              "      <td>0</td>\n",
              "      <td>Adult</td>\n",
              "      <td>0</td>\n",
              "      <td>1</td>\n",
              "    </tr>\n",
              "    <tr>\n",
              "      <th>4</th>\n",
              "      <td>0</td>\n",
              "      <td>Adult</td>\n",
              "      <td>0</td>\n",
              "      <td>1</td>\n",
              "    </tr>\n",
              "    <tr>\n",
              "      <th>...</th>\n",
              "      <td>...</td>\n",
              "      <td>...</td>\n",
              "      <td>...</td>\n",
              "      <td>...</td>\n",
              "    </tr>\n",
              "    <tr>\n",
              "      <th>995</th>\n",
              "      <td>0</td>\n",
              "      <td>Young</td>\n",
              "      <td>1</td>\n",
              "      <td>0</td>\n",
              "    </tr>\n",
              "    <tr>\n",
              "      <th>996</th>\n",
              "      <td>0</td>\n",
              "      <td>Adult</td>\n",
              "      <td>0</td>\n",
              "      <td>1</td>\n",
              "    </tr>\n",
              "    <tr>\n",
              "      <th>997</th>\n",
              "      <td>0</td>\n",
              "      <td>Adult</td>\n",
              "      <td>0</td>\n",
              "      <td>1</td>\n",
              "    </tr>\n",
              "    <tr>\n",
              "      <th>998</th>\n",
              "      <td>0</td>\n",
              "      <td>Student</td>\n",
              "      <td>0</td>\n",
              "      <td>0</td>\n",
              "    </tr>\n",
              "    <tr>\n",
              "      <th>999</th>\n",
              "      <td>0</td>\n",
              "      <td>Young</td>\n",
              "      <td>1</td>\n",
              "      <td>0</td>\n",
              "    </tr>\n",
              "  </tbody>\n",
              "</table>\n",
              "<p>1000 rows × 4 columns</p>\n",
              "</div>\n",
              "      <button class=\"colab-df-convert\" onclick=\"convertToInteractive('df-dce5b4f5-787a-48fa-92fd-fff4a4fa4793')\"\n",
              "              title=\"Convert this dataframe to an interactive table.\"\n",
              "              style=\"display:none;\">\n",
              "        \n",
              "  <svg xmlns=\"http://www.w3.org/2000/svg\" height=\"24px\"viewBox=\"0 0 24 24\"\n",
              "       width=\"24px\">\n",
              "    <path d=\"M0 0h24v24H0V0z\" fill=\"none\"/>\n",
              "    <path d=\"M18.56 5.44l.94 2.06.94-2.06 2.06-.94-2.06-.94-.94-2.06-.94 2.06-2.06.94zm-11 1L8.5 8.5l.94-2.06 2.06-.94-2.06-.94L8.5 2.5l-.94 2.06-2.06.94zm10 10l.94 2.06.94-2.06 2.06-.94-2.06-.94-.94-2.06-.94 2.06-2.06.94z\"/><path d=\"M17.41 7.96l-1.37-1.37c-.4-.4-.92-.59-1.43-.59-.52 0-1.04.2-1.43.59L10.3 9.45l-7.72 7.72c-.78.78-.78 2.05 0 2.83L4 21.41c.39.39.9.59 1.41.59.51 0 1.02-.2 1.41-.59l7.78-7.78 2.81-2.81c.8-.78.8-2.07 0-2.86zM5.41 20L4 18.59l7.72-7.72 1.47 1.35L5.41 20z\"/>\n",
              "  </svg>\n",
              "      </button>\n",
              "      \n",
              "  <style>\n",
              "    .colab-df-container {\n",
              "      display:flex;\n",
              "      flex-wrap:wrap;\n",
              "      gap: 12px;\n",
              "    }\n",
              "\n",
              "    .colab-df-convert {\n",
              "      background-color: #E8F0FE;\n",
              "      border: none;\n",
              "      border-radius: 50%;\n",
              "      cursor: pointer;\n",
              "      display: none;\n",
              "      fill: #1967D2;\n",
              "      height: 32px;\n",
              "      padding: 0 0 0 0;\n",
              "      width: 32px;\n",
              "    }\n",
              "\n",
              "    .colab-df-convert:hover {\n",
              "      background-color: #E2EBFA;\n",
              "      box-shadow: 0px 1px 2px rgba(60, 64, 67, 0.3), 0px 1px 3px 1px rgba(60, 64, 67, 0.15);\n",
              "      fill: #174EA6;\n",
              "    }\n",
              "\n",
              "    [theme=dark] .colab-df-convert {\n",
              "      background-color: #3B4455;\n",
              "      fill: #D2E3FC;\n",
              "    }\n",
              "\n",
              "    [theme=dark] .colab-df-convert:hover {\n",
              "      background-color: #434B5C;\n",
              "      box-shadow: 0px 1px 3px 1px rgba(0, 0, 0, 0.15);\n",
              "      filter: drop-shadow(0px 1px 2px rgba(0, 0, 0, 0.3));\n",
              "      fill: #FFFFFF;\n",
              "    }\n",
              "  </style>\n",
              "\n",
              "      <script>\n",
              "        const buttonEl =\n",
              "          document.querySelector('#df-dce5b4f5-787a-48fa-92fd-fff4a4fa4793 button.colab-df-convert');\n",
              "        buttonEl.style.display =\n",
              "          google.colab.kernel.accessAllowed ? 'block' : 'none';\n",
              "\n",
              "        async function convertToInteractive(key) {\n",
              "          const element = document.querySelector('#df-dce5b4f5-787a-48fa-92fd-fff4a4fa4793');\n",
              "          const dataTable =\n",
              "            await google.colab.kernel.invokeFunction('convertToInteractive',\n",
              "                                                     [key], {});\n",
              "          if (!dataTable) return;\n",
              "\n",
              "          const docLinkHtml = 'Like what you see? Visit the ' +\n",
              "            '<a target=\"_blank\" href=https://colab.research.google.com/notebooks/data_table.ipynb>data table notebook</a>'\n",
              "            + ' to learn more about interactive tables.';\n",
              "          element.innerHTML = '';\n",
              "          dataTable['output_type'] = 'display_data';\n",
              "          await google.colab.output.renderOutput(dataTable, element);\n",
              "          const docLink = document.createElement('div');\n",
              "          docLink.innerHTML = docLinkHtml;\n",
              "          element.appendChild(docLink);\n",
              "        }\n",
              "      </script>\n",
              "    </div>\n",
              "  </div>\n",
              "  "
            ]
          },
          "metadata": {},
          "execution_count": 48
        }
      ],
      "source": [
        "# df_credit.columns\n",
        "df_credit[['Age_cat_Senior','Age_cat','Age_cat_Young','Age_cat_Adult']]"
      ]
    },
    {
      "cell_type": "markdown",
      "metadata": {
        "id": "9IhAReh6EzlG"
      },
      "source": [
        "## Deleting the old features"
      ]
    },
    {
      "cell_type": "code",
      "execution_count": 49,
      "metadata": {
        "id": "3-cfkDrIEzlG"
      },
      "outputs": [],
      "source": [
        "#Excluding the missing columns\n",
        "del df_credit[\"Saving accounts\"]\n",
        "del df_credit[\"Checking account\"]\n",
        "del df_credit[\"Purpose\"]\n",
        "del df_credit[\"Sex\"]\n",
        "del df_credit[\"Housing\"]\n",
        "del df_credit[\"Age_cat\"]\n",
        "del df_credit[\"Risk\"]\n",
        "del df_credit['Risk_good']"
      ]
    },
    {
      "cell_type": "markdown",
      "metadata": {
        "id": "oNdETrsREzlG"
      },
      "source": [
        "# **5. Correlation:** <a id=\"Correlation\"></a> <br>\n",
        "- Looking the data correlation\n",
        "<h1>Looking the correlation of the data"
      ]
    },
    {
      "cell_type": "code",
      "execution_count": 50,
      "metadata": {
        "colab": {
          "base_uri": "https://localhost:8080/",
          "height": 828
        },
        "id": "5SDqI7o9EzlG",
        "outputId": "dcf6ff36-a58d-4e96-efac-c20b018bdba4"
      },
      "outputs": [
        {
          "output_type": "display_data",
          "data": {
            "text/plain": [
              "<Figure size 1008x864 with 2 Axes>"
            ],
            "image/png": "[encoded data removed]"
          },
          "metadata": {
            "needs_background": "light"
          }
        }
      ],
      "source": [
        "plt.figure(figsize=(14,12))\n",
        "sns.heatmap(df_credit.astype(float).corr(),linewidths=0.1,vmax=1.0, \n",
        "            square=True,  linecolor='white', annot=True)\n",
        "plt.show()"
      ]
    },
    {
      "cell_type": "code",
      "execution_count": 51,
      "metadata": {
        "id": "pQhOnTCOEzlH"
      },
      "outputs": [],
      "source": [
        "from sklearn.model_selection import train_test_split, KFold, cross_val_score # to split the data\n",
        "from sklearn.metrics import accuracy_score, confusion_matrix, classification_report, fbeta_score, roc_auc_score #To evaluate our model\n",
        "\n",
        "from sklearn.model_selection import GridSearchCV\n",
        "\n",
        "# Algorithmns models to be compared\n",
        "from sklearn.ensemble import RandomForestClassifier\n",
        "from sklearn.linear_model import LogisticRegression\n",
        "from sklearn.tree import DecisionTreeClassifier\n",
        "from sklearn.neighbors import KNeighborsClassifier\n",
        "from sklearn.ensemble import RandomForestClassifier\n",
        "from sklearn.discriminant_analysis import LinearDiscriminantAnalysis\n",
        "from sklearn.naive_bayes import GaussianNB\n",
        "from sklearn.svm import SVC\n",
        "from xgboost import XGBClassifier\n"
      ]
    },
    {
      "cell_type": "code",
      "execution_count": 52,
      "metadata": {
        "colab": {
          "base_uri": "https://localhost:8080/"
        },
        "id": "-BsIYjZ1KqZi",
        "outputId": "ff81b8f9-c7e0-436f-e7e0-32643b9c62f2"
      },
      "outputs": [
        {
          "output_type": "execute_result",
          "data": {
            "text/plain": [
              "0      0\n",
              "1      1\n",
              "2      0\n",
              "3      0\n",
              "4      1\n",
              "      ..\n",
              "995    0\n",
              "996    0\n",
              "997    0\n",
              "998    1\n",
              "999    0\n",
              "Name: Risk_bad, Length: 1000, dtype: uint8"
            ]
          },
          "metadata": {},
          "execution_count": 52
        }
      ],
      "source": [
        "df_credit['Risk_bad']"
      ]
    },
    {
      "cell_type": "code",
      "execution_count": 53,
      "metadata": {
        "id": "5AVxbscLEzlH"
      },
      "outputs": [],
      "source": [
        "df_credit['Credit amount'] = np.log(df_credit['Credit amount'])"
      ]
    },
    {
      "cell_type": "code",
      "execution_count": 54,
      "metadata": {
        "id": "KTE-o5LIEzlH"
      },
      "outputs": [],
      "source": [
        "#Creating the X and y variables\n",
        "X = df_credit.drop('Risk_bad', 1).values\n",
        "y = df_credit[\"Risk_bad\"].values\n",
        "\n",
        "# Spliting X and y into train and test version\n",
        "X_train, X_test, y_train, y_test = train_test_split(X, y, test_size = 0.25, random_state=42)"
      ]
    },
    {
      "cell_type": "code",
      "execution_count": 55,
      "metadata": {
        "colab": {
          "base_uri": "https://localhost:8080/"
        },
        "id": "PnmH6_qiJiuP",
        "outputId": "eee457c4-78d8-4fd2-8d40-b2b3130b8359"
      },
      "outputs": [
        {
          "output_type": "execute_result",
          "data": {
            "text/plain": [
              "Index(['Age', 'Job', 'Credit amount', 'Duration', 'Purpose_car',\n",
              "       'Purpose_domestic appliances', 'Purpose_education',\n",
              "       'Purpose_furniture/equipment', 'Purpose_radio/TV', 'Purpose_repairs',\n",
              "       'Purpose_vacation/others', 'Sex_male', 'Housing_own', 'Housing_rent',\n",
              "       'Savings_moderate', 'Savings_no_inf', 'Savings_quite rich',\n",
              "       'Savings_rich', 'Risk_bad', 'Check_moderate', 'Check_no_inf',\n",
              "       'Check_rich', 'Age_cat_Young', 'Age_cat_Adult', 'Age_cat_Senior'],\n",
              "      dtype='object')"
            ]
          },
          "metadata": {},
          "execution_count": 55
        }
      ],
      "source": [
        "df_credit.columns"
      ]
    },
    {
      "cell_type": "markdown",
      "metadata": {
        "id": "Md2J0ej_EzlI"
      },
      "source": [
        "# **6 Model 1 :** <a id=\"Modelling 1\"></a> <br>\n",
        "- Using Random Forest to predictict the credit score \n",
        "- Some of Validation Parameters"
      ]
    },
    {
      "cell_type": "code",
      "execution_count": 56,
      "metadata": {
        "id": "g-vi7z2nEzlI",
        "colab": {
          "base_uri": "https://localhost:8080/",
          "height": 1000
        },
        "outputId": "79568441-4811-48cb-adaa-f03ff3ac6cef"
      },
      "outputs": [
        {
          "output_type": "stream",
          "name": "stdout",
          "text": [
            "Fitting 5 folds for each of 175 candidates, totalling 875 fits\n",
            "[CV 1/5] END max_depth=3, max_features=4, n_estimators=3;, score=0.022 total time=   0.1s\n",
            "[CV 2/5] END max_depth=3, max_features=4, n_estimators=3;, score=0.111 total time=   0.0s\n",
            "[CV 3/5] END max_depth=3, max_features=4, n_estimators=3;, score=0.065 total time=   0.0s\n",
            "[CV 4/5] END max_depth=3, max_features=4, n_estimators=3;, score=0.196 total time=   0.0s\n",
            "[CV 5/5] END max_depth=3, max_features=4, n_estimators=3;, score=0.087 total time=   0.0s\n",
            "[CV 1/5] END max_depth=3, max_features=4, n_estimators=5;, score=0.044 total time=   0.0s\n",
            "[CV 2/5] END max_depth=3, max_features=4, n_estimators=5;, score=0.178 total time=   0.0s\n",
            "[CV 3/5] END max_depth=3, max_features=4, n_estimators=5;, score=0.152 total time=   0.0s\n",
            "[CV 4/5] END max_depth=3, max_features=4, n_estimators=5;, score=0.174 total time=   0.0s\n",
            "[CV 5/5] END max_depth=3, max_features=4, n_estimators=5;, score=0.087 total time=   0.0s\n",
            "[CV 1/5] END max_depth=3, max_features=4, n_estimators=10;, score=0.044 total time=   0.1s\n",
            "[CV 2/5] END max_depth=3, max_features=4, n_estimators=10;, score=0.111 total time=   0.1s\n",
            "[CV 3/5] END max_depth=3, max_features=4, n_estimators=10;, score=0.043 total time=   0.0s\n",
            "[CV 4/5] END max_depth=3, max_features=4, n_estimators=10;, score=0.109 total time=   0.0s\n",
            "[CV 5/5] END max_depth=3, max_features=4, n_estimators=10;, score=0.043 total time=   0.0s\n",
            "[CV 1/5] END max_depth=3, max_features=4, n_estimators=25;, score=0.022 total time=   0.1s\n",
            "[CV 2/5] END max_depth=3, max_features=4, n_estimators=25;, score=0.067 total time=   0.1s\n",
            "[CV 3/5] END max_depth=3, max_features=4, n_estimators=25;, score=0.043 total time=   0.1s\n",
            "[CV 4/5] END max_depth=3, max_features=4, n_estimators=25;, score=0.022 total time=   0.1s\n",
            "[CV 5/5] END max_depth=3, max_features=4, n_estimators=25;, score=0.022 total time=   0.1s\n",
            "[CV 1/5] END max_depth=3, max_features=4, n_estimators=50;, score=0.022 total time=   0.2s\n",
            "[CV 2/5] END max_depth=3, max_features=4, n_estimators=50;, score=0.089 total time=   0.1s\n",
            "[CV 3/5] END max_depth=3, max_features=4, n_estimators=50;, score=0.065 total time=   0.2s\n",
            "[CV 4/5] END max_depth=3, max_features=4, n_estimators=50;, score=0.022 total time=   0.1s\n",
            "[CV 5/5] END max_depth=3, max_features=4, n_estimators=50;, score=0.000 total time=   0.2s\n",
            "[CV 1/5] END max_depth=3, max_features=4, n_estimators=75;, score=0.022 total time=   0.2s\n",
            "[CV 2/5] END max_depth=3, max_features=4, n_estimators=75;, score=0.089 total time=   0.3s\n",
            "[CV 3/5] END max_depth=3, max_features=4, n_estimators=75;, score=0.087 total time=   0.4s\n",
            "[CV 4/5] END max_depth=3, max_features=4, n_estimators=75;, score=0.022 total time=   0.3s\n",
            "[CV 5/5] END max_depth=3, max_features=4, n_estimators=75;, score=0.000 total time=   0.3s\n",
            "[CV 1/5] END max_depth=3, max_features=4, n_estimators=100;, score=0.022 total time=   0.4s\n",
            "[CV 2/5] END max_depth=3, max_features=4, n_estimators=100;, score=0.111 total time=   0.3s\n",
            "[CV 3/5] END max_depth=3, max_features=4, n_estimators=100;, score=0.065 total time=   0.5s\n"
          ]
        },
        {
          "output_type": "error",
          "ename": "KeyboardInterrupt",
          "evalue": "ignored",
          "traceback": [
            "\u001b[0;31m---------------------------------------------------------------------------\u001b[0m",
            "\u001b[0;31mKeyboardInterrupt\u001b[0m                         Traceback (most recent call last)",
            "\u001b[0;32m<ipython-input-56-40440fd78153>\u001b[0m in \u001b[0;36m<module>\u001b[0;34m()\u001b[0m\n\u001b[1;32m      8\u001b[0m \u001b[0;34m\u001b[0m\u001b[0m\n\u001b[1;32m      9\u001b[0m \u001b[0mgrid_search\u001b[0m \u001b[0;34m=\u001b[0m \u001b[0mGridSearchCV\u001b[0m\u001b[0;34m(\u001b[0m\u001b[0mmodel\u001b[0m\u001b[0;34m,\u001b[0m \u001b[0mparam_grid\u001b[0m\u001b[0;34m=\u001b[0m\u001b[0mparam_grid\u001b[0m\u001b[0;34m,\u001b[0m \u001b[0mcv\u001b[0m\u001b[0;34m=\u001b[0m\u001b[0;36m5\u001b[0m\u001b[0;34m,\u001b[0m \u001b[0mscoring\u001b[0m\u001b[0;34m=\u001b[0m\u001b[0;34m'recall'\u001b[0m\u001b[0;34m,\u001b[0m \u001b[0mverbose\u001b[0m\u001b[0;34m=\u001b[0m\u001b[0;36m4\u001b[0m\u001b[0;34m)\u001b[0m\u001b[0;34m\u001b[0m\u001b[0;34m\u001b[0m\u001b[0m\n\u001b[0;32m---> 10\u001b[0;31m \u001b[0mgrid_search\u001b[0m\u001b[0;34m.\u001b[0m\u001b[0mfit\u001b[0m\u001b[0;34m(\u001b[0m\u001b[0mX_train\u001b[0m\u001b[0;34m,\u001b[0m \u001b[0my_train\u001b[0m\u001b[0;34m)\u001b[0m\u001b[0;34m\u001b[0m\u001b[0;34m\u001b[0m\u001b[0m\n\u001b[0m",
            "\u001b[0;32m/usr/local/lib/python3.7/dist-packages/sklearn/model_selection/_search.py\u001b[0m in \u001b[0;36mfit\u001b[0;34m(self, X, y, groups, **fit_params)\u001b[0m\n\u001b[1;32m    889\u001b[0m                 \u001b[0;32mreturn\u001b[0m \u001b[0mresults\u001b[0m\u001b[0;34m\u001b[0m\u001b[0;34m\u001b[0m\u001b[0m\n\u001b[1;32m    890\u001b[0m \u001b[0;34m\u001b[0m\u001b[0m\n\u001b[0;32m--> 891\u001b[0;31m             \u001b[0mself\u001b[0m\u001b[0;34m.\u001b[0m\u001b[0m_run_search\u001b[0m\u001b[0;34m(\u001b[0m\u001b[0mevaluate_candidates\u001b[0m\u001b[0;34m)\u001b[0m\u001b[0;34m\u001b[0m\u001b[0;34m\u001b[0m\u001b[0m\n\u001b[0m\u001b[1;32m    892\u001b[0m \u001b[0;34m\u001b[0m\u001b[0m\n\u001b[1;32m    893\u001b[0m             \u001b[0;31m# multimetric is determined here because in the case of a callable\u001b[0m\u001b[0;34m\u001b[0m\u001b[0;34m\u001b[0m\u001b[0;34m\u001b[0m\u001b[0m\n",
            "\u001b[0;32m/usr/local/lib/python3.7/dist-packages/sklearn/model_selection/_search.py\u001b[0m in \u001b[0;36m_run_search\u001b[0;34m(self, evaluate_candidates)\u001b[0m\n\u001b[1;32m   1390\u001b[0m     \u001b[0;32mdef\u001b[0m \u001b[0m_run_search\u001b[0m\u001b[0;34m(\u001b[0m\u001b[0mself\u001b[0m\u001b[0;34m,\u001b[0m \u001b[0mevaluate_candidates\u001b[0m\u001b[0;34m)\u001b[0m\u001b[0;34m:\u001b[0m\u001b[0;34m\u001b[0m\u001b[0;34m\u001b[0m\u001b[0m\n\u001b[1;32m   1391\u001b[0m         \u001b[0;34m\"\"\"Search all candidates in param_grid\"\"\"\u001b[0m\u001b[0;34m\u001b[0m\u001b[0;34m\u001b[0m\u001b[0m\n\u001b[0;32m-> 1392\u001b[0;31m         \u001b[0mevaluate_candidates\u001b[0m\u001b[0;34m(\u001b[0m\u001b[0mParameterGrid\u001b[0m\u001b[0;34m(\u001b[0m\u001b[0mself\u001b[0m\u001b[0;34m.\u001b[0m\u001b[0mparam_grid\u001b[0m\u001b[0;34m)\u001b[0m\u001b[0;34m)\u001b[0m\u001b[0;34m\u001b[0m\u001b[0;34m\u001b[0m\u001b[0m\n\u001b[0m\u001b[1;32m   1393\u001b[0m \u001b[0;34m\u001b[0m\u001b[0m\n\u001b[1;32m   1394\u001b[0m \u001b[0;34m\u001b[0m\u001b[0m\n",
            "\u001b[0;32m/usr/local/lib/python3.7/dist-packages/sklearn/model_selection/_search.py\u001b[0m in \u001b[0;36mevaluate_candidates\u001b[0;34m(candidate_params, cv, more_results)\u001b[0m\n\u001b[1;32m    849\u001b[0m                     )\n\u001b[1;32m    850\u001b[0m                     for (cand_idx, parameters), (split_idx, (train, test)) in product(\n\u001b[0;32m--> 851\u001b[0;31m                         \u001b[0menumerate\u001b[0m\u001b[0;34m(\u001b[0m\u001b[0mcandidate_params\u001b[0m\u001b[0;34m)\u001b[0m\u001b[0;34m,\u001b[0m \u001b[0menumerate\u001b[0m\u001b[0;34m(\u001b[0m\u001b[0mcv\u001b[0m\u001b[0;34m.\u001b[0m\u001b[0msplit\u001b[0m\u001b[0;34m(\u001b[0m\u001b[0mX\u001b[0m\u001b[0;34m,\u001b[0m \u001b[0my\u001b[0m\u001b[0;34m,\u001b[0m \u001b[0mgroups\u001b[0m\u001b[0;34m)\u001b[0m\u001b[0;34m)\u001b[0m\u001b[0;34m\u001b[0m\u001b[0;34m\u001b[0m\u001b[0m\n\u001b[0m\u001b[1;32m    852\u001b[0m                     )\n\u001b[1;32m    853\u001b[0m                 )\n",
            "\u001b[0;32m/usr/local/lib/python3.7/dist-packages/joblib/parallel.py\u001b[0m in \u001b[0;36m__call__\u001b[0;34m(self, iterable)\u001b[0m\n\u001b[1;32m   1044\u001b[0m                 \u001b[0mself\u001b[0m\u001b[0;34m.\u001b[0m\u001b[0m_iterating\u001b[0m \u001b[0;34m=\u001b[0m \u001b[0mself\u001b[0m\u001b[0;34m.\u001b[0m\u001b[0m_original_iterator\u001b[0m \u001b[0;32mis\u001b[0m \u001b[0;32mnot\u001b[0m \u001b[0;32mNone\u001b[0m\u001b[0;34m\u001b[0m\u001b[0;34m\u001b[0m\u001b[0m\n\u001b[1;32m   1045\u001b[0m \u001b[0;34m\u001b[0m\u001b[0m\n\u001b[0;32m-> 1046\u001b[0;31m             \u001b[0;32mwhile\u001b[0m \u001b[0mself\u001b[0m\u001b[0;34m.\u001b[0m\u001b[0mdispatch_one_batch\u001b[0m\u001b[0;34m(\u001b[0m\u001b[0miterator\u001b[0m\u001b[0;34m)\u001b[0m\u001b[0;34m:\u001b[0m\u001b[0;34m\u001b[0m\u001b[0;34m\u001b[0m\u001b[0m\n\u001b[0m\u001b[1;32m   1047\u001b[0m                 \u001b[0;32mpass\u001b[0m\u001b[0;34m\u001b[0m\u001b[0;34m\u001b[0m\u001b[0m\n\u001b[1;32m   1048\u001b[0m \u001b[0;34m\u001b[0m\u001b[0m\n",
            "\u001b[0;32m/usr/local/lib/python3.7/dist-packages/joblib/parallel.py\u001b[0m in \u001b[0;36mdispatch_one_batch\u001b[0;34m(self, iterator)\u001b[0m\n\u001b[1;32m    859\u001b[0m                 \u001b[0;32mreturn\u001b[0m \u001b[0;32mFalse\u001b[0m\u001b[0;34m\u001b[0m\u001b[0;34m\u001b[0m\u001b[0m\n\u001b[1;32m    860\u001b[0m             \u001b[0;32melse\u001b[0m\u001b[0;34m:\u001b[0m\u001b[0;34m\u001b[0m\u001b[0;34m\u001b[0m\u001b[0m\n\u001b[0;32m--> 861\u001b[0;31m                 \u001b[0mself\u001b[0m\u001b[0;34m.\u001b[0m\u001b[0m_dispatch\u001b[0m\u001b[0;34m(\u001b[0m\u001b[0mtasks\u001b[0m\u001b[0;34m)\u001b[0m\u001b[0;34m\u001b[0m\u001b[0;34m\u001b[0m\u001b[0m\n\u001b[0m\u001b[1;32m    862\u001b[0m                 \u001b[0;32mreturn\u001b[0m \u001b[0;32mTrue\u001b[0m\u001b[0;34m\u001b[0m\u001b[0;34m\u001b[0m\u001b[0m\n\u001b[1;32m    863\u001b[0m \u001b[0;34m\u001b[0m\u001b[0m\n",
            "\u001b[0;32m/usr/local/lib/python3.7/dist-packages/joblib/parallel.py\u001b[0m in \u001b[0;36m_dispatch\u001b[0;34m(self, batch)\u001b[0m\n\u001b[1;32m    777\u001b[0m         \u001b[0;32mwith\u001b[0m \u001b[0mself\u001b[0m\u001b[0;34m.\u001b[0m\u001b[0m_lock\u001b[0m\u001b[0;34m:\u001b[0m\u001b[0;34m\u001b[0m\u001b[0;34m\u001b[0m\u001b[0m\n\u001b[1;32m    778\u001b[0m             \u001b[0mjob_idx\u001b[0m \u001b[0;34m=\u001b[0m \u001b[0mlen\u001b[0m\u001b[0;34m(\u001b[0m\u001b[0mself\u001b[0m\u001b[0;34m.\u001b[0m\u001b[0m_jobs\u001b[0m\u001b[0;34m)\u001b[0m\u001b[0;34m\u001b[0m\u001b[0;34m\u001b[0m\u001b[0m\n\u001b[0;32m--> 779\u001b[0;31m             \u001b[0mjob\u001b[0m \u001b[0;34m=\u001b[0m \u001b[0mself\u001b[0m\u001b[0;34m.\u001b[0m\u001b[0m_backend\u001b[0m\u001b[0;34m.\u001b[0m\u001b[0mapply_async\u001b[0m\u001b[0;34m(\u001b[0m\u001b[0mbatch\u001b[0m\u001b[0;34m,\u001b[0m \u001b[0mcallback\u001b[0m\u001b[0;34m=\u001b[0m\u001b[0mcb\u001b[0m\u001b[0;34m)\u001b[0m\u001b[0;34m\u001b[0m\u001b[0;34m\u001b[0m\u001b[0m\n\u001b[0m\u001b[1;32m    780\u001b[0m             \u001b[0;31m# A job can complete so quickly than its callback is\u001b[0m\u001b[0;34m\u001b[0m\u001b[0;34m\u001b[0m\u001b[0;34m\u001b[0m\u001b[0m\n\u001b[1;32m    781\u001b[0m             \u001b[0;31m# called before we get here, causing self._jobs to\u001b[0m\u001b[0;34m\u001b[0m\u001b[0;34m\u001b[0m\u001b[0;34m\u001b[0m\u001b[0m\n",
            "\u001b[0;32m/usr/local/lib/python3.7/dist-packages/joblib/_parallel_backends.py\u001b[0m in \u001b[0;36mapply_async\u001b[0;34m(self, func, callback)\u001b[0m\n\u001b[1;32m    206\u001b[0m     \u001b[0;32mdef\u001b[0m \u001b[0mapply_async\u001b[0m\u001b[0;34m(\u001b[0m\u001b[0mself\u001b[0m\u001b[0;34m,\u001b[0m \u001b[0mfunc\u001b[0m\u001b[0;34m,\u001b[0m \u001b[0mcallback\u001b[0m\u001b[0;34m=\u001b[0m\u001b[0;32mNone\u001b[0m\u001b[0;34m)\u001b[0m\u001b[0;34m:\u001b[0m\u001b[0;34m\u001b[0m\u001b[0;34m\u001b[0m\u001b[0m\n\u001b[1;32m    207\u001b[0m         \u001b[0;34m\"\"\"Schedule a func to be run\"\"\"\u001b[0m\u001b[0;34m\u001b[0m\u001b[0;34m\u001b[0m\u001b[0m\n\u001b[0;32m--> 208\u001b[0;31m         \u001b[0mresult\u001b[0m \u001b[0;34m=\u001b[0m \u001b[0mImmediateResult\u001b[0m\u001b[0;34m(\u001b[0m\u001b[0mfunc\u001b[0m\u001b[0;34m)\u001b[0m\u001b[0;34m\u001b[0m\u001b[0;34m\u001b[0m\u001b[0m\n\u001b[0m\u001b[1;32m    209\u001b[0m         \u001b[0;32mif\u001b[0m \u001b[0mcallback\u001b[0m\u001b[0;34m:\u001b[0m\u001b[0;34m\u001b[0m\u001b[0;34m\u001b[0m\u001b[0m\n\u001b[1;32m    210\u001b[0m             \u001b[0mcallback\u001b[0m\u001b[0;34m(\u001b[0m\u001b[0mresult\u001b[0m\u001b[0;34m)\u001b[0m\u001b[0;34m\u001b[0m\u001b[0;34m\u001b[0m\u001b[0m\n",
            "\u001b[0;32m/usr/local/lib/python3.7/dist-packages/joblib/_parallel_backends.py\u001b[0m in \u001b[0;36m__init__\u001b[0;34m(self, batch)\u001b[0m\n\u001b[1;32m    570\u001b[0m         \u001b[0;31m# Don't delay the application, to avoid keeping the input\u001b[0m\u001b[0;34m\u001b[0m\u001b[0;34m\u001b[0m\u001b[0;34m\u001b[0m\u001b[0m\n\u001b[1;32m    571\u001b[0m         \u001b[0;31m# arguments in memory\u001b[0m\u001b[0;34m\u001b[0m\u001b[0;34m\u001b[0m\u001b[0;34m\u001b[0m\u001b[0m\n\u001b[0;32m--> 572\u001b[0;31m         \u001b[0mself\u001b[0m\u001b[0;34m.\u001b[0m\u001b[0mresults\u001b[0m \u001b[0;34m=\u001b[0m \u001b[0mbatch\u001b[0m\u001b[0;34m(\u001b[0m\u001b[0;34m)\u001b[0m\u001b[0;34m\u001b[0m\u001b[0;34m\u001b[0m\u001b[0m\n\u001b[0m\u001b[1;32m    573\u001b[0m \u001b[0;34m\u001b[0m\u001b[0m\n\u001b[1;32m    574\u001b[0m     \u001b[0;32mdef\u001b[0m \u001b[0mget\u001b[0m\u001b[0;34m(\u001b[0m\u001b[0mself\u001b[0m\u001b[0;34m)\u001b[0m\u001b[0;34m:\u001b[0m\u001b[0;34m\u001b[0m\u001b[0;34m\u001b[0m\u001b[0m\n",
            "\u001b[0;32m/usr/local/lib/python3.7/dist-packages/joblib/parallel.py\u001b[0m in \u001b[0;36m__call__\u001b[0;34m(self)\u001b[0m\n\u001b[1;32m    261\u001b[0m         \u001b[0;32mwith\u001b[0m \u001b[0mparallel_backend\u001b[0m\u001b[0;34m(\u001b[0m\u001b[0mself\u001b[0m\u001b[0;34m.\u001b[0m\u001b[0m_backend\u001b[0m\u001b[0;34m,\u001b[0m \u001b[0mn_jobs\u001b[0m\u001b[0;34m=\u001b[0m\u001b[0mself\u001b[0m\u001b[0;34m.\u001b[0m\u001b[0m_n_jobs\u001b[0m\u001b[0;34m)\u001b[0m\u001b[0;34m:\u001b[0m\u001b[0;34m\u001b[0m\u001b[0;34m\u001b[0m\u001b[0m\n\u001b[1;32m    262\u001b[0m             return [func(*args, **kwargs)\n\u001b[0;32m--> 263\u001b[0;31m                     for func, args, kwargs in self.items]\n\u001b[0m\u001b[1;32m    264\u001b[0m \u001b[0;34m\u001b[0m\u001b[0m\n\u001b[1;32m    265\u001b[0m     \u001b[0;32mdef\u001b[0m \u001b[0m__reduce__\u001b[0m\u001b[0;34m(\u001b[0m\u001b[0mself\u001b[0m\u001b[0;34m)\u001b[0m\u001b[0;34m:\u001b[0m\u001b[0;34m\u001b[0m\u001b[0;34m\u001b[0m\u001b[0m\n",
            "\u001b[0;32m/usr/local/lib/python3.7/dist-packages/joblib/parallel.py\u001b[0m in \u001b[0;36m<listcomp>\u001b[0;34m(.0)\u001b[0m\n\u001b[1;32m    261\u001b[0m         \u001b[0;32mwith\u001b[0m \u001b[0mparallel_backend\u001b[0m\u001b[0;34m(\u001b[0m\u001b[0mself\u001b[0m\u001b[0;34m.\u001b[0m\u001b[0m_backend\u001b[0m\u001b[0;34m,\u001b[0m \u001b[0mn_jobs\u001b[0m\u001b[0;34m=\u001b[0m\u001b[0mself\u001b[0m\u001b[0;34m.\u001b[0m\u001b[0m_n_jobs\u001b[0m\u001b[0;34m)\u001b[0m\u001b[0;34m:\u001b[0m\u001b[0;34m\u001b[0m\u001b[0;34m\u001b[0m\u001b[0m\n\u001b[1;32m    262\u001b[0m             return [func(*args, **kwargs)\n\u001b[0;32m--> 263\u001b[0;31m                     for func, args, kwargs in self.items]\n\u001b[0m\u001b[1;32m    264\u001b[0m \u001b[0;34m\u001b[0m\u001b[0m\n\u001b[1;32m    265\u001b[0m     \u001b[0;32mdef\u001b[0m \u001b[0m__reduce__\u001b[0m\u001b[0;34m(\u001b[0m\u001b[0mself\u001b[0m\u001b[0;34m)\u001b[0m\u001b[0;34m:\u001b[0m\u001b[0;34m\u001b[0m\u001b[0;34m\u001b[0m\u001b[0m\n",
            "\u001b[0;32m/usr/local/lib/python3.7/dist-packages/sklearn/utils/fixes.py\u001b[0m in \u001b[0;36m__call__\u001b[0;34m(self, *args, **kwargs)\u001b[0m\n\u001b[1;32m    214\u001b[0m     \u001b[0;32mdef\u001b[0m \u001b[0m__call__\u001b[0m\u001b[0;34m(\u001b[0m\u001b[0mself\u001b[0m\u001b[0;34m,\u001b[0m \u001b[0;34m*\u001b[0m\u001b[0margs\u001b[0m\u001b[0;34m,\u001b[0m \u001b[0;34m**\u001b[0m\u001b[0mkwargs\u001b[0m\u001b[0;34m)\u001b[0m\u001b[0;34m:\u001b[0m\u001b[0;34m\u001b[0m\u001b[0;34m\u001b[0m\u001b[0m\n\u001b[1;32m    215\u001b[0m         \u001b[0;32mwith\u001b[0m \u001b[0mconfig_context\u001b[0m\u001b[0;34m(\u001b[0m\u001b[0;34m**\u001b[0m\u001b[0mself\u001b[0m\u001b[0;34m.\u001b[0m\u001b[0mconfig\u001b[0m\u001b[0;34m)\u001b[0m\u001b[0;34m:\u001b[0m\u001b[0;34m\u001b[0m\u001b[0;34m\u001b[0m\u001b[0m\n\u001b[0;32m--> 216\u001b[0;31m             \u001b[0;32mreturn\u001b[0m \u001b[0mself\u001b[0m\u001b[0;34m.\u001b[0m\u001b[0mfunction\u001b[0m\u001b[0;34m(\u001b[0m\u001b[0;34m*\u001b[0m\u001b[0margs\u001b[0m\u001b[0;34m,\u001b[0m \u001b[0;34m**\u001b[0m\u001b[0mkwargs\u001b[0m\u001b[0;34m)\u001b[0m\u001b[0;34m\u001b[0m\u001b[0;34m\u001b[0m\u001b[0m\n\u001b[0m\u001b[1;32m    217\u001b[0m \u001b[0;34m\u001b[0m\u001b[0m\n\u001b[1;32m    218\u001b[0m \u001b[0;34m\u001b[0m\u001b[0m\n",
            "\u001b[0;32m/usr/local/lib/python3.7/dist-packages/sklearn/model_selection/_validation.py\u001b[0m in \u001b[0;36m_fit_and_score\u001b[0;34m(estimator, X, y, scorer, train, test, verbose, parameters, fit_params, return_train_score, return_parameters, return_n_test_samples, return_times, return_estimator, split_progress, candidate_progress, error_score)\u001b[0m\n\u001b[1;32m    678\u001b[0m             \u001b[0mestimator\u001b[0m\u001b[0;34m.\u001b[0m\u001b[0mfit\u001b[0m\u001b[0;34m(\u001b[0m\u001b[0mX_train\u001b[0m\u001b[0;34m,\u001b[0m \u001b[0;34m**\u001b[0m\u001b[0mfit_params\u001b[0m\u001b[0;34m)\u001b[0m\u001b[0;34m\u001b[0m\u001b[0;34m\u001b[0m\u001b[0m\n\u001b[1;32m    679\u001b[0m         \u001b[0;32melse\u001b[0m\u001b[0;34m:\u001b[0m\u001b[0;34m\u001b[0m\u001b[0;34m\u001b[0m\u001b[0m\n\u001b[0;32m--> 680\u001b[0;31m             \u001b[0mestimator\u001b[0m\u001b[0;34m.\u001b[0m\u001b[0mfit\u001b[0m\u001b[0;34m(\u001b[0m\u001b[0mX_train\u001b[0m\u001b[0;34m,\u001b[0m \u001b[0my_train\u001b[0m\u001b[0;34m,\u001b[0m \u001b[0;34m**\u001b[0m\u001b[0mfit_params\u001b[0m\u001b[0;34m)\u001b[0m\u001b[0;34m\u001b[0m\u001b[0;34m\u001b[0m\u001b[0m\n\u001b[0m\u001b[1;32m    681\u001b[0m \u001b[0;34m\u001b[0m\u001b[0m\n\u001b[1;32m    682\u001b[0m     \u001b[0;32mexcept\u001b[0m \u001b[0mException\u001b[0m\u001b[0;34m:\u001b[0m\u001b[0;34m\u001b[0m\u001b[0;34m\u001b[0m\u001b[0m\n",
            "\u001b[0;32m/usr/local/lib/python3.7/dist-packages/sklearn/ensemble/_forest.py\u001b[0m in \u001b[0;36mfit\u001b[0;34m(self, X, y, sample_weight)\u001b[0m\n\u001b[1;32m    465\u001b[0m                     \u001b[0mn_samples_bootstrap\u001b[0m\u001b[0;34m=\u001b[0m\u001b[0mn_samples_bootstrap\u001b[0m\u001b[0;34m,\u001b[0m\u001b[0;34m\u001b[0m\u001b[0;34m\u001b[0m\u001b[0m\n\u001b[1;32m    466\u001b[0m                 )\n\u001b[0;32m--> 467\u001b[0;31m                 \u001b[0;32mfor\u001b[0m \u001b[0mi\u001b[0m\u001b[0;34m,\u001b[0m \u001b[0mt\u001b[0m \u001b[0;32min\u001b[0m \u001b[0menumerate\u001b[0m\u001b[0;34m(\u001b[0m\u001b[0mtrees\u001b[0m\u001b[0;34m)\u001b[0m\u001b[0;34m\u001b[0m\u001b[0;34m\u001b[0m\u001b[0m\n\u001b[0m\u001b[1;32m    468\u001b[0m             )\n\u001b[1;32m    469\u001b[0m \u001b[0;34m\u001b[0m\u001b[0m\n",
            "\u001b[0;32m/usr/local/lib/python3.7/dist-packages/joblib/parallel.py\u001b[0m in \u001b[0;36m__call__\u001b[0;34m(self, iterable)\u001b[0m\n\u001b[1;32m   1044\u001b[0m                 \u001b[0mself\u001b[0m\u001b[0;34m.\u001b[0m\u001b[0m_iterating\u001b[0m \u001b[0;34m=\u001b[0m \u001b[0mself\u001b[0m\u001b[0;34m.\u001b[0m\u001b[0m_original_iterator\u001b[0m \u001b[0;32mis\u001b[0m \u001b[0;32mnot\u001b[0m \u001b[0;32mNone\u001b[0m\u001b[0;34m\u001b[0m\u001b[0;34m\u001b[0m\u001b[0m\n\u001b[1;32m   1045\u001b[0m \u001b[0;34m\u001b[0m\u001b[0m\n\u001b[0;32m-> 1046\u001b[0;31m             \u001b[0;32mwhile\u001b[0m \u001b[0mself\u001b[0m\u001b[0;34m.\u001b[0m\u001b[0mdispatch_one_batch\u001b[0m\u001b[0;34m(\u001b[0m\u001b[0miterator\u001b[0m\u001b[0;34m)\u001b[0m\u001b[0;34m:\u001b[0m\u001b[0;34m\u001b[0m\u001b[0;34m\u001b[0m\u001b[0m\n\u001b[0m\u001b[1;32m   1047\u001b[0m                 \u001b[0;32mpass\u001b[0m\u001b[0;34m\u001b[0m\u001b[0;34m\u001b[0m\u001b[0m\n\u001b[1;32m   1048\u001b[0m \u001b[0;34m\u001b[0m\u001b[0m\n",
            "\u001b[0;32m/usr/local/lib/python3.7/dist-packages/joblib/parallel.py\u001b[0m in \u001b[0;36mdispatch_one_batch\u001b[0;34m(self, iterator)\u001b[0m\n\u001b[1;32m    859\u001b[0m                 \u001b[0;32mreturn\u001b[0m \u001b[0;32mFalse\u001b[0m\u001b[0;34m\u001b[0m\u001b[0;34m\u001b[0m\u001b[0m\n\u001b[1;32m    860\u001b[0m             \u001b[0;32melse\u001b[0m\u001b[0;34m:\u001b[0m\u001b[0;34m\u001b[0m\u001b[0;34m\u001b[0m\u001b[0m\n\u001b[0;32m--> 861\u001b[0;31m                 \u001b[0mself\u001b[0m\u001b[0;34m.\u001b[0m\u001b[0m_dispatch\u001b[0m\u001b[0;34m(\u001b[0m\u001b[0mtasks\u001b[0m\u001b[0;34m)\u001b[0m\u001b[0;34m\u001b[0m\u001b[0;34m\u001b[0m\u001b[0m\n\u001b[0m\u001b[1;32m    862\u001b[0m                 \u001b[0;32mreturn\u001b[0m \u001b[0;32mTrue\u001b[0m\u001b[0;34m\u001b[0m\u001b[0;34m\u001b[0m\u001b[0m\n\u001b[1;32m    863\u001b[0m \u001b[0;34m\u001b[0m\u001b[0m\n",
            "\u001b[0;32m/usr/local/lib/python3.7/dist-packages/joblib/parallel.py\u001b[0m in \u001b[0;36m_dispatch\u001b[0;34m(self, batch)\u001b[0m\n\u001b[1;32m    777\u001b[0m         \u001b[0;32mwith\u001b[0m \u001b[0mself\u001b[0m\u001b[0;34m.\u001b[0m\u001b[0m_lock\u001b[0m\u001b[0;34m:\u001b[0m\u001b[0;34m\u001b[0m\u001b[0;34m\u001b[0m\u001b[0m\n\u001b[1;32m    778\u001b[0m             \u001b[0mjob_idx\u001b[0m \u001b[0;34m=\u001b[0m \u001b[0mlen\u001b[0m\u001b[0;34m(\u001b[0m\u001b[0mself\u001b[0m\u001b[0;34m.\u001b[0m\u001b[0m_jobs\u001b[0m\u001b[0;34m)\u001b[0m\u001b[0;34m\u001b[0m\u001b[0;34m\u001b[0m\u001b[0m\n\u001b[0;32m--> 779\u001b[0;31m             \u001b[0mjob\u001b[0m \u001b[0;34m=\u001b[0m \u001b[0mself\u001b[0m\u001b[0;34m.\u001b[0m\u001b[0m_backend\u001b[0m\u001b[0;34m.\u001b[0m\u001b[0mapply_async\u001b[0m\u001b[0;34m(\u001b[0m\u001b[0mbatch\u001b[0m\u001b[0;34m,\u001b[0m \u001b[0mcallback\u001b[0m\u001b[0;34m=\u001b[0m\u001b[0mcb\u001b[0m\u001b[0;34m)\u001b[0m\u001b[0;34m\u001b[0m\u001b[0;34m\u001b[0m\u001b[0m\n\u001b[0m\u001b[1;32m    780\u001b[0m             \u001b[0;31m# A job can complete so quickly than its callback is\u001b[0m\u001b[0;34m\u001b[0m\u001b[0;34m\u001b[0m\u001b[0;34m\u001b[0m\u001b[0m\n\u001b[1;32m    781\u001b[0m             \u001b[0;31m# called before we get here, causing self._jobs to\u001b[0m\u001b[0;34m\u001b[0m\u001b[0;34m\u001b[0m\u001b[0;34m\u001b[0m\u001b[0m\n",
            "\u001b[0;32m/usr/local/lib/python3.7/dist-packages/joblib/_parallel_backends.py\u001b[0m in \u001b[0;36mapply_async\u001b[0;34m(self, func, callback)\u001b[0m\n\u001b[1;32m    206\u001b[0m     \u001b[0;32mdef\u001b[0m \u001b[0mapply_async\u001b[0m\u001b[0;34m(\u001b[0m\u001b[0mself\u001b[0m\u001b[0;34m,\u001b[0m \u001b[0mfunc\u001b[0m\u001b[0;34m,\u001b[0m \u001b[0mcallback\u001b[0m\u001b[0;34m=\u001b[0m\u001b[0;32mNone\u001b[0m\u001b[0;34m)\u001b[0m\u001b[0;34m:\u001b[0m\u001b[0;34m\u001b[0m\u001b[0;34m\u001b[0m\u001b[0m\n\u001b[1;32m    207\u001b[0m         \u001b[0;34m\"\"\"Schedule a func to be run\"\"\"\u001b[0m\u001b[0;34m\u001b[0m\u001b[0;34m\u001b[0m\u001b[0m\n\u001b[0;32m--> 208\u001b[0;31m         \u001b[0mresult\u001b[0m \u001b[0;34m=\u001b[0m \u001b[0mImmediateResult\u001b[0m\u001b[0;34m(\u001b[0m\u001b[0mfunc\u001b[0m\u001b[0;34m)\u001b[0m\u001b[0;34m\u001b[0m\u001b[0;34m\u001b[0m\u001b[0m\n\u001b[0m\u001b[1;32m    209\u001b[0m         \u001b[0;32mif\u001b[0m \u001b[0mcallback\u001b[0m\u001b[0;34m:\u001b[0m\u001b[0;34m\u001b[0m\u001b[0;34m\u001b[0m\u001b[0m\n\u001b[1;32m    210\u001b[0m             \u001b[0mcallback\u001b[0m\u001b[0;34m(\u001b[0m\u001b[0mresult\u001b[0m\u001b[0;34m)\u001b[0m\u001b[0;34m\u001b[0m\u001b[0;34m\u001b[0m\u001b[0m\n",
            "\u001b[0;32m/usr/local/lib/python3.7/dist-packages/joblib/_parallel_backends.py\u001b[0m in \u001b[0;36m__init__\u001b[0;34m(self, batch)\u001b[0m\n\u001b[1;32m    570\u001b[0m         \u001b[0;31m# Don't delay the application, to avoid keeping the input\u001b[0m\u001b[0;34m\u001b[0m\u001b[0;34m\u001b[0m\u001b[0;34m\u001b[0m\u001b[0m\n\u001b[1;32m    571\u001b[0m         \u001b[0;31m# arguments in memory\u001b[0m\u001b[0;34m\u001b[0m\u001b[0;34m\u001b[0m\u001b[0;34m\u001b[0m\u001b[0m\n\u001b[0;32m--> 572\u001b[0;31m         \u001b[0mself\u001b[0m\u001b[0;34m.\u001b[0m\u001b[0mresults\u001b[0m \u001b[0;34m=\u001b[0m \u001b[0mbatch\u001b[0m\u001b[0;34m(\u001b[0m\u001b[0;34m)\u001b[0m\u001b[0;34m\u001b[0m\u001b[0;34m\u001b[0m\u001b[0m\n\u001b[0m\u001b[1;32m    573\u001b[0m \u001b[0;34m\u001b[0m\u001b[0m\n\u001b[1;32m    574\u001b[0m     \u001b[0;32mdef\u001b[0m \u001b[0mget\u001b[0m\u001b[0;34m(\u001b[0m\u001b[0mself\u001b[0m\u001b[0;34m)\u001b[0m\u001b[0;34m:\u001b[0m\u001b[0;34m\u001b[0m\u001b[0;34m\u001b[0m\u001b[0m\n",
            "\u001b[0;32m/usr/local/lib/python3.7/dist-packages/joblib/parallel.py\u001b[0m in \u001b[0;36m__call__\u001b[0;34m(self)\u001b[0m\n\u001b[1;32m    261\u001b[0m         \u001b[0;32mwith\u001b[0m \u001b[0mparallel_backend\u001b[0m\u001b[0;34m(\u001b[0m\u001b[0mself\u001b[0m\u001b[0;34m.\u001b[0m\u001b[0m_backend\u001b[0m\u001b[0;34m,\u001b[0m \u001b[0mn_jobs\u001b[0m\u001b[0;34m=\u001b[0m\u001b[0mself\u001b[0m\u001b[0;34m.\u001b[0m\u001b[0m_n_jobs\u001b[0m\u001b[0;34m)\u001b[0m\u001b[0;34m:\u001b[0m\u001b[0;34m\u001b[0m\u001b[0;34m\u001b[0m\u001b[0m\n\u001b[1;32m    262\u001b[0m             return [func(*args, **kwargs)\n\u001b[0;32m--> 263\u001b[0;31m                     for func, args, kwargs in self.items]\n\u001b[0m\u001b[1;32m    264\u001b[0m \u001b[0;34m\u001b[0m\u001b[0m\n\u001b[1;32m    265\u001b[0m     \u001b[0;32mdef\u001b[0m \u001b[0m__reduce__\u001b[0m\u001b[0;34m(\u001b[0m\u001b[0mself\u001b[0m\u001b[0;34m)\u001b[0m\u001b[0;34m:\u001b[0m\u001b[0;34m\u001b[0m\u001b[0;34m\u001b[0m\u001b[0m\n",
            "\u001b[0;32m/usr/local/lib/python3.7/dist-packages/joblib/parallel.py\u001b[0m in \u001b[0;36m<listcomp>\u001b[0;34m(.0)\u001b[0m\n\u001b[1;32m    261\u001b[0m         \u001b[0;32mwith\u001b[0m \u001b[0mparallel_backend\u001b[0m\u001b[0;34m(\u001b[0m\u001b[0mself\u001b[0m\u001b[0;34m.\u001b[0m\u001b[0m_backend\u001b[0m\u001b[0;34m,\u001b[0m \u001b[0mn_jobs\u001b[0m\u001b[0;34m=\u001b[0m\u001b[0mself\u001b[0m\u001b[0;34m.\u001b[0m\u001b[0m_n_jobs\u001b[0m\u001b[0;34m)\u001b[0m\u001b[0;34m:\u001b[0m\u001b[0;34m\u001b[0m\u001b[0;34m\u001b[0m\u001b[0m\n\u001b[1;32m    262\u001b[0m             return [func(*args, **kwargs)\n\u001b[0;32m--> 263\u001b[0;31m                     for func, args, kwargs in self.items]\n\u001b[0m\u001b[1;32m    264\u001b[0m \u001b[0;34m\u001b[0m\u001b[0m\n\u001b[1;32m    265\u001b[0m     \u001b[0;32mdef\u001b[0m \u001b[0m__reduce__\u001b[0m\u001b[0;34m(\u001b[0m\u001b[0mself\u001b[0m\u001b[0;34m)\u001b[0m\u001b[0;34m:\u001b[0m\u001b[0;34m\u001b[0m\u001b[0;34m\u001b[0m\u001b[0m\n",
            "\u001b[0;32m/usr/local/lib/python3.7/dist-packages/sklearn/utils/fixes.py\u001b[0m in \u001b[0;36m__call__\u001b[0;34m(self, *args, **kwargs)\u001b[0m\n\u001b[1;32m    214\u001b[0m     \u001b[0;32mdef\u001b[0m \u001b[0m__call__\u001b[0m\u001b[0;34m(\u001b[0m\u001b[0mself\u001b[0m\u001b[0;34m,\u001b[0m \u001b[0;34m*\u001b[0m\u001b[0margs\u001b[0m\u001b[0;34m,\u001b[0m \u001b[0;34m**\u001b[0m\u001b[0mkwargs\u001b[0m\u001b[0;34m)\u001b[0m\u001b[0;34m:\u001b[0m\u001b[0;34m\u001b[0m\u001b[0;34m\u001b[0m\u001b[0m\n\u001b[1;32m    215\u001b[0m         \u001b[0;32mwith\u001b[0m \u001b[0mconfig_context\u001b[0m\u001b[0;34m(\u001b[0m\u001b[0;34m**\u001b[0m\u001b[0mself\u001b[0m\u001b[0;34m.\u001b[0m\u001b[0mconfig\u001b[0m\u001b[0;34m)\u001b[0m\u001b[0;34m:\u001b[0m\u001b[0;34m\u001b[0m\u001b[0;34m\u001b[0m\u001b[0m\n\u001b[0;32m--> 216\u001b[0;31m             \u001b[0;32mreturn\u001b[0m \u001b[0mself\u001b[0m\u001b[0;34m.\u001b[0m\u001b[0mfunction\u001b[0m\u001b[0;34m(\u001b[0m\u001b[0;34m*\u001b[0m\u001b[0margs\u001b[0m\u001b[0;34m,\u001b[0m \u001b[0;34m**\u001b[0m\u001b[0mkwargs\u001b[0m\u001b[0;34m)\u001b[0m\u001b[0;34m\u001b[0m\u001b[0;34m\u001b[0m\u001b[0m\n\u001b[0m\u001b[1;32m    217\u001b[0m \u001b[0;34m\u001b[0m\u001b[0m\n\u001b[1;32m    218\u001b[0m \u001b[0;34m\u001b[0m\u001b[0m\n",
            "\u001b[0;32m/usr/local/lib/python3.7/dist-packages/sklearn/ensemble/_forest.py\u001b[0m in \u001b[0;36m_parallel_build_trees\u001b[0;34m(tree, forest, X, y, sample_weight, tree_idx, n_trees, verbose, class_weight, n_samples_bootstrap)\u001b[0m\n\u001b[1;32m    171\u001b[0m \u001b[0;34m\u001b[0m\u001b[0m\n\u001b[1;32m    172\u001b[0m         indices = _generate_sample_indices(\n\u001b[0;32m--> 173\u001b[0;31m             \u001b[0mtree\u001b[0m\u001b[0;34m.\u001b[0m\u001b[0mrandom_state\u001b[0m\u001b[0;34m,\u001b[0m \u001b[0mn_samples\u001b[0m\u001b[0;34m,\u001b[0m \u001b[0mn_samples_bootstrap\u001b[0m\u001b[0;34m\u001b[0m\u001b[0;34m\u001b[0m\u001b[0m\n\u001b[0m\u001b[1;32m    174\u001b[0m         )\n\u001b[1;32m    175\u001b[0m         \u001b[0msample_counts\u001b[0m \u001b[0;34m=\u001b[0m \u001b[0mnp\u001b[0m\u001b[0;34m.\u001b[0m\u001b[0mbincount\u001b[0m\u001b[0;34m(\u001b[0m\u001b[0mindices\u001b[0m\u001b[0;34m,\u001b[0m \u001b[0mminlength\u001b[0m\u001b[0;34m=\u001b[0m\u001b[0mn_samples\u001b[0m\u001b[0;34m)\u001b[0m\u001b[0;34m\u001b[0m\u001b[0;34m\u001b[0m\u001b[0m\n",
            "\u001b[0;32m/usr/local/lib/python3.7/dist-packages/sklearn/ensemble/_forest.py\u001b[0m in \u001b[0;36m_generate_sample_indices\u001b[0;34m(random_state, n_samples, n_samples_bootstrap)\u001b[0m\n\u001b[1;32m    126\u001b[0m     Private function used to _parallel_build_trees function.\"\"\"\n\u001b[1;32m    127\u001b[0m \u001b[0;34m\u001b[0m\u001b[0m\n\u001b[0;32m--> 128\u001b[0;31m     \u001b[0mrandom_instance\u001b[0m \u001b[0;34m=\u001b[0m \u001b[0mcheck_random_state\u001b[0m\u001b[0;34m(\u001b[0m\u001b[0mrandom_state\u001b[0m\u001b[0;34m)\u001b[0m\u001b[0;34m\u001b[0m\u001b[0;34m\u001b[0m\u001b[0m\n\u001b[0m\u001b[1;32m    129\u001b[0m     \u001b[0msample_indices\u001b[0m \u001b[0;34m=\u001b[0m \u001b[0mrandom_instance\u001b[0m\u001b[0;34m.\u001b[0m\u001b[0mrandint\u001b[0m\u001b[0;34m(\u001b[0m\u001b[0;36m0\u001b[0m\u001b[0;34m,\u001b[0m \u001b[0mn_samples\u001b[0m\u001b[0;34m,\u001b[0m \u001b[0mn_samples_bootstrap\u001b[0m\u001b[0;34m)\u001b[0m\u001b[0;34m\u001b[0m\u001b[0;34m\u001b[0m\u001b[0m\n\u001b[1;32m    130\u001b[0m \u001b[0;34m\u001b[0m\u001b[0m\n",
            "\u001b[0;32m/usr/local/lib/python3.7/dist-packages/sklearn/utils/validation.py\u001b[0m in \u001b[0;36mcheck_random_state\u001b[0;34m(seed)\u001b[0m\n\u001b[1;32m   1055\u001b[0m         \u001b[0;32mreturn\u001b[0m \u001b[0mnp\u001b[0m\u001b[0;34m.\u001b[0m\u001b[0mrandom\u001b[0m\u001b[0;34m.\u001b[0m\u001b[0mmtrand\u001b[0m\u001b[0;34m.\u001b[0m\u001b[0m_rand\u001b[0m\u001b[0;34m\u001b[0m\u001b[0;34m\u001b[0m\u001b[0m\n\u001b[1;32m   1056\u001b[0m     \u001b[0;32mif\u001b[0m \u001b[0misinstance\u001b[0m\u001b[0;34m(\u001b[0m\u001b[0mseed\u001b[0m\u001b[0;34m,\u001b[0m \u001b[0mnumbers\u001b[0m\u001b[0;34m.\u001b[0m\u001b[0mIntegral\u001b[0m\u001b[0;34m)\u001b[0m\u001b[0;34m:\u001b[0m\u001b[0;34m\u001b[0m\u001b[0;34m\u001b[0m\u001b[0m\n\u001b[0;32m-> 1057\u001b[0;31m         \u001b[0;32mreturn\u001b[0m \u001b[0mnp\u001b[0m\u001b[0;34m.\u001b[0m\u001b[0mrandom\u001b[0m\u001b[0;34m.\u001b[0m\u001b[0mRandomState\u001b[0m\u001b[0;34m(\u001b[0m\u001b[0mseed\u001b[0m\u001b[0;34m)\u001b[0m\u001b[0;34m\u001b[0m\u001b[0;34m\u001b[0m\u001b[0m\n\u001b[0m\u001b[1;32m   1058\u001b[0m     \u001b[0;32mif\u001b[0m \u001b[0misinstance\u001b[0m\u001b[0;34m(\u001b[0m\u001b[0mseed\u001b[0m\u001b[0;34m,\u001b[0m \u001b[0mnp\u001b[0m\u001b[0;34m.\u001b[0m\u001b[0mrandom\u001b[0m\u001b[0;34m.\u001b[0m\u001b[0mRandomState\u001b[0m\u001b[0;34m)\u001b[0m\u001b[0;34m:\u001b[0m\u001b[0;34m\u001b[0m\u001b[0;34m\u001b[0m\u001b[0m\n\u001b[1;32m   1059\u001b[0m         \u001b[0;32mreturn\u001b[0m \u001b[0mseed\u001b[0m\u001b[0;34m\u001b[0m\u001b[0;34m\u001b[0m\u001b[0m\n",
            "\u001b[0;32mmtrand.pyx\u001b[0m in \u001b[0;36mnumpy.random.mtrand.RandomState.__init__\u001b[0;34m()\u001b[0m\n",
            "\u001b[0;32m_mt19937.pyx\u001b[0m in \u001b[0;36mnumpy.random._mt19937.MT19937.__init__\u001b[0;34m()\u001b[0m\n",
            "\u001b[0;32mbit_generator.pyx\u001b[0m in \u001b[0;36mnumpy.random.bit_generator.BitGenerator.__init__\u001b[0;34m()\u001b[0m\n",
            "\u001b[0;32mbit_generator.pyx\u001b[0m in \u001b[0;36mnumpy.random.bit_generator.SeedSequence.__init__\u001b[0;34m()\u001b[0m\n",
            "\u001b[0;32mbit_generator.pyx\u001b[0m in \u001b[0;36mnumpy.random.bit_generator.SeedSequence.get_assembled_entropy\u001b[0;34m()\u001b[0m\n",
            "\u001b[0;32mbit_generator.pyx\u001b[0m in \u001b[0;36mnumpy.random.bit_generator._coerce_to_uint32_array\u001b[0;34m()\u001b[0m\n",
            "\u001b[0;32mbit_generator.pyx\u001b[0m in \u001b[0;36mnumpy.random.bit_generator._int_to_uint32_array\u001b[0;34m()\u001b[0m\n",
            "\u001b[0;31mKeyboardInterrupt\u001b[0m: "
          ]
        }
      ],
      "source": [
        "#Seting the Hyper Parameters\n",
        "param_grid = {\"max_depth\": [3,5, 7, 10,None],\n",
        "              \"n_estimators\":[3,5,10,25,50,75,100],\n",
        "              \"max_features\": [4,7,15,20,24]}\n",
        "\n",
        "#Creating the classifier\n",
        "model = RandomForestClassifier(random_state=2)\n",
        "\n",
        "grid_search = GridSearchCV(model, param_grid=param_grid, cv=5, scoring='recall', verbose=4)\n",
        "grid_search.fit(X_train, y_train)"
      ]
    },
    {
      "cell_type": "code",
      "execution_count": null,
      "metadata": {
        "id": "ZgmQ6izAEzlI"
      },
      "outputs": [],
      "source": [
        "print(grid_search.best_score_)\n",
        "print(grid_search.best_params_)"
      ]
    },
    {
      "cell_type": "code",
      "execution_count": 57,
      "metadata": {
        "colab": {
          "base_uri": "https://localhost:8080/"
        },
        "id": "PyoHDfdJEzlI",
        "outputId": "9f25ae26-b962-47d8-9fa1-f4052573944f"
      },
      "outputs": [
        {
          "output_type": "execute_result",
          "data": {
            "text/plain": [
              "RandomForestClassifier(max_features=20, n_estimators=3, random_state=0)"
            ]
          },
          "metadata": {},
          "execution_count": 57
        }
      ],
      "source": [
        "rf = RandomForestClassifier(max_depth=None, max_features=20, n_estimators=3, random_state=0)\n",
        "# rf = RandomForestClassifier(max_depth=None, max_features=15, n_estimators=25, random_state=0)\n",
        "\n",
        "#trainning with the best params\n",
        "rf.fit(X_train, y_train)"
      ]
    },
    {
      "cell_type": "code",
      "execution_count": 58,
      "metadata": {
        "colab": {
          "base_uri": "https://localhost:8080/"
        },
        "id": "RQSZeuPhEzlI",
        "outputId": "56c764b3-0e2b-4a71-c11e-9b23eb9611a6"
      },
      "outputs": [
        {
          "output_type": "stream",
          "name": "stdout",
          "text": [
            "0.712\n",
            "0.7157849563046191\n",
            "\n",
            "\n",
            "[[147  31]\n",
            " [ 41  31]]\n",
            "\n",
            "\n",
            "0.4428571428571429\n"
          ]
        }
      ],
      "source": [
        "#Testing the model \n",
        "#Predicting using our  model\n",
        "y_pred = rf.predict(X_test)\n",
        "y_pred_prob=rf.predict_proba(X_test)\n",
        "# Verificaar os resultados obtidos\n",
        "print(accuracy_score(y_test,y_pred))\n",
        "# print(roc_auc_score(y_test,y_pred))\n",
        "print(roc_auc_score(y_test, rf.predict_proba(X_test)[:, 1]))\n",
        "print(\"\\n\")\n",
        "print(confusion_matrix(y_test, y_pred))\n",
        "print(\"\\n\")\n",
        "print(fbeta_score(y_test, y_pred, beta=2))\n",
        "\n",
        "rf_og =rf"
      ]
    },
    {
      "cell_type": "markdown",
      "metadata": {
        "id": "vY0Sqv7UF74T"
      },
      "source": [
        "## Task 2"
      ]
    },
    {
      "cell_type": "code",
      "execution_count": 59,
      "metadata": {
        "colab": {
          "base_uri": "https://localhost:8080/"
        },
        "id": "evRH65ZQGfBs",
        "outputId": "56b1d673-9c27-4bde-8ef6-37f5f0964637"
      },
      "outputs": [
        {
          "output_type": "execute_result",
          "data": {
            "text/plain": [
              "Index(['Age', 'Job', 'Credit amount', 'Duration', 'Purpose_car',\n",
              "       'Purpose_domestic appliances', 'Purpose_education',\n",
              "       'Purpose_furniture/equipment', 'Purpose_radio/TV', 'Purpose_repairs',\n",
              "       'Purpose_vacation/others', 'Sex_male', 'Housing_own', 'Housing_rent',\n",
              "       'Savings_moderate', 'Savings_no_inf', 'Savings_quite rich',\n",
              "       'Savings_rich', 'Risk_bad', 'Check_moderate', 'Check_no_inf',\n",
              "       'Check_rich', 'Age_cat_Young', 'Age_cat_Adult', 'Age_cat_Senior'],\n",
              "      dtype='object')"
            ]
          },
          "metadata": {},
          "execution_count": 59
        }
      ],
      "source": [
        "df_credit.columns"
      ]
    },
    {
      "cell_type": "code",
      "execution_count": 60,
      "metadata": {
        "id": "I8CPdimlGeTL"
      },
      "outputs": [],
      "source": [
        "test_df =  pd.DataFrame(X_test, columns=['Age', 'Job', 'Credit amount', 'Duration', 'Purpose_car',\n",
        "       'Purpose_domestic appliances', 'Purpose_education',\n",
        "       'Purpose_furniture/equipment', 'Purpose_radio/TV', 'Purpose_repairs',\n",
        "       'Purpose_vacation/others', 'Sex_male', 'Housing_own', 'Housing_rent',\n",
        "       'Savings_moderate', 'Savings_no_inf', 'Savings_quite rich',\n",
        "       'Savings_rich', 'Check_moderate', 'Check_no_inf',\n",
        "       'Check_rich', 'Age_cat_Young', 'Age_cat_Adult', 'Age_cat_Senior'])"
      ]
    },
    {
      "cell_type": "code",
      "execution_count": 61,
      "metadata": {
        "id": "BAlsFugRGdqn"
      },
      "outputs": [],
      "source": [
        "test_df['Risk_bad'] = y_test"
      ]
    },
    {
      "cell_type": "code",
      "execution_count": 62,
      "metadata": {
        "colab": {
          "base_uri": "https://localhost:8080/"
        },
        "id": "KLTem1RALiMp",
        "outputId": "fda2aa0e-b166-454c-f0a3-8f3d52afe9b0"
      },
      "outputs": [
        {
          "output_type": "execute_result",
          "data": {
            "text/plain": [
              "0      0.0\n",
              "1      1.0\n",
              "2      1.0\n",
              "3      1.0\n",
              "4      1.0\n",
              "      ... \n",
              "245    1.0\n",
              "246    1.0\n",
              "247    1.0\n",
              "248    1.0\n",
              "249    1.0\n",
              "Name: Sex_male, Length: 250, dtype: float64"
            ]
          },
          "metadata": {},
          "execution_count": 62
        }
      ],
      "source": [
        "test_df['Sex_male']"
      ]
    },
    {
      "cell_type": "markdown",
      "metadata": {
        "id": "yR6mjQ5nGDPD"
      },
      "source": [
        "### Anti-Classifiction"
      ]
    },
    {
      "cell_type": "code",
      "execution_count": 65,
      "metadata": {
        "id": "79Pv_tOAPqlW"
      },
      "outputs": [],
      "source": [
        "def anti_class_m(test_df,rf):\n",
        "  test_male_df = test_df.copy()\n",
        "  test_female_df = test_df.copy()\n",
        "  control_df = test_df.copy()\n",
        "\n",
        "  test_male_df['Sex_male'] = [1 for x in test_male_df.Sex_male.values]\n",
        "  test_female_df['Sex_male'] = [0 for x in test_female_df.Sex_male.values]\n",
        "\n",
        "  test_control = control_df.drop('Risk_bad',1).values\n",
        "  y_preds = rf.predict(test_control).astype('float')\n",
        "  y_preds_prob = rf.predict_proba(test_control)\n",
        "  test_male = test_male_df.drop('Risk_bad',1).values\n",
        "  male_preds = rf.predict(test_male).astype('float')\n",
        "  male_preds_prob = rf.predict_proba(test_male)\n",
        "  test_female = test_female_df.drop('Risk_bad',1).values\n",
        "  female_preds = rf.predict(test_female).astype('float')\n",
        "  female_preds_prob = rf.predict_proba(test_female)\n",
        "\n",
        "  male_dif = y_preds-male_preds\n",
        "  female_dif = y_preds-female_preds\n",
        "\n",
        "  male_g2b = len([x for x in male_dif if x == -1])\n",
        "  male_b2g = len([x for x in male_dif if x == 1])\n",
        "\n",
        "  \n",
        "  female_g2b = len([1 for x in female_dif if x == -1])\n",
        "  female_b2g = len([1 for x in female_dif if x == 1])\n",
        "\n",
        "\n",
        "  return {\"control\":{\n",
        "              \"no_of_risky\": sum(y_preds),\n",
        "          },\n",
        "          \"male\":{\n",
        "              \"no_of_risky\": sum(male_preds),\n",
        "              \"good_to_bad\": male_g2b,\n",
        "              \"bad_to_good\": male_b2g,\n",
        "          },\n",
        "              # \"prob of risky\": male_preds_prob},\n",
        "          \"female\":{\n",
        "              \"no_of_risky\": sum(female_preds),\n",
        "              # \"prob of risky\": female_preds_prob},\n",
        "              \"good_to_bad\":female_g2b,\n",
        "              \"bad_to_good\":female_b2g},\n",
        "          \"total_count\":len(y_preds)\n",
        "        }"
      ]
    },
    {
      "cell_type": "code",
      "execution_count": 66,
      "metadata": {
        "colab": {
          "base_uri": "https://localhost:8080/"
        },
        "id": "zf7vHqOIs6hk",
        "outputId": "bf2722eb-6ee5-4de2-8c58-09282bcdd407"
      },
      "outputs": [
        {
          "output_type": "execute_result",
          "data": {
            "text/plain": [
              "{'control': {'no_of_risky': 62.0},\n",
              " 'female': {'bad_to_good': 6, 'good_to_bad': 2, 'no_of_risky': 58.0},\n",
              " 'male': {'bad_to_good': 0, 'good_to_bad': 3, 'no_of_risky': 65.0},\n",
              " 'total_count': 250}"
            ]
          },
          "metadata": {},
          "execution_count": 66
        }
      ],
      "source": [
        "res = anti_class_m(test_df,rf)\n",
        "res"
      ]
    },
    {
      "cell_type": "code",
      "execution_count": null,
      "metadata": {
        "id": "qHYktetXGInU"
      },
      "outputs": [],
      "source": [
        "test_male_df = test_df.copy()\n",
        "test_female_df = test_df.copy()"
      ]
    },
    {
      "cell_type": "code",
      "execution_count": null,
      "metadata": {
        "colab": {
          "base_uri": "https://localhost:8080/"
        },
        "id": "iIpGpYbmGIcK",
        "outputId": "1d999042-33e5-43a7-9fa8-1b6b02d03b55"
      },
      "outputs": [
        {
          "output_type": "execute_result",
          "data": {
            "text/plain": [
              "0      1\n",
              "1      1\n",
              "2      1\n",
              "3      1\n",
              "4      1\n",
              "      ..\n",
              "195    1\n",
              "196    1\n",
              "197    1\n",
              "198    1\n",
              "199    1\n",
              "Name: Sex_male, Length: 200, dtype: int64"
            ]
          },
          "metadata": {},
          "execution_count": 28
        }
      ],
      "source": [
        "test_male_df['Sex_male'] = [1 for x in test_male_df.Sex_male.values]\n",
        "test_male_df['Sex_male'] "
      ]
    },
    {
      "cell_type": "code",
      "execution_count": null,
      "metadata": {
        "colab": {
          "base_uri": "https://localhost:8080/"
        },
        "id": "9LdCaDheGISE",
        "outputId": "bd14eb97-683b-47e9-9c05-c7bee3b3a479"
      },
      "outputs": [
        {
          "data": {
            "text/plain": [
              "0      0\n",
              "1      0\n",
              "2      0\n",
              "3      0\n",
              "4      0\n",
              "      ..\n",
              "245    0\n",
              "246    0\n",
              "247    0\n",
              "248    0\n",
              "249    0\n",
              "Name: Sex_male, Length: 250, dtype: int64"
            ]
          },
          "execution_count": 105,
          "metadata": {},
          "output_type": "execute_result"
        }
      ],
      "source": [
        "test_female_df['Sex_male'] = [0 for x in test_female_df.Sex_male.values]\n",
        "test_female_df['Sex_male']"
      ]
    },
    {
      "cell_type": "code",
      "execution_count": null,
      "metadata": {
        "colab": {
          "base_uri": "https://localhost:8080/"
        },
        "id": "XkH7gZNtGIJc",
        "outputId": "e7a541a3-9bca-4097-94ec-1472f7869ded"
      },
      "outputs": [
        {
          "name": "stderr",
          "output_type": "stream",
          "text": [
            "/usr/local/lib/python3.7/dist-packages/ipykernel_launcher.py:1: FutureWarning:\n",
            "\n",
            "In a future version of pandas all arguments of DataFrame.drop except for the argument 'labels' will be keyword-only\n",
            "\n"
          ]
        }
      ],
      "source": [
        "test_male = test_male_df.drop('Risk_bad',1).values\n",
        "male_preds = rf.predict(test_male)\n",
        "male_preds_prob = rf.predict_proba(test_male)"
      ]
    },
    {
      "cell_type": "code",
      "execution_count": null,
      "metadata": {
        "colab": {
          "base_uri": "https://localhost:8080/"
        },
        "id": "C8-yvGpJGIBR",
        "outputId": "2a46a931-a903-43fd-e687-1f424e2c64ec"
      },
      "outputs": [
        {
          "name": "stderr",
          "output_type": "stream",
          "text": [
            "/usr/local/lib/python3.7/dist-packages/ipykernel_launcher.py:1: FutureWarning:\n",
            "\n",
            "In a future version of pandas all arguments of DataFrame.drop except for the argument 'labels' will be keyword-only\n",
            "\n"
          ]
        }
      ],
      "source": [
        "test_female = test_female_df.drop('Risk_bad',1).values\n",
        "female_preds = rf.predict(test_female)\n",
        "female_preds_prob = rf.predict_proba(test_female)"
      ]
    },
    {
      "cell_type": "code",
      "execution_count": null,
      "metadata": {
        "colab": {
          "base_uri": "https://localhost:8080/"
        },
        "id": "QXG3WqhTGH4h",
        "outputId": "33181f64-510e-4b6a-96b1-3f1dbba76365"
      },
      "outputs": [
        {
          "data": {
            "text/plain": [
              "(65, 58, 62)"
            ]
          },
          "execution_count": 119,
          "metadata": {},
          "output_type": "execute_result"
        }
      ],
      "source": [
        "sum(male_preds),sum(female_preds),sum(y_pred)"
      ]
    },
    {
      "cell_type": "markdown",
      "metadata": {
        "id": "Ebj1D1eJOdjH"
      },
      "source": [
        "### Anti Classification 2"
      ]
    },
    {
      "cell_type": "code",
      "execution_count": null,
      "metadata": {
        "id": "38-VlVv4zG5V"
      },
      "outputs": [],
      "source": [
        "def anti_class_2(test_df,rf):\n",
        "    control_df = test_df.copy()\n",
        "    test_df_flipped=test_df.copy()\n",
        "    test_df_flipped['Sex_male'] = [1-x for x in test_df_flipped.Sex_male.values]\n",
        "    test_flipped = test_df_flipped.drop('Risk_bad', 1).values\n",
        "    test_control = control_df.drop('Risk_bad', 1).values\n",
        "    flipped_preds = rf.predict(test_flipped)\n",
        "    flipped_preds_prob = rf.predict_proba(test_flipped)\n",
        "    y_preds = rf.predict(test_control)\n",
        "    y_preds_prob = rf.predict_proba(test_control)\n",
        "    differences = 0\n",
        "    for i in range(len(y_pred)):\n",
        "      if y_preds[i] != flipped_preds[i]:\n",
        "        differences += 1\n",
        "\n",
        "    return (differences,differences/len(y_pred))"
      ]
    },
    {
      "cell_type": "code",
      "execution_count": null,
      "metadata": {
        "colab": {
          "base_uri": "https://localhost:8080/",
          "height": 287
        },
        "id": "BcjTWLEt0az-",
        "outputId": "4344db8f-a702-4a81-81ed-b0de039d4fbc"
      },
      "outputs": [
        {
          "output_type": "error",
          "ename": "IndexError",
          "evalue": "ignored",
          "traceback": [
            "\u001b[0;31m---------------------------------------------------------------------------\u001b[0m",
            "\u001b[0;31mIndexError\u001b[0m                                Traceback (most recent call last)",
            "\u001b[0;32m<ipython-input-71-9323431e8f07>\u001b[0m in \u001b[0;36m<module>\u001b[0;34m()\u001b[0m\n\u001b[0;32m----> 1\u001b[0;31m \u001b[0manti_class_2\u001b[0m\u001b[0;34m(\u001b[0m\u001b[0mtest_df\u001b[0m\u001b[0;34m,\u001b[0m\u001b[0mrf\u001b[0m\u001b[0;34m)\u001b[0m\u001b[0;34m\u001b[0m\u001b[0;34m\u001b[0m\u001b[0m\n\u001b[0m",
            "\u001b[0;32m<ipython-input-70-021a496a8ac4>\u001b[0m in \u001b[0;36manti_class_2\u001b[0;34m(test_df, rf)\u001b[0m\n\u001b[1;32m     11\u001b[0m     \u001b[0mdifferences\u001b[0m \u001b[0;34m=\u001b[0m \u001b[0;36m0\u001b[0m\u001b[0;34m\u001b[0m\u001b[0;34m\u001b[0m\u001b[0m\n\u001b[1;32m     12\u001b[0m     \u001b[0;32mfor\u001b[0m \u001b[0mi\u001b[0m \u001b[0;32min\u001b[0m \u001b[0mrange\u001b[0m\u001b[0;34m(\u001b[0m\u001b[0mlen\u001b[0m\u001b[0;34m(\u001b[0m\u001b[0my_pred\u001b[0m\u001b[0;34m)\u001b[0m\u001b[0;34m)\u001b[0m\u001b[0;34m:\u001b[0m\u001b[0;34m\u001b[0m\u001b[0;34m\u001b[0m\u001b[0m\n\u001b[0;32m---> 13\u001b[0;31m       \u001b[0;32mif\u001b[0m \u001b[0my_preds\u001b[0m\u001b[0;34m[\u001b[0m\u001b[0mi\u001b[0m\u001b[0;34m]\u001b[0m \u001b[0;34m!=\u001b[0m \u001b[0mflipped_preds\u001b[0m\u001b[0;34m[\u001b[0m\u001b[0mi\u001b[0m\u001b[0;34m]\u001b[0m\u001b[0;34m:\u001b[0m\u001b[0;34m\u001b[0m\u001b[0;34m\u001b[0m\u001b[0m\n\u001b[0m\u001b[1;32m     14\u001b[0m         \u001b[0mdifferences\u001b[0m \u001b[0;34m+=\u001b[0m \u001b[0;36m1\u001b[0m\u001b[0;34m\u001b[0m\u001b[0;34m\u001b[0m\u001b[0m\n\u001b[1;32m     15\u001b[0m \u001b[0;34m\u001b[0m\u001b[0m\n",
            "\u001b[0;31mIndexError\u001b[0m: index 200 is out of bounds for axis 0 with size 200"
          ]
        }
      ],
      "source": [
        "anti_class_2(test_df,rf)"
      ]
    },
    {
      "cell_type": "code",
      "execution_count": null,
      "metadata": {
        "colab": {
          "base_uri": "https://localhost:8080/"
        },
        "id": "ua4LrpRWGHvd",
        "outputId": "c374bcd1-674c-4c52-feb9-71b99dadfcc4"
      },
      "outputs": [
        {
          "data": {
            "text/plain": [
              "0      1.0\n",
              "1      0.0\n",
              "2      1.0\n",
              "3      0.0\n",
              "4      0.0\n",
              "      ... \n",
              "245    0.0\n",
              "246    1.0\n",
              "247    1.0\n",
              "248    0.0\n",
              "249    0.0\n",
              "Name: Sex_male, Length: 250, dtype: float64"
            ]
          },
          "execution_count": 228,
          "metadata": {},
          "output_type": "execute_result"
        }
      ],
      "source": [
        "test_df_flipped=test_df.copy()\n",
        "test_df_flipped['Sex_male'] = [1-x for x in test_df_flipped.Sex_male.values]\n",
        "test_df_flipped['Sex_male'] #It is properly flipped"
      ]
    },
    {
      "cell_type": "code",
      "execution_count": null,
      "metadata": {
        "colab": {
          "base_uri": "https://localhost:8080/"
        },
        "id": "VCrBLTbdGHmi",
        "outputId": "9c16f418-c186-4697-e702-f4b94bf30e37"
      },
      "outputs": [
        {
          "name": "stderr",
          "output_type": "stream",
          "text": [
            "/usr/local/lib/python3.7/dist-packages/ipykernel_launcher.py:1: FutureWarning:\n",
            "\n",
            "In a future version of pandas all arguments of DataFrame.drop except for the argument 'labels' will be keyword-only\n",
            "\n"
          ]
        }
      ],
      "source": [
        "test_flipped = test_df_flipped.drop('Risk_bad', 1).values\n",
        "flipped_preds = rf.predict(test_flipped)\n",
        "flipped_preds_prob = rf.predict_proba(test_flipped)"
      ]
    },
    {
      "cell_type": "code",
      "execution_count": null,
      "metadata": {
        "id": "2zo03yXFGHeo"
      },
      "outputs": [],
      "source": [
        "differences = 0\n",
        "\n",
        "for i in range(len(y_pred)):\n",
        "  if y_pred[i] != flipped_preds[i]:\n",
        "    differences += 1\n",
        "\n",
        "print(differences,differences/len(y_pred))"
      ]
    },
    {
      "cell_type": "code",
      "execution_count": null,
      "metadata": {
        "id": "jYmBiaF0GHWe"
      },
      "outputs": [],
      "source": [
        "differences=0\n",
        "\n",
        "for i in range(len(y_pred)):\n",
        "  # print(y_pred_prob[i][0],flipped_preds_prob[i][0])\n",
        "  if abs(y_pred_prob[i][1]-flipped_preds_prob[i][1]) >= 0.33:\n",
        "      print(y_pred_prob[i][1],flipped_preds_prob[i][1])\n",
        "\n",
        "      differences+=1\n",
        "print(differences)"
      ]
    },
    {
      "cell_type": "markdown",
      "metadata": {
        "id": "ErMsjOSXR8p7"
      },
      "source": [
        "### Group Fairness"
      ]
    },
    {
      "cell_type": "code",
      "execution_count": 67,
      "metadata": {
        "id": "uZOCrqMP0lPJ"
      },
      "outputs": [],
      "source": [
        "def group_fair(test_df,rf,threshold_m, threshold_f):\n",
        "  temp_df = test_df.copy()\n",
        "  test_control = temp_df.drop('Risk_bad',1).values\n",
        "  # y_preds = rf.predict(test_control)\n",
        "  y_preds_prob = rf.predict_proba(test_control)\n",
        "  # y_preds = (y_preds_prob [:,1] >= threshold).astype('int')\n",
        "  temp_df['predicted_prob_risk_bad'] = y_preds_prob[:,1]\n",
        "  male_df = temp_df[temp_df.Sex_male==1]\n",
        "  female_df = temp_df[temp_df.Sex_male==0]\n",
        "\n",
        "  male_pred = (male_df['predicted_prob_risk_bad'] >=threshold_m).astype(int)\n",
        "  female_pred = (female_df['predicted_prob_risk_bad'] >= threshold_f).astype(int)\n",
        "\n",
        "  risky_male = sum(male_pred)\n",
        "  risky_female = sum(female_pred)\n",
        "  total_male = len(male_pred)\n",
        "  total_female = len(female_pred)\n",
        "\n",
        "  return {\n",
        "      \"risky_males\": risky_male,\n",
        "      \"risky_females\": risky_female,\n",
        "      \"total_males\": total_male,\n",
        "      \"total_females\": total_female,\n",
        "      \"percent_risky_males\": risky_male/total_male,\n",
        "      \"percent_risky_females\": risky_female/total_female\n",
        "  }"
      ]
    },
    {
      "cell_type": "code",
      "execution_count": null,
      "metadata": {
        "colab": {
          "base_uri": "https://localhost:8080/"
        },
        "id": "pP2dA29Y1xVI",
        "outputId": "59f2ab42-6847-44d9-a8ee-afa2a1bcdea9"
      },
      "outputs": [
        {
          "output_type": "execute_result",
          "data": {
            "text/plain": [
              "{'percent_risky_females': 0.2465753424657534,\n",
              " 'percent_risky_males': 0.24858757062146894,\n",
              " 'risky_females': 18,\n",
              " 'risky_males': 44,\n",
              " 'total_females': 73,\n",
              " 'total_males': 177}"
            ]
          },
          "metadata": {},
          "execution_count": 85
        }
      ],
      "source": [
        "group_fair(test_df,rf_og,0.5,0.5)"
      ]
    },
    {
      "cell_type": "code",
      "source": [
        "group_fair(test_df,rf_og,0.5,0.5)\n"
      ],
      "metadata": {
        "colab": {
          "base_uri": "https://localhost:8080/"
        },
        "id": "Y1PzjQF90ay2",
        "outputId": "eb613f11-67d1-4aa3-cc52-4284d30e559f"
      },
      "execution_count": 68,
      "outputs": [
        {
          "output_type": "execute_result",
          "data": {
            "text/plain": [
              "{'percent_risky_females': 0.2465753424657534,\n",
              " 'percent_risky_males': 0.24858757062146894,\n",
              " 'risky_females': 18,\n",
              " 'risky_males': 44,\n",
              " 'total_females': 73,\n",
              " 'total_males': 177}"
            ]
          },
          "metadata": {},
          "execution_count": 68
        }
      ]
    },
    {
      "cell_type": "code",
      "execution_count": null,
      "metadata": {
        "colab": {
          "base_uri": "https://localhost:8080/",
          "height": 505
        },
        "id": "tuIGeaQwGHM_",
        "outputId": "2a5bab43-ca2d-4b71-d97d-c228acb7598c"
      },
      "outputs": [
        {
          "data": {
            "text/html": [
              "\n",
              "  <div id=\"df-9a09aeb9-80cf-42bf-a1af-77a4781a483f\">\n",
              "    <div class=\"colab-df-container\">\n",
              "      <div>\n",
              "<style scoped>\n",
              "    .dataframe tbody tr th:only-of-type {\n",
              "        vertical-align: middle;\n",
              "    }\n",
              "\n",
              "    .dataframe tbody tr th {\n",
              "        vertical-align: top;\n",
              "    }\n",
              "\n",
              "    .dataframe thead th {\n",
              "        text-align: right;\n",
              "    }\n",
              "</style>\n",
              "<table border=\"1\" class=\"dataframe\">\n",
              "  <thead>\n",
              "    <tr style=\"text-align: right;\">\n",
              "      <th></th>\n",
              "      <th>Age</th>\n",
              "      <th>Job</th>\n",
              "      <th>Credit amount</th>\n",
              "      <th>Duration</th>\n",
              "      <th>Purpose_car</th>\n",
              "      <th>Purpose_domestic appliances</th>\n",
              "      <th>Purpose_education</th>\n",
              "      <th>Purpose_furniture/equipment</th>\n",
              "      <th>Purpose_radio/TV</th>\n",
              "      <th>Purpose_repairs</th>\n",
              "      <th>...</th>\n",
              "      <th>Savings_quite rich</th>\n",
              "      <th>Savings_rich</th>\n",
              "      <th>Check_moderate</th>\n",
              "      <th>Check_no_inf</th>\n",
              "      <th>Check_rich</th>\n",
              "      <th>Age_cat_Young</th>\n",
              "      <th>Age_cat_Adult</th>\n",
              "      <th>Age_cat_Senior</th>\n",
              "      <th>Risk_bad</th>\n",
              "      <th>predicted_risk_bad</th>\n",
              "    </tr>\n",
              "  </thead>\n",
              "  <tbody>\n",
              "    <tr>\n",
              "      <th>0</th>\n",
              "      <td>24.0</td>\n",
              "      <td>2.0</td>\n",
              "      <td>8.067776</td>\n",
              "      <td>18.0</td>\n",
              "      <td>0.0</td>\n",
              "      <td>0.0</td>\n",
              "      <td>0.0</td>\n",
              "      <td>0.0</td>\n",
              "      <td>1.0</td>\n",
              "      <td>0.0</td>\n",
              "      <td>...</td>\n",
              "      <td>0.0</td>\n",
              "      <td>0.0</td>\n",
              "      <td>0.0</td>\n",
              "      <td>0.0</td>\n",
              "      <td>0.0</td>\n",
              "      <td>0.0</td>\n",
              "      <td>0.0</td>\n",
              "      <td>0.0</td>\n",
              "      <td>1</td>\n",
              "      <td>0</td>\n",
              "    </tr>\n",
              "    <tr>\n",
              "      <th>1</th>\n",
              "      <td>35.0</td>\n",
              "      <td>1.0</td>\n",
              "      <td>8.384804</td>\n",
              "      <td>18.0</td>\n",
              "      <td>1.0</td>\n",
              "      <td>0.0</td>\n",
              "      <td>0.0</td>\n",
              "      <td>0.0</td>\n",
              "      <td>0.0</td>\n",
              "      <td>0.0</td>\n",
              "      <td>...</td>\n",
              "      <td>0.0</td>\n",
              "      <td>0.0</td>\n",
              "      <td>0.0</td>\n",
              "      <td>0.0</td>\n",
              "      <td>0.0</td>\n",
              "      <td>1.0</td>\n",
              "      <td>0.0</td>\n",
              "      <td>0.0</td>\n",
              "      <td>0</td>\n",
              "      <td>1</td>\n",
              "    </tr>\n",
              "    <tr>\n",
              "      <th>2</th>\n",
              "      <td>32.0</td>\n",
              "      <td>2.0</td>\n",
              "      <td>7.751475</td>\n",
              "      <td>24.0</td>\n",
              "      <td>1.0</td>\n",
              "      <td>0.0</td>\n",
              "      <td>0.0</td>\n",
              "      <td>0.0</td>\n",
              "      <td>0.0</td>\n",
              "      <td>0.0</td>\n",
              "      <td>...</td>\n",
              "      <td>0.0</td>\n",
              "      <td>0.0</td>\n",
              "      <td>0.0</td>\n",
              "      <td>0.0</td>\n",
              "      <td>0.0</td>\n",
              "      <td>1.0</td>\n",
              "      <td>0.0</td>\n",
              "      <td>0.0</td>\n",
              "      <td>0</td>\n",
              "      <td>0</td>\n",
              "    </tr>\n",
              "    <tr>\n",
              "      <th>3</th>\n",
              "      <td>23.0</td>\n",
              "      <td>2.0</td>\n",
              "      <td>7.167809</td>\n",
              "      <td>12.0</td>\n",
              "      <td>0.0</td>\n",
              "      <td>0.0</td>\n",
              "      <td>0.0</td>\n",
              "      <td>0.0</td>\n",
              "      <td>1.0</td>\n",
              "      <td>0.0</td>\n",
              "      <td>...</td>\n",
              "      <td>0.0</td>\n",
              "      <td>0.0</td>\n",
              "      <td>0.0</td>\n",
              "      <td>0.0</td>\n",
              "      <td>1.0</td>\n",
              "      <td>0.0</td>\n",
              "      <td>0.0</td>\n",
              "      <td>0.0</td>\n",
              "      <td>0</td>\n",
              "      <td>1</td>\n",
              "    </tr>\n",
              "    <tr>\n",
              "      <th>4</th>\n",
              "      <td>35.0</td>\n",
              "      <td>3.0</td>\n",
              "      <td>8.889170</td>\n",
              "      <td>33.0</td>\n",
              "      <td>1.0</td>\n",
              "      <td>0.0</td>\n",
              "      <td>0.0</td>\n",
              "      <td>0.0</td>\n",
              "      <td>0.0</td>\n",
              "      <td>0.0</td>\n",
              "      <td>...</td>\n",
              "      <td>0.0</td>\n",
              "      <td>0.0</td>\n",
              "      <td>0.0</td>\n",
              "      <td>1.0</td>\n",
              "      <td>0.0</td>\n",
              "      <td>1.0</td>\n",
              "      <td>0.0</td>\n",
              "      <td>0.0</td>\n",
              "      <td>0</td>\n",
              "      <td>0</td>\n",
              "    </tr>\n",
              "    <tr>\n",
              "      <th>...</th>\n",
              "      <td>...</td>\n",
              "      <td>...</td>\n",
              "      <td>...</td>\n",
              "      <td>...</td>\n",
              "      <td>...</td>\n",
              "      <td>...</td>\n",
              "      <td>...</td>\n",
              "      <td>...</td>\n",
              "      <td>...</td>\n",
              "      <td>...</td>\n",
              "      <td>...</td>\n",
              "      <td>...</td>\n",
              "      <td>...</td>\n",
              "      <td>...</td>\n",
              "      <td>...</td>\n",
              "      <td>...</td>\n",
              "      <td>...</td>\n",
              "      <td>...</td>\n",
              "      <td>...</td>\n",
              "      <td>...</td>\n",
              "      <td>...</td>\n",
              "    </tr>\n",
              "    <tr>\n",
              "      <th>245</th>\n",
              "      <td>35.0</td>\n",
              "      <td>2.0</td>\n",
              "      <td>7.251345</td>\n",
              "      <td>14.0</td>\n",
              "      <td>0.0</td>\n",
              "      <td>0.0</td>\n",
              "      <td>0.0</td>\n",
              "      <td>0.0</td>\n",
              "      <td>0.0</td>\n",
              "      <td>0.0</td>\n",
              "      <td>...</td>\n",
              "      <td>1.0</td>\n",
              "      <td>0.0</td>\n",
              "      <td>1.0</td>\n",
              "      <td>0.0</td>\n",
              "      <td>0.0</td>\n",
              "      <td>1.0</td>\n",
              "      <td>0.0</td>\n",
              "      <td>0.0</td>\n",
              "      <td>0</td>\n",
              "      <td>0</td>\n",
              "    </tr>\n",
              "    <tr>\n",
              "      <th>246</th>\n",
              "      <td>74.0</td>\n",
              "      <td>1.0</td>\n",
              "      <td>8.145550</td>\n",
              "      <td>5.0</td>\n",
              "      <td>0.0</td>\n",
              "      <td>0.0</td>\n",
              "      <td>0.0</td>\n",
              "      <td>0.0</td>\n",
              "      <td>0.0</td>\n",
              "      <td>0.0</td>\n",
              "      <td>...</td>\n",
              "      <td>0.0</td>\n",
              "      <td>0.0</td>\n",
              "      <td>0.0</td>\n",
              "      <td>1.0</td>\n",
              "      <td>0.0</td>\n",
              "      <td>0.0</td>\n",
              "      <td>0.0</td>\n",
              "      <td>1.0</td>\n",
              "      <td>0</td>\n",
              "      <td>0</td>\n",
              "    </tr>\n",
              "    <tr>\n",
              "      <th>247</th>\n",
              "      <td>51.0</td>\n",
              "      <td>2.0</td>\n",
              "      <td>8.470311</td>\n",
              "      <td>11.0</td>\n",
              "      <td>0.0</td>\n",
              "      <td>0.0</td>\n",
              "      <td>0.0</td>\n",
              "      <td>0.0</td>\n",
              "      <td>1.0</td>\n",
              "      <td>0.0</td>\n",
              "      <td>...</td>\n",
              "      <td>0.0</td>\n",
              "      <td>0.0</td>\n",
              "      <td>1.0</td>\n",
              "      <td>0.0</td>\n",
              "      <td>0.0</td>\n",
              "      <td>0.0</td>\n",
              "      <td>1.0</td>\n",
              "      <td>0.0</td>\n",
              "      <td>0</td>\n",
              "      <td>0</td>\n",
              "    </tr>\n",
              "    <tr>\n",
              "      <th>248</th>\n",
              "      <td>52.0</td>\n",
              "      <td>1.0</td>\n",
              "      <td>7.747165</td>\n",
              "      <td>10.0</td>\n",
              "      <td>0.0</td>\n",
              "      <td>0.0</td>\n",
              "      <td>0.0</td>\n",
              "      <td>0.0</td>\n",
              "      <td>1.0</td>\n",
              "      <td>0.0</td>\n",
              "      <td>...</td>\n",
              "      <td>0.0</td>\n",
              "      <td>0.0</td>\n",
              "      <td>0.0</td>\n",
              "      <td>0.0</td>\n",
              "      <td>0.0</td>\n",
              "      <td>0.0</td>\n",
              "      <td>1.0</td>\n",
              "      <td>0.0</td>\n",
              "      <td>0</td>\n",
              "      <td>0</td>\n",
              "    </tr>\n",
              "    <tr>\n",
              "      <th>249</th>\n",
              "      <td>26.0</td>\n",
              "      <td>2.0</td>\n",
              "      <td>8.473868</td>\n",
              "      <td>48.0</td>\n",
              "      <td>1.0</td>\n",
              "      <td>0.0</td>\n",
              "      <td>0.0</td>\n",
              "      <td>0.0</td>\n",
              "      <td>0.0</td>\n",
              "      <td>0.0</td>\n",
              "      <td>...</td>\n",
              "      <td>0.0</td>\n",
              "      <td>0.0</td>\n",
              "      <td>0.0</td>\n",
              "      <td>0.0</td>\n",
              "      <td>0.0</td>\n",
              "      <td>1.0</td>\n",
              "      <td>0.0</td>\n",
              "      <td>0.0</td>\n",
              "      <td>0</td>\n",
              "      <td>1</td>\n",
              "    </tr>\n",
              "  </tbody>\n",
              "</table>\n",
              "<p>250 rows × 26 columns</p>\n",
              "</div>\n",
              "      <button class=\"colab-df-convert\" onclick=\"convertToInteractive('df-9a09aeb9-80cf-42bf-a1af-77a4781a483f')\"\n",
              "              title=\"Convert this dataframe to an interactive table.\"\n",
              "              style=\"display:none;\">\n",
              "        \n",
              "  <svg xmlns=\"http://www.w3.org/2000/svg\" height=\"24px\"viewBox=\"0 0 24 24\"\n",
              "       width=\"24px\">\n",
              "    <path d=\"M0 0h24v24H0V0z\" fill=\"none\"/>\n",
              "    <path d=\"M18.56 5.44l.94 2.06.94-2.06 2.06-.94-2.06-.94-.94-2.06-.94 2.06-2.06.94zm-11 1L8.5 8.5l.94-2.06 2.06-.94-2.06-.94L8.5 2.5l-.94 2.06-2.06.94zm10 10l.94 2.06.94-2.06 2.06-.94-2.06-.94-.94-2.06-.94 2.06-2.06.94z\"/><path d=\"M17.41 7.96l-1.37-1.37c-.4-.4-.92-.59-1.43-.59-.52 0-1.04.2-1.43.59L10.3 9.45l-7.72 7.72c-.78.78-.78 2.05 0 2.83L4 21.41c.39.39.9.59 1.41.59.51 0 1.02-.2 1.41-.59l7.78-7.78 2.81-2.81c.8-.78.8-2.07 0-2.86zM5.41 20L4 18.59l7.72-7.72 1.47 1.35L5.41 20z\"/>\n",
              "  </svg>\n",
              "      </button>\n",
              "      \n",
              "  <style>\n",
              "    .colab-df-container {\n",
              "      display:flex;\n",
              "      flex-wrap:wrap;\n",
              "      gap: 12px;\n",
              "    }\n",
              "\n",
              "    .colab-df-convert {\n",
              "      background-color: #E8F0FE;\n",
              "      border: none;\n",
              "      border-radius: 50%;\n",
              "      cursor: pointer;\n",
              "      display: none;\n",
              "      fill: #1967D2;\n",
              "      height: 32px;\n",
              "      padding: 0 0 0 0;\n",
              "      width: 32px;\n",
              "    }\n",
              "\n",
              "    .colab-df-convert:hover {\n",
              "      background-color: #E2EBFA;\n",
              "      box-shadow: 0px 1px 2px rgba(60, 64, 67, 0.3), 0px 1px 3px 1px rgba(60, 64, 67, 0.15);\n",
              "      fill: #174EA6;\n",
              "    }\n",
              "\n",
              "    [theme=dark] .colab-df-convert {\n",
              "      background-color: #3B4455;\n",
              "      fill: #D2E3FC;\n",
              "    }\n",
              "\n",
              "    [theme=dark] .colab-df-convert:hover {\n",
              "      background-color: #434B5C;\n",
              "      box-shadow: 0px 1px 3px 1px rgba(0, 0, 0, 0.15);\n",
              "      filter: drop-shadow(0px 1px 2px rgba(0, 0, 0, 0.3));\n",
              "      fill: #FFFFFF;\n",
              "    }\n",
              "  </style>\n",
              "\n",
              "      <script>\n",
              "        const buttonEl =\n",
              "          document.querySelector('#df-9a09aeb9-80cf-42bf-a1af-77a4781a483f button.colab-df-convert');\n",
              "        buttonEl.style.display =\n",
              "          google.colab.kernel.accessAllowed ? 'block' : 'none';\n",
              "\n",
              "        async function convertToInteractive(key) {\n",
              "          const element = document.querySelector('#df-9a09aeb9-80cf-42bf-a1af-77a4781a483f');\n",
              "          const dataTable =\n",
              "            await google.colab.kernel.invokeFunction('convertToInteractive',\n",
              "                                                     [key], {});\n",
              "          if (!dataTable) return;\n",
              "\n",
              "          const docLinkHtml = 'Like what you see? Visit the ' +\n",
              "            '<a target=\"_blank\" href=https://colab.research.google.com/notebooks/data_table.ipynb>data table notebook</a>'\n",
              "            + ' to learn more about interactive tables.';\n",
              "          element.innerHTML = '';\n",
              "          dataTable['output_type'] = 'display_data';\n",
              "          await google.colab.output.renderOutput(dataTable, element);\n",
              "          const docLink = document.createElement('div');\n",
              "          docLink.innerHTML = docLinkHtml;\n",
              "          element.appendChild(docLink);\n",
              "        }\n",
              "      </script>\n",
              "    </div>\n",
              "  </div>\n",
              "  "
            ],
            "text/plain": [
              "      Age  Job  Credit amount  Duration  Purpose_car  \\\n",
              "0    24.0  2.0       8.067776      18.0          0.0   \n",
              "1    35.0  1.0       8.384804      18.0          1.0   \n",
              "2    32.0  2.0       7.751475      24.0          1.0   \n",
              "3    23.0  2.0       7.167809      12.0          0.0   \n",
              "4    35.0  3.0       8.889170      33.0          1.0   \n",
              "..    ...  ...            ...       ...          ...   \n",
              "245  35.0  2.0       7.251345      14.0          0.0   \n",
              "246  74.0  1.0       8.145550       5.0          0.0   \n",
              "247  51.0  2.0       8.470311      11.0          0.0   \n",
              "248  52.0  1.0       7.747165      10.0          0.0   \n",
              "249  26.0  2.0       8.473868      48.0          1.0   \n",
              "\n",
              "     Purpose_domestic appliances  Purpose_education  \\\n",
              "0                            0.0                0.0   \n",
              "1                            0.0                0.0   \n",
              "2                            0.0                0.0   \n",
              "3                            0.0                0.0   \n",
              "4                            0.0                0.0   \n",
              "..                           ...                ...   \n",
              "245                          0.0                0.0   \n",
              "246                          0.0                0.0   \n",
              "247                          0.0                0.0   \n",
              "248                          0.0                0.0   \n",
              "249                          0.0                0.0   \n",
              "\n",
              "     Purpose_furniture/equipment  Purpose_radio/TV  Purpose_repairs  ...  \\\n",
              "0                            0.0               1.0              0.0  ...   \n",
              "1                            0.0               0.0              0.0  ...   \n",
              "2                            0.0               0.0              0.0  ...   \n",
              "3                            0.0               1.0              0.0  ...   \n",
              "4                            0.0               0.0              0.0  ...   \n",
              "..                           ...               ...              ...  ...   \n",
              "245                          0.0               0.0              0.0  ...   \n",
              "246                          0.0               0.0              0.0  ...   \n",
              "247                          0.0               1.0              0.0  ...   \n",
              "248                          0.0               1.0              0.0  ...   \n",
              "249                          0.0               0.0              0.0  ...   \n",
              "\n",
              "     Savings_quite rich  Savings_rich  Check_moderate  Check_no_inf  \\\n",
              "0                   0.0           0.0             0.0           0.0   \n",
              "1                   0.0           0.0             0.0           0.0   \n",
              "2                   0.0           0.0             0.0           0.0   \n",
              "3                   0.0           0.0             0.0           0.0   \n",
              "4                   0.0           0.0             0.0           1.0   \n",
              "..                  ...           ...             ...           ...   \n",
              "245                 1.0           0.0             1.0           0.0   \n",
              "246                 0.0           0.0             0.0           1.0   \n",
              "247                 0.0           0.0             1.0           0.0   \n",
              "248                 0.0           0.0             0.0           0.0   \n",
              "249                 0.0           0.0             0.0           0.0   \n",
              "\n",
              "     Check_rich  Age_cat_Young  Age_cat_Adult  Age_cat_Senior  Risk_bad  \\\n",
              "0           0.0            0.0            0.0             0.0         1   \n",
              "1           0.0            1.0            0.0             0.0         0   \n",
              "2           0.0            1.0            0.0             0.0         0   \n",
              "3           1.0            0.0            0.0             0.0         0   \n",
              "4           0.0            1.0            0.0             0.0         0   \n",
              "..          ...            ...            ...             ...       ...   \n",
              "245         0.0            1.0            0.0             0.0         0   \n",
              "246         0.0            0.0            0.0             1.0         0   \n",
              "247         0.0            0.0            1.0             0.0         0   \n",
              "248         0.0            0.0            1.0             0.0         0   \n",
              "249         0.0            1.0            0.0             0.0         0   \n",
              "\n",
              "     predicted_risk_bad  \n",
              "0                     0  \n",
              "1                     1  \n",
              "2                     0  \n",
              "3                     1  \n",
              "4                     0  \n",
              "..                  ...  \n",
              "245                   0  \n",
              "246                   0  \n",
              "247                   0  \n",
              "248                   0  \n",
              "249                   1  \n",
              "\n",
              "[250 rows x 26 columns]"
            ]
          },
          "execution_count": 142,
          "metadata": {},
          "output_type": "execute_result"
        }
      ],
      "source": [
        "test_df['predicted_risk_bad'] = y_pred\n",
        "test_df"
      ]
    },
    {
      "cell_type": "code",
      "execution_count": null,
      "metadata": {
        "colab": {
          "base_uri": "https://localhost:8080/",
          "height": 574
        },
        "id": "b-03RaW_bRHK",
        "outputId": "45a11406-cda9-4a70-cd59-b17d6c1b18dd"
      },
      "outputs": [
        {
          "name": "stderr",
          "output_type": "stream",
          "text": [
            "/usr/local/lib/python3.7/dist-packages/ipykernel_launcher.py:1: UserWarning:\n",
            "\n",
            "Boolean Series key will be reindexed to match DataFrame index.\n",
            "\n"
          ]
        },
        {
          "data": {
            "text/html": [
              "\n",
              "  <div id=\"df-eaf7472c-de47-4cef-bf92-5b989d06c20e\">\n",
              "    <div class=\"colab-df-container\">\n",
              "      <div>\n",
              "<style scoped>\n",
              "    .dataframe tbody tr th:only-of-type {\n",
              "        vertical-align: middle;\n",
              "    }\n",
              "\n",
              "    .dataframe tbody tr th {\n",
              "        vertical-align: top;\n",
              "    }\n",
              "\n",
              "    .dataframe thead th {\n",
              "        text-align: right;\n",
              "    }\n",
              "</style>\n",
              "<table border=\"1\" class=\"dataframe\">\n",
              "  <thead>\n",
              "    <tr style=\"text-align: right;\">\n",
              "      <th></th>\n",
              "      <th>Age</th>\n",
              "      <th>Job</th>\n",
              "      <th>Credit amount</th>\n",
              "      <th>Duration</th>\n",
              "      <th>Purpose_car</th>\n",
              "      <th>Purpose_domestic appliances</th>\n",
              "      <th>Purpose_education</th>\n",
              "      <th>Purpose_furniture/equipment</th>\n",
              "      <th>Purpose_radio/TV</th>\n",
              "      <th>Purpose_repairs</th>\n",
              "      <th>...</th>\n",
              "      <th>Savings_quite rich</th>\n",
              "      <th>Savings_rich</th>\n",
              "      <th>Check_moderate</th>\n",
              "      <th>Check_no_inf</th>\n",
              "      <th>Check_rich</th>\n",
              "      <th>Age_cat_Young</th>\n",
              "      <th>Age_cat_Adult</th>\n",
              "      <th>Age_cat_Senior</th>\n",
              "      <th>Risk_bad</th>\n",
              "      <th>predicted_risk_bad</th>\n",
              "    </tr>\n",
              "  </thead>\n",
              "  <tbody>\n",
              "    <tr>\n",
              "      <th>2</th>\n",
              "      <td>32.0</td>\n",
              "      <td>2.0</td>\n",
              "      <td>7.751475</td>\n",
              "      <td>24.0</td>\n",
              "      <td>1.0</td>\n",
              "      <td>0.0</td>\n",
              "      <td>0.0</td>\n",
              "      <td>0.0</td>\n",
              "      <td>0.0</td>\n",
              "      <td>0.0</td>\n",
              "      <td>...</td>\n",
              "      <td>0.0</td>\n",
              "      <td>0.0</td>\n",
              "      <td>0.0</td>\n",
              "      <td>0.0</td>\n",
              "      <td>0.0</td>\n",
              "      <td>1.0</td>\n",
              "      <td>0.0</td>\n",
              "      <td>0.0</td>\n",
              "      <td>0</td>\n",
              "      <td>0</td>\n",
              "    </tr>\n",
              "    <tr>\n",
              "      <th>4</th>\n",
              "      <td>35.0</td>\n",
              "      <td>3.0</td>\n",
              "      <td>8.889170</td>\n",
              "      <td>33.0</td>\n",
              "      <td>1.0</td>\n",
              "      <td>0.0</td>\n",
              "      <td>0.0</td>\n",
              "      <td>0.0</td>\n",
              "      <td>0.0</td>\n",
              "      <td>0.0</td>\n",
              "      <td>...</td>\n",
              "      <td>0.0</td>\n",
              "      <td>0.0</td>\n",
              "      <td>0.0</td>\n",
              "      <td>1.0</td>\n",
              "      <td>0.0</td>\n",
              "      <td>1.0</td>\n",
              "      <td>0.0</td>\n",
              "      <td>0.0</td>\n",
              "      <td>0</td>\n",
              "      <td>0</td>\n",
              "    </tr>\n",
              "    <tr>\n",
              "      <th>5</th>\n",
              "      <td>64.0</td>\n",
              "      <td>1.0</td>\n",
              "      <td>7.776535</td>\n",
              "      <td>24.0</td>\n",
              "      <td>0.0</td>\n",
              "      <td>0.0</td>\n",
              "      <td>0.0</td>\n",
              "      <td>0.0</td>\n",
              "      <td>1.0</td>\n",
              "      <td>0.0</td>\n",
              "      <td>...</td>\n",
              "      <td>0.0</td>\n",
              "      <td>0.0</td>\n",
              "      <td>0.0</td>\n",
              "      <td>0.0</td>\n",
              "      <td>0.0</td>\n",
              "      <td>0.0</td>\n",
              "      <td>0.0</td>\n",
              "      <td>1.0</td>\n",
              "      <td>0</td>\n",
              "      <td>0</td>\n",
              "    </tr>\n",
              "    <tr>\n",
              "      <th>6</th>\n",
              "      <td>41.0</td>\n",
              "      <td>2.0</td>\n",
              "      <td>7.657283</td>\n",
              "      <td>6.0</td>\n",
              "      <td>0.0</td>\n",
              "      <td>0.0</td>\n",
              "      <td>0.0</td>\n",
              "      <td>1.0</td>\n",
              "      <td>0.0</td>\n",
              "      <td>0.0</td>\n",
              "      <td>...</td>\n",
              "      <td>0.0</td>\n",
              "      <td>0.0</td>\n",
              "      <td>0.0</td>\n",
              "      <td>0.0</td>\n",
              "      <td>1.0</td>\n",
              "      <td>0.0</td>\n",
              "      <td>1.0</td>\n",
              "      <td>0.0</td>\n",
              "      <td>0</td>\n",
              "      <td>0</td>\n",
              "    </tr>\n",
              "    <tr>\n",
              "      <th>7</th>\n",
              "      <td>20.0</td>\n",
              "      <td>2.0</td>\n",
              "      <td>6.371612</td>\n",
              "      <td>12.0</td>\n",
              "      <td>0.0</td>\n",
              "      <td>0.0</td>\n",
              "      <td>0.0</td>\n",
              "      <td>0.0</td>\n",
              "      <td>1.0</td>\n",
              "      <td>0.0</td>\n",
              "      <td>...</td>\n",
              "      <td>0.0</td>\n",
              "      <td>0.0</td>\n",
              "      <td>1.0</td>\n",
              "      <td>0.0</td>\n",
              "      <td>0.0</td>\n",
              "      <td>0.0</td>\n",
              "      <td>0.0</td>\n",
              "      <td>0.0</td>\n",
              "      <td>0</td>\n",
              "      <td>0</td>\n",
              "    </tr>\n",
              "    <tr>\n",
              "      <th>...</th>\n",
              "      <td>...</td>\n",
              "      <td>...</td>\n",
              "      <td>...</td>\n",
              "      <td>...</td>\n",
              "      <td>...</td>\n",
              "      <td>...</td>\n",
              "      <td>...</td>\n",
              "      <td>...</td>\n",
              "      <td>...</td>\n",
              "      <td>...</td>\n",
              "      <td>...</td>\n",
              "      <td>...</td>\n",
              "      <td>...</td>\n",
              "      <td>...</td>\n",
              "      <td>...</td>\n",
              "      <td>...</td>\n",
              "      <td>...</td>\n",
              "      <td>...</td>\n",
              "      <td>...</td>\n",
              "      <td>...</td>\n",
              "      <td>...</td>\n",
              "    </tr>\n",
              "    <tr>\n",
              "      <th>242</th>\n",
              "      <td>54.0</td>\n",
              "      <td>2.0</td>\n",
              "      <td>7.720905</td>\n",
              "      <td>24.0</td>\n",
              "      <td>1.0</td>\n",
              "      <td>0.0</td>\n",
              "      <td>0.0</td>\n",
              "      <td>0.0</td>\n",
              "      <td>0.0</td>\n",
              "      <td>0.0</td>\n",
              "      <td>...</td>\n",
              "      <td>0.0</td>\n",
              "      <td>0.0</td>\n",
              "      <td>0.0</td>\n",
              "      <td>1.0</td>\n",
              "      <td>0.0</td>\n",
              "      <td>0.0</td>\n",
              "      <td>1.0</td>\n",
              "      <td>0.0</td>\n",
              "      <td>0</td>\n",
              "      <td>0</td>\n",
              "    </tr>\n",
              "    <tr>\n",
              "      <th>245</th>\n",
              "      <td>35.0</td>\n",
              "      <td>2.0</td>\n",
              "      <td>7.251345</td>\n",
              "      <td>14.0</td>\n",
              "      <td>0.0</td>\n",
              "      <td>0.0</td>\n",
              "      <td>0.0</td>\n",
              "      <td>0.0</td>\n",
              "      <td>0.0</td>\n",
              "      <td>0.0</td>\n",
              "      <td>...</td>\n",
              "      <td>1.0</td>\n",
              "      <td>0.0</td>\n",
              "      <td>1.0</td>\n",
              "      <td>0.0</td>\n",
              "      <td>0.0</td>\n",
              "      <td>1.0</td>\n",
              "      <td>0.0</td>\n",
              "      <td>0.0</td>\n",
              "      <td>0</td>\n",
              "      <td>0</td>\n",
              "    </tr>\n",
              "    <tr>\n",
              "      <th>246</th>\n",
              "      <td>74.0</td>\n",
              "      <td>1.0</td>\n",
              "      <td>8.145550</td>\n",
              "      <td>5.0</td>\n",
              "      <td>0.0</td>\n",
              "      <td>0.0</td>\n",
              "      <td>0.0</td>\n",
              "      <td>0.0</td>\n",
              "      <td>0.0</td>\n",
              "      <td>0.0</td>\n",
              "      <td>...</td>\n",
              "      <td>0.0</td>\n",
              "      <td>0.0</td>\n",
              "      <td>0.0</td>\n",
              "      <td>1.0</td>\n",
              "      <td>0.0</td>\n",
              "      <td>0.0</td>\n",
              "      <td>0.0</td>\n",
              "      <td>1.0</td>\n",
              "      <td>0</td>\n",
              "      <td>0</td>\n",
              "    </tr>\n",
              "    <tr>\n",
              "      <th>247</th>\n",
              "      <td>51.0</td>\n",
              "      <td>2.0</td>\n",
              "      <td>8.470311</td>\n",
              "      <td>11.0</td>\n",
              "      <td>0.0</td>\n",
              "      <td>0.0</td>\n",
              "      <td>0.0</td>\n",
              "      <td>0.0</td>\n",
              "      <td>1.0</td>\n",
              "      <td>0.0</td>\n",
              "      <td>...</td>\n",
              "      <td>0.0</td>\n",
              "      <td>0.0</td>\n",
              "      <td>1.0</td>\n",
              "      <td>0.0</td>\n",
              "      <td>0.0</td>\n",
              "      <td>0.0</td>\n",
              "      <td>1.0</td>\n",
              "      <td>0.0</td>\n",
              "      <td>0</td>\n",
              "      <td>0</td>\n",
              "    </tr>\n",
              "    <tr>\n",
              "      <th>248</th>\n",
              "      <td>52.0</td>\n",
              "      <td>1.0</td>\n",
              "      <td>7.747165</td>\n",
              "      <td>10.0</td>\n",
              "      <td>0.0</td>\n",
              "      <td>0.0</td>\n",
              "      <td>0.0</td>\n",
              "      <td>0.0</td>\n",
              "      <td>1.0</td>\n",
              "      <td>0.0</td>\n",
              "      <td>...</td>\n",
              "      <td>0.0</td>\n",
              "      <td>0.0</td>\n",
              "      <td>0.0</td>\n",
              "      <td>0.0</td>\n",
              "      <td>0.0</td>\n",
              "      <td>0.0</td>\n",
              "      <td>1.0</td>\n",
              "      <td>0.0</td>\n",
              "      <td>0</td>\n",
              "      <td>0</td>\n",
              "    </tr>\n",
              "  </tbody>\n",
              "</table>\n",
              "<p>133 rows × 26 columns</p>\n",
              "</div>\n",
              "      <button class=\"colab-df-convert\" onclick=\"convertToInteractive('df-eaf7472c-de47-4cef-bf92-5b989d06c20e')\"\n",
              "              title=\"Convert this dataframe to an interactive table.\"\n",
              "              style=\"display:none;\">\n",
              "        \n",
              "  <svg xmlns=\"http://www.w3.org/2000/svg\" height=\"24px\"viewBox=\"0 0 24 24\"\n",
              "       width=\"24px\">\n",
              "    <path d=\"M0 0h24v24H0V0z\" fill=\"none\"/>\n",
              "    <path d=\"M18.56 5.44l.94 2.06.94-2.06 2.06-.94-2.06-.94-.94-2.06-.94 2.06-2.06.94zm-11 1L8.5 8.5l.94-2.06 2.06-.94-2.06-.94L8.5 2.5l-.94 2.06-2.06.94zm10 10l.94 2.06.94-2.06 2.06-.94-2.06-.94-.94-2.06-.94 2.06-2.06.94z\"/><path d=\"M17.41 7.96l-1.37-1.37c-.4-.4-.92-.59-1.43-.59-.52 0-1.04.2-1.43.59L10.3 9.45l-7.72 7.72c-.78.78-.78 2.05 0 2.83L4 21.41c.39.39.9.59 1.41.59.51 0 1.02-.2 1.41-.59l7.78-7.78 2.81-2.81c.8-.78.8-2.07 0-2.86zM5.41 20L4 18.59l7.72-7.72 1.47 1.35L5.41 20z\"/>\n",
              "  </svg>\n",
              "      </button>\n",
              "      \n",
              "  <style>\n",
              "    .colab-df-container {\n",
              "      display:flex;\n",
              "      flex-wrap:wrap;\n",
              "      gap: 12px;\n",
              "    }\n",
              "\n",
              "    .colab-df-convert {\n",
              "      background-color: #E8F0FE;\n",
              "      border: none;\n",
              "      border-radius: 50%;\n",
              "      cursor: pointer;\n",
              "      display: none;\n",
              "      fill: #1967D2;\n",
              "      height: 32px;\n",
              "      padding: 0 0 0 0;\n",
              "      width: 32px;\n",
              "    }\n",
              "\n",
              "    .colab-df-convert:hover {\n",
              "      background-color: #E2EBFA;\n",
              "      box-shadow: 0px 1px 2px rgba(60, 64, 67, 0.3), 0px 1px 3px 1px rgba(60, 64, 67, 0.15);\n",
              "      fill: #174EA6;\n",
              "    }\n",
              "\n",
              "    [theme=dark] .colab-df-convert {\n",
              "      background-color: #3B4455;\n",
              "      fill: #D2E3FC;\n",
              "    }\n",
              "\n",
              "    [theme=dark] .colab-df-convert:hover {\n",
              "      background-color: #434B5C;\n",
              "      box-shadow: 0px 1px 3px 1px rgba(0, 0, 0, 0.15);\n",
              "      filter: drop-shadow(0px 1px 2px rgba(0, 0, 0, 0.3));\n",
              "      fill: #FFFFFF;\n",
              "    }\n",
              "  </style>\n",
              "\n",
              "      <script>\n",
              "        const buttonEl =\n",
              "          document.querySelector('#df-eaf7472c-de47-4cef-bf92-5b989d06c20e button.colab-df-convert');\n",
              "        buttonEl.style.display =\n",
              "          google.colab.kernel.accessAllowed ? 'block' : 'none';\n",
              "\n",
              "        async function convertToInteractive(key) {\n",
              "          const element = document.querySelector('#df-eaf7472c-de47-4cef-bf92-5b989d06c20e');\n",
              "          const dataTable =\n",
              "            await google.colab.kernel.invokeFunction('convertToInteractive',\n",
              "                                                     [key], {});\n",
              "          if (!dataTable) return;\n",
              "\n",
              "          const docLinkHtml = 'Like what you see? Visit the ' +\n",
              "            '<a target=\"_blank\" href=https://colab.research.google.com/notebooks/data_table.ipynb>data table notebook</a>'\n",
              "            + ' to learn more about interactive tables.';\n",
              "          element.innerHTML = '';\n",
              "          dataTable['output_type'] = 'display_data';\n",
              "          await google.colab.output.renderOutput(dataTable, element);\n",
              "          const docLink = document.createElement('div');\n",
              "          docLink.innerHTML = docLinkHtml;\n",
              "          element.appendChild(docLink);\n",
              "        }\n",
              "      </script>\n",
              "    </div>\n",
              "  </div>\n",
              "  "
            ],
            "text/plain": [
              "      Age  Job  Credit amount  Duration  Purpose_car  \\\n",
              "2    32.0  2.0       7.751475      24.0          1.0   \n",
              "4    35.0  3.0       8.889170      33.0          1.0   \n",
              "5    64.0  1.0       7.776535      24.0          0.0   \n",
              "6    41.0  2.0       7.657283       6.0          0.0   \n",
              "7    20.0  2.0       6.371612      12.0          0.0   \n",
              "..    ...  ...            ...       ...          ...   \n",
              "242  54.0  2.0       7.720905      24.0          1.0   \n",
              "245  35.0  2.0       7.251345      14.0          0.0   \n",
              "246  74.0  1.0       8.145550       5.0          0.0   \n",
              "247  51.0  2.0       8.470311      11.0          0.0   \n",
              "248  52.0  1.0       7.747165      10.0          0.0   \n",
              "\n",
              "     Purpose_domestic appliances  Purpose_education  \\\n",
              "2                            0.0                0.0   \n",
              "4                            0.0                0.0   \n",
              "5                            0.0                0.0   \n",
              "6                            0.0                0.0   \n",
              "7                            0.0                0.0   \n",
              "..                           ...                ...   \n",
              "242                          0.0                0.0   \n",
              "245                          0.0                0.0   \n",
              "246                          0.0                0.0   \n",
              "247                          0.0                0.0   \n",
              "248                          0.0                0.0   \n",
              "\n",
              "     Purpose_furniture/equipment  Purpose_radio/TV  Purpose_repairs  ...  \\\n",
              "2                            0.0               0.0              0.0  ...   \n",
              "4                            0.0               0.0              0.0  ...   \n",
              "5                            0.0               1.0              0.0  ...   \n",
              "6                            1.0               0.0              0.0  ...   \n",
              "7                            0.0               1.0              0.0  ...   \n",
              "..                           ...               ...              ...  ...   \n",
              "242                          0.0               0.0              0.0  ...   \n",
              "245                          0.0               0.0              0.0  ...   \n",
              "246                          0.0               0.0              0.0  ...   \n",
              "247                          0.0               1.0              0.0  ...   \n",
              "248                          0.0               1.0              0.0  ...   \n",
              "\n",
              "     Savings_quite rich  Savings_rich  Check_moderate  Check_no_inf  \\\n",
              "2                   0.0           0.0             0.0           0.0   \n",
              "4                   0.0           0.0             0.0           1.0   \n",
              "5                   0.0           0.0             0.0           0.0   \n",
              "6                   0.0           0.0             0.0           0.0   \n",
              "7                   0.0           0.0             1.0           0.0   \n",
              "..                  ...           ...             ...           ...   \n",
              "242                 0.0           0.0             0.0           1.0   \n",
              "245                 1.0           0.0             1.0           0.0   \n",
              "246                 0.0           0.0             0.0           1.0   \n",
              "247                 0.0           0.0             1.0           0.0   \n",
              "248                 0.0           0.0             0.0           0.0   \n",
              "\n",
              "     Check_rich  Age_cat_Young  Age_cat_Adult  Age_cat_Senior  Risk_bad  \\\n",
              "2           0.0            1.0            0.0             0.0         0   \n",
              "4           0.0            1.0            0.0             0.0         0   \n",
              "5           0.0            0.0            0.0             1.0         0   \n",
              "6           1.0            0.0            1.0             0.0         0   \n",
              "7           0.0            0.0            0.0             0.0         0   \n",
              "..          ...            ...            ...             ...       ...   \n",
              "242         0.0            0.0            1.0             0.0         0   \n",
              "245         0.0            1.0            0.0             0.0         0   \n",
              "246         0.0            0.0            0.0             1.0         0   \n",
              "247         0.0            0.0            1.0             0.0         0   \n",
              "248         0.0            0.0            1.0             0.0         0   \n",
              "\n",
              "     predicted_risk_bad  \n",
              "2                     0  \n",
              "4                     0  \n",
              "5                     0  \n",
              "6                     0  \n",
              "7                     0  \n",
              "..                  ...  \n",
              "242                   0  \n",
              "245                   0  \n",
              "246                   0  \n",
              "247                   0  \n",
              "248                   0  \n",
              "\n",
              "[133 rows x 26 columns]"
            ]
          },
          "execution_count": 148,
          "metadata": {},
          "output_type": "execute_result"
        }
      ],
      "source": [
        "test_df[test_df.Sex_male == 1][test_df.predicted_risk_bad == 0]"
      ]
    },
    {
      "cell_type": "code",
      "execution_count": null,
      "metadata": {
        "colab": {
          "base_uri": "https://localhost:8080/"
        },
        "id": "1q2xNg0XGG_N",
        "outputId": "1963ac01-a288-4c65-ab5c-134f8983bab5"
      },
      "outputs": [
        {
          "name": "stdout",
          "output_type": "stream",
          "text": [
            "18 73\n",
            "44 177\n"
          ]
        },
        {
          "name": "stderr",
          "output_type": "stream",
          "text": [
            "/usr/local/lib/python3.7/dist-packages/ipykernel_launcher.py:1: UserWarning:\n",
            "\n",
            "Boolean Series key will be reindexed to match DataFrame index.\n",
            "\n",
            "/usr/local/lib/python3.7/dist-packages/ipykernel_launcher.py:2: UserWarning:\n",
            "\n",
            "Boolean Series key will be reindexed to match DataFrame index.\n",
            "\n"
          ]
        },
        {
          "data": {
            "text/plain": [
              "(0.24858757062146894, 0.2465753424657534)"
            ]
          },
          "execution_count": 149,
          "metadata": {},
          "output_type": "execute_result"
        }
      ],
      "source": [
        "risky_male = len(test_df[test_df.Sex_male == 1][test_df.predicted_risk_bad == 1])\n",
        "risky_female = len(test_df[test_df.Sex_male == 0][test_df.predicted_risk_bad == 1])\n",
        "\n",
        "total_male = len(test_df[test_df.Sex_male == 1])\n",
        "total_female = len(test_df[test_df.Sex_male == 0])\n",
        "print(risky_female,total_female)\n",
        "print(risky_male,total_male)\n",
        "risky_male/total_male, risky_female/total_female"
      ]
    },
    {
      "cell_type": "markdown",
      "metadata": {
        "id": "7pr4mxymZo9P"
      },
      "source": [
        "### Seperation"
      ]
    },
    {
      "cell_type": "code",
      "execution_count": 88,
      "metadata": {
        "id": "L1N45q0q16ax"
      },
      "outputs": [],
      "source": [
        "def seperation_2(test_df,rf,threshold=0.5):\n",
        "  temp_df = test_df.copy()\n",
        "  test_control = temp_df.drop('Risk_bad',1).values\n",
        "  y_preds_prob = rf.predict_proba(test_control)\n",
        "  y_preds = (y_preds_prob [:,1] >= threshold).astype('int')\n",
        "  temp_df['predicted_risk_bad'] = y_preds\n",
        " \n",
        "  male_df = temp_df[temp_df.Sex_male==1].copy()\n",
        "  female_df = temp_df[temp_df.Sex_male==0].copy()\n",
        "\n",
        "\n",
        "\n",
        "  male_df_fpr = len(male_df[male_df.predicted_risk_bad==0][male_df.Risk_bad==1])/len(male_df[male_df.Risk_bad==1])\n",
        "  male_df_fnr = len(male_df[male_df.predicted_risk_bad==1][male_df.Risk_bad==0])/len(male_df[male_df.Risk_bad==0])\n",
        "  female_df_fpr = len(female_df[female_df.predicted_risk_bad==0][female_df.Risk_bad==1])/len(female_df[female_df.Risk_bad==1])\n",
        "  female_df_fnr = len(female_df[female_df.predicted_risk_bad==1][female_df.Risk_bad==0])/len(female_df[female_df.Risk_bad==0])\n",
        "  return {\n",
        "          \"male_false_positive_rate\": male_df_fpr,\n",
        "          \"male_false_negative_rate\": male_df_fnr,\n",
        "          \"female_false_positive_rate\": female_df_fpr,\n",
        "          \"female_false_negative_rate\": female_df_fnr,\n",
        "      }"
      ]
    },
    {
      "cell_type": "code",
      "source": [
        "def seperation(test_df,rf,threshold_m=0.5,threshold_f=0.5):\n",
        "  temp_df = test_df.copy()\n",
        "  test_control = temp_df.drop('Risk_bad',1).values\n",
        "  y_preds_prob = rf.predict_proba(test_control)\n",
        "  # y_preds = (y_preds_prob [:,1] >= threshold).astype('int')\n",
        "  temp_df['predicted_prob_risk_bad'] = y_preds_prob[:,1]\n",
        "  male_df = temp_df[temp_df.Sex_male==1]\n",
        "  female_df = temp_df[temp_df.Sex_male==0]\n",
        "\n",
        "  male_pred = (male_df['predicted_prob_risk_bad'] >=threshold_m).astype(int)\n",
        "  female_pred = (female_df['predicted_prob_risk_bad'] >= threshold_f).astype(int)\n",
        " \n",
        "  male_df = temp_df[temp_df.Sex_male==1].copy()\n",
        "  female_df = temp_df[temp_df.Sex_male==0].copy()\n",
        "\n",
        "  male_df['predicted_risk_bad'] = male_pred\n",
        "  female_df['predicted_risk_bad'] = female_pred\n",
        "\n",
        "  male_df_fpr = len(male_df[male_df.predicted_risk_bad==0][male_df.Risk_bad==1])/len(male_df[male_df.Risk_bad==1])\n",
        "  male_df_fnr = len(male_df[male_df.predicted_risk_bad==1][male_df.Risk_bad==0])/len(male_df[male_df.Risk_bad==0])\n",
        "  female_df_fpr = len(female_df[female_df.predicted_risk_bad==0][female_df.Risk_bad==1])/len(female_df[female_df.Risk_bad==1])\n",
        "  female_df_fnr = len(female_df[female_df.predicted_risk_bad==1][female_df.Risk_bad==0])/len(female_df[female_df.Risk_bad==0])\n",
        "  return {\n",
        "          \"male_false_positive_rate\": male_df_fpr,\n",
        "          \"male_false_negative_rate\": male_df_fnr,\n",
        "          \"female_false_positive_rate\": female_df_fpr,\n",
        "          \"female_false_negative_rate\": female_df_fnr,\n",
        "      }"
      ],
      "metadata": {
        "id": "xDSNQW7l1NOS"
      },
      "execution_count": 87,
      "outputs": []
    },
    {
      "cell_type": "code",
      "execution_count": 89,
      "metadata": {
        "colab": {
          "base_uri": "https://localhost:8080/"
        },
        "id": "bdCHX-uS3BJq",
        "outputId": "0e24cb47-7b82-40d9-bf0c-879799c2c13e"
      },
      "outputs": [
        {
          "output_type": "execute_result",
          "data": {
            "text/plain": [
              "{'female_false_negative_rate': 0.1568627450980392,\n",
              " 'female_false_positive_rate': 0.5454545454545454,\n",
              " 'male_false_negative_rate': 0.18110236220472442,\n",
              " 'male_false_positive_rate': 0.58}"
            ]
          },
          "metadata": {},
          "execution_count": 89
        }
      ],
      "source": [
        "seperation_2(test_df,rf_og)"
      ]
    },
    {
      "cell_type": "code",
      "source": [
        "seperation(test_df,rf_og,0.5,1)"
      ],
      "metadata": {
        "colab": {
          "base_uri": "https://localhost:8080/"
        },
        "id": "GyNHU8ni1R3A",
        "outputId": "94dab7f6-18b1-4b00-8b73-586952df29f9"
      },
      "execution_count": 90,
      "outputs": [
        {
          "output_type": "execute_result",
          "data": {
            "text/plain": [
              "{'female_false_negative_rate': 0.0392156862745098,\n",
              " 'female_false_positive_rate': 0.9090909090909091,\n",
              " 'male_false_negative_rate': 0.18110236220472442,\n",
              " 'male_false_positive_rate': 0.58}"
            ]
          },
          "metadata": {},
          "execution_count": 90
        }
      ]
    },
    {
      "cell_type": "code",
      "execution_count": null,
      "metadata": {
        "id": "zPqguLfVWTDq"
      },
      "outputs": [],
      "source": [
        "male_df = test_df[test_df.Sex_male==1].copy()\n",
        "female_df = test_df[test_df.Sex_male==0].copy()\n"
      ]
    },
    {
      "cell_type": "code",
      "execution_count": null,
      "metadata": {
        "colab": {
          "base_uri": "https://localhost:8080/"
        },
        "id": "GThmhyNxWS9L",
        "outputId": "70af8107-4b74-4d5d-c049-c198e4cfdf9c"
      },
      "outputs": [
        {
          "name": "stderr",
          "output_type": "stream",
          "text": [
            "/usr/local/lib/python3.7/dist-packages/ipykernel_launcher.py:2: UserWarning:\n",
            "\n",
            "Boolean Series key will be reindexed to match DataFrame index.\n",
            "\n",
            "/usr/local/lib/python3.7/dist-packages/ipykernel_launcher.py:3: UserWarning:\n",
            "\n",
            "Boolean Series key will be reindexed to match DataFrame index.\n",
            "\n"
          ]
        },
        {
          "data": {
            "text/plain": [
              "(0.18110236220472442, 0.58)"
            ]
          },
          "execution_count": 155,
          "metadata": {},
          "output_type": "execute_result"
        }
      ],
      "source": [
        "# male_df\n",
        "male_df_fpr = len(male_df[male_df.predicted_risk_bad==0][male_df.Risk_bad==1])/len(male_df[male_df.Risk_bad==1])\n",
        "male_df_fnr = len(male_df[male_df.predicted_risk_bad==1][male_df.Risk_bad==0])/len(male_df[male_df.Risk_bad==0])\n",
        "male_df_fnr,male_df_fpr"
      ]
    },
    {
      "cell_type": "code",
      "execution_count": null,
      "metadata": {
        "colab": {
          "base_uri": "https://localhost:8080/"
        },
        "id": "DBVhpHV2WS2b",
        "outputId": "e26bcb2b-799c-4d6d-f36c-f0de2a77e2e2"
      },
      "outputs": [
        {
          "name": "stderr",
          "output_type": "stream",
          "text": [
            "/usr/local/lib/python3.7/dist-packages/ipykernel_launcher.py:2: UserWarning:\n",
            "\n",
            "Boolean Series key will be reindexed to match DataFrame index.\n",
            "\n",
            "/usr/local/lib/python3.7/dist-packages/ipykernel_launcher.py:3: UserWarning:\n",
            "\n",
            "Boolean Series key will be reindexed to match DataFrame index.\n",
            "\n"
          ]
        },
        {
          "data": {
            "text/plain": [
              "(0.1568627450980392, 0.5454545454545454)"
            ]
          },
          "execution_count": 156,
          "metadata": {},
          "output_type": "execute_result"
        }
      ],
      "source": [
        "# female_df\n",
        "female_df_fpr = len(female_df[female_df.predicted_risk_bad==0][female_df.Risk_bad==1])/len(female_df[female_df.Risk_bad==1])\n",
        "female_df_fnr = len(female_df[female_df.predicted_risk_bad==1][female_df.Risk_bad==0])/len(female_df[female_df.Risk_bad==0])\n",
        "female_df_fnr,female_df_fpr"
      ]
    },
    {
      "cell_type": "markdown",
      "metadata": {
        "id": "bZZbHriKoeMd"
      },
      "source": [
        "## Task 3\n"
      ]
    },
    {
      "cell_type": "markdown",
      "metadata": {
        "id": "CEvvDoj7LJVq"
      },
      "source": [
        "### Tackling Anti-Classification\n",
        "One way to tackle would be to train a model to not look at the protected attributes."
      ]
    },
    {
      "cell_type": "code",
      "execution_count": null,
      "metadata": {
        "colab": {
          "base_uri": "https://localhost:8080/"
        },
        "id": "wASFDjyoLXSL",
        "outputId": "0d91cc91-70e4-40c0-efa9-4f5af5f480e8"
      },
      "outputs": [
        {
          "output_type": "execute_result",
          "data": {
            "text/plain": [
              "Index(['Age', 'Job', 'Credit amount', 'Duration', 'Purpose_car',\n",
              "       'Purpose_domestic appliances', 'Purpose_education',\n",
              "       'Purpose_furniture/equipment', 'Purpose_radio/TV', 'Purpose_repairs',\n",
              "       'Purpose_vacation/others', 'Sex_male', 'Housing_own', 'Housing_rent',\n",
              "       'Savings_moderate', 'Savings_no_inf', 'Savings_quite rich',\n",
              "       'Savings_rich', 'Risk_bad', 'Check_moderate', 'Check_no_inf',\n",
              "       'Check_rich', 'Age_cat_Young', 'Age_cat_Adult', 'Age_cat_Senior'],\n",
              "      dtype='object')"
            ]
          },
          "metadata": {},
          "execution_count": 88
        }
      ],
      "source": [
        "df_credit.columns"
      ]
    },
    {
      "cell_type": "code",
      "execution_count": null,
      "metadata": {
        "colab": {
          "base_uri": "https://localhost:8080/"
        },
        "id": "PabsW8-YLoY7",
        "outputId": "1d91a889-3eba-4186-af23-cd15fd33ad46"
      },
      "outputs": [
        {
          "output_type": "execute_result",
          "data": {
            "text/plain": [
              "Index(['Age', 'Job', 'Credit amount', 'Duration', 'Purpose_car',\n",
              "       'Purpose_domestic appliances', 'Purpose_education',\n",
              "       'Purpose_furniture/equipment', 'Purpose_radio/TV', 'Purpose_repairs',\n",
              "       'Purpose_vacation/others', 'Housing_own', 'Housing_rent',\n",
              "       'Savings_moderate', 'Savings_no_inf', 'Savings_quite rich',\n",
              "       'Savings_rich', 'Risk_bad', 'Check_moderate', 'Check_no_inf',\n",
              "       'Check_rich', 'Age_cat_Young', 'Age_cat_Adult', 'Age_cat_Senior'],\n",
              "      dtype='object')"
            ]
          },
          "metadata": {},
          "execution_count": 89
        }
      ],
      "source": [
        "df_credit_temp = df_credit.drop('Sex_male',1)\n",
        "df_credit_temp.columns"
      ]
    },
    {
      "cell_type": "code",
      "execution_count": null,
      "metadata": {
        "id": "-276e1j6ooeN"
      },
      "outputs": [],
      "source": [
        "\n",
        "X = df_credit_temp.drop('Risk_bad', 1).values\n",
        "y = df_credit_temp[\"Risk_bad\"].values\n",
        "\n",
        "# Spliting X and y into train and test version\n",
        "X_train, X_test, y_train, y_test = train_test_split(X, y, test_size = 0.25, random_state=42)"
      ]
    },
    {
      "cell_type": "code",
      "execution_count": null,
      "metadata": {
        "id": "qzh3t301ooXp",
        "colab": {
          "base_uri": "https://localhost:8080/"
        },
        "outputId": "18a77a46-c100-4dcd-9d34-b51b139f76f3"
      },
      "outputs": [
        {
          "output_type": "stream",
          "name": "stdout",
          "text": [
            "Fitting 5 folds for each of 175 candidates, totalling 875 fits\n",
            "[CV 1/5] END max_depth=3, max_features=4, n_estimators=3;, score=0.178 total time=   0.0s\n",
            "[CV 2/5] END max_depth=3, max_features=4, n_estimators=3;, score=0.222 total time=   0.0s\n",
            "[CV 3/5] END max_depth=3, max_features=4, n_estimators=3;, score=0.196 total time=   0.0s\n",
            "[CV 4/5] END max_depth=3, max_features=4, n_estimators=3;, score=0.239 total time=   0.0s\n",
            "[CV 5/5] END max_depth=3, max_features=4, n_estimators=3;, score=0.174 total time=   0.0s\n",
            "[CV 1/5] END max_depth=3, max_features=4, n_estimators=5;, score=0.133 total time=   0.0s\n",
            "[CV 2/5] END max_depth=3, max_features=4, n_estimators=5;, score=0.222 total time=   0.0s\n",
            "[CV 3/5] END max_depth=3, max_features=4, n_estimators=5;, score=0.130 total time=   0.0s\n",
            "[CV 4/5] END max_depth=3, max_features=4, n_estimators=5;, score=0.196 total time=   0.0s\n",
            "[CV 5/5] END max_depth=3, max_features=4, n_estimators=5;, score=0.196 total time=   0.0s\n",
            "[CV 1/5] END max_depth=3, max_features=4, n_estimators=10;, score=0.022 total time=   0.0s\n",
            "[CV 2/5] END max_depth=3, max_features=4, n_estimators=10;, score=0.156 total time=   0.0s\n",
            "[CV 3/5] END max_depth=3, max_features=4, n_estimators=10;, score=0.130 total time=   0.0s\n",
            "[CV 4/5] END max_depth=3, max_features=4, n_estimators=10;, score=0.109 total time=   0.0s\n",
            "[CV 5/5] END max_depth=3, max_features=4, n_estimators=10;, score=0.217 total time=   0.0s\n",
            "[CV 1/5] END max_depth=3, max_features=4, n_estimators=25;, score=0.022 total time=   0.0s\n",
            "[CV 2/5] END max_depth=3, max_features=4, n_estimators=25;, score=0.111 total time=   0.0s\n",
            "[CV 3/5] END max_depth=3, max_features=4, n_estimators=25;, score=0.130 total time=   0.0s\n",
            "[CV 4/5] END max_depth=3, max_features=4, n_estimators=25;, score=0.087 total time=   0.0s\n",
            "[CV 5/5] END max_depth=3, max_features=4, n_estimators=25;, score=0.087 total time=   0.0s\n",
            "[CV 1/5] END max_depth=3, max_features=4, n_estimators=50;, score=0.022 total time=   0.1s\n",
            "[CV 2/5] END max_depth=3, max_features=4, n_estimators=50;, score=0.133 total time=   0.1s\n",
            "[CV 3/5] END max_depth=3, max_features=4, n_estimators=50;, score=0.087 total time=   0.1s\n",
            "[CV 4/5] END max_depth=3, max_features=4, n_estimators=50;, score=0.043 total time=   0.1s\n",
            "[CV 5/5] END max_depth=3, max_features=4, n_estimators=50;, score=0.043 total time=   0.1s\n",
            "[CV 1/5] END max_depth=3, max_features=4, n_estimators=75;, score=0.022 total time=   0.1s\n",
            "[CV 2/5] END max_depth=3, max_features=4, n_estimators=75;, score=0.111 total time=   0.1s\n",
            "[CV 3/5] END max_depth=3, max_features=4, n_estimators=75;, score=0.087 total time=   0.1s\n",
            "[CV 4/5] END max_depth=3, max_features=4, n_estimators=75;, score=0.065 total time=   0.1s\n",
            "[CV 5/5] END max_depth=3, max_features=4, n_estimators=75;, score=0.022 total time=   0.1s\n",
            "[CV 1/5] END max_depth=3, max_features=4, n_estimators=100;, score=0.022 total time=   0.2s\n",
            "[CV 2/5] END max_depth=3, max_features=4, n_estimators=100;, score=0.111 total time=   0.2s\n",
            "[CV 3/5] END max_depth=3, max_features=4, n_estimators=100;, score=0.087 total time=   0.2s\n",
            "[CV 4/5] END max_depth=3, max_features=4, n_estimators=100;, score=0.043 total time=   0.2s\n",
            "[CV 5/5] END max_depth=3, max_features=4, n_estimators=100;, score=0.022 total time=   0.2s\n",
            "[CV 1/5] END max_depth=3, max_features=7, n_estimators=3;, score=0.133 total time=   0.0s\n",
            "[CV 2/5] END max_depth=3, max_features=7, n_estimators=3;, score=0.244 total time=   0.0s\n",
            "[CV 3/5] END max_depth=3, max_features=7, n_estimators=3;, score=0.239 total time=   0.0s\n",
            "[CV 4/5] END max_depth=3, max_features=7, n_estimators=3;, score=0.217 total time=   0.0s\n",
            "[CV 5/5] END max_depth=3, max_features=7, n_estimators=3;, score=0.261 total time=   0.0s\n",
            "[CV 1/5] END max_depth=3, max_features=7, n_estimators=5;, score=0.089 total time=   0.0s\n",
            "[CV 2/5] END max_depth=3, max_features=7, n_estimators=5;, score=0.244 total time=   0.0s\n",
            "[CV 3/5] END max_depth=3, max_features=7, n_estimators=5;, score=0.348 total time=   0.0s\n",
            "[CV 4/5] END max_depth=3, max_features=7, n_estimators=5;, score=0.109 total time=   0.0s\n",
            "[CV 5/5] END max_depth=3, max_features=7, n_estimators=5;, score=0.109 total time=   0.0s\n",
            "[CV 1/5] END max_depth=3, max_features=7, n_estimators=10;, score=0.089 total time=   0.0s\n",
            "[CV 2/5] END max_depth=3, max_features=7, n_estimators=10;, score=0.200 total time=   0.0s\n",
            "[CV 3/5] END max_depth=3, max_features=7, n_estimators=10;, score=0.130 total time=   0.0s\n",
            "[CV 4/5] END max_depth=3, max_features=7, n_estimators=10;, score=0.109 total time=   0.0s\n",
            "[CV 5/5] END max_depth=3, max_features=7, n_estimators=10;, score=0.109 total time=   0.0s\n",
            "[CV 1/5] END max_depth=3, max_features=7, n_estimators=25;, score=0.133 total time=   0.1s\n",
            "[CV 2/5] END max_depth=3, max_features=7, n_estimators=25;, score=0.178 total time=   0.0s\n",
            "[CV 3/5] END max_depth=3, max_features=7, n_estimators=25;, score=0.174 total time=   0.0s\n",
            "[CV 4/5] END max_depth=3, max_features=7, n_estimators=25;, score=0.109 total time=   0.0s\n",
            "[CV 5/5] END max_depth=3, max_features=7, n_estimators=25;, score=0.109 total time=   0.0s\n",
            "[CV 1/5] END max_depth=3, max_features=7, n_estimators=50;, score=0.067 total time=   0.1s\n",
            "[CV 2/5] END max_depth=3, max_features=7, n_estimators=50;, score=0.200 total time=   0.1s\n",
            "[CV 3/5] END max_depth=3, max_features=7, n_estimators=50;, score=0.174 total time=   0.1s\n",
            "[CV 4/5] END max_depth=3, max_features=7, n_estimators=50;, score=0.130 total time=   0.1s\n",
            "[CV 5/5] END max_depth=3, max_features=7, n_estimators=50;, score=0.130 total time=   0.1s\n",
            "[CV 1/5] END max_depth=3, max_features=7, n_estimators=75;, score=0.067 total time=   0.1s\n",
            "[CV 2/5] END max_depth=3, max_features=7, n_estimators=75;, score=0.200 total time=   0.1s\n",
            "[CV 3/5] END max_depth=3, max_features=7, n_estimators=75;, score=0.174 total time=   0.1s\n",
            "[CV 4/5] END max_depth=3, max_features=7, n_estimators=75;, score=0.130 total time=   0.1s\n",
            "[CV 5/5] END max_depth=3, max_features=7, n_estimators=75;, score=0.130 total time=   0.1s\n",
            "[CV 1/5] END max_depth=3, max_features=7, n_estimators=100;, score=0.067 total time=   0.2s\n",
            "[CV 2/5] END max_depth=3, max_features=7, n_estimators=100;, score=0.200 total time=   0.2s\n",
            "[CV 3/5] END max_depth=3, max_features=7, n_estimators=100;, score=0.174 total time=   0.2s\n",
            "[CV 4/5] END max_depth=3, max_features=7, n_estimators=100;, score=0.130 total time=   0.2s\n",
            "[CV 5/5] END max_depth=3, max_features=7, n_estimators=100;, score=0.109 total time=   0.2s\n",
            "[CV 1/5] END max_depth=3, max_features=15, n_estimators=3;, score=0.267 total time=   0.0s\n",
            "[CV 2/5] END max_depth=3, max_features=15, n_estimators=3;, score=0.422 total time=   0.0s\n",
            "[CV 3/5] END max_depth=3, max_features=15, n_estimators=3;, score=0.435 total time=   0.0s\n",
            "[CV 4/5] END max_depth=3, max_features=15, n_estimators=3;, score=0.326 total time=   0.0s\n",
            "[CV 5/5] END max_depth=3, max_features=15, n_estimators=3;, score=0.261 total time=   0.0s\n",
            "[CV 1/5] END max_depth=3, max_features=15, n_estimators=5;, score=0.156 total time=   0.0s\n",
            "[CV 2/5] END max_depth=3, max_features=15, n_estimators=5;, score=0.333 total time=   0.0s\n",
            "[CV 3/5] END max_depth=3, max_features=15, n_estimators=5;, score=0.261 total time=   0.0s\n",
            "[CV 4/5] END max_depth=3, max_features=15, n_estimators=5;, score=0.174 total time=   0.0s\n",
            "[CV 5/5] END max_depth=3, max_features=15, n_estimators=5;, score=0.196 total time=   0.0s\n",
            "[CV 1/5] END max_depth=3, max_features=15, n_estimators=10;, score=0.133 total time=   0.0s\n",
            "[CV 2/5] END max_depth=3, max_features=15, n_estimators=10;, score=0.244 total time=   0.0s\n",
            "[CV 3/5] END max_depth=3, max_features=15, n_estimators=10;, score=0.196 total time=   0.0s\n",
            "[CV 4/5] END max_depth=3, max_features=15, n_estimators=10;, score=0.130 total time=   0.0s\n",
            "[CV 5/5] END max_depth=3, max_features=15, n_estimators=10;, score=0.174 total time=   0.0s\n",
            "[CV 1/5] END max_depth=3, max_features=15, n_estimators=25;, score=0.156 total time=   0.1s\n",
            "[CV 2/5] END max_depth=3, max_features=15, n_estimators=25;, score=0.244 total time=   0.1s\n",
            "[CV 3/5] END max_depth=3, max_features=15, n_estimators=25;, score=0.217 total time=   0.0s\n",
            "[CV 4/5] END max_depth=3, max_features=15, n_estimators=25;, score=0.196 total time=   0.0s\n",
            "[CV 5/5] END max_depth=3, max_features=15, n_estimators=25;, score=0.261 total time=   0.1s\n",
            "[CV 1/5] END max_depth=3, max_features=15, n_estimators=50;, score=0.178 total time=   0.1s\n",
            "[CV 2/5] END max_depth=3, max_features=15, n_estimators=50;, score=0.267 total time=   0.1s\n",
            "[CV 3/5] END max_depth=3, max_features=15, n_estimators=50;, score=0.217 total time=   0.1s\n",
            "[CV 4/5] END max_depth=3, max_features=15, n_estimators=50;, score=0.174 total time=   0.1s\n",
            "[CV 5/5] END max_depth=3, max_features=15, n_estimators=50;, score=0.261 total time=   0.1s\n",
            "[CV 1/5] END max_depth=3, max_features=15, n_estimators=75;, score=0.178 total time=   0.1s\n",
            "[CV 2/5] END max_depth=3, max_features=15, n_estimators=75;, score=0.267 total time=   0.1s\n",
            "[CV 3/5] END max_depth=3, max_features=15, n_estimators=75;, score=0.217 total time=   0.1s\n",
            "[CV 4/5] END max_depth=3, max_features=15, n_estimators=75;, score=0.174 total time=   0.1s\n",
            "[CV 5/5] END max_depth=3, max_features=15, n_estimators=75;, score=0.261 total time=   0.1s\n",
            "[CV 1/5] END max_depth=3, max_features=15, n_estimators=100;, score=0.178 total time=   0.2s\n",
            "[CV 2/5] END max_depth=3, max_features=15, n_estimators=100;, score=0.244 total time=   0.2s\n",
            "[CV 3/5] END max_depth=3, max_features=15, n_estimators=100;, score=0.196 total time=   0.2s\n",
            "[CV 4/5] END max_depth=3, max_features=15, n_estimators=100;, score=0.196 total time=   0.2s\n",
            "[CV 5/5] END max_depth=3, max_features=15, n_estimators=100;, score=0.239 total time=   0.2s\n",
            "[CV 1/5] END max_depth=3, max_features=20, n_estimators=3;, score=0.244 total time=   0.0s\n",
            "[CV 2/5] END max_depth=3, max_features=20, n_estimators=3;, score=0.422 total time=   0.0s\n",
            "[CV 3/5] END max_depth=3, max_features=20, n_estimators=3;, score=0.326 total time=   0.0s\n",
            "[CV 4/5] END max_depth=3, max_features=20, n_estimators=3;, score=0.174 total time=   0.0s\n",
            "[CV 5/5] END max_depth=3, max_features=20, n_estimators=3;, score=0.304 total time=   0.0s\n",
            "[CV 1/5] END max_depth=3, max_features=20, n_estimators=5;, score=0.200 total time=   0.0s\n",
            "[CV 2/5] END max_depth=3, max_features=20, n_estimators=5;, score=0.444 total time=   0.0s\n",
            "[CV 3/5] END max_depth=3, max_features=20, n_estimators=5;, score=0.304 total time=   0.0s\n",
            "[CV 4/5] END max_depth=3, max_features=20, n_estimators=5;, score=0.217 total time=   0.0s\n",
            "[CV 5/5] END max_depth=3, max_features=20, n_estimators=5;, score=0.283 total time=   0.0s\n",
            "[CV 1/5] END max_depth=3, max_features=20, n_estimators=10;, score=0.178 total time=   0.0s\n",
            "[CV 2/5] END max_depth=3, max_features=20, n_estimators=10;, score=0.333 total time=   0.0s\n",
            "[CV 3/5] END max_depth=3, max_features=20, n_estimators=10;, score=0.217 total time=   0.0s\n",
            "[CV 4/5] END max_depth=3, max_features=20, n_estimators=10;, score=0.152 total time=   0.0s\n",
            "[CV 5/5] END max_depth=3, max_features=20, n_estimators=10;, score=0.239 total time=   0.0s\n",
            "[CV 1/5] END max_depth=3, max_features=20, n_estimators=25;, score=0.178 total time=   0.0s\n",
            "[CV 2/5] END max_depth=3, max_features=20, n_estimators=25;, score=0.289 total time=   0.0s\n",
            "[CV 3/5] END max_depth=3, max_features=20, n_estimators=25;, score=0.217 total time=   0.1s\n",
            "[CV 4/5] END max_depth=3, max_features=20, n_estimators=25;, score=0.196 total time=   0.1s\n",
            "[CV 5/5] END max_depth=3, max_features=20, n_estimators=25;, score=0.261 total time=   0.1s\n",
            "[CV 1/5] END max_depth=3, max_features=20, n_estimators=50;, score=0.178 total time=   0.1s\n",
            "[CV 2/5] END max_depth=3, max_features=20, n_estimators=50;, score=0.289 total time=   0.1s\n",
            "[CV 3/5] END max_depth=3, max_features=20, n_estimators=50;, score=0.217 total time=   0.1s\n",
            "[CV 4/5] END max_depth=3, max_features=20, n_estimators=50;, score=0.283 total time=   0.1s\n",
            "[CV 5/5] END max_depth=3, max_features=20, n_estimators=50;, score=0.283 total time=   0.1s\n",
            "[CV 1/5] END max_depth=3, max_features=20, n_estimators=75;, score=0.178 total time=   0.1s\n",
            "[CV 2/5] END max_depth=3, max_features=20, n_estimators=75;, score=0.289 total time=   0.1s\n",
            "[CV 3/5] END max_depth=3, max_features=20, n_estimators=75;, score=0.239 total time=   0.1s\n",
            "[CV 4/5] END max_depth=3, max_features=20, n_estimators=75;, score=0.283 total time=   0.1s\n",
            "[CV 5/5] END max_depth=3, max_features=20, n_estimators=75;, score=0.283 total time=   0.1s\n",
            "[CV 1/5] END max_depth=3, max_features=20, n_estimators=100;, score=0.178 total time=   0.2s\n",
            "[CV 2/5] END max_depth=3, max_features=20, n_estimators=100;, score=0.289 total time=   0.3s\n",
            "[CV 3/5] END max_depth=3, max_features=20, n_estimators=100;, score=0.217 total time=   0.5s\n",
            "[CV 4/5] END max_depth=3, max_features=20, n_estimators=100;, score=0.239 total time=   0.2s\n",
            "[CV 5/5] END max_depth=3, max_features=20, n_estimators=100;, score=0.283 total time=   0.2s\n",
            "[CV 1/5] END max_depth=3, max_features=24, n_estimators=3;, score=nan total time=   0.0s\n",
            "[CV 2/5] END max_depth=3, max_features=24, n_estimators=3;, score=nan total time=   0.0s\n",
            "[CV 3/5] END max_depth=3, max_features=24, n_estimators=3;, score=nan total time=   0.0s\n",
            "[CV 4/5] END max_depth=3, max_features=24, n_estimators=3;, score=nan total time=   0.0s\n",
            "[CV 5/5] END max_depth=3, max_features=24, n_estimators=3;, score=nan total time=   0.0s\n",
            "[CV 1/5] END max_depth=3, max_features=24, n_estimators=5;, score=nan total time=   0.0s\n",
            "[CV 2/5] END max_depth=3, max_features=24, n_estimators=5;, score=nan total time=   0.0s\n",
            "[CV 3/5] END max_depth=3, max_features=24, n_estimators=5;, score=nan total time=   0.0s\n",
            "[CV 4/5] END max_depth=3, max_features=24, n_estimators=5;, score=nan total time=   0.0s\n",
            "[CV 5/5] END max_depth=3, max_features=24, n_estimators=5;, score=nan total time=   0.0s\n",
            "[CV 1/5] END max_depth=3, max_features=24, n_estimators=10;, score=nan total time=   0.0s\n",
            "[CV 2/5] END max_depth=3, max_features=24, n_estimators=10;, score=nan total time=   0.0s\n",
            "[CV 3/5] END max_depth=3, max_features=24, n_estimators=10;, score=nan total time=   0.0s\n",
            "[CV 4/5] END max_depth=3, max_features=24, n_estimators=10;, score=nan total time=   0.0s\n",
            "[CV 5/5] END max_depth=3, max_features=24, n_estimators=10;, score=nan total time=   0.0s\n",
            "[CV 1/5] END max_depth=3, max_features=24, n_estimators=25;, score=nan total time=   0.0s\n",
            "[CV 2/5] END max_depth=3, max_features=24, n_estimators=25;, score=nan total time=   0.0s\n",
            "[CV 3/5] END max_depth=3, max_features=24, n_estimators=25;, score=nan total time=   0.0s\n",
            "[CV 4/5] END max_depth=3, max_features=24, n_estimators=25;, score=nan total time=   0.0s\n",
            "[CV 5/5] END max_depth=3, max_features=24, n_estimators=25;, score=nan total time=   0.0s\n",
            "[CV 1/5] END max_depth=3, max_features=24, n_estimators=50;, score=nan total time=   0.0s\n",
            "[CV 2/5] END max_depth=3, max_features=24, n_estimators=50;, score=nan total time=   0.0s\n",
            "[CV 3/5] END max_depth=3, max_features=24, n_estimators=50;, score=nan total time=   0.0s\n",
            "[CV 4/5] END max_depth=3, max_features=24, n_estimators=50;, score=nan total time=   0.0s\n",
            "[CV 5/5] END max_depth=3, max_features=24, n_estimators=50;, score=nan total time=   0.0s\n",
            "[CV 1/5] END max_depth=3, max_features=24, n_estimators=75;, score=nan total time=   0.0s\n",
            "[CV 2/5] END max_depth=3, max_features=24, n_estimators=75;, score=nan total time=   0.0s\n",
            "[CV 3/5] END max_depth=3, max_features=24, n_estimators=75;, score=nan total time=   0.0s\n",
            "[CV 4/5] END max_depth=3, max_features=24, n_estimators=75;, score=nan total time=   0.0s\n",
            "[CV 5/5] END max_depth=3, max_features=24, n_estimators=75;, score=nan total time=   0.0s\n",
            "[CV 1/5] END max_depth=3, max_features=24, n_estimators=100;, score=nan total time=   0.0s\n",
            "[CV 2/5] END max_depth=3, max_features=24, n_estimators=100;, score=nan total time=   0.0s\n",
            "[CV 3/5] END max_depth=3, max_features=24, n_estimators=100;, score=nan total time=   0.0s\n",
            "[CV 4/5] END max_depth=3, max_features=24, n_estimators=100;, score=nan total time=   0.0s\n",
            "[CV 5/5] END max_depth=3, max_features=24, n_estimators=100;, score=nan total time=   0.0s\n",
            "[CV 1/5] END max_depth=5, max_features=4, n_estimators=3;, score=0.156 total time=   0.0s\n",
            "[CV 2/5] END max_depth=5, max_features=4, n_estimators=3;, score=0.333 total time=   0.0s\n",
            "[CV 3/5] END max_depth=5, max_features=4, n_estimators=3;, score=0.326 total time=   0.0s\n",
            "[CV 4/5] END max_depth=5, max_features=4, n_estimators=3;, score=0.261 total time=   0.0s\n",
            "[CV 5/5] END max_depth=5, max_features=4, n_estimators=3;, score=0.196 total time=   0.0s\n",
            "[CV 1/5] END max_depth=5, max_features=4, n_estimators=5;, score=0.200 total time=   0.0s\n",
            "[CV 2/5] END max_depth=5, max_features=4, n_estimators=5;, score=0.289 total time=   0.0s\n",
            "[CV 3/5] END max_depth=5, max_features=4, n_estimators=5;, score=0.152 total time=   0.0s\n",
            "[CV 4/5] END max_depth=5, max_features=4, n_estimators=5;, score=0.196 total time=   0.0s\n",
            "[CV 5/5] END max_depth=5, max_features=4, n_estimators=5;, score=0.239 total time=   0.0s\n",
            "[CV 1/5] END max_depth=5, max_features=4, n_estimators=10;, score=0.200 total time=   0.0s\n",
            "[CV 2/5] END max_depth=5, max_features=4, n_estimators=10;, score=0.267 total time=   0.0s\n",
            "[CV 3/5] END max_depth=5, max_features=4, n_estimators=10;, score=0.217 total time=   0.0s\n",
            "[CV 4/5] END max_depth=5, max_features=4, n_estimators=10;, score=0.239 total time=   0.0s\n",
            "[CV 5/5] END max_depth=5, max_features=4, n_estimators=10;, score=0.261 total time=   0.0s\n",
            "[CV 1/5] END max_depth=5, max_features=4, n_estimators=25;, score=0.133 total time=   0.0s\n",
            "[CV 2/5] END max_depth=5, max_features=4, n_estimators=25;, score=0.267 total time=   0.0s\n",
            "[CV 3/5] END max_depth=5, max_features=4, n_estimators=25;, score=0.239 total time=   0.0s\n",
            "[CV 4/5] END max_depth=5, max_features=4, n_estimators=25;, score=0.261 total time=   0.0s\n",
            "[CV 5/5] END max_depth=5, max_features=4, n_estimators=25;, score=0.283 total time=   0.0s\n",
            "[CV 1/5] END max_depth=5, max_features=4, n_estimators=50;, score=0.156 total time=   0.1s\n",
            "[CV 2/5] END max_depth=5, max_features=4, n_estimators=50;, score=0.244 total time=   0.1s\n",
            "[CV 3/5] END max_depth=5, max_features=4, n_estimators=50;, score=0.196 total time=   0.1s\n",
            "[CV 4/5] END max_depth=5, max_features=4, n_estimators=50;, score=0.239 total time=   0.1s\n",
            "[CV 5/5] END max_depth=5, max_features=4, n_estimators=50;, score=0.174 total time=   0.1s\n",
            "[CV 1/5] END max_depth=5, max_features=4, n_estimators=75;, score=0.156 total time=   0.1s\n",
            "[CV 2/5] END max_depth=5, max_features=4, n_estimators=75;, score=0.222 total time=   0.1s\n",
            "[CV 3/5] END max_depth=5, max_features=4, n_estimators=75;, score=0.196 total time=   0.1s\n",
            "[CV 4/5] END max_depth=5, max_features=4, n_estimators=75;, score=0.217 total time=   0.1s\n",
            "[CV 5/5] END max_depth=5, max_features=4, n_estimators=75;, score=0.239 total time=   0.1s\n",
            "[CV 1/5] END max_depth=5, max_features=4, n_estimators=100;, score=0.133 total time=   0.2s\n",
            "[CV 2/5] END max_depth=5, max_features=4, n_estimators=100;, score=0.222 total time=   0.2s\n",
            "[CV 3/5] END max_depth=5, max_features=4, n_estimators=100;, score=0.217 total time=   0.2s\n",
            "[CV 4/5] END max_depth=5, max_features=4, n_estimators=100;, score=0.174 total time=   0.2s\n",
            "[CV 5/5] END max_depth=5, max_features=4, n_estimators=100;, score=0.217 total time=   0.2s\n",
            "[CV 1/5] END max_depth=5, max_features=7, n_estimators=3;, score=0.267 total time=   0.0s\n",
            "[CV 2/5] END max_depth=5, max_features=7, n_estimators=3;, score=0.422 total time=   0.0s\n",
            "[CV 3/5] END max_depth=5, max_features=7, n_estimators=3;, score=0.478 total time=   0.0s\n",
            "[CV 4/5] END max_depth=5, max_features=7, n_estimators=3;, score=0.304 total time=   0.0s\n",
            "[CV 5/5] END max_depth=5, max_features=7, n_estimators=3;, score=0.326 total time=   0.0s\n",
            "[CV 1/5] END max_depth=5, max_features=7, n_estimators=5;, score=0.156 total time=   0.0s\n",
            "[CV 2/5] END max_depth=5, max_features=7, n_estimators=5;, score=0.311 total time=   0.0s\n",
            "[CV 3/5] END max_depth=5, max_features=7, n_estimators=5;, score=0.348 total time=   0.0s\n",
            "[CV 4/5] END max_depth=5, max_features=7, n_estimators=5;, score=0.261 total time=   0.0s\n",
            "[CV 5/5] END max_depth=5, max_features=7, n_estimators=5;, score=0.283 total time=   0.0s\n",
            "[CV 1/5] END max_depth=5, max_features=7, n_estimators=10;, score=0.156 total time=   0.0s\n",
            "[CV 2/5] END max_depth=5, max_features=7, n_estimators=10;, score=0.244 total time=   0.0s\n",
            "[CV 3/5] END max_depth=5, max_features=7, n_estimators=10;, score=0.239 total time=   0.0s\n",
            "[CV 4/5] END max_depth=5, max_features=7, n_estimators=10;, score=0.174 total time=   0.0s\n",
            "[CV 5/5] END max_depth=5, max_features=7, n_estimators=10;, score=0.239 total time=   0.0s\n",
            "[CV 1/5] END max_depth=5, max_features=7, n_estimators=25;, score=0.156 total time=   0.0s\n",
            "[CV 2/5] END max_depth=5, max_features=7, n_estimators=25;, score=0.267 total time=   0.0s\n",
            "[CV 3/5] END max_depth=5, max_features=7, n_estimators=25;, score=0.239 total time=   0.0s\n",
            "[CV 4/5] END max_depth=5, max_features=7, n_estimators=25;, score=0.217 total time=   0.0s\n",
            "[CV 5/5] END max_depth=5, max_features=7, n_estimators=25;, score=0.304 total time=   0.1s\n",
            "[CV 1/5] END max_depth=5, max_features=7, n_estimators=50;, score=0.178 total time=   0.1s\n",
            "[CV 2/5] END max_depth=5, max_features=7, n_estimators=50;, score=0.289 total time=   0.1s\n",
            "[CV 3/5] END max_depth=5, max_features=7, n_estimators=50;, score=0.239 total time=   0.1s\n",
            "[CV 4/5] END max_depth=5, max_features=7, n_estimators=50;, score=0.239 total time=   0.1s\n",
            "[CV 5/5] END max_depth=5, max_features=7, n_estimators=50;, score=0.283 total time=   0.1s\n",
            "[CV 1/5] END max_depth=5, max_features=7, n_estimators=75;, score=0.178 total time=   0.1s\n",
            "[CV 2/5] END max_depth=5, max_features=7, n_estimators=75;, score=0.267 total time=   0.1s\n",
            "[CV 3/5] END max_depth=5, max_features=7, n_estimators=75;, score=0.239 total time=   0.1s\n",
            "[CV 4/5] END max_depth=5, max_features=7, n_estimators=75;, score=0.261 total time=   0.1s\n",
            "[CV 5/5] END max_depth=5, max_features=7, n_estimators=75;, score=0.283 total time=   0.1s\n",
            "[CV 1/5] END max_depth=5, max_features=7, n_estimators=100;, score=0.178 total time=   0.2s\n",
            "[CV 2/5] END max_depth=5, max_features=7, n_estimators=100;, score=0.289 total time=   0.2s\n",
            "[CV 3/5] END max_depth=5, max_features=7, n_estimators=100;, score=0.239 total time=   0.2s\n",
            "[CV 4/5] END max_depth=5, max_features=7, n_estimators=100;, score=0.239 total time=   0.2s\n",
            "[CV 5/5] END max_depth=5, max_features=7, n_estimators=100;, score=0.283 total time=   0.2s\n",
            "[CV 1/5] END max_depth=5, max_features=15, n_estimators=3;, score=0.378 total time=   0.0s\n",
            "[CV 2/5] END max_depth=5, max_features=15, n_estimators=3;, score=0.489 total time=   0.0s\n",
            "[CV 3/5] END max_depth=5, max_features=15, n_estimators=3;, score=0.457 total time=   0.0s\n",
            "[CV 4/5] END max_depth=5, max_features=15, n_estimators=3;, score=0.435 total time=   0.0s\n",
            "[CV 5/5] END max_depth=5, max_features=15, n_estimators=3;, score=0.500 total time=   0.0s\n",
            "[CV 1/5] END max_depth=5, max_features=15, n_estimators=5;, score=0.267 total time=   0.0s\n",
            "[CV 2/5] END max_depth=5, max_features=15, n_estimators=5;, score=0.467 total time=   0.0s\n",
            "[CV 3/5] END max_depth=5, max_features=15, n_estimators=5;, score=0.370 total time=   0.0s\n",
            "[CV 4/5] END max_depth=5, max_features=15, n_estimators=5;, score=0.370 total time=   0.0s\n",
            "[CV 5/5] END max_depth=5, max_features=15, n_estimators=5;, score=0.457 total time=   0.0s\n",
            "[CV 1/5] END max_depth=5, max_features=15, n_estimators=10;, score=0.200 total time=   0.0s\n",
            "[CV 2/5] END max_depth=5, max_features=15, n_estimators=10;, score=0.400 total time=   0.0s\n",
            "[CV 3/5] END max_depth=5, max_features=15, n_estimators=10;, score=0.304 total time=   0.0s\n",
            "[CV 4/5] END max_depth=5, max_features=15, n_estimators=10;, score=0.261 total time=   0.0s\n",
            "[CV 5/5] END max_depth=5, max_features=15, n_estimators=10;, score=0.457 total time=   0.0s\n",
            "[CV 1/5] END max_depth=5, max_features=15, n_estimators=25;, score=0.200 total time=   0.1s\n",
            "[CV 2/5] END max_depth=5, max_features=15, n_estimators=25;, score=0.356 total time=   0.1s\n",
            "[CV 3/5] END max_depth=5, max_features=15, n_estimators=25;, score=0.304 total time=   0.1s\n",
            "[CV 4/5] END max_depth=5, max_features=15, n_estimators=25;, score=0.261 total time=   0.1s\n",
            "[CV 5/5] END max_depth=5, max_features=15, n_estimators=25;, score=0.435 total time=   0.1s\n",
            "[CV 1/5] END max_depth=5, max_features=15, n_estimators=50;, score=0.267 total time=   0.1s\n",
            "[CV 2/5] END max_depth=5, max_features=15, n_estimators=50;, score=0.378 total time=   0.1s\n",
            "[CV 3/5] END max_depth=5, max_features=15, n_estimators=50;, score=0.283 total time=   0.1s\n",
            "[CV 4/5] END max_depth=5, max_features=15, n_estimators=50;, score=0.326 total time=   0.1s\n",
            "[CV 5/5] END max_depth=5, max_features=15, n_estimators=50;, score=0.391 total time=   0.1s\n",
            "[CV 1/5] END max_depth=5, max_features=15, n_estimators=75;, score=0.289 total time=   0.2s\n",
            "[CV 2/5] END max_depth=5, max_features=15, n_estimators=75;, score=0.378 total time=   0.2s\n",
            "[CV 3/5] END max_depth=5, max_features=15, n_estimators=75;, score=0.304 total time=   0.2s\n",
            "[CV 4/5] END max_depth=5, max_features=15, n_estimators=75;, score=0.348 total time=   0.2s\n",
            "[CV 5/5] END max_depth=5, max_features=15, n_estimators=75;, score=0.413 total time=   0.2s\n",
            "[CV 1/5] END max_depth=5, max_features=15, n_estimators=100;, score=0.289 total time=   0.2s\n",
            "[CV 2/5] END max_depth=5, max_features=15, n_estimators=100;, score=0.400 total time=   0.2s\n",
            "[CV 3/5] END max_depth=5, max_features=15, n_estimators=100;, score=0.283 total time=   0.2s\n",
            "[CV 4/5] END max_depth=5, max_features=15, n_estimators=100;, score=0.304 total time=   0.2s\n",
            "[CV 5/5] END max_depth=5, max_features=15, n_estimators=100;, score=0.391 total time=   0.2s\n",
            "[CV 1/5] END max_depth=5, max_features=20, n_estimators=3;, score=0.333 total time=   0.0s\n",
            "[CV 2/5] END max_depth=5, max_features=20, n_estimators=3;, score=0.422 total time=   0.0s\n",
            "[CV 3/5] END max_depth=5, max_features=20, n_estimators=3;, score=0.413 total time=   0.0s\n",
            "[CV 4/5] END max_depth=5, max_features=20, n_estimators=3;, score=0.457 total time=   0.0s\n",
            "[CV 5/5] END max_depth=5, max_features=20, n_estimators=3;, score=0.348 total time=   0.0s\n",
            "[CV 1/5] END max_depth=5, max_features=20, n_estimators=5;, score=0.289 total time=   0.0s\n",
            "[CV 2/5] END max_depth=5, max_features=20, n_estimators=5;, score=0.467 total time=   0.0s\n",
            "[CV 3/5] END max_depth=5, max_features=20, n_estimators=5;, score=0.413 total time=   0.0s\n",
            "[CV 4/5] END max_depth=5, max_features=20, n_estimators=5;, score=0.370 total time=   0.0s\n",
            "[CV 5/5] END max_depth=5, max_features=20, n_estimators=5;, score=0.391 total time=   0.0s\n",
            "[CV 1/5] END max_depth=5, max_features=20, n_estimators=10;, score=0.267 total time=   0.0s\n",
            "[CV 2/5] END max_depth=5, max_features=20, n_estimators=10;, score=0.444 total time=   0.0s\n",
            "[CV 3/5] END max_depth=5, max_features=20, n_estimators=10;, score=0.326 total time=   0.0s\n",
            "[CV 4/5] END max_depth=5, max_features=20, n_estimators=10;, score=0.348 total time=   0.0s\n",
            "[CV 5/5] END max_depth=5, max_features=20, n_estimators=10;, score=0.457 total time=   0.0s\n",
            "[CV 1/5] END max_depth=5, max_features=20, n_estimators=25;, score=0.267 total time=   0.1s\n",
            "[CV 2/5] END max_depth=5, max_features=20, n_estimators=25;, score=0.356 total time=   0.1s\n",
            "[CV 3/5] END max_depth=5, max_features=20, n_estimators=25;, score=0.326 total time=   0.1s\n",
            "[CV 4/5] END max_depth=5, max_features=20, n_estimators=25;, score=0.370 total time=   0.1s\n",
            "[CV 5/5] END max_depth=5, max_features=20, n_estimators=25;, score=0.457 total time=   0.1s\n",
            "[CV 1/5] END max_depth=5, max_features=20, n_estimators=50;, score=0.289 total time=   0.1s\n",
            "[CV 2/5] END max_depth=5, max_features=20, n_estimators=50;, score=0.400 total time=   0.1s\n",
            "[CV 3/5] END max_depth=5, max_features=20, n_estimators=50;, score=0.326 total time=   0.1s\n",
            "[CV 4/5] END max_depth=5, max_features=20, n_estimators=50;, score=0.391 total time=   0.1s\n",
            "[CV 5/5] END max_depth=5, max_features=20, n_estimators=50;, score=0.457 total time=   0.1s\n",
            "[CV 1/5] END max_depth=5, max_features=20, n_estimators=75;, score=0.333 total time=   0.2s\n",
            "[CV 2/5] END max_depth=5, max_features=20, n_estimators=75;, score=0.400 total time=   0.2s\n",
            "[CV 3/5] END max_depth=5, max_features=20, n_estimators=75;, score=0.326 total time=   0.2s\n",
            "[CV 4/5] END max_depth=5, max_features=20, n_estimators=75;, score=0.370 total time=   0.2s\n",
            "[CV 5/5] END max_depth=5, max_features=20, n_estimators=75;, score=0.457 total time=   0.2s\n",
            "[CV 1/5] END max_depth=5, max_features=20, n_estimators=100;, score=0.311 total time=   0.2s\n",
            "[CV 2/5] END max_depth=5, max_features=20, n_estimators=100;, score=0.400 total time=   0.2s\n",
            "[CV 3/5] END max_depth=5, max_features=20, n_estimators=100;, score=0.326 total time=   0.2s\n",
            "[CV 4/5] END max_depth=5, max_features=20, n_estimators=100;, score=0.391 total time=   0.2s\n",
            "[CV 5/5] END max_depth=5, max_features=20, n_estimators=100;, score=0.413 total time=   0.2s\n",
            "[CV 1/5] END max_depth=5, max_features=24, n_estimators=3;, score=nan total time=   0.0s\n",
            "[CV 2/5] END max_depth=5, max_features=24, n_estimators=3;, score=nan total time=   0.0s\n",
            "[CV 3/5] END max_depth=5, max_features=24, n_estimators=3;, score=nan total time=   0.0s\n",
            "[CV 4/5] END max_depth=5, max_features=24, n_estimators=3;, score=nan total time=   0.0s\n",
            "[CV 5/5] END max_depth=5, max_features=24, n_estimators=3;, score=nan total time=   0.0s\n",
            "[CV 1/5] END max_depth=5, max_features=24, n_estimators=5;, score=nan total time=   0.0s\n",
            "[CV 2/5] END max_depth=5, max_features=24, n_estimators=5;, score=nan total time=   0.0s\n",
            "[CV 3/5] END max_depth=5, max_features=24, n_estimators=5;, score=nan total time=   0.0s\n",
            "[CV 4/5] END max_depth=5, max_features=24, n_estimators=5;, score=nan total time=   0.0s\n",
            "[CV 5/5] END max_depth=5, max_features=24, n_estimators=5;, score=nan total time=   0.0s\n",
            "[CV 1/5] END max_depth=5, max_features=24, n_estimators=10;, score=nan total time=   0.0s\n",
            "[CV 2/5] END max_depth=5, max_features=24, n_estimators=10;, score=nan total time=   0.0s\n",
            "[CV 3/5] END max_depth=5, max_features=24, n_estimators=10;, score=nan total time=   0.0s\n",
            "[CV 4/5] END max_depth=5, max_features=24, n_estimators=10;, score=nan total time=   0.0s\n",
            "[CV 5/5] END max_depth=5, max_features=24, n_estimators=10;, score=nan total time=   0.0s\n",
            "[CV 1/5] END max_depth=5, max_features=24, n_estimators=25;, score=nan total time=   0.0s\n",
            "[CV 2/5] END max_depth=5, max_features=24, n_estimators=25;, score=nan total time=   0.0s\n",
            "[CV 3/5] END max_depth=5, max_features=24, n_estimators=25;, score=nan total time=   0.0s\n",
            "[CV 4/5] END max_depth=5, max_features=24, n_estimators=25;, score=nan total time=   0.0s\n",
            "[CV 5/5] END max_depth=5, max_features=24, n_estimators=25;, score=nan total time=   0.0s\n",
            "[CV 1/5] END max_depth=5, max_features=24, n_estimators=50;, score=nan total time=   0.0s\n",
            "[CV 2/5] END max_depth=5, max_features=24, n_estimators=50;, score=nan total time=   0.0s\n",
            "[CV 3/5] END max_depth=5, max_features=24, n_estimators=50;, score=nan total time=   0.0s\n",
            "[CV 4/5] END max_depth=5, max_features=24, n_estimators=50;, score=nan total time=   0.0s\n",
            "[CV 5/5] END max_depth=5, max_features=24, n_estimators=50;, score=nan total time=   0.0s\n",
            "[CV 1/5] END max_depth=5, max_features=24, n_estimators=75;, score=nan total time=   0.0s\n",
            "[CV 2/5] END max_depth=5, max_features=24, n_estimators=75;, score=nan total time=   0.0s\n",
            "[CV 3/5] END max_depth=5, max_features=24, n_estimators=75;, score=nan total time=   0.0s\n",
            "[CV 4/5] END max_depth=5, max_features=24, n_estimators=75;, score=nan total time=   0.0s\n",
            "[CV 5/5] END max_depth=5, max_features=24, n_estimators=75;, score=nan total time=   0.0s\n",
            "[CV 1/5] END max_depth=5, max_features=24, n_estimators=100;, score=nan total time=   0.0s\n",
            "[CV 2/5] END max_depth=5, max_features=24, n_estimators=100;, score=nan total time=   0.0s\n",
            "[CV 3/5] END max_depth=5, max_features=24, n_estimators=100;, score=nan total time=   0.0s\n",
            "[CV 4/5] END max_depth=5, max_features=24, n_estimators=100;, score=nan total time=   0.0s\n",
            "[CV 5/5] END max_depth=5, max_features=24, n_estimators=100;, score=nan total time=   0.0s\n",
            "[CV 1/5] END max_depth=7, max_features=4, n_estimators=3;, score=0.222 total time=   0.0s\n",
            "[CV 2/5] END max_depth=7, max_features=4, n_estimators=3;, score=0.311 total time=   0.0s\n",
            "[CV 3/5] END max_depth=7, max_features=4, n_estimators=3;, score=0.283 total time=   0.0s\n",
            "[CV 4/5] END max_depth=7, max_features=4, n_estimators=3;, score=0.283 total time=   0.0s\n",
            "[CV 5/5] END max_depth=7, max_features=4, n_estimators=3;, score=0.304 total time=   0.0s\n",
            "[CV 1/5] END max_depth=7, max_features=4, n_estimators=5;, score=0.222 total time=   0.0s\n",
            "[CV 2/5] END max_depth=7, max_features=4, n_estimators=5;, score=0.333 total time=   0.0s\n",
            "[CV 3/5] END max_depth=7, max_features=4, n_estimators=5;, score=0.174 total time=   0.0s\n",
            "[CV 4/5] END max_depth=7, max_features=4, n_estimators=5;, score=0.283 total time=   0.0s\n",
            "[CV 5/5] END max_depth=7, max_features=4, n_estimators=5;, score=0.326 total time=   0.0s\n",
            "[CV 1/5] END max_depth=7, max_features=4, n_estimators=10;, score=0.222 total time=   0.0s\n",
            "[CV 2/5] END max_depth=7, max_features=4, n_estimators=10;, score=0.311 total time=   0.0s\n",
            "[CV 3/5] END max_depth=7, max_features=4, n_estimators=10;, score=0.239 total time=   0.0s\n",
            "[CV 4/5] END max_depth=7, max_features=4, n_estimators=10;, score=0.283 total time=   0.0s\n",
            "[CV 5/5] END max_depth=7, max_features=4, n_estimators=10;, score=0.217 total time=   0.0s\n",
            "[CV 1/5] END max_depth=7, max_features=4, n_estimators=25;, score=0.156 total time=   0.1s\n",
            "[CV 2/5] END max_depth=7, max_features=4, n_estimators=25;, score=0.333 total time=   0.0s\n",
            "[CV 3/5] END max_depth=7, max_features=4, n_estimators=25;, score=0.261 total time=   0.0s\n",
            "[CV 4/5] END max_depth=7, max_features=4, n_estimators=25;, score=0.283 total time=   0.0s\n",
            "[CV 5/5] END max_depth=7, max_features=4, n_estimators=25;, score=0.283 total time=   0.0s\n",
            "[CV 1/5] END max_depth=7, max_features=4, n_estimators=50;, score=0.200 total time=   0.1s\n",
            "[CV 2/5] END max_depth=7, max_features=4, n_estimators=50;, score=0.333 total time=   0.1s\n",
            "[CV 3/5] END max_depth=7, max_features=4, n_estimators=50;, score=0.261 total time=   0.1s\n",
            "[CV 4/5] END max_depth=7, max_features=4, n_estimators=50;, score=0.326 total time=   0.1s\n",
            "[CV 5/5] END max_depth=7, max_features=4, n_estimators=50;, score=0.239 total time=   0.1s\n",
            "[CV 1/5] END max_depth=7, max_features=4, n_estimators=75;, score=0.222 total time=   0.1s\n",
            "[CV 2/5] END max_depth=7, max_features=4, n_estimators=75;, score=0.333 total time=   0.2s\n",
            "[CV 3/5] END max_depth=7, max_features=4, n_estimators=75;, score=0.261 total time=   0.1s\n",
            "[CV 4/5] END max_depth=7, max_features=4, n_estimators=75;, score=0.348 total time=   0.1s\n",
            "[CV 5/5] END max_depth=7, max_features=4, n_estimators=75;, score=0.261 total time=   0.1s\n",
            "[CV 1/5] END max_depth=7, max_features=4, n_estimators=100;, score=0.244 total time=   0.2s\n",
            "[CV 2/5] END max_depth=7, max_features=4, n_estimators=100;, score=0.311 total time=   0.2s\n",
            "[CV 3/5] END max_depth=7, max_features=4, n_estimators=100;, score=0.283 total time=   0.2s\n",
            "[CV 4/5] END max_depth=7, max_features=4, n_estimators=100;, score=0.348 total time=   0.2s\n",
            "[CV 5/5] END max_depth=7, max_features=4, n_estimators=100;, score=0.261 total time=   0.2s\n",
            "[CV 1/5] END max_depth=7, max_features=7, n_estimators=3;, score=0.311 total time=   0.0s\n",
            "[CV 2/5] END max_depth=7, max_features=7, n_estimators=3;, score=0.467 total time=   0.0s\n",
            "[CV 3/5] END max_depth=7, max_features=7, n_estimators=3;, score=0.283 total time=   0.0s\n",
            "[CV 4/5] END max_depth=7, max_features=7, n_estimators=3;, score=0.326 total time=   0.0s\n",
            "[CV 5/5] END max_depth=7, max_features=7, n_estimators=3;, score=0.413 total time=   0.0s\n",
            "[CV 1/5] END max_depth=7, max_features=7, n_estimators=5;, score=0.222 total time=   0.0s\n",
            "[CV 2/5] END max_depth=7, max_features=7, n_estimators=5;, score=0.378 total time=   0.0s\n",
            "[CV 3/5] END max_depth=7, max_features=7, n_estimators=5;, score=0.391 total time=   0.0s\n",
            "[CV 4/5] END max_depth=7, max_features=7, n_estimators=5;, score=0.217 total time=   0.0s\n",
            "[CV 5/5] END max_depth=7, max_features=7, n_estimators=5;, score=0.413 total time=   0.0s\n",
            "[CV 1/5] END max_depth=7, max_features=7, n_estimators=10;, score=0.289 total time=   0.0s\n",
            "[CV 2/5] END max_depth=7, max_features=7, n_estimators=10;, score=0.356 total time=   0.0s\n",
            "[CV 3/5] END max_depth=7, max_features=7, n_estimators=10;, score=0.326 total time=   0.0s\n",
            "[CV 4/5] END max_depth=7, max_features=7, n_estimators=10;, score=0.326 total time=   0.0s\n",
            "[CV 5/5] END max_depth=7, max_features=7, n_estimators=10;, score=0.391 total time=   0.0s\n",
            "[CV 1/5] END max_depth=7, max_features=7, n_estimators=25;, score=0.222 total time=   0.1s\n",
            "[CV 2/5] END max_depth=7, max_features=7, n_estimators=25;, score=0.400 total time=   0.0s\n",
            "[CV 3/5] END max_depth=7, max_features=7, n_estimators=25;, score=0.326 total time=   0.0s\n",
            "[CV 4/5] END max_depth=7, max_features=7, n_estimators=25;, score=0.283 total time=   0.1s\n",
            "[CV 5/5] END max_depth=7, max_features=7, n_estimators=25;, score=0.348 total time=   0.0s\n",
            "[CV 1/5] END max_depth=7, max_features=7, n_estimators=50;, score=0.267 total time=   0.1s\n",
            "[CV 2/5] END max_depth=7, max_features=7, n_estimators=50;, score=0.400 total time=   0.1s\n",
            "[CV 3/5] END max_depth=7, max_features=7, n_estimators=50;, score=0.326 total time=   0.1s\n",
            "[CV 4/5] END max_depth=7, max_features=7, n_estimators=50;, score=0.370 total time=   0.1s\n",
            "[CV 5/5] END max_depth=7, max_features=7, n_estimators=50;, score=0.348 total time=   0.1s\n",
            "[CV 1/5] END max_depth=7, max_features=7, n_estimators=75;, score=0.289 total time=   0.2s\n",
            "[CV 2/5] END max_depth=7, max_features=7, n_estimators=75;, score=0.378 total time=   0.1s\n",
            "[CV 3/5] END max_depth=7, max_features=7, n_estimators=75;, score=0.304 total time=   0.1s\n",
            "[CV 4/5] END max_depth=7, max_features=7, n_estimators=75;, score=0.370 total time=   0.1s\n",
            "[CV 5/5] END max_depth=7, max_features=7, n_estimators=75;, score=0.370 total time=   0.1s\n",
            "[CV 1/5] END max_depth=7, max_features=7, n_estimators=100;, score=0.267 total time=   0.2s\n",
            "[CV 2/5] END max_depth=7, max_features=7, n_estimators=100;, score=0.378 total time=   0.2s\n",
            "[CV 3/5] END max_depth=7, max_features=7, n_estimators=100;, score=0.304 total time=   0.2s\n",
            "[CV 4/5] END max_depth=7, max_features=7, n_estimators=100;, score=0.370 total time=   0.2s\n",
            "[CV 5/5] END max_depth=7, max_features=7, n_estimators=100;, score=0.370 total time=   0.2s\n",
            "[CV 1/5] END max_depth=7, max_features=15, n_estimators=3;, score=0.489 total time=   0.0s\n",
            "[CV 2/5] END max_depth=7, max_features=15, n_estimators=3;, score=0.489 total time=   0.0s\n",
            "[CV 3/5] END max_depth=7, max_features=15, n_estimators=3;, score=0.391 total time=   0.0s\n",
            "[CV 4/5] END max_depth=7, max_features=15, n_estimators=3;, score=0.457 total time=   0.0s\n",
            "[CV 5/5] END max_depth=7, max_features=15, n_estimators=3;, score=0.435 total time=   0.0s\n",
            "[CV 1/5] END max_depth=7, max_features=15, n_estimators=5;, score=0.333 total time=   0.0s\n",
            "[CV 2/5] END max_depth=7, max_features=15, n_estimators=5;, score=0.489 total time=   0.0s\n",
            "[CV 3/5] END max_depth=7, max_features=15, n_estimators=5;, score=0.391 total time=   0.0s\n",
            "[CV 4/5] END max_depth=7, max_features=15, n_estimators=5;, score=0.500 total time=   0.0s\n",
            "[CV 5/5] END max_depth=7, max_features=15, n_estimators=5;, score=0.457 total time=   0.0s\n",
            "[CV 1/5] END max_depth=7, max_features=15, n_estimators=10;, score=0.333 total time=   0.0s\n",
            "[CV 2/5] END max_depth=7, max_features=15, n_estimators=10;, score=0.400 total time=   0.0s\n",
            "[CV 3/5] END max_depth=7, max_features=15, n_estimators=10;, score=0.413 total time=   0.0s\n",
            "[CV 4/5] END max_depth=7, max_features=15, n_estimators=10;, score=0.391 total time=   0.0s\n",
            "[CV 5/5] END max_depth=7, max_features=15, n_estimators=10;, score=0.435 total time=   0.0s\n",
            "[CV 1/5] END max_depth=7, max_features=15, n_estimators=25;, score=0.311 total time=   0.1s\n",
            "[CV 2/5] END max_depth=7, max_features=15, n_estimators=25;, score=0.400 total time=   0.1s\n",
            "[CV 3/5] END max_depth=7, max_features=15, n_estimators=25;, score=0.457 total time=   0.1s\n",
            "[CV 4/5] END max_depth=7, max_features=15, n_estimators=25;, score=0.348 total time=   0.1s\n",
            "[CV 5/5] END max_depth=7, max_features=15, n_estimators=25;, score=0.587 total time=   0.1s\n",
            "[CV 1/5] END max_depth=7, max_features=15, n_estimators=50;, score=0.333 total time=   0.1s\n",
            "[CV 2/5] END max_depth=7, max_features=15, n_estimators=50;, score=0.422 total time=   0.1s\n",
            "[CV 3/5] END max_depth=7, max_features=15, n_estimators=50;, score=0.435 total time=   0.1s\n",
            "[CV 4/5] END max_depth=7, max_features=15, n_estimators=50;, score=0.370 total time=   0.1s\n",
            "[CV 5/5] END max_depth=7, max_features=15, n_estimators=50;, score=0.522 total time=   0.1s\n",
            "[CV 1/5] END max_depth=7, max_features=15, n_estimators=75;, score=0.333 total time=   0.2s\n",
            "[CV 2/5] END max_depth=7, max_features=15, n_estimators=75;, score=0.444 total time=   0.2s\n",
            "[CV 3/5] END max_depth=7, max_features=15, n_estimators=75;, score=0.435 total time=   0.2s\n",
            "[CV 4/5] END max_depth=7, max_features=15, n_estimators=75;, score=0.370 total time=   0.2s\n",
            "[CV 5/5] END max_depth=7, max_features=15, n_estimators=75;, score=0.500 total time=   0.2s\n",
            "[CV 1/5] END max_depth=7, max_features=15, n_estimators=100;, score=0.333 total time=   0.2s\n",
            "[CV 2/5] END max_depth=7, max_features=15, n_estimators=100;, score=0.422 total time=   0.2s\n",
            "[CV 3/5] END max_depth=7, max_features=15, n_estimators=100;, score=0.435 total time=   0.2s\n",
            "[CV 4/5] END max_depth=7, max_features=15, n_estimators=100;, score=0.370 total time=   0.2s\n",
            "[CV 5/5] END max_depth=7, max_features=15, n_estimators=100;, score=0.500 total time=   0.2s\n",
            "[CV 1/5] END max_depth=7, max_features=20, n_estimators=3;, score=0.356 total time=   0.0s\n",
            "[CV 2/5] END max_depth=7, max_features=20, n_estimators=3;, score=0.467 total time=   0.0s\n",
            "[CV 3/5] END max_depth=7, max_features=20, n_estimators=3;, score=0.630 total time=   0.0s\n",
            "[CV 4/5] END max_depth=7, max_features=20, n_estimators=3;, score=0.457 total time=   0.0s\n",
            "[CV 5/5] END max_depth=7, max_features=20, n_estimators=3;, score=0.391 total time=   0.0s\n",
            "[CV 1/5] END max_depth=7, max_features=20, n_estimators=5;, score=0.356 total time=   0.0s\n",
            "[CV 2/5] END max_depth=7, max_features=20, n_estimators=5;, score=0.511 total time=   0.0s\n",
            "[CV 3/5] END max_depth=7, max_features=20, n_estimators=5;, score=0.500 total time=   0.0s\n",
            "[CV 4/5] END max_depth=7, max_features=20, n_estimators=5;, score=0.391 total time=   0.0s\n",
            "[CV 5/5] END max_depth=7, max_features=20, n_estimators=5;, score=0.478 total time=   0.0s\n",
            "[CV 1/5] END max_depth=7, max_features=20, n_estimators=10;, score=0.311 total time=   0.0s\n",
            "[CV 2/5] END max_depth=7, max_features=20, n_estimators=10;, score=0.444 total time=   0.0s\n",
            "[CV 3/5] END max_depth=7, max_features=20, n_estimators=10;, score=0.478 total time=   0.0s\n",
            "[CV 4/5] END max_depth=7, max_features=20, n_estimators=10;, score=0.370 total time=   0.0s\n",
            "[CV 5/5] END max_depth=7, max_features=20, n_estimators=10;, score=0.522 total time=   0.0s\n",
            "[CV 1/5] END max_depth=7, max_features=20, n_estimators=25;, score=0.333 total time=   0.1s\n",
            "[CV 2/5] END max_depth=7, max_features=20, n_estimators=25;, score=0.400 total time=   0.1s\n",
            "[CV 3/5] END max_depth=7, max_features=20, n_estimators=25;, score=0.457 total time=   0.1s\n",
            "[CV 4/5] END max_depth=7, max_features=20, n_estimators=25;, score=0.370 total time=   0.1s\n",
            "[CV 5/5] END max_depth=7, max_features=20, n_estimators=25;, score=0.522 total time=   0.1s\n",
            "[CV 1/5] END max_depth=7, max_features=20, n_estimators=50;, score=0.378 total time=   0.1s\n",
            "[CV 2/5] END max_depth=7, max_features=20, n_estimators=50;, score=0.467 total time=   0.1s\n",
            "[CV 3/5] END max_depth=7, max_features=20, n_estimators=50;, score=0.435 total time=   0.1s\n",
            "[CV 4/5] END max_depth=7, max_features=20, n_estimators=50;, score=0.391 total time=   0.1s\n",
            "[CV 5/5] END max_depth=7, max_features=20, n_estimators=50;, score=0.500 total time=   0.1s\n",
            "[CV 1/5] END max_depth=7, max_features=20, n_estimators=75;, score=0.356 total time=   0.2s\n",
            "[CV 2/5] END max_depth=7, max_features=20, n_estimators=75;, score=0.444 total time=   0.2s\n",
            "[CV 3/5] END max_depth=7, max_features=20, n_estimators=75;, score=0.457 total time=   0.2s\n",
            "[CV 4/5] END max_depth=7, max_features=20, n_estimators=75;, score=0.391 total time=   0.2s\n",
            "[CV 5/5] END max_depth=7, max_features=20, n_estimators=75;, score=0.522 total time=   0.2s\n",
            "[CV 1/5] END max_depth=7, max_features=20, n_estimators=100;, score=0.378 total time=   0.2s\n",
            "[CV 2/5] END max_depth=7, max_features=20, n_estimators=100;, score=0.467 total time=   0.2s\n",
            "[CV 3/5] END max_depth=7, max_features=20, n_estimators=100;, score=0.478 total time=   0.2s\n",
            "[CV 4/5] END max_depth=7, max_features=20, n_estimators=100;, score=0.370 total time=   0.3s\n",
            "[CV 5/5] END max_depth=7, max_features=20, n_estimators=100;, score=0.500 total time=   0.2s\n",
            "[CV 1/5] END max_depth=7, max_features=24, n_estimators=3;, score=nan total time=   0.0s\n",
            "[CV 2/5] END max_depth=7, max_features=24, n_estimators=3;, score=nan total time=   0.0s\n",
            "[CV 3/5] END max_depth=7, max_features=24, n_estimators=3;, score=nan total time=   0.0s\n",
            "[CV 4/5] END max_depth=7, max_features=24, n_estimators=3;, score=nan total time=   0.0s\n",
            "[CV 5/5] END max_depth=7, max_features=24, n_estimators=3;, score=nan total time=   0.0s\n",
            "[CV 1/5] END max_depth=7, max_features=24, n_estimators=5;, score=nan total time=   0.0s\n",
            "[CV 2/5] END max_depth=7, max_features=24, n_estimators=5;, score=nan total time=   0.0s\n",
            "[CV 3/5] END max_depth=7, max_features=24, n_estimators=5;, score=nan total time=   0.0s\n",
            "[CV 4/5] END max_depth=7, max_features=24, n_estimators=5;, score=nan total time=   0.0s\n",
            "[CV 5/5] END max_depth=7, max_features=24, n_estimators=5;, score=nan total time=   0.0s\n",
            "[CV 1/5] END max_depth=7, max_features=24, n_estimators=10;, score=nan total time=   0.0s\n",
            "[CV 2/5] END max_depth=7, max_features=24, n_estimators=10;, score=nan total time=   0.0s\n",
            "[CV 3/5] END max_depth=7, max_features=24, n_estimators=10;, score=nan total time=   0.0s\n",
            "[CV 4/5] END max_depth=7, max_features=24, n_estimators=10;, score=nan total time=   0.0s\n",
            "[CV 5/5] END max_depth=7, max_features=24, n_estimators=10;, score=nan total time=   0.0s\n",
            "[CV 1/5] END max_depth=7, max_features=24, n_estimators=25;, score=nan total time=   0.0s\n",
            "[CV 2/5] END max_depth=7, max_features=24, n_estimators=25;, score=nan total time=   0.0s\n",
            "[CV 3/5] END max_depth=7, max_features=24, n_estimators=25;, score=nan total time=   0.0s\n",
            "[CV 4/5] END max_depth=7, max_features=24, n_estimators=25;, score=nan total time=   0.0s\n",
            "[CV 5/5] END max_depth=7, max_features=24, n_estimators=25;, score=nan total time=   0.0s\n",
            "[CV 1/5] END max_depth=7, max_features=24, n_estimators=50;, score=nan total time=   0.0s\n",
            "[CV 2/5] END max_depth=7, max_features=24, n_estimators=50;, score=nan total time=   0.0s\n",
            "[CV 3/5] END max_depth=7, max_features=24, n_estimators=50;, score=nan total time=   0.0s\n",
            "[CV 4/5] END max_depth=7, max_features=24, n_estimators=50;, score=nan total time=   0.0s\n",
            "[CV 5/5] END max_depth=7, max_features=24, n_estimators=50;, score=nan total time=   0.0s\n",
            "[CV 1/5] END max_depth=7, max_features=24, n_estimators=75;, score=nan total time=   0.0s\n",
            "[CV 2/5] END max_depth=7, max_features=24, n_estimators=75;, score=nan total time=   0.0s\n",
            "[CV 3/5] END max_depth=7, max_features=24, n_estimators=75;, score=nan total time=   0.0s\n",
            "[CV 4/5] END max_depth=7, max_features=24, n_estimators=75;, score=nan total time=   0.0s\n",
            "[CV 5/5] END max_depth=7, max_features=24, n_estimators=75;, score=nan total time=   0.0s\n",
            "[CV 1/5] END max_depth=7, max_features=24, n_estimators=100;, score=nan total time=   0.0s\n",
            "[CV 2/5] END max_depth=7, max_features=24, n_estimators=100;, score=nan total time=   0.0s\n",
            "[CV 3/5] END max_depth=7, max_features=24, n_estimators=100;, score=nan total time=   0.0s\n",
            "[CV 4/5] END max_depth=7, max_features=24, n_estimators=100;, score=nan total time=   0.0s\n",
            "[CV 5/5] END max_depth=7, max_features=24, n_estimators=100;, score=nan total time=   0.0s\n",
            "[CV 1/5] END max_depth=10, max_features=4, n_estimators=3;, score=0.356 total time=   0.0s\n",
            "[CV 2/5] END max_depth=10, max_features=4, n_estimators=3;, score=0.378 total time=   0.0s\n",
            "[CV 3/5] END max_depth=10, max_features=4, n_estimators=3;, score=0.348 total time=   0.0s\n",
            "[CV 4/5] END max_depth=10, max_features=4, n_estimators=3;, score=0.326 total time=   0.0s\n",
            "[CV 5/5] END max_depth=10, max_features=4, n_estimators=3;, score=0.478 total time=   0.0s\n",
            "[CV 1/5] END max_depth=10, max_features=4, n_estimators=5;, score=0.356 total time=   0.0s\n",
            "[CV 2/5] END max_depth=10, max_features=4, n_estimators=5;, score=0.356 total time=   0.0s\n",
            "[CV 3/5] END max_depth=10, max_features=4, n_estimators=5;, score=0.413 total time=   0.0s\n",
            "[CV 4/5] END max_depth=10, max_features=4, n_estimators=5;, score=0.348 total time=   0.0s\n",
            "[CV 5/5] END max_depth=10, max_features=4, n_estimators=5;, score=0.326 total time=   0.0s\n",
            "[CV 1/5] END max_depth=10, max_features=4, n_estimators=10;, score=0.311 total time=   0.0s\n",
            "[CV 2/5] END max_depth=10, max_features=4, n_estimators=10;, score=0.311 total time=   0.0s\n",
            "[CV 3/5] END max_depth=10, max_features=4, n_estimators=10;, score=0.435 total time=   0.0s\n",
            "[CV 4/5] END max_depth=10, max_features=4, n_estimators=10;, score=0.326 total time=   0.0s\n",
            "[CV 5/5] END max_depth=10, max_features=4, n_estimators=10;, score=0.261 total time=   0.0s\n",
            "[CV 1/5] END max_depth=10, max_features=4, n_estimators=25;, score=0.311 total time=   0.1s\n",
            "[CV 2/5] END max_depth=10, max_features=4, n_estimators=25;, score=0.333 total time=   0.1s\n",
            "[CV 3/5] END max_depth=10, max_features=4, n_estimators=25;, score=0.348 total time=   0.0s\n",
            "[CV 4/5] END max_depth=10, max_features=4, n_estimators=25;, score=0.326 total time=   0.1s\n",
            "[CV 5/5] END max_depth=10, max_features=4, n_estimators=25;, score=0.304 total time=   0.1s\n",
            "[CV 1/5] END max_depth=10, max_features=4, n_estimators=50;, score=0.311 total time=   0.1s\n",
            "[CV 2/5] END max_depth=10, max_features=4, n_estimators=50;, score=0.378 total time=   0.1s\n",
            "[CV 3/5] END max_depth=10, max_features=4, n_estimators=50;, score=0.348 total time=   0.1s\n",
            "[CV 4/5] END max_depth=10, max_features=4, n_estimators=50;, score=0.326 total time=   0.1s\n",
            "[CV 5/5] END max_depth=10, max_features=4, n_estimators=50;, score=0.391 total time=   0.1s\n",
            "[CV 1/5] END max_depth=10, max_features=4, n_estimators=75;, score=0.311 total time=   0.1s\n",
            "[CV 2/5] END max_depth=10, max_features=4, n_estimators=75;, score=0.333 total time=   0.2s\n",
            "[CV 3/5] END max_depth=10, max_features=4, n_estimators=75;, score=0.304 total time=   0.2s\n",
            "[CV 4/5] END max_depth=10, max_features=4, n_estimators=75;, score=0.348 total time=   0.2s\n",
            "[CV 5/5] END max_depth=10, max_features=4, n_estimators=75;, score=0.391 total time=   0.1s\n",
            "[CV 1/5] END max_depth=10, max_features=4, n_estimators=100;, score=0.267 total time=   0.2s\n",
            "[CV 2/5] END max_depth=10, max_features=4, n_estimators=100;, score=0.356 total time=   0.2s\n",
            "[CV 3/5] END max_depth=10, max_features=4, n_estimators=100;, score=0.283 total time=   0.2s\n",
            "[CV 4/5] END max_depth=10, max_features=4, n_estimators=100;, score=0.326 total time=   0.2s\n",
            "[CV 5/5] END max_depth=10, max_features=4, n_estimators=100;, score=0.348 total time=   0.2s\n",
            "[CV 1/5] END max_depth=10, max_features=7, n_estimators=3;, score=0.333 total time=   0.0s\n",
            "[CV 2/5] END max_depth=10, max_features=7, n_estimators=3;, score=0.400 total time=   0.0s\n",
            "[CV 3/5] END max_depth=10, max_features=7, n_estimators=3;, score=0.435 total time=   0.0s\n",
            "[CV 4/5] END max_depth=10, max_features=7, n_estimators=3;, score=0.478 total time=   0.0s\n",
            "[CV 5/5] END max_depth=10, max_features=7, n_estimators=3;, score=0.304 total time=   0.0s\n",
            "[CV 1/5] END max_depth=10, max_features=7, n_estimators=5;, score=0.289 total time=   0.0s\n",
            "[CV 2/5] END max_depth=10, max_features=7, n_estimators=5;, score=0.333 total time=   0.0s\n",
            "[CV 3/5] END max_depth=10, max_features=7, n_estimators=5;, score=0.435 total time=   0.0s\n",
            "[CV 4/5] END max_depth=10, max_features=7, n_estimators=5;, score=0.413 total time=   0.0s\n",
            "[CV 5/5] END max_depth=10, max_features=7, n_estimators=5;, score=0.261 total time=   0.0s\n",
            "[CV 1/5] END max_depth=10, max_features=7, n_estimators=10;, score=0.289 total time=   0.0s\n",
            "[CV 2/5] END max_depth=10, max_features=7, n_estimators=10;, score=0.311 total time=   0.0s\n",
            "[CV 3/5] END max_depth=10, max_features=7, n_estimators=10;, score=0.413 total time=   0.0s\n",
            "[CV 4/5] END max_depth=10, max_features=7, n_estimators=10;, score=0.348 total time=   0.0s\n",
            "[CV 5/5] END max_depth=10, max_features=7, n_estimators=10;, score=0.304 total time=   0.0s\n",
            "[CV 1/5] END max_depth=10, max_features=7, n_estimators=25;, score=0.356 total time=   0.1s\n",
            "[CV 2/5] END max_depth=10, max_features=7, n_estimators=25;, score=0.400 total time=   0.1s\n",
            "[CV 3/5] END max_depth=10, max_features=7, n_estimators=25;, score=0.348 total time=   0.1s\n",
            "[CV 4/5] END max_depth=10, max_features=7, n_estimators=25;, score=0.370 total time=   0.1s\n",
            "[CV 5/5] END max_depth=10, max_features=7, n_estimators=25;, score=0.391 total time=   0.1s\n",
            "[CV 1/5] END max_depth=10, max_features=7, n_estimators=50;, score=0.356 total time=   0.1s\n",
            "[CV 2/5] END max_depth=10, max_features=7, n_estimators=50;, score=0.400 total time=   0.1s\n",
            "[CV 3/5] END max_depth=10, max_features=7, n_estimators=50;, score=0.370 total time=   0.1s\n",
            "[CV 4/5] END max_depth=10, max_features=7, n_estimators=50;, score=0.391 total time=   0.1s\n",
            "[CV 5/5] END max_depth=10, max_features=7, n_estimators=50;, score=0.478 total time=   0.1s\n",
            "[CV 1/5] END max_depth=10, max_features=7, n_estimators=75;, score=0.333 total time=   0.2s\n",
            "[CV 2/5] END max_depth=10, max_features=7, n_estimators=75;, score=0.378 total time=   0.2s\n",
            "[CV 3/5] END max_depth=10, max_features=7, n_estimators=75;, score=0.413 total time=   0.2s\n",
            "[CV 4/5] END max_depth=10, max_features=7, n_estimators=75;, score=0.391 total time=   0.2s\n",
            "[CV 5/5] END max_depth=10, max_features=7, n_estimators=75;, score=0.435 total time=   0.2s\n",
            "[CV 1/5] END max_depth=10, max_features=7, n_estimators=100;, score=0.356 total time=   0.2s\n",
            "[CV 2/5] END max_depth=10, max_features=7, n_estimators=100;, score=0.378 total time=   0.2s\n",
            "[CV 3/5] END max_depth=10, max_features=7, n_estimators=100;, score=0.413 total time=   0.2s\n",
            "[CV 4/5] END max_depth=10, max_features=7, n_estimators=100;, score=0.348 total time=   0.2s\n",
            "[CV 5/5] END max_depth=10, max_features=7, n_estimators=100;, score=0.457 total time=   0.2s\n",
            "[CV 1/5] END max_depth=10, max_features=15, n_estimators=3;, score=0.378 total time=   0.0s\n",
            "[CV 2/5] END max_depth=10, max_features=15, n_estimators=3;, score=0.489 total time=   0.0s\n",
            "[CV 3/5] END max_depth=10, max_features=15, n_estimators=3;, score=0.565 total time=   0.0s\n",
            "[CV 4/5] END max_depth=10, max_features=15, n_estimators=3;, score=0.370 total time=   0.0s\n",
            "[CV 5/5] END max_depth=10, max_features=15, n_estimators=3;, score=0.435 total time=   0.0s\n",
            "[CV 1/5] END max_depth=10, max_features=15, n_estimators=5;, score=0.311 total time=   0.0s\n",
            "[CV 2/5] END max_depth=10, max_features=15, n_estimators=5;, score=0.556 total time=   0.0s\n",
            "[CV 3/5] END max_depth=10, max_features=15, n_estimators=5;, score=0.609 total time=   0.0s\n",
            "[CV 4/5] END max_depth=10, max_features=15, n_estimators=5;, score=0.391 total time=   0.0s\n",
            "[CV 5/5] END max_depth=10, max_features=15, n_estimators=5;, score=0.587 total time=   0.0s\n",
            "[CV 1/5] END max_depth=10, max_features=15, n_estimators=10;, score=0.378 total time=   0.0s\n",
            "[CV 2/5] END max_depth=10, max_features=15, n_estimators=10;, score=0.556 total time=   0.0s\n",
            "[CV 3/5] END max_depth=10, max_features=15, n_estimators=10;, score=0.500 total time=   0.0s\n",
            "[CV 4/5] END max_depth=10, max_features=15, n_estimators=10;, score=0.370 total time=   0.0s\n",
            "[CV 5/5] END max_depth=10, max_features=15, n_estimators=10;, score=0.543 total time=   0.0s\n",
            "[CV 1/5] END max_depth=10, max_features=15, n_estimators=25;, score=0.356 total time=   0.1s\n",
            "[CV 2/5] END max_depth=10, max_features=15, n_estimators=25;, score=0.400 total time=   0.1s\n",
            "[CV 3/5] END max_depth=10, max_features=15, n_estimators=25;, score=0.457 total time=   0.1s\n",
            "[CV 4/5] END max_depth=10, max_features=15, n_estimators=25;, score=0.348 total time=   0.1s\n",
            "[CV 5/5] END max_depth=10, max_features=15, n_estimators=25;, score=0.565 total time=   0.1s\n",
            "[CV 1/5] END max_depth=10, max_features=15, n_estimators=50;, score=0.356 total time=   0.1s\n",
            "[CV 2/5] END max_depth=10, max_features=15, n_estimators=50;, score=0.422 total time=   0.1s\n",
            "[CV 3/5] END max_depth=10, max_features=15, n_estimators=50;, score=0.435 total time=   0.1s\n",
            "[CV 4/5] END max_depth=10, max_features=15, n_estimators=50;, score=0.370 total time=   0.1s\n",
            "[CV 5/5] END max_depth=10, max_features=15, n_estimators=50;, score=0.587 total time=   0.1s\n",
            "[CV 1/5] END max_depth=10, max_features=15, n_estimators=75;, score=0.378 total time=   0.2s\n",
            "[CV 2/5] END max_depth=10, max_features=15, n_estimators=75;, score=0.422 total time=   0.2s\n",
            "[CV 3/5] END max_depth=10, max_features=15, n_estimators=75;, score=0.457 total time=   0.2s\n",
            "[CV 4/5] END max_depth=10, max_features=15, n_estimators=75;, score=0.391 total time=   0.2s\n",
            "[CV 5/5] END max_depth=10, max_features=15, n_estimators=75;, score=0.565 total time=   0.2s\n",
            "[CV 1/5] END max_depth=10, max_features=15, n_estimators=100;, score=0.378 total time=   0.2s\n",
            "[CV 2/5] END max_depth=10, max_features=15, n_estimators=100;, score=0.400 total time=   0.2s\n",
            "[CV 3/5] END max_depth=10, max_features=15, n_estimators=100;, score=0.435 total time=   0.2s\n",
            "[CV 4/5] END max_depth=10, max_features=15, n_estimators=100;, score=0.391 total time=   0.2s\n",
            "[CV 5/5] END max_depth=10, max_features=15, n_estimators=100;, score=0.565 total time=   0.2s\n",
            "[CV 1/5] END max_depth=10, max_features=20, n_estimators=3;, score=0.422 total time=   0.0s\n",
            "[CV 2/5] END max_depth=10, max_features=20, n_estimators=3;, score=0.578 total time=   0.0s\n",
            "[CV 3/5] END max_depth=10, max_features=20, n_estimators=3;, score=0.630 total time=   0.0s\n",
            "[CV 4/5] END max_depth=10, max_features=20, n_estimators=3;, score=0.565 total time=   0.0s\n",
            "[CV 5/5] END max_depth=10, max_features=20, n_estimators=3;, score=0.391 total time=   0.0s\n",
            "[CV 1/5] END max_depth=10, max_features=20, n_estimators=5;, score=0.444 total time=   0.0s\n",
            "[CV 2/5] END max_depth=10, max_features=20, n_estimators=5;, score=0.578 total time=   0.0s\n",
            "[CV 3/5] END max_depth=10, max_features=20, n_estimators=5;, score=0.609 total time=   0.0s\n",
            "[CV 4/5] END max_depth=10, max_features=20, n_estimators=5;, score=0.500 total time=   0.0s\n",
            "[CV 5/5] END max_depth=10, max_features=20, n_estimators=5;, score=0.413 total time=   0.0s\n",
            "[CV 1/5] END max_depth=10, max_features=20, n_estimators=10;, score=0.422 total time=   0.0s\n",
            "[CV 2/5] END max_depth=10, max_features=20, n_estimators=10;, score=0.422 total time=   0.0s\n",
            "[CV 3/5] END max_depth=10, max_features=20, n_estimators=10;, score=0.543 total time=   0.0s\n",
            "[CV 4/5] END max_depth=10, max_features=20, n_estimators=10;, score=0.457 total time=   0.0s\n",
            "[CV 5/5] END max_depth=10, max_features=20, n_estimators=10;, score=0.500 total time=   0.0s\n",
            "[CV 1/5] END max_depth=10, max_features=20, n_estimators=25;, score=0.378 total time=   0.1s\n",
            "[CV 2/5] END max_depth=10, max_features=20, n_estimators=25;, score=0.489 total time=   0.1s\n",
            "[CV 3/5] END max_depth=10, max_features=20, n_estimators=25;, score=0.478 total time=   0.1s\n",
            "[CV 4/5] END max_depth=10, max_features=20, n_estimators=25;, score=0.370 total time=   0.1s\n",
            "[CV 5/5] END max_depth=10, max_features=20, n_estimators=25;, score=0.522 total time=   0.1s\n",
            "[CV 1/5] END max_depth=10, max_features=20, n_estimators=50;, score=0.400 total time=   0.1s\n",
            "[CV 2/5] END max_depth=10, max_features=20, n_estimators=50;, score=0.444 total time=   0.1s\n",
            "[CV 3/5] END max_depth=10, max_features=20, n_estimators=50;, score=0.457 total time=   0.1s\n",
            "[CV 4/5] END max_depth=10, max_features=20, n_estimators=50;, score=0.435 total time=   0.1s\n",
            "[CV 5/5] END max_depth=10, max_features=20, n_estimators=50;, score=0.522 total time=   0.1s\n",
            "[CV 1/5] END max_depth=10, max_features=20, n_estimators=75;, score=0.378 total time=   0.2s\n",
            "[CV 2/5] END max_depth=10, max_features=20, n_estimators=75;, score=0.511 total time=   0.2s\n",
            "[CV 3/5] END max_depth=10, max_features=20, n_estimators=75;, score=0.478 total time=   0.2s\n",
            "[CV 4/5] END max_depth=10, max_features=20, n_estimators=75;, score=0.435 total time=   0.2s\n",
            "[CV 5/5] END max_depth=10, max_features=20, n_estimators=75;, score=0.500 total time=   0.2s\n",
            "[CV 1/5] END max_depth=10, max_features=20, n_estimators=100;, score=0.400 total time=   0.3s\n",
            "[CV 2/5] END max_depth=10, max_features=20, n_estimators=100;, score=0.489 total time=   0.3s\n",
            "[CV 3/5] END max_depth=10, max_features=20, n_estimators=100;, score=0.500 total time=   0.3s\n",
            "[CV 4/5] END max_depth=10, max_features=20, n_estimators=100;, score=0.435 total time=   0.3s\n",
            "[CV 5/5] END max_depth=10, max_features=20, n_estimators=100;, score=0.522 total time=   0.3s\n",
            "[CV 1/5] END max_depth=10, max_features=24, n_estimators=3;, score=nan total time=   0.0s\n",
            "[CV 2/5] END max_depth=10, max_features=24, n_estimators=3;, score=nan total time=   0.0s\n",
            "[CV 3/5] END max_depth=10, max_features=24, n_estimators=3;, score=nan total time=   0.0s\n",
            "[CV 4/5] END max_depth=10, max_features=24, n_estimators=3;, score=nan total time=   0.0s\n",
            "[CV 5/5] END max_depth=10, max_features=24, n_estimators=3;, score=nan total time=   0.0s\n",
            "[CV 1/5] END max_depth=10, max_features=24, n_estimators=5;, score=nan total time=   0.0s\n",
            "[CV 2/5] END max_depth=10, max_features=24, n_estimators=5;, score=nan total time=   0.0s\n",
            "[CV 3/5] END max_depth=10, max_features=24, n_estimators=5;, score=nan total time=   0.0s\n",
            "[CV 4/5] END max_depth=10, max_features=24, n_estimators=5;, score=nan total time=   0.0s\n",
            "[CV 5/5] END max_depth=10, max_features=24, n_estimators=5;, score=nan total time=   0.0s\n",
            "[CV 1/5] END max_depth=10, max_features=24, n_estimators=10;, score=nan total time=   0.0s\n",
            "[CV 2/5] END max_depth=10, max_features=24, n_estimators=10;, score=nan total time=   0.0s\n",
            "[CV 3/5] END max_depth=10, max_features=24, n_estimators=10;, score=nan total time=   0.0s\n",
            "[CV 4/5] END max_depth=10, max_features=24, n_estimators=10;, score=nan total time=   0.0s\n",
            "[CV 5/5] END max_depth=10, max_features=24, n_estimators=10;, score=nan total time=   0.0s\n",
            "[CV 1/5] END max_depth=10, max_features=24, n_estimators=25;, score=nan total time=   0.0s\n",
            "[CV 2/5] END max_depth=10, max_features=24, n_estimators=25;, score=nan total time=   0.0s\n",
            "[CV 3/5] END max_depth=10, max_features=24, n_estimators=25;, score=nan total time=   0.0s\n",
            "[CV 4/5] END max_depth=10, max_features=24, n_estimators=25;, score=nan total time=   0.0s\n",
            "[CV 5/5] END max_depth=10, max_features=24, n_estimators=25;, score=nan total time=   0.0s\n",
            "[CV 1/5] END max_depth=10, max_features=24, n_estimators=50;, score=nan total time=   0.0s\n",
            "[CV 2/5] END max_depth=10, max_features=24, n_estimators=50;, score=nan total time=   0.0s\n",
            "[CV 3/5] END max_depth=10, max_features=24, n_estimators=50;, score=nan total time=   0.0s\n",
            "[CV 4/5] END max_depth=10, max_features=24, n_estimators=50;, score=nan total time=   0.0s\n",
            "[CV 5/5] END max_depth=10, max_features=24, n_estimators=50;, score=nan total time=   0.0s\n",
            "[CV 1/5] END max_depth=10, max_features=24, n_estimators=75;, score=nan total time=   0.0s\n",
            "[CV 2/5] END max_depth=10, max_features=24, n_estimators=75;, score=nan total time=   0.0s\n",
            "[CV 3/5] END max_depth=10, max_features=24, n_estimators=75;, score=nan total time=   0.0s\n",
            "[CV 4/5] END max_depth=10, max_features=24, n_estimators=75;, score=nan total time=   0.0s\n",
            "[CV 5/5] END max_depth=10, max_features=24, n_estimators=75;, score=nan total time=   0.0s\n",
            "[CV 1/5] END max_depth=10, max_features=24, n_estimators=100;, score=nan total time=   0.0s\n",
            "[CV 2/5] END max_depth=10, max_features=24, n_estimators=100;, score=nan total time=   0.0s\n",
            "[CV 3/5] END max_depth=10, max_features=24, n_estimators=100;, score=nan total time=   0.0s\n",
            "[CV 4/5] END max_depth=10, max_features=24, n_estimators=100;, score=nan total time=   0.0s\n",
            "[CV 5/5] END max_depth=10, max_features=24, n_estimators=100;, score=nan total time=   0.0s\n",
            "[CV 1/5] END max_depth=None, max_features=4, n_estimators=3;, score=0.333 total time=   0.0s\n",
            "[CV 2/5] END max_depth=None, max_features=4, n_estimators=3;, score=0.378 total time=   0.0s\n",
            "[CV 3/5] END max_depth=None, max_features=4, n_estimators=3;, score=0.478 total time=   0.0s\n",
            "[CV 4/5] END max_depth=None, max_features=4, n_estimators=3;, score=0.457 total time=   0.0s\n",
            "[CV 5/5] END max_depth=None, max_features=4, n_estimators=3;, score=0.522 total time=   0.0s\n",
            "[CV 1/5] END max_depth=None, max_features=4, n_estimators=5;, score=0.333 total time=   0.0s\n",
            "[CV 2/5] END max_depth=None, max_features=4, n_estimators=5;, score=0.289 total time=   0.0s\n",
            "[CV 3/5] END max_depth=None, max_features=4, n_estimators=5;, score=0.391 total time=   0.0s\n",
            "[CV 4/5] END max_depth=None, max_features=4, n_estimators=5;, score=0.435 total time=   0.0s\n",
            "[CV 5/5] END max_depth=None, max_features=4, n_estimators=5;, score=0.522 total time=   0.0s\n",
            "[CV 1/5] END max_depth=None, max_features=4, n_estimators=10;, score=0.311 total time=   0.0s\n",
            "[CV 2/5] END max_depth=None, max_features=4, n_estimators=10;, score=0.289 total time=   0.0s\n",
            "[CV 3/5] END max_depth=None, max_features=4, n_estimators=10;, score=0.370 total time=   0.0s\n",
            "[CV 4/5] END max_depth=None, max_features=4, n_estimators=10;, score=0.326 total time=   0.0s\n",
            "[CV 5/5] END max_depth=None, max_features=4, n_estimators=10;, score=0.413 total time=   0.0s\n",
            "[CV 1/5] END max_depth=None, max_features=4, n_estimators=25;, score=0.289 total time=   0.1s\n",
            "[CV 2/5] END max_depth=None, max_features=4, n_estimators=25;, score=0.378 total time=   0.1s\n",
            "[CV 3/5] END max_depth=None, max_features=4, n_estimators=25;, score=0.391 total time=   0.1s\n",
            "[CV 4/5] END max_depth=None, max_features=4, n_estimators=25;, score=0.413 total time=   0.1s\n",
            "[CV 5/5] END max_depth=None, max_features=4, n_estimators=25;, score=0.370 total time=   0.1s\n",
            "[CV 1/5] END max_depth=None, max_features=4, n_estimators=50;, score=0.267 total time=   0.1s\n",
            "[CV 2/5] END max_depth=None, max_features=4, n_estimators=50;, score=0.333 total time=   0.1s\n",
            "[CV 3/5] END max_depth=None, max_features=4, n_estimators=50;, score=0.435 total time=   0.1s\n",
            "[CV 4/5] END max_depth=None, max_features=4, n_estimators=50;, score=0.391 total time=   0.1s\n",
            "[CV 5/5] END max_depth=None, max_features=4, n_estimators=50;, score=0.435 total time=   0.1s\n",
            "[CV 1/5] END max_depth=None, max_features=4, n_estimators=75;, score=0.311 total time=   0.2s\n",
            "[CV 2/5] END max_depth=None, max_features=4, n_estimators=75;, score=0.333 total time=   0.1s\n",
            "[CV 3/5] END max_depth=None, max_features=4, n_estimators=75;, score=0.435 total time=   0.1s\n",
            "[CV 4/5] END max_depth=None, max_features=4, n_estimators=75;, score=0.413 total time=   0.1s\n",
            "[CV 5/5] END max_depth=None, max_features=4, n_estimators=75;, score=0.435 total time=   0.1s\n",
            "[CV 1/5] END max_depth=None, max_features=4, n_estimators=100;, score=0.333 total time=   0.2s\n",
            "[CV 2/5] END max_depth=None, max_features=4, n_estimators=100;, score=0.333 total time=   0.2s\n",
            "[CV 3/5] END max_depth=None, max_features=4, n_estimators=100;, score=0.435 total time=   0.2s\n",
            "[CV 4/5] END max_depth=None, max_features=4, n_estimators=100;, score=0.348 total time=   0.2s\n",
            "[CV 5/5] END max_depth=None, max_features=4, n_estimators=100;, score=0.413 total time=   0.2s\n",
            "[CV 1/5] END max_depth=None, max_features=7, n_estimators=3;, score=0.422 total time=   0.0s\n",
            "[CV 2/5] END max_depth=None, max_features=7, n_estimators=3;, score=0.333 total time=   0.0s\n",
            "[CV 3/5] END max_depth=None, max_features=7, n_estimators=3;, score=0.522 total time=   0.0s\n",
            "[CV 4/5] END max_depth=None, max_features=7, n_estimators=3;, score=0.478 total time=   0.0s\n",
            "[CV 5/5] END max_depth=None, max_features=7, n_estimators=3;, score=0.500 total time=   0.0s\n",
            "[CV 1/5] END max_depth=None, max_features=7, n_estimators=5;, score=0.444 total time=   0.0s\n",
            "[CV 2/5] END max_depth=None, max_features=7, n_estimators=5;, score=0.378 total time=   0.0s\n",
            "[CV 3/5] END max_depth=None, max_features=7, n_estimators=5;, score=0.522 total time=   0.0s\n",
            "[CV 4/5] END max_depth=None, max_features=7, n_estimators=5;, score=0.370 total time=   0.0s\n",
            "[CV 5/5] END max_depth=None, max_features=7, n_estimators=5;, score=0.457 total time=   0.0s\n",
            "[CV 1/5] END max_depth=None, max_features=7, n_estimators=10;, score=0.311 total time=   0.0s\n",
            "[CV 2/5] END max_depth=None, max_features=7, n_estimators=10;, score=0.400 total time=   0.0s\n",
            "[CV 3/5] END max_depth=None, max_features=7, n_estimators=10;, score=0.391 total time=   0.0s\n",
            "[CV 4/5] END max_depth=None, max_features=7, n_estimators=10;, score=0.239 total time=   0.0s\n",
            "[CV 5/5] END max_depth=None, max_features=7, n_estimators=10;, score=0.391 total time=   0.0s\n",
            "[CV 1/5] END max_depth=None, max_features=7, n_estimators=25;, score=0.311 total time=   0.1s\n",
            "[CV 2/5] END max_depth=None, max_features=7, n_estimators=25;, score=0.422 total time=   0.1s\n",
            "[CV 3/5] END max_depth=None, max_features=7, n_estimators=25;, score=0.478 total time=   0.1s\n",
            "[CV 4/5] END max_depth=None, max_features=7, n_estimators=25;, score=0.348 total time=   0.1s\n",
            "[CV 5/5] END max_depth=None, max_features=7, n_estimators=25;, score=0.435 total time=   0.1s\n",
            "[CV 1/5] END max_depth=None, max_features=7, n_estimators=50;, score=0.311 total time=   0.1s\n",
            "[CV 2/5] END max_depth=None, max_features=7, n_estimators=50;, score=0.400 total time=   0.1s\n",
            "[CV 3/5] END max_depth=None, max_features=7, n_estimators=50;, score=0.435 total time=   0.1s\n",
            "[CV 4/5] END max_depth=None, max_features=7, n_estimators=50;, score=0.391 total time=   0.1s\n",
            "[CV 5/5] END max_depth=None, max_features=7, n_estimators=50;, score=0.413 total time=   0.1s\n",
            "[CV 1/5] END max_depth=None, max_features=7, n_estimators=75;, score=0.356 total time=   0.2s\n",
            "[CV 2/5] END max_depth=None, max_features=7, n_estimators=75;, score=0.400 total time=   0.2s\n",
            "[CV 3/5] END max_depth=None, max_features=7, n_estimators=75;, score=0.413 total time=   0.2s\n",
            "[CV 4/5] END max_depth=None, max_features=7, n_estimators=75;, score=0.413 total time=   0.2s\n",
            "[CV 5/5] END max_depth=None, max_features=7, n_estimators=75;, score=0.413 total time=   0.2s\n",
            "[CV 1/5] END max_depth=None, max_features=7, n_estimators=100;, score=0.333 total time=   0.2s\n",
            "[CV 2/5] END max_depth=None, max_features=7, n_estimators=100;, score=0.378 total time=   0.2s\n",
            "[CV 3/5] END max_depth=None, max_features=7, n_estimators=100;, score=0.413 total time=   0.2s\n",
            "[CV 4/5] END max_depth=None, max_features=7, n_estimators=100;, score=0.435 total time=   0.2s\n",
            "[CV 5/5] END max_depth=None, max_features=7, n_estimators=100;, score=0.457 total time=   0.2s\n",
            "[CV 1/5] END max_depth=None, max_features=15, n_estimators=3;, score=0.356 total time=   0.0s\n",
            "[CV 2/5] END max_depth=None, max_features=15, n_estimators=3;, score=0.511 total time=   0.0s\n",
            "[CV 3/5] END max_depth=None, max_features=15, n_estimators=3;, score=0.543 total time=   0.0s\n",
            "[CV 4/5] END max_depth=None, max_features=15, n_estimators=3;, score=0.478 total time=   0.0s\n",
            "[CV 5/5] END max_depth=None, max_features=15, n_estimators=3;, score=0.500 total time=   0.0s\n",
            "[CV 1/5] END max_depth=None, max_features=15, n_estimators=5;, score=0.267 total time=   0.0s\n",
            "[CV 2/5] END max_depth=None, max_features=15, n_estimators=5;, score=0.533 total time=   0.0s\n",
            "[CV 3/5] END max_depth=None, max_features=15, n_estimators=5;, score=0.630 total time=   0.0s\n",
            "[CV 4/5] END max_depth=None, max_features=15, n_estimators=5;, score=0.391 total time=   0.0s\n",
            "[CV 5/5] END max_depth=None, max_features=15, n_estimators=5;, score=0.587 total time=   0.0s\n",
            "[CV 1/5] END max_depth=None, max_features=15, n_estimators=10;, score=0.333 total time=   0.0s\n",
            "[CV 2/5] END max_depth=None, max_features=15, n_estimators=10;, score=0.400 total time=   0.0s\n",
            "[CV 3/5] END max_depth=None, max_features=15, n_estimators=10;, score=0.543 total time=   0.0s\n",
            "[CV 4/5] END max_depth=None, max_features=15, n_estimators=10;, score=0.348 total time=   0.0s\n",
            "[CV 5/5] END max_depth=None, max_features=15, n_estimators=10;, score=0.522 total time=   0.0s\n",
            "[CV 1/5] END max_depth=None, max_features=15, n_estimators=25;, score=0.333 total time=   0.1s\n",
            "[CV 2/5] END max_depth=None, max_features=15, n_estimators=25;, score=0.422 total time=   0.1s\n",
            "[CV 3/5] END max_depth=None, max_features=15, n_estimators=25;, score=0.565 total time=   0.1s\n",
            "[CV 4/5] END max_depth=None, max_features=15, n_estimators=25;, score=0.391 total time=   0.1s\n",
            "[CV 5/5] END max_depth=None, max_features=15, n_estimators=25;, score=0.565 total time=   0.1s\n",
            "[CV 1/5] END max_depth=None, max_features=15, n_estimators=50;, score=0.356 total time=   0.1s\n",
            "[CV 2/5] END max_depth=None, max_features=15, n_estimators=50;, score=0.378 total time=   0.1s\n",
            "[CV 3/5] END max_depth=None, max_features=15, n_estimators=50;, score=0.478 total time=   0.1s\n",
            "[CV 4/5] END max_depth=None, max_features=15, n_estimators=50;, score=0.370 total time=   0.1s\n",
            "[CV 5/5] END max_depth=None, max_features=15, n_estimators=50;, score=0.609 total time=   0.1s\n",
            "[CV 1/5] END max_depth=None, max_features=15, n_estimators=75;, score=0.378 total time=   0.2s\n",
            "[CV 2/5] END max_depth=None, max_features=15, n_estimators=75;, score=0.467 total time=   0.2s\n",
            "[CV 3/5] END max_depth=None, max_features=15, n_estimators=75;, score=0.478 total time=   0.2s\n",
            "[CV 4/5] END max_depth=None, max_features=15, n_estimators=75;, score=0.435 total time=   0.2s\n",
            "[CV 5/5] END max_depth=None, max_features=15, n_estimators=75;, score=0.565 total time=   0.2s\n",
            "[CV 1/5] END max_depth=None, max_features=15, n_estimators=100;, score=0.378 total time=   0.3s\n",
            "[CV 2/5] END max_depth=None, max_features=15, n_estimators=100;, score=0.444 total time=   0.2s\n",
            "[CV 3/5] END max_depth=None, max_features=15, n_estimators=100;, score=0.500 total time=   0.3s\n",
            "[CV 4/5] END max_depth=None, max_features=15, n_estimators=100;, score=0.370 total time=   0.3s\n",
            "[CV 5/5] END max_depth=None, max_features=15, n_estimators=100;, score=0.543 total time=   0.3s\n",
            "[CV 1/5] END max_depth=None, max_features=20, n_estimators=3;, score=0.311 total time=   0.0s\n",
            "[CV 2/5] END max_depth=None, max_features=20, n_estimators=3;, score=0.489 total time=   0.0s\n",
            "[CV 3/5] END max_depth=None, max_features=20, n_estimators=3;, score=0.500 total time=   0.0s\n",
            "[CV 4/5] END max_depth=None, max_features=20, n_estimators=3;, score=0.565 total time=   0.0s\n",
            "[CV 5/5] END max_depth=None, max_features=20, n_estimators=3;, score=0.413 total time=   0.0s\n",
            "[CV 1/5] END max_depth=None, max_features=20, n_estimators=5;, score=0.356 total time=   0.0s\n",
            "[CV 2/5] END max_depth=None, max_features=20, n_estimators=5;, score=0.556 total time=   0.0s\n",
            "[CV 3/5] END max_depth=None, max_features=20, n_estimators=5;, score=0.522 total time=   0.0s\n",
            "[CV 4/5] END max_depth=None, max_features=20, n_estimators=5;, score=0.457 total time=   0.0s\n",
            "[CV 5/5] END max_depth=None, max_features=20, n_estimators=5;, score=0.457 total time=   0.0s\n",
            "[CV 1/5] END max_depth=None, max_features=20, n_estimators=10;, score=0.356 total time=   0.0s\n",
            "[CV 2/5] END max_depth=None, max_features=20, n_estimators=10;, score=0.422 total time=   0.0s\n",
            "[CV 3/5] END max_depth=None, max_features=20, n_estimators=10;, score=0.478 total time=   0.0s\n",
            "[CV 4/5] END max_depth=None, max_features=20, n_estimators=10;, score=0.326 total time=   0.0s\n",
            "[CV 5/5] END max_depth=None, max_features=20, n_estimators=10;, score=0.435 total time=   0.0s\n",
            "[CV 1/5] END max_depth=None, max_features=20, n_estimators=25;, score=0.378 total time=   0.1s\n",
            "[CV 2/5] END max_depth=None, max_features=20, n_estimators=25;, score=0.378 total time=   0.1s\n",
            "[CV 3/5] END max_depth=None, max_features=20, n_estimators=25;, score=0.522 total time=   0.1s\n",
            "[CV 4/5] END max_depth=None, max_features=20, n_estimators=25;, score=0.413 total time=   0.1s\n",
            "[CV 5/5] END max_depth=None, max_features=20, n_estimators=25;, score=0.500 total time=   0.1s\n",
            "[CV 1/5] END max_depth=None, max_features=20, n_estimators=50;, score=0.422 total time=   0.1s\n",
            "[CV 2/5] END max_depth=None, max_features=20, n_estimators=50;, score=0.400 total time=   0.1s\n",
            "[CV 3/5] END max_depth=None, max_features=20, n_estimators=50;, score=0.478 total time=   0.1s\n",
            "[CV 4/5] END max_depth=None, max_features=20, n_estimators=50;, score=0.435 total time=   0.1s\n",
            "[CV 5/5] END max_depth=None, max_features=20, n_estimators=50;, score=0.543 total time=   0.1s\n",
            "[CV 1/5] END max_depth=None, max_features=20, n_estimators=75;, score=0.422 total time=   0.2s\n",
            "[CV 2/5] END max_depth=None, max_features=20, n_estimators=75;, score=0.422 total time=   0.2s\n",
            "[CV 3/5] END max_depth=None, max_features=20, n_estimators=75;, score=0.522 total time=   0.2s\n",
            "[CV 4/5] END max_depth=None, max_features=20, n_estimators=75;, score=0.457 total time=   0.2s\n",
            "[CV 5/5] END max_depth=None, max_features=20, n_estimators=75;, score=0.543 total time=   0.2s\n",
            "[CV 1/5] END max_depth=None, max_features=20, n_estimators=100;, score=0.400 total time=   0.3s\n",
            "[CV 2/5] END max_depth=None, max_features=20, n_estimators=100;, score=0.444 total time=   0.3s\n",
            "[CV 3/5] END max_depth=None, max_features=20, n_estimators=100;, score=0.500 total time=   0.3s\n",
            "[CV 4/5] END max_depth=None, max_features=20, n_estimators=100;, score=0.413 total time=   0.3s\n",
            "[CV 5/5] END max_depth=None, max_features=20, n_estimators=100;, score=0.522 total time=   0.3s\n",
            "[CV 1/5] END max_depth=None, max_features=24, n_estimators=3;, score=nan total time=   0.0s\n",
            "[CV 2/5] END max_depth=None, max_features=24, n_estimators=3;, score=nan total time=   0.0s\n",
            "[CV 3/5] END max_depth=None, max_features=24, n_estimators=3;, score=nan total time=   0.0s\n",
            "[CV 4/5] END max_depth=None, max_features=24, n_estimators=3;, score=nan total time=   0.0s\n",
            "[CV 5/5] END max_depth=None, max_features=24, n_estimators=3;, score=nan total time=   0.0s\n",
            "[CV 1/5] END max_depth=None, max_features=24, n_estimators=5;, score=nan total time=   0.0s\n",
            "[CV 2/5] END max_depth=None, max_features=24, n_estimators=5;, score=nan total time=   0.0s\n",
            "[CV 3/5] END max_depth=None, max_features=24, n_estimators=5;, score=nan total time=   0.0s\n",
            "[CV 4/5] END max_depth=None, max_features=24, n_estimators=5;, score=nan total time=   0.0s\n",
            "[CV 5/5] END max_depth=None, max_features=24, n_estimators=5;, score=nan total time=   0.0s\n",
            "[CV 1/5] END max_depth=None, max_features=24, n_estimators=10;, score=nan total time=   0.0s\n",
            "[CV 2/5] END max_depth=None, max_features=24, n_estimators=10;, score=nan total time=   0.0s\n",
            "[CV 3/5] END max_depth=None, max_features=24, n_estimators=10;, score=nan total time=   0.0s\n",
            "[CV 4/5] END max_depth=None, max_features=24, n_estimators=10;, score=nan total time=   0.0s\n",
            "[CV 5/5] END max_depth=None, max_features=24, n_estimators=10;, score=nan total time=   0.0s\n",
            "[CV 1/5] END max_depth=None, max_features=24, n_estimators=25;, score=nan total time=   0.0s\n",
            "[CV 2/5] END max_depth=None, max_features=24, n_estimators=25;, score=nan total time=   0.0s\n",
            "[CV 3/5] END max_depth=None, max_features=24, n_estimators=25;, score=nan total time=   0.0s\n",
            "[CV 4/5] END max_depth=None, max_features=24, n_estimators=25;, score=nan total time=   0.0s\n",
            "[CV 5/5] END max_depth=None, max_features=24, n_estimators=25;, score=nan total time=   0.0s\n",
            "[CV 1/5] END max_depth=None, max_features=24, n_estimators=50;, score=nan total time=   0.0s\n",
            "[CV 2/5] END max_depth=None, max_features=24, n_estimators=50;, score=nan total time=   0.0s\n",
            "[CV 3/5] END max_depth=None, max_features=24, n_estimators=50;, score=nan total time=   0.0s\n",
            "[CV 4/5] END max_depth=None, max_features=24, n_estimators=50;, score=nan total time=   0.0s\n",
            "[CV 5/5] END max_depth=None, max_features=24, n_estimators=50;, score=nan total time=   0.0s\n",
            "[CV 1/5] END max_depth=None, max_features=24, n_estimators=75;, score=nan total time=   0.0s\n",
            "[CV 2/5] END max_depth=None, max_features=24, n_estimators=75;, score=nan total time=   0.0s\n",
            "[CV 3/5] END max_depth=None, max_features=24, n_estimators=75;, score=nan total time=   0.0s\n",
            "[CV 4/5] END max_depth=None, max_features=24, n_estimators=75;, score=nan total time=   0.0s\n",
            "[CV 5/5] END max_depth=None, max_features=24, n_estimators=75;, score=nan total time=   0.0s\n",
            "[CV 1/5] END max_depth=None, max_features=24, n_estimators=100;, score=nan total time=   0.0s\n",
            "[CV 2/5] END max_depth=None, max_features=24, n_estimators=100;, score=nan total time=   0.0s\n",
            "[CV 3/5] END max_depth=None, max_features=24, n_estimators=100;, score=nan total time=   0.0s\n",
            "[CV 4/5] END max_depth=None, max_features=24, n_estimators=100;, score=nan total time=   0.0s\n",
            "[CV 5/5] END max_depth=None, max_features=24, n_estimators=100;, score=nan total time=   0.0s\n"
          ]
        },
        {
          "output_type": "execute_result",
          "data": {
            "text/plain": [
              "GridSearchCV(cv=5, estimator=RandomForestClassifier(random_state=2),\n",
              "             param_grid={'max_depth': [3, 5, 7, 10, None],\n",
              "                         'max_features': [4, 7, 15, 20, 24],\n",
              "                         'n_estimators': [3, 5, 10, 25, 50, 75, 100]},\n",
              "             scoring='recall', verbose=4)"
            ]
          },
          "metadata": {},
          "execution_count": 91
        }
      ],
      "source": [
        "param_grid = {\"max_depth\": [3,5, 7, 10,None],\n",
        "              \"n_estimators\":[3,5,10,25,50,75,100],\n",
        "              \"max_features\": [4,7,15,20,24]}\n",
        "\n",
        "#Creating the classifier\n",
        "model = RandomForestClassifier(random_state=2)\n",
        "\n",
        "grid_search = GridSearchCV(model, param_grid=param_grid, cv=5, scoring='recall', verbose=4)\n",
        "grid_search.fit(X_train, y_train)"
      ]
    },
    {
      "cell_type": "code",
      "execution_count": null,
      "metadata": {
        "colab": {
          "base_uri": "https://localhost:8080/"
        },
        "id": "Jmqny5NqNP2v",
        "outputId": "b9874093-164d-4543-8ecc-53af6bdb3800"
      },
      "outputs": [
        {
          "output_type": "stream",
          "name": "stdout",
          "text": [
            "0.5173913043478261\n",
            "{'max_depth': 10, 'max_features': 20, 'n_estimators': 3}\n"
          ]
        }
      ],
      "source": [
        "print(grid_search.best_score_)\n",
        "print(grid_search.best_params_)"
      ]
    },
    {
      "cell_type": "code",
      "execution_count": null,
      "metadata": {
        "colab": {
          "base_uri": "https://localhost:8080/"
        },
        "id": "xrO0OTcINP2w",
        "outputId": "46c29b75-e1f6-4e06-d5a6-672e9954231c"
      },
      "outputs": [
        {
          "output_type": "execute_result",
          "data": {
            "text/plain": [
              "RandomForestClassifier(max_depth=10, max_features=20, n_estimators=3,\n",
              "                       random_state=0)"
            ]
          },
          "metadata": {},
          "execution_count": 93
        }
      ],
      "source": [
        "# rf = RandomForestClassifier(max_depth=None, max_features=20, n_estimators=3, random_state=0)\n",
        "rf_new = RandomForestClassifier(max_depth=10, max_features=20, n_estimators=3, random_state=0)\n",
        "\n",
        "#trainning with the best params\n",
        "rf_new.fit(X_train, y_train)"
      ]
    },
    {
      "cell_type": "code",
      "execution_count": null,
      "metadata": {
        "colab": {
          "base_uri": "https://localhost:8080/"
        },
        "id": "tkSSSH7ANP2x",
        "outputId": "198ad7dd-3ee9-4e10-dc12-14080b765d77"
      },
      "outputs": [
        {
          "output_type": "stream",
          "name": "stdout",
          "text": [
            "0.72\n",
            "0.6816479400749064\n",
            "\n",
            "\n",
            "[[150  28]\n",
            " [ 42  30]]\n",
            "\n",
            "\n",
            "0.4335260115606937\n"
          ]
        }
      ],
      "source": [
        "#Testing the model \n",
        "#Predicting using our  model\n",
        "y_pred = rf_new.predict(X_test)\n",
        "y_pred_prob=rf_new.predict_proba(X_test)\n",
        "# Verificaar os resultados obtidos\n",
        "print(accuracy_score(y_test,y_pred))\n",
        "# print(roc_auc_score(y_test,y_pred))\n",
        "print(roc_auc_score(y_test, rf_new.predict_proba(X_test)[:, 1]))\n",
        "print(\"\\n\")\n",
        "print(confusion_matrix(y_test, y_pred))\n",
        "print(\"\\n\")\n",
        "print(fbeta_score(y_test, y_pred, beta=2))"
      ]
    },
    {
      "cell_type": "code",
      "execution_count": null,
      "metadata": {
        "id": "0T8W5vq9Pk2H"
      },
      "outputs": [],
      "source": [
        ""
      ]
    },
    {
      "cell_type": "markdown",
      "metadata": {
        "id": "EFULv5yUPeoR"
      },
      "source": [
        "### Tackling Group Fairness\n",
        "Varying the threshold to analyze how much the group precision changes"
      ]
    },
    {
      "cell_type": "code",
      "execution_count": 79,
      "metadata": {
        "colab": {
          "base_uri": "https://localhost:8080/"
        },
        "id": "xYOpW5V9ooJ0",
        "outputId": "b22f8a52-4540-4a54-fdc6-1ac2893d1aca"
      },
      "outputs": [
        {
          "output_type": "stream",
          "name": "stderr",
          "text": [
            "\r  0%|          | 0/99 [00:00<?, ?it/s]"
          ]
        },
        {
          "output_type": "stream",
          "name": "stdout",
          "text": [
            "Updated at male_threshold 0.01 and female_threshold 0.01 with 0.05316925934525196 improving on 1\n"
          ]
        },
        {
          "output_type": "stream",
          "name": "stderr",
          "text": [
            " 33%|███▎      | 33/99 [00:22<00:29,  2.25it/s]"
          ]
        },
        {
          "output_type": "stream",
          "name": "stdout",
          "text": [
            "Updated at male_threshold 0.34 and female_threshold 0.34 with 0.0020122281557155286 improving on 0.05316925934525196\n"
          ]
        },
        {
          "output_type": "stream",
          "name": "stderr",
          "text": [
            "100%|██████████| 99/99 [00:49<00:00,  1.99it/s]\n"
          ]
        }
      ],
      "source": [
        "from tqdm import tqdm\n",
        "best_diff = 1\n",
        "best_thresh_m = 0\n",
        "best_thresh_f =0\n",
        "for k in tqdm(range(1,100)):\n",
        "  m=k/100\n",
        "  for i in range(1,100):\n",
        "    j = i/100\n",
        "    res = group_fair(test_df,rf_og,j,m)\n",
        "    diff = abs(res['percent_risky_males']-res['percent_risky_females'])\n",
        "    # print(\"diff\",diff)\n",
        "    if diff < best_diff:\n",
        "      print(\"Updated at male_threshold \"+str(j)+\" and female_threshold \"+str(m)+\" with \"+str(diff)+\" improving on \"+str(best_diff))\n",
        "      best_thresh_m =j\n",
        "      best_diff = diff\n",
        "      best_thresh_f = m\n",
        "\n",
        "  "
      ]
    },
    {
      "cell_type": "code",
      "execution_count": 83,
      "metadata": {
        "colab": {
          "base_uri": "https://localhost:8080/"
        },
        "id": "5TXKP8v7ooDU",
        "outputId": "afb1e33a-6ba9-4dac-feb9-5e6a5a8a9bc8"
      },
      "outputs": [
        {
          "output_type": "execute_result",
          "data": {
            "text/plain": [
              "(0.34,\n",
              " 0.34,\n",
              " {'percent_risky_females': 0.2465753424657534,\n",
              "  'percent_risky_males': 0.24858757062146894,\n",
              "  'risky_females': 18,\n",
              "  'risky_males': 44,\n",
              "  'total_females': 73,\n",
              "  'total_males': 177})"
            ]
          },
          "metadata": {},
          "execution_count": 83
        }
      ],
      "source": [
        "best_thresh_m,best_thresh_f,group_fair(test_df,rf,0.34,0.34)"
      ]
    },
    {
      "cell_type": "code",
      "execution_count": 85,
      "metadata": {
        "colab": {
          "base_uri": "https://localhost:8080/"
        },
        "id": "WtELTzuVon7Z",
        "outputId": "64539db4-4a48-4730-c5e3-391c5cc364f3"
      },
      "outputs": [
        {
          "output_type": "stream",
          "name": "stdout",
          "text": [
            "0.712\n",
            "0.7157849563046191\n",
            "\n",
            "\n",
            "[[147  31]\n",
            " [ 41  31]]\n",
            "\n",
            "\n",
            "0.4428571428571429\n"
          ]
        }
      ],
      "source": [
        "# At 0.34\n",
        "test_control = test_df.drop('Risk_bad',1).values\n",
        "y_preds_prob = rf.predict_proba(test_control)\n",
        "y_preds = (y_preds_prob [:,1] >= 0.6).astype('int')\n",
        "y_pred=y_preds\n",
        "print(accuracy_score(y_test,y_pred))\n",
        "# print(roc_auc_score(y_test,y_pred))\n",
        "print(roc_auc_score(y_test, rf_og.predict_proba(X_test)[:, 1]))\n",
        "print(\"\\n\")\n",
        "print(confusion_matrix(y_test, y_pred))\n",
        "print(\"\\n\")\n",
        "print(fbeta_score(y_test, y_pred, beta=2))"
      ]
    },
    {
      "cell_type": "markdown",
      "metadata": {
        "id": "TwKnqCWRXvfr"
      },
      "source": [
        "### Tackling seperation"
      ]
    },
    {
      "cell_type": "code",
      "execution_count": null,
      "metadata": {
        "colab": {
          "base_uri": "https://localhost:8080/"
        },
        "id": "2FzeN2dbon0m",
        "outputId": "793b20ed-57c4-41c1-c3d9-6b783c039d7f"
      },
      "outputs": [
        {
          "data": {
            "text/plain": [
              "{'female_false_negative_rate': 0.0392156862745098,\n",
              " 'female_false_positive_rate': 0.9090909090909091,\n",
              " 'male_false_negative_rate': 0.047244094488188976,\n",
              " 'male_false_positive_rate': 0.76}"
            ]
          },
          "execution_count": 99,
          "metadata": {},
          "output_type": "execute_result"
        }
      ],
      "source": [
        "seperation(test_df,rf_og,1)"
      ]
    },
    {
      "cell_type": "code",
      "execution_count": 92,
      "metadata": {
        "colab": {
          "base_uri": "https://localhost:8080/"
        },
        "id": "90xaTVg1ont0",
        "outputId": "dfb3159b-479d-4ed6-d57c-7b87e1cef8c8"
      },
      "outputs": [
        {
          "output_type": "stream",
          "name": "stderr",
          "text": [
            "\r  0%|          | 0/99 [00:00<?, ?it/s]"
          ]
        },
        {
          "output_type": "stream",
          "name": "stdout",
          "text": [
            "Updated at male_threshold 0.01 and female_threshold 0.01 with 0.08758740718907462 improving on 1\n"
          ]
        },
        {
          "output_type": "stream",
          "name": "stderr",
          "text": [
            " 33%|███▎      | 33/99 [00:45<01:20,  1.22s/it]"
          ]
        },
        {
          "output_type": "stream",
          "name": "stdout",
          "text": [
            "Updated at male_threshold 0.34 and female_threshold 0.34 with 0.05878507165213975 improving on 0.08758740718907462\n"
          ]
        },
        {
          "output_type": "stream",
          "name": "stderr",
          "text": [
            "100%|██████████| 99/99 [02:05<00:00,  1.27s/it]\n"
          ]
        }
      ],
      "source": [
        "from tqdm import tqdm\n",
        "best_diff = 1\n",
        "best_thresh_m = 0\n",
        "best_thresh_f =0\n",
        "for k in tqdm(range(1,100)):\n",
        "  m=k/100\n",
        "  for i in range(1,100):\n",
        "    j = i/100\n",
        "    res = seperation(test_df,rf_og,j,m)\n",
        "    diff = abs(res['female_false_negative_rate']-res['male_false_negative_rate']) + abs(res['female_false_positive_rate']-res['male_false_positive_rate'])\n",
        "    if diff < best_diff:\n",
        "      print(\"Updated at male_threshold \"+str(j)+\" and female_threshold \"+str(m)+\" with \"+str(diff)+\" improving on \"+str(best_diff))\n",
        "      best_thresh_m =j\n",
        "      best_diff = diff\n",
        "      best_thresh_f = m"
      ]
    },
    {
      "cell_type": "code",
      "execution_count": 93,
      "metadata": {
        "colab": {
          "base_uri": "https://localhost:8080/"
        },
        "id": "AJlRh9PGonjj",
        "outputId": "fe482b65-8d7d-4033-f033-fcc03e08e044"
      },
      "outputs": [
        {
          "output_type": "execute_result",
          "data": {
            "text/plain": [
              "(0.34, 0.34)"
            ]
          },
          "metadata": {},
          "execution_count": 93
        }
      ],
      "source": [
        "best_thresh_m,best_thresh_f"
      ]
    },
    {
      "cell_type": "code",
      "execution_count": null,
      "metadata": {
        "id": "aWAW84DAonaJ"
      },
      "outputs": [],
      "source": [
        ""
      ]
    },
    {
      "cell_type": "code",
      "execution_count": null,
      "metadata": {
        "id": "a1lxw7YUonMX"
      },
      "outputs": [],
      "source": [
        ""
      ]
    },
    {
      "cell_type": "markdown",
      "metadata": {
        "id": "kRTV8x6lEzlI"
      },
      "source": [
        "Very sucks results! How can I increase my model? "
      ]
    },
    {
      "cell_type": "markdown",
      "metadata": {
        "id": "7Ob3_zgMEzlJ"
      },
      "source": [
        "# **7.2 Model 2:** <a id=\"Modelling 2\"></a> <br>"
      ]
    },
    {
      "cell_type": "code",
      "execution_count": null,
      "metadata": {
        "id": "lh5QDXWvEzlJ"
      },
      "outputs": [],
      "source": [
        "from sklearn.utils import resample\n",
        "from sklearn.metrics import roc_curve"
      ]
    },
    {
      "cell_type": "code",
      "execution_count": null,
      "metadata": {
        "id": "wkzQ3A0GEzlJ"
      },
      "outputs": [],
      "source": [
        "# Criando o classificador logreg\n",
        "GNB = GaussianNB()\n",
        "\n",
        "# Fitting with train data\n",
        "model = GNB.fit(X_train, y_train)"
      ]
    },
    {
      "cell_type": "code",
      "execution_count": null,
      "metadata": {
        "colab": {
          "base_uri": "https://localhost:8080/"
        },
        "id": "yOcJJB1VEzlK",
        "outputId": "130b6a83-8ec5-4cc2-d19e-20048f2c1604"
      },
      "outputs": [
        {
          "name": "stdout",
          "output_type": "stream",
          "text": [
            "Training score data: \n",
            "0.7053333333333334\n"
          ]
        }
      ],
      "source": [
        "# Printing the Training Score\n",
        "print(\"Training score data: \")\n",
        "print(model.score(X_train, y_train))"
      ]
    },
    {
      "cell_type": "code",
      "execution_count": null,
      "metadata": {
        "colab": {
          "base_uri": "https://localhost:8080/"
        },
        "id": "TJW_NWPVEzlK",
        "outputId": "e25fd75a-45c0-405a-b357-330b85d0b533"
      },
      "outputs": [
        {
          "name": "stdout",
          "output_type": "stream",
          "text": [
            "0.648\n",
            "0.6122034956304618\n",
            "\n",
            "\n",
            "[[124  54]\n",
            " [ 34  38]]\n",
            "\n",
            "\n",
            "              precision    recall  f1-score   support\n",
            "\n",
            "           0       0.78      0.70      0.74       178\n",
            "           1       0.41      0.53      0.46        72\n",
            "\n",
            "    accuracy                           0.65       250\n",
            "   macro avg       0.60      0.61      0.60       250\n",
            "weighted avg       0.68      0.65      0.66       250\n",
            "\n"
          ]
        }
      ],
      "source": [
        "y_pred = model.predict(X_test)\n",
        "\n",
        "print(accuracy_score(y_test,y_pred))\n",
        "print(roc_auc_score(y_test,y_pred))\n",
        "print(\"\\n\")\n",
        "print(confusion_matrix(y_test, y_pred))\n",
        "print(\"\\n\")\n",
        "print(classification_report(y_test, y_pred))"
      ]
    },
    {
      "cell_type": "markdown",
      "metadata": {
        "id": "FnVebTzMEzlK"
      },
      "source": [
        "With the Gaussian Model we got a best recall. "
      ]
    },
    {
      "cell_type": "markdown",
      "metadata": {
        "id": "DcpaeRukEzlL"
      },
      "source": [
        "## Let's verify the ROC curve"
      ]
    },
    {
      "cell_type": "code",
      "execution_count": null,
      "metadata": {
        "colab": {
          "base_uri": "https://localhost:8080/",
          "height": 295
        },
        "id": "B7bMixCAEzlL",
        "outputId": "059f5e3b-db86-40b8-8323-fd8c6a409f02"
      },
      "outputs": [
        {
          "data": {
            "image/png": "[encoded data removed]",
            "text/plain": [
              "<Figure size 432x288 with 1 Axes>"
            ]
          },
          "metadata": {},
          "output_type": "display_data"
        }
      ],
      "source": [
        "#Predicting proba\n",
        "y_pred_prob = model.predict_proba(X_test)[:,1]\n",
        "\n",
        "# Generate ROC curve values: fpr, tpr, thresholds\n",
        "fpr, tpr, thresholds = roc_curve(y_test, y_pred_prob)\n",
        "\n",
        "# Plot ROC curve\n",
        "plt.plot([0, 1], [0, 1], 'k--')\n",
        "plt.plot(fpr, tpr)\n",
        "plt.xlabel('False Positive Rate')\n",
        "plt.ylabel('True Positive Rate')\n",
        "plt.title('ROC Curve')\n",
        "plt.show()"
      ]
    },
    {
      "cell_type": "code",
      "execution_count": null,
      "metadata": {
        "id": "EFQQsm74EzlL"
      },
      "outputs": [],
      "source": [
        "from sklearn.model_selection import KFold\n",
        "from sklearn.model_selection import cross_val_score\n",
        "from sklearn.pipeline import Pipeline\n",
        "from sklearn.pipeline import FeatureUnion\n",
        "from sklearn.linear_model import LogisticRegression\n",
        "from sklearn.decomposition import PCA\n",
        "from sklearn.feature_selection import SelectKBest"
      ]
    },
    {
      "cell_type": "code",
      "execution_count": null,
      "metadata": {
        "colab": {
          "base_uri": "https://localhost:8080/"
        },
        "id": "00y6WWOKEzlL",
        "outputId": "1499211a-73f2-4cb8-f5cb-14cd2de05f88"
      },
      "outputs": [
        {
          "name": "stdout",
          "output_type": "stream",
          "text": [
            "0.7066666666666668\n"
          ]
        }
      ],
      "source": [
        "features = []\n",
        "features.append(('pca', PCA(n_components=2)))\n",
        "features.append(('select_best', SelectKBest(k=6)))\n",
        "feature_union = FeatureUnion(features)\n",
        "# create pipeline\n",
        "estimators = []\n",
        "estimators.append(('feature_union', feature_union))\n",
        "estimators.append(('logistic', GaussianNB()))\n",
        "model = Pipeline(estimators)\n",
        "# evaluate pipeline\n",
        "seed = 7\n",
        "kfold = KFold(n_splits=10)\n",
        "results = cross_val_score(model, X_train, y_train, cv=kfold)\n",
        "print(results.mean())"
      ]
    },
    {
      "cell_type": "code",
      "execution_count": null,
      "metadata": {
        "colab": {
          "base_uri": "https://localhost:8080/"
        },
        "id": "UXT1rFQREzlL",
        "outputId": "82a437ab-d5f3-4275-bd89-67b64d890a8f"
      },
      "outputs": [
        {
          "name": "stdout",
          "output_type": "stream",
          "text": [
            "0.72\n",
            "0.6338171036204744\n",
            "\n",
            "\n",
            "[[149  29]\n",
            " [ 41  31]]\n",
            "\n",
            "\n",
            "0.44540229885057464\n"
          ]
        }
      ],
      "source": [
        "model.fit(X_train, y_train)\n",
        "y_pred = model.predict(X_test)\n",
        "\n",
        "print(accuracy_score(y_test,y_pred))\n",
        "print(roc_auc_score(y_test,y_pred))\n",
        "print(\"\\n\")\n",
        "print(confusion_matrix(y_test, y_pred))\n",
        "print(\"\\n\")\n",
        "print(fbeta_score(y_test, y_pred, beta=2))"
      ]
    },
    {
      "cell_type": "markdown",
      "metadata": {
        "id": "giXuTDdQEzlL"
      },
      "source": [
        ""
      ]
    },
    {
      "cell_type": "markdown",
      "metadata": {
        "id": "bIQhsd7iEzlM"
      },
      "source": [
        "## Implementing a pipeline of models "
      ]
    },
    {
      "cell_type": "code",
      "execution_count": null,
      "metadata": {
        "colab": {
          "base_uri": "https://localhost:8080/"
        },
        "id": "37awp9XnEzlM",
        "outputId": "3ba79a52-aa49-489e-a578-b3bb78dc8a42"
      },
      "outputs": [
        {
          "data": {
            "text/plain": [
              "GridSearchCV(cv=5, estimator=XGBClassifier(random_state=2),\n",
              "             param_grid={'colsample_bytree': [0.75, 0.8, 0.85],\n",
              "                         'gamma': [0.0, 0.1, 0.2, 0.3, 0.4],\n",
              "                         'max_depth': [3, 5, 6, 10],\n",
              "                         'min_child_weight': [3, 5, 10],\n",
              "                         'subsample': [0.75, 0.8, 0.85]},\n",
              "             scoring='recall')"
            ]
          },
          "execution_count": 215,
          "metadata": {},
          "output_type": "execute_result"
        }
      ],
      "source": [
        "#Seting the Hyper Parameters\n",
        "param_test1 = {\n",
        " 'max_depth':[3,5,6,10],\n",
        " 'min_child_weight':[3,5,10],\n",
        " 'gamma':[0.0, 0.1, 0.2, 0.3, 0.4],\n",
        "# 'reg_alpha':[1e-5, 1e-2, 0.1, 1, 10],\n",
        " 'subsample':[i/100.0 for i in range(75,90,5)],\n",
        " 'colsample_bytree':[i/100.0 for i in range(75,90,5)]\n",
        "}\n",
        "\n",
        "#Creating the classifier\n",
        "model_xg = XGBClassifier(random_state=2)\n",
        "\n",
        "grid_search = GridSearchCV(model_xg, param_grid=param_test1, cv=5, scoring='recall')\n",
        "grid_search.fit(X_train, y_train)"
      ]
    },
    {
      "cell_type": "markdown",
      "metadata": {
        "id": "skY-BMTIEzlM"
      },
      "source": [
        "How can I avoid of this "
      ]
    },
    {
      "cell_type": "markdown",
      "metadata": {
        "id": "177vPo6iEzlM"
      },
      "source": [
        "# Please, how can I increase this sucks models ?"
      ]
    },
    {
      "cell_type": "code",
      "execution_count": null,
      "metadata": {
        "colab": {
          "base_uri": "https://localhost:8080/"
        },
        "id": "FTdY_qNqEzlM",
        "outputId": "3eba339d-1dac-48c7-9162-c86d85aefaa6"
      },
      "outputs": [
        {
          "data": {
            "text/plain": [
              "{'colsample_bytree': 0.75,\n",
              " 'gamma': 0.1,\n",
              " 'max_depth': 10,\n",
              " 'min_child_weight': 3,\n",
              " 'subsample': 0.85}"
            ]
          },
          "execution_count": 216,
          "metadata": {},
          "output_type": "execute_result"
        }
      ],
      "source": [
        "grid_search.best_score_\n",
        "grid_search.best_params_"
      ]
    },
    {
      "cell_type": "code",
      "execution_count": null,
      "metadata": {
        "colab": {
          "base_uri": "https://localhost:8080/"
        },
        "id": "hRMK-NI6EzlM",
        "outputId": "ff5aebe6-3058-4550-cf61-fe5b905ce833"
      },
      "outputs": [
        {
          "name": "stdout",
          "output_type": "stream",
          "text": [
            "0.756\n",
            "0.6632334581772784\n",
            "\n",
            "\n",
            "[[157  21]\n",
            " [ 40  32]]\n"
          ]
        }
      ],
      "source": [
        "y_pred = grid_search.predict(X_test)\n",
        "\n",
        "# Verificaar os resultados obtidos\n",
        "print(accuracy_score(y_test,y_pred))\n",
        "print(roc_auc_score(y_test,y_pred))\n",
        "print(\"\\n\")\n",
        "print(confusion_matrix(y_test, y_pred))"
      ]
    },
    {
      "cell_type": "markdown",
      "metadata": {
        "id": "MTP_H5TuEzlM"
      },
      "source": [
        "How can I avoid this error? \n",
        "\n",
        "/opt/conda/lib/python3.6/site-packages/sklearn/preprocessing/label.py:151: DeprecationWarning:\n",
        "\n",
        "The truth value of an empty array is ambiguous. Returning False, but in future this will result in an error. Use `array.size > 0` to check that an array is not empty.\n"
      ]
    },
    {
      "cell_type": "code",
      "execution_count": null,
      "metadata": {
        "colab": {
          "base_uri": "https://localhost:8080/"
        },
        "id": "MyC9hPz8EzlN",
        "outputId": "6cd85818-a46c-4435-90a3-f2782fa27d14"
      },
      "outputs": [
        {
          "name": "stdout",
          "output_type": "stream",
          "text": [
            "0.6945224719101124\n"
          ]
        }
      ],
      "source": [
        "print(roc_auc_score(y_test, grid_search.predict_proba(X_test)[:, 1]))"
      ]
    },
    {
      "cell_type": "code",
      "execution_count": null,
      "metadata": {
        "id": "igO1fNnZUaDm"
      },
      "outputs": [],
      "source": [
        ""
      ]
    }
  ],
  "metadata": {
    "colab": {
      "collapsed_sections": [],
      "name": "I4_task1-2(for gender)-3-predicting-credit-risk-model-pipeline.ipynb",
      "toc_visible": true,
      "provenance": []
    },
    "kernelspec": {
      "display_name": "Python 3",
      "language": "python",
      "name": "python3"
    },
    "language_info": {
      "codemirror_mode": {
        "name": "ipython",
        "version": 3
      },
      "file_extension": ".py",
      "mimetype": "text/x-python",
      "name": "python",
      "nbconvert_exporter": "python",
      "pygments_lexer": "ipython3",
      "version": "3.6.6"
    }
  },
  "nbformat": 4,
  "nbformat_minor": 0
}